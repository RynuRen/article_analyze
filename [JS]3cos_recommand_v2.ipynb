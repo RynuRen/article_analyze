{
 "cells": [
  {
   "cell_type": "markdown",
   "id": "b9217219-9bd1-4775-8e30-6a859d12ecf7",
   "metadata": {},
   "source": [
    "# 데이터 모두 불러와 합치기"
   ]
  },
  {
   "cell_type": "code",
   "execution_count": 1,
   "id": "c9e0af2e-7459-4b15-ba12-342e365f9869",
   "metadata": {},
   "outputs": [],
   "source": [
    "from tqdm import tqdm\n",
    "import pandas as pd\n",
    "from glob import glob"
   ]
  },
  {
   "cell_type": "code",
   "execution_count": 2,
   "id": "b82a84fe-3933-4ff6-bdc9-9ad688f0e0bc",
   "metadata": {},
   "outputs": [
    {
     "name": "stderr",
     "output_type": "stream",
     "text": [
      "100%|█████████████████████████████████████████████████████████████████████████████████████████████████████████████████████████████████████| 31/31 [00:05<00:00,  5.54it/s]\n"
     ]
    }
   ],
   "source": [
    "files = sorted(glob('./data/*.csv'))\n",
    "date_cols = ['date']\n",
    "data_all = pd.DataFrame()\n",
    "for file in tqdm(files):\n",
    "    df_day = pd.read_csv(file, parse_dates=date_cols) # date 컬럼 datetime 형식으로 불러오기\n",
    "    data_all = pd.concat([data_all, df_day])\n",
    "data_all.reset_index(drop=True, inplace=True)"
   ]
  },
  {
   "cell_type": "code",
   "execution_count": 3,
   "id": "348416eb-73e3-4181-b8a6-1b62626b7fce",
   "metadata": {
    "tags": []
   },
   "outputs": [
    {
     "data": {
      "text/html": [
       "<div>\n",
       "<style scoped>\n",
       "    .dataframe tbody tr th:only-of-type {\n",
       "        vertical-align: middle;\n",
       "    }\n",
       "\n",
       "    .dataframe tbody tr th {\n",
       "        vertical-align: top;\n",
       "    }\n",
       "\n",
       "    .dataframe thead th {\n",
       "        text-align: right;\n",
       "    }\n",
       "</style>\n",
       "<table border=\"1\" class=\"dataframe\">\n",
       "  <thead>\n",
       "    <tr style=\"text-align: right;\">\n",
       "      <th></th>\n",
       "      <th>arcid</th>\n",
       "      <th>press</th>\n",
       "      <th>title</th>\n",
       "      <th>content</th>\n",
       "      <th>journalist</th>\n",
       "      <th>date</th>\n",
       "      <th>link</th>\n",
       "      <th>category</th>\n",
       "      <th>token</th>\n",
       "    </tr>\n",
       "  </thead>\n",
       "  <tbody>\n",
       "    <tr>\n",
       "      <th>0</th>\n",
       "      <td>233430157</td>\n",
       "      <td>뉴시스</td>\n",
       "      <td>원주 반곡동 교회 화재로 대응 1단계 발령</td>\n",
       "      <td>소방헬기 1대 펌프차 등 36대 대원 112명 투입 오후 5시 초진 성공 철골 샌...</td>\n",
       "      <td>김경목 기자</td>\n",
       "      <td>2022-05-01</td>\n",
       "      <td>https://v.daum.net/v/20220501233430157</td>\n",
       "      <td>society</td>\n",
       "      <td>소방 헬기 1 대다 펌프 차 36 대다 대원 112 명 투입 오후 5시 초진 성공 ...</td>\n",
       "    </tr>\n",
       "    <tr>\n",
       "      <th>1</th>\n",
       "      <td>225817970</td>\n",
       "      <td>뉴시스</td>\n",
       "      <td>홍천 주말농장 내려갔다 화재 참변..변호사 부부 등 4명 사망</td>\n",
       "      <td>경찰 사망자 신원부터 확인 부검 통해 정확한 사망 원인 밝혀낼 계획 내일 국립과학...</td>\n",
       "      <td>김경목 기자</td>\n",
       "      <td>2022-05-01</td>\n",
       "      <td>https://v.daum.net/v/20220501225817970</td>\n",
       "      <td>society</td>\n",
       "      <td>경찰 사망자 신원 확인 부검 통해 정확하다 사망 원인 밝혀내다 계획 내일 국립 과학...</td>\n",
       "    </tr>\n",
       "    <tr>\n",
       "      <th>2</th>\n",
       "      <td>224935907</td>\n",
       "      <td>조선일보</td>\n",
       "      <td>강의동에 병원·PC방.. 사립대 영리사업 쉬워진다</td>\n",
       "      <td>중앙대는 지난해 지하철 서대문역 인근 서울 종로구 평동 7층짜리 교육용 건물2167...</td>\n",
       "      <td>김은경 기자</td>\n",
       "      <td>2022-05-01</td>\n",
       "      <td>https://v.daum.net/v/20220501224935907</td>\n",
       "      <td>society</td>\n",
       "      <td>중앙대 는 지난해 지하철 서대문역 인근 서울 종로구 평동 7 층 짜다 교육 용 건물...</td>\n",
       "    </tr>\n",
       "    <tr>\n",
       "      <th>3</th>\n",
       "      <td>224745891</td>\n",
       "      <td>경향신문</td>\n",
       "      <td>경향신문·인천시 상자텃밭 나눔, 올해로 2만세트 '훌쩍'</td>\n",
       "      <td>경향신문 경향신문과 인천시가 공동 주최한 2022 상자텃밭 보급행사가 지난달 30일...</td>\n",
       "      <td>박준철 기자</td>\n",
       "      <td>2022-05-01</td>\n",
       "      <td>https://v.daum.net/v/20220501224745891</td>\n",
       "      <td>society</td>\n",
       "      <td>경향신문 경향신문 인천 시가 공동 주최 한 2022 상자 텃밭 보급 행사 지난달 3...</td>\n",
       "    </tr>\n",
       "    <tr>\n",
       "      <th>4</th>\n",
       "      <td>224733888</td>\n",
       "      <td>경향신문</td>\n",
       "      <td>우크라 찾은 졸리 \"얘들아, 다시 또 올게\"</td>\n",
       "      <td>경향신문 할리우드 배우로 영화 제작자인 앤젤리나 졸리가 지난달 30일현지시간 우크라...</td>\n",
       "      <td>박은하 기자</td>\n",
       "      <td>2022-05-01</td>\n",
       "      <td>https://v.daum.net/v/20220501224733888</td>\n",
       "      <td>society</td>\n",
       "      <td>경향신문 할리우드 배우 영화 제작자 인 앤젤리나 졸리 지난달 30일 현지시간 우크라...</td>\n",
       "    </tr>\n",
       "    <tr>\n",
       "      <th>...</th>\n",
       "      <td>...</td>\n",
       "      <td>...</td>\n",
       "      <td>...</td>\n",
       "      <td>...</td>\n",
       "      <td>...</td>\n",
       "      <td>...</td>\n",
       "      <td>...</td>\n",
       "      <td>...</td>\n",
       "      <td>...</td>\n",
       "    </tr>\n",
       "    <tr>\n",
       "      <th>54402</th>\n",
       "      <td>311195</td>\n",
       "      <td>중앙일보</td>\n",
       "      <td>대법관 검증하나 묻자, 한동훈 \"투명한 업무됐다\" 즉답 회피</td>\n",
       "      <td>대법관헌법재판관 등 사법부 최고 법관을 포함해 정부 부처 공직 후보자의 인사검증을 ...</td>\n",
       "      <td>정용환 기자</td>\n",
       "      <td>2022-05-31</td>\n",
       "      <td>https://v.daum.net/v/20220531000311195</td>\n",
       "      <td>society</td>\n",
       "      <td>대법관 헌법재판관 사법부 최고 법관 포함 하다 정부 부처 공직 후보자 인사 검증 담...</td>\n",
       "    </tr>\n",
       "    <tr>\n",
       "      <th>54403</th>\n",
       "      <td>309193</td>\n",
       "      <td>중앙일보</td>\n",
       "      <td>유흥식 대주교 \"교회 위해 봉사하고 교황 잘 보필하도록 노력\"</td>\n",
       "      <td>한국인으로는 네 번째로 추기경에 임명된 교황청 성직자성 장관 유흥식 대주교는 30일...</td>\n",
       "      <td>이지영 기자</td>\n",
       "      <td>2022-05-31</td>\n",
       "      <td>https://v.daum.net/v/20220531000309193</td>\n",
       "      <td>society</td>\n",
       "      <td>한국인 으로는 번 째 추기경 임명 되다 교황청 성직자성 장관 유흥식 대주교 는 30...</td>\n",
       "    </tr>\n",
       "    <tr>\n",
       "      <th>54404</th>\n",
       "      <td>259180</td>\n",
       "      <td>국민일보</td>\n",
       "      <td>\"평소 자위 좀 하세요?\" 유명 심리상담사가 물었다[이슈&amp;탐사]</td>\n",
       "      <td>그는 에도 출연할 만큼 유명한 심리상담가였다 책도 여러 권 낸 이 분야 전문가였다 ...</td>\n",
       "      <td>강창욱,이동환,정진영,박장군 기자</td>\n",
       "      <td>2022-05-31</td>\n",
       "      <td>https://v.daum.net/v/20220531000259180</td>\n",
       "      <td>society</td>\n",
       "      <td>는 에도 출연 하다 유명하다 심리상담가 이다 책 도 여러 권 내다 분야 전문가 이다...</td>\n",
       "    </tr>\n",
       "    <tr>\n",
       "      <th>54405</th>\n",
       "      <td>127133</td>\n",
       "      <td>세계일보</td>\n",
       "      <td>부산시 사업 따내려 1억 뇌물 건넨 혐의.. 롯데건설 전 임원 구속</td>\n",
       "      <td>부산시 하수관로 정비 사업의 사업권을 따내기 위해 뇌물을 건넨 혐의를 받는 롯데건설...</td>\n",
       "      <td>이동수 기자</td>\n",
       "      <td>2022-05-31</td>\n",
       "      <td>https://v.daum.net/v/20220531000127133</td>\n",
       "      <td>society</td>\n",
       "      <td>부산시 하수 관로 정비 사업 사업 권 따내다 위해 뇌물 건네다 혐의 받다 롯데 건설...</td>\n",
       "    </tr>\n",
       "    <tr>\n",
       "      <th>54406</th>\n",
       "      <td>107122</td>\n",
       "      <td>뉴시스</td>\n",
       "      <td>[르포]\"전동킥보드도 운전면허 있어야 합니다..헬멧 착용은 필수\"</td>\n",
       "      <td>경찰 30일부터 두달 간 두바퀴 차 특별단속 1시간 동안 전동 킥보드 헬멧 미착용...</td>\n",
       "      <td>최영서 기자</td>\n",
       "      <td>2022-05-31</td>\n",
       "      <td>https://v.daum.net/v/20220531000107122</td>\n",
       "      <td>society</td>\n",
       "      <td>경찰 30일 두 달 간 두 바퀴 차 특별 단속 1시간 전동 킥 보드 헬멧 미착 용 ...</td>\n",
       "    </tr>\n",
       "  </tbody>\n",
       "</table>\n",
       "<p>54407 rows × 9 columns</p>\n",
       "</div>"
      ],
      "text/plain": [
       "           arcid press                                  title  \\\n",
       "0      233430157   뉴시스                원주 반곡동 교회 화재로 대응 1단계 발령   \n",
       "1      225817970   뉴시스     홍천 주말농장 내려갔다 화재 참변..변호사 부부 등 4명 사망   \n",
       "2      224935907  조선일보            강의동에 병원·PC방.. 사립대 영리사업 쉬워진다   \n",
       "3      224745891  경향신문        경향신문·인천시 상자텃밭 나눔, 올해로 2만세트 '훌쩍'   \n",
       "4      224733888  경향신문               우크라 찾은 졸리 \"얘들아, 다시 또 올게\"   \n",
       "...          ...   ...                                    ...   \n",
       "54402     311195  중앙일보      대법관 검증하나 묻자, 한동훈 \"투명한 업무됐다\" 즉답 회피   \n",
       "54403     309193  중앙일보     유흥식 대주교 \"교회 위해 봉사하고 교황 잘 보필하도록 노력\"   \n",
       "54404     259180  국민일보    \"평소 자위 좀 하세요?\" 유명 심리상담사가 물었다[이슈&탐사]   \n",
       "54405     127133  세계일보  부산시 사업 따내려 1억 뇌물 건넨 혐의.. 롯데건설 전 임원 구속   \n",
       "54406     107122   뉴시스   [르포]\"전동킥보드도 운전면허 있어야 합니다..헬멧 착용은 필수\"   \n",
       "\n",
       "                                                 content          journalist  \\\n",
       "0       소방헬기 1대 펌프차 등 36대 대원 112명 투입 오후 5시 초진 성공 철골 샌...              김경목 기자   \n",
       "1       경찰 사망자 신원부터 확인 부검 통해 정확한 사망 원인 밝혀낼 계획 내일 국립과학...              김경목 기자   \n",
       "2      중앙대는 지난해 지하철 서대문역 인근 서울 종로구 평동 7층짜리 교육용 건물2167...              김은경 기자   \n",
       "3      경향신문 경향신문과 인천시가 공동 주최한 2022 상자텃밭 보급행사가 지난달 30일...              박준철 기자   \n",
       "4      경향신문 할리우드 배우로 영화 제작자인 앤젤리나 졸리가 지난달 30일현지시간 우크라...              박은하 기자   \n",
       "...                                                  ...                 ...   \n",
       "54402  대법관헌법재판관 등 사법부 최고 법관을 포함해 정부 부처 공직 후보자의 인사검증을 ...              정용환 기자   \n",
       "54403  한국인으로는 네 번째로 추기경에 임명된 교황청 성직자성 장관 유흥식 대주교는 30일...              이지영 기자   \n",
       "54404  그는 에도 출연할 만큼 유명한 심리상담가였다 책도 여러 권 낸 이 분야 전문가였다 ...  강창욱,이동환,정진영,박장군 기자   \n",
       "54405  부산시 하수관로 정비 사업의 사업권을 따내기 위해 뇌물을 건넨 혐의를 받는 롯데건설...              이동수 기자   \n",
       "54406   경찰 30일부터 두달 간 두바퀴 차 특별단속 1시간 동안 전동 킥보드 헬멧 미착용...              최영서 기자   \n",
       "\n",
       "            date                                    link category  \\\n",
       "0     2022-05-01  https://v.daum.net/v/20220501233430157  society   \n",
       "1     2022-05-01  https://v.daum.net/v/20220501225817970  society   \n",
       "2     2022-05-01  https://v.daum.net/v/20220501224935907  society   \n",
       "3     2022-05-01  https://v.daum.net/v/20220501224745891  society   \n",
       "4     2022-05-01  https://v.daum.net/v/20220501224733888  society   \n",
       "...          ...                                     ...      ...   \n",
       "54402 2022-05-31  https://v.daum.net/v/20220531000311195  society   \n",
       "54403 2022-05-31  https://v.daum.net/v/20220531000309193  society   \n",
       "54404 2022-05-31  https://v.daum.net/v/20220531000259180  society   \n",
       "54405 2022-05-31  https://v.daum.net/v/20220531000127133  society   \n",
       "54406 2022-05-31  https://v.daum.net/v/20220531000107122  society   \n",
       "\n",
       "                                                   token  \n",
       "0      소방 헬기 1 대다 펌프 차 36 대다 대원 112 명 투입 오후 5시 초진 성공 ...  \n",
       "1      경찰 사망자 신원 확인 부검 통해 정확하다 사망 원인 밝혀내다 계획 내일 국립 과학...  \n",
       "2      중앙대 는 지난해 지하철 서대문역 인근 서울 종로구 평동 7 층 짜다 교육 용 건물...  \n",
       "3      경향신문 경향신문 인천 시가 공동 주최 한 2022 상자 텃밭 보급 행사 지난달 3...  \n",
       "4      경향신문 할리우드 배우 영화 제작자 인 앤젤리나 졸리 지난달 30일 현지시간 우크라...  \n",
       "...                                                  ...  \n",
       "54402  대법관 헌법재판관 사법부 최고 법관 포함 하다 정부 부처 공직 후보자 인사 검증 담...  \n",
       "54403  한국인 으로는 번 째 추기경 임명 되다 교황청 성직자성 장관 유흥식 대주교 는 30...  \n",
       "54404  는 에도 출연 하다 유명하다 심리상담가 이다 책 도 여러 권 내다 분야 전문가 이다...  \n",
       "54405  부산시 하수 관로 정비 사업 사업 권 따내다 위해 뇌물 건네다 혐의 받다 롯데 건설...  \n",
       "54406  경찰 30일 두 달 간 두 바퀴 차 특별 단속 1시간 전동 킥 보드 헬멧 미착 용 ...  \n",
       "\n",
       "[54407 rows x 9 columns]"
      ]
     },
     "execution_count": 3,
     "metadata": {},
     "output_type": "execute_result"
    }
   ],
   "source": [
    "data_all"
   ]
  },
  {
   "cell_type": "code",
   "execution_count": 32,
   "id": "56237f74-e6c2-4812-879a-a82455017431",
   "metadata": {},
   "outputs": [
    {
     "data": {
      "text/plain": [
       "arcid                                                    309193\n",
       "press                                                      중앙일보\n",
       "title                        유흥식 대주교 \"교회 위해 봉사하고 교황 잘 보필하도록 노력\"\n",
       "content       한국인으로는 네 번째로 추기경에 임명된 교황청 성직자성 장관 유흥식 대주교는 30일...\n",
       "journalist                                               이지영 기자\n",
       "date                                        2022-05-31 00:00:00\n",
       "link                     https://v.daum.net/v/20220531000309193\n",
       "category                                                society\n",
       "token         한국인 으로는 번 째 추기경 임명 되다 교황청 성직자성 장관 유흥식 대주교 는 30...\n",
       "Name: 54403, dtype: object"
      ]
     },
     "execution_count": 32,
     "metadata": {},
     "output_type": "execute_result"
    }
   ],
   "source": [
    "data_all.iloc[54403]"
   ]
  },
  {
   "cell_type": "markdown",
   "id": "abda94c1-558b-4843-8a8d-a95aabe26339",
   "metadata": {
    "tags": []
   },
   "source": [
    "# 전체 데이터 유사도 추천"
   ]
  },
  {
   "cell_type": "code",
   "execution_count": 4,
   "id": "acb05213-c51e-426a-a90d-bafea1f130c3",
   "metadata": {},
   "outputs": [],
   "source": [
    "from sklearn.feature_extraction.text import TfidfVectorizer\n",
    "from sklearn.metrics.pairwise import cosine_similarity"
   ]
  },
  {
   "cell_type": "code",
   "execution_count": 5,
   "id": "e377de38-cab9-4a41-ba77-2b637d8d5597",
   "metadata": {},
   "outputs": [],
   "source": [
    "tfidf_vec = TfidfVectorizer()"
   ]
  },
  {
   "cell_type": "code",
   "execution_count": 7,
   "id": "830129b8-3506-424c-9313-b53b315b5e7a",
   "metadata": {},
   "outputs": [
    {
     "name": "stdout",
     "output_type": "stream",
     "text": [
      "CPU times: total: 10.8 s\n",
      "Wall time: 10.9 s\n"
     ]
    }
   ],
   "source": [
    "%%time\n",
    "tfidf_dtm = tfidf_vec.fit_transform(data_all['token'])"
   ]
  },
  {
   "cell_type": "code",
   "execution_count": 8,
   "id": "96136aad-d0f9-41d8-bbe9-d3f79a611919",
   "metadata": {},
   "outputs": [],
   "source": [
    "# cos_sim_res = cosine_similarity(tfidf_dtm, tfidf_dtm) # 어마무시한 메모리 킬러\n",
    "# arcid_to_index = dict(zip(data_all['arcid'], data_all.index))"
   ]
  },
  {
   "cell_type": "code",
   "execution_count": 18,
   "id": "ea2d0142-bf13-48a5-a2d8-278218f41e25",
   "metadata": {},
   "outputs": [],
   "source": [
    "def get_recommend_by_title(title, n, drange=False):\n",
    "    # 타이틀로 토큰 호출, 축적된 기사들과 유사도 연산\n",
    "    token = data_all.loc[data_all['title'] == title]['token'].values[0]\n",
    "    tfidf_content = tfidf_vec.transform([token])\n",
    "    cos_sim_res = cosine_similarity(tfidf_content, tfidf_dtm)\n",
    "    \n",
    "    # 유사도 정렬, 추출\n",
    "    sim_scores = list(enumerate(cos_sim_res[0]))\n",
    "    sim_scores = sorted(sim_scores, key=lambda x: x[1], reverse=True)\n",
    "    sim_scores_n = sim_scores[1:n+1]\n",
    "    sim_scores_n = [sim for sim in sim_scores_n if sim[1] >= 0.6] # 유사도 60% 이상 필터=>옵션화 가능?###############\n",
    "    \n",
    "    # 해당하는 기사 가져오기\n",
    "    article_idx = [article_dict[0] for article_dict in sim_scores_n]\n",
    "    rst = data_all.iloc[article_idx][['press', 'title', 'date', 'link']]\n",
    "    rst['similarity'] = [round(sim[1], 4)*100 for sim in sim_scores_n]\n",
    "    # 기간 설정\n",
    "    if drange:\n",
    "        rst = rst[rst['date'].isin(pd.date_range(drange[0], drange[1]))]\n",
    "        # rst = rst.query('@drange[0] <= date <= @drange[1]')\n",
    "    return rst[['press', 'similarity', 'title', 'date', 'link']]"
   ]
  },
  {
   "cell_type": "code",
   "execution_count": 19,
   "id": "f3c551e3-cfb6-4eda-bec8-f6a5a2e7e35f",
   "metadata": {},
   "outputs": [
    {
     "data": {
      "text/html": [
       "<div>\n",
       "<style scoped>\n",
       "    .dataframe tbody tr th:only-of-type {\n",
       "        vertical-align: middle;\n",
       "    }\n",
       "\n",
       "    .dataframe tbody tr th {\n",
       "        vertical-align: top;\n",
       "    }\n",
       "\n",
       "    .dataframe thead th {\n",
       "        text-align: right;\n",
       "    }\n",
       "</style>\n",
       "<table border=\"1\" class=\"dataframe\">\n",
       "  <thead>\n",
       "    <tr style=\"text-align: right;\">\n",
       "      <th></th>\n",
       "      <th>press</th>\n",
       "      <th>similarity</th>\n",
       "      <th>title</th>\n",
       "      <th>date</th>\n",
       "      <th>link</th>\n",
       "    </tr>\n",
       "  </thead>\n",
       "  <tbody>\n",
       "    <tr>\n",
       "      <th>49939</th>\n",
       "      <td>연합뉴스</td>\n",
       "      <td>89.28</td>\n",
       "      <td>검찰, '사업 따내려 1억 뇌물' 롯데건설 前임원 구속</td>\n",
       "      <td>2022-05-30</td>\n",
       "      <td>https://v.daum.net/v/20220530200650849</td>\n",
       "    </tr>\n",
       "    <tr>\n",
       "      <th>49922</th>\n",
       "      <td>뉴스1</td>\n",
       "      <td>89.11</td>\n",
       "      <td>'사업 수주 위해 1억 뇌물' 롯데건설 전 임원 구속</td>\n",
       "      <td>2022-05-30</td>\n",
       "      <td>https://v.daum.net/v/20220530203713257</td>\n",
       "    </tr>\n",
       "    <tr>\n",
       "      <th>49883</th>\n",
       "      <td>한국일보</td>\n",
       "      <td>83.34</td>\n",
       "      <td>검찰, 사업 따내려 1억 뇌물 건넨 롯데건설 前임원 구속</td>\n",
       "      <td>2022-05-30</td>\n",
       "      <td>https://v.daum.net/v/20220530213559932</td>\n",
       "    </tr>\n",
       "    <tr>\n",
       "      <th>49918</th>\n",
       "      <td>서울신문</td>\n",
       "      <td>83.31</td>\n",
       "      <td>검찰, '사업 수주 뇌물' 롯데건설 前임원 구속</td>\n",
       "      <td>2022-05-30</td>\n",
       "      <td>https://v.daum.net/v/20220530204102294</td>\n",
       "    </tr>\n",
       "    <tr>\n",
       "      <th>49944</th>\n",
       "      <td>조선일보</td>\n",
       "      <td>83.12</td>\n",
       "      <td>사업 따내려 1억원 뇌물.. 롯데건설 전 임원 구속</td>\n",
       "      <td>2022-05-30</td>\n",
       "      <td>https://v.daum.net/v/20220530200504804</td>\n",
       "    </tr>\n",
       "  </tbody>\n",
       "</table>\n",
       "</div>"
      ],
      "text/plain": [
       "      press  similarity                            title       date  \\\n",
       "49939  연합뉴스       89.28   검찰, '사업 따내려 1억 뇌물' 롯데건설 前임원 구속 2022-05-30   \n",
       "49922   뉴스1       89.11    '사업 수주 위해 1억 뇌물' 롯데건설 전 임원 구속 2022-05-30   \n",
       "49883  한국일보       83.34  검찰, 사업 따내려 1억 뇌물 건넨 롯데건설 前임원 구속 2022-05-30   \n",
       "49918  서울신문       83.31       검찰, '사업 수주 뇌물' 롯데건설 前임원 구속 2022-05-30   \n",
       "49944  조선일보       83.12     사업 따내려 1억원 뇌물.. 롯데건설 전 임원 구속 2022-05-30   \n",
       "\n",
       "                                         link  \n",
       "49939  https://v.daum.net/v/20220530200650849  \n",
       "49922  https://v.daum.net/v/20220530203713257  \n",
       "49883  https://v.daum.net/v/20220530213559932  \n",
       "49918  https://v.daum.net/v/20220530204102294  \n",
       "49944  https://v.daum.net/v/20220530200504804  "
      ]
     },
     "execution_count": 19,
     "metadata": {},
     "output_type": "execute_result"
    }
   ],
   "source": [
    "get_recommend_by_title(\"부산시 사업 따내려 1억 뇌물 건넨 혐의.. 롯데건설 전 임원 구속\", 5)"
   ]
  },
  {
   "cell_type": "code",
   "execution_count": 34,
   "id": "8f154b24-4aa3-4cd1-9edd-0a9e881bb03a",
   "metadata": {},
   "outputs": [
    {
     "data": {
      "text/html": [
       "<div>\n",
       "<style scoped>\n",
       "    .dataframe tbody tr th:only-of-type {\n",
       "        vertical-align: middle;\n",
       "    }\n",
       "\n",
       "    .dataframe tbody tr th {\n",
       "        vertical-align: top;\n",
       "    }\n",
       "\n",
       "    .dataframe thead th {\n",
       "        text-align: right;\n",
       "    }\n",
       "</style>\n",
       "<table border=\"1\" class=\"dataframe\">\n",
       "  <thead>\n",
       "    <tr style=\"text-align: right;\">\n",
       "      <th></th>\n",
       "      <th>press</th>\n",
       "      <th>similarity</th>\n",
       "      <th>title</th>\n",
       "      <th>date</th>\n",
       "      <th>link</th>\n",
       "    </tr>\n",
       "  </thead>\n",
       "  <tbody>\n",
       "    <tr>\n",
       "      <th>48950</th>\n",
       "      <td>조선일보</td>\n",
       "      <td>72.53</td>\n",
       "      <td>교황, 유흥식 대주교 추기경 임명..한국 성직자 네번째</td>\n",
       "      <td>2022-05-29</td>\n",
       "      <td>https://v.daum.net/v/20220529200525598</td>\n",
       "    </tr>\n",
       "    <tr>\n",
       "      <th>48942</th>\n",
       "      <td>국민일보</td>\n",
       "      <td>72.04</td>\n",
       "      <td>교황청, 유흥식 대주교 추기경 임명..한국 성직자 중 4번째</td>\n",
       "      <td>2022-05-29</td>\n",
       "      <td>https://v.daum.net/v/20220529203446865</td>\n",
       "    </tr>\n",
       "  </tbody>\n",
       "</table>\n",
       "</div>"
      ],
      "text/plain": [
       "      press  similarity                              title       date  \\\n",
       "48950  조선일보       72.53     교황, 유흥식 대주교 추기경 임명..한국 성직자 네번째 2022-05-29   \n",
       "48942  국민일보       72.04  교황청, 유흥식 대주교 추기경 임명..한국 성직자 중 4번째 2022-05-29   \n",
       "\n",
       "                                         link  \n",
       "48950  https://v.daum.net/v/20220529200525598  \n",
       "48942  https://v.daum.net/v/20220529203446865  "
      ]
     },
     "execution_count": 34,
     "metadata": {},
     "output_type": "execute_result"
    }
   ],
   "source": [
    "get_recommend_by_title('유흥식 대주교 \"교회 위해 봉사하고 교황 잘 보필하도록 노력\"', 5, drange=['2022-05-01', '2022-05-29'])"
   ]
  },
  {
   "cell_type": "markdown",
   "id": "3e11fea2-45bb-4d38-9c9b-3afafd7b986b",
   "metadata": {},
   "source": [
    "* TODO\n",
    "    1. 다음 뉴스 주소로 검색\n",
    "    2. 기사 본문 넣어서 검색\n",
    "    3. DB연동\n",
    "    4. flask 서버 연동"
   ]
  },
  {
   "cell_type": "code",
   "execution_count": null,
   "id": "12883383-a976-4a9f-bb6f-a51772721066",
   "metadata": {
    "jp-MarkdownHeadingCollapsed": true,
    "tags": []
   },
   "outputs": [],
   "source": [
    "# 쿼리가 다음 뉴스 주소일 경우\n",
    "if query.startswith('https://news.daum.net/breakingnews/'):\n",
    "    pass\n",
    "elif query:\n",
    "    pass\n",
    "else:\n",
    "    pass"
   ]
  }
 ],
 "metadata": {
  "kernelspec": {
   "display_name": "Python 3 (ipykernel)",
   "language": "python",
   "name": "python3"
  },
  "language_info": {
   "codemirror_mode": {
    "name": "ipython",
    "version": 3
   },
   "file_extension": ".py",
   "mimetype": "text/x-python",
   "name": "python",
   "nbconvert_exporter": "python",
   "pygments_lexer": "ipython3",
   "version": "3.10.6"
  }
 },
 "nbformat": 4,
 "nbformat_minor": 5
}
