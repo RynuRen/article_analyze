{
 "cells": [
  {
   "cell_type": "code",
   "execution_count": 1,
   "id": "7956accf-ddcc-4e6b-bddf-21b606ac0fba",
   "metadata": {},
   "outputs": [],
   "source": [
    "from konlpy.tag import Okt\n",
    "from tqdm import tqdm\n",
    "import pandas as pd\n",
    "from glob import glob"
   ]
  },
  {
   "cell_type": "code",
   "execution_count": 6,
   "id": "f73285d3-190a-4134-b59f-b98f1eee8326",
   "metadata": {},
   "outputs": [],
   "source": [
    "def content_tokenizer(df_day):\n",
    "    # 한글, 숫자, 공백만 남기기\n",
    "    df_day['content'] = df_day['content'].str.replace('[^0-9ㄱ-ㅎㅏ-ㅣ가-힣 ]', '', regex=True)\n",
    "    token_contents = []\n",
    "    date_s = str(df_day['date'].values[0]).strip()\n",
    "    for content in tqdm(df_day['content'], desc=date_s):\n",
    "        token_content = okt.pos(content, norm=True, stem=True)\n",
    "        token_contents.append(token_content)\n",
    "    df_day['token'] = token_contents\n",
    "    return df_day"
   ]
  },
  {
   "cell_type": "code",
   "execution_count": 7,
   "id": "2445de01-9e58-4f17-bad7-59c1d2cf56b4",
   "metadata": {
    "tags": []
   },
   "outputs": [
    {
     "name": "stderr",
     "output_type": "stream",
     "text": [
      "20220101: 100%|██████████████████████████████████████████████████████████████████████| 874/874 [00:38<00:00, 22.81it/s]\n"
     ]
    }
   ],
   "source": [
    "okt = Okt()\n",
    "files = glob('./data/*.csv')\n",
    "for file in files:\n",
    "    df_day = pd.read_csv(file)\n",
    "    df_day = content_tokenizer(df_day)\n",
    "    df_day.to_csv(file, index=False)"
   ]
  },
  {
   "cell_type": "code",
   "execution_count": null,
   "id": "3bb2e07e-6081-4777-bab0-c23ee8becfe4",
   "metadata": {},
   "outputs": [],
   "source": []
  }
 ],
 "metadata": {
  "kernelspec": {
   "display_name": "Python 3 (ipykernel)",
   "language": "python",
   "name": "python3"
  },
  "language_info": {
   "codemirror_mode": {
    "name": "ipython",
    "version": 3
   },
   "file_extension": ".py",
   "mimetype": "text/x-python",
   "name": "python",
   "nbconvert_exporter": "python",
   "pygments_lexer": "ipython3",
   "version": "3.8.15"
  }
 },
 "nbformat": 4,
 "nbformat_minor": 5
}
