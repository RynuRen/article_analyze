{
 "cells": [
  {
   "cell_type": "code",
   "execution_count": 1,
   "id": "e03b64b5-8b96-4ae2-a672-39afd2133b86",
   "metadata": {},
   "outputs": [],
   "source": [
    "import pandas as pd\n",
    "import numpy as np\n",
    "from bs4 import BeautifulSoup\n",
    "import requests\n",
    "import re\n",
    "from tqdm import tqdm"
   ]
  },
  {
   "cell_type": "code",
   "execution_count": 2,
   "id": "5522c08f-24b9-4232-b4dc-8e2bd9021db9",
   "metadata": {},
   "outputs": [],
   "source": [
    "def create_soup(url):\n",
    "    res = requests.get(url)\n",
    "    res.raise_for_status()\n",
    "    soup = BeautifulSoup(res.content, 'html.parser', from_encoding='cp949')\n",
    "    return soup"
   ]
  },
  {
   "cell_type": "code",
   "execution_count": 53,
   "id": "0b021264-1dd7-4374-a4d1-34dfdd8fe02d",
   "metadata": {},
   "outputs": [],
   "source": [
    "press_list = ['경향신문', '국민일보', '뉴스1', '뉴시스', '동아일보', '문화일보', '서울신문', '세계일보', '연합뉴스',  '조선일보', '중앙일보', '한겨레', '한국일보']\n",
    "\n",
    "stop_content = [\"@\",\"무단전재\", \"재배포금지\",\"저작권자 ⓒ 서울신문사\",\"무단복제 및 전재\",\"무단 전재 및 재배포\",\"제보는 카톡\", \"☞\", \"무단 전재-재배포\", \"▶연합뉴스 앱 지금 바로 다운받기~\"]\n",
    "\n",
    "rep_list = [u'\\xa0', u'\\u2027', u'\\u30fb', u'\\u2024', u'\\uff65', u'\\u2014', u'\\u22c5', u'\\u207a', u'\\u2219', u'\\u2e31', u'\\u200d']"
   ]
  },
  {
   "cell_type": "markdown",
   "id": "e85948ae-1363-4824-9fa3-3cd79be6ff15",
   "metadata": {
    "tags": []
   },
   "source": [
    "# 테스트"
   ]
  },
  {
   "cell_type": "code",
   "execution_count": 57,
   "id": "af9a3627-1aea-4c01-a5b2-023045cd22bc",
   "metadata": {},
   "outputs": [
    {
     "data": {
      "text/plain": [
       "'정병혁 기자'"
      ]
     },
     "execution_count": 57,
     "metadata": {},
     "output_type": "execute_result"
    }
   ],
   "source": [
    "article_soup = create_soup('https://v.daum.net/v/20230131093328182')\n",
    "\n",
    "# 기자없는 기사 걸러내기\n",
    "journalist = article_soup.select('div>span')[0].text.split('기자')[0].strip() + ' 기자'\n",
    "if '입력' in journalist or journalist == ' 기자':\n",
    "    print('False')\n",
    "journalist"
   ]
  },
  {
   "cell_type": "code",
   "execution_count": 58,
   "id": "84d3ff11-34aa-44df-aee3-563344ae1356",
   "metadata": {},
   "outputs": [
    {
     "data": {
      "text/plain": [
       "[\"[서울=뉴시스] 정병혁 기자 = 정부가 유치원과 어린이집으로 나뉜 만 0~5세 영·유아의 교육과 보육을 통합하는 '유보통합'을 본격적으로 추진한다. 2025년부터 취학 전 아동들은 새롭게 출범하는 유치원·어린이집 통합기관에 다닌다. 정부는 이러한 내용이 담긴 유보통합 추진 방안을 발표했다. 31일 오전 어린이들이 서울 한 어린이집으로 등원하고 있다. 2023.01.31. jhope@newsis.com\"]"
      ]
     },
     "execution_count": 58,
     "metadata": {},
     "output_type": "execute_result"
    }
   ],
   "source": [
    "# 본문 정리\n",
    "article = article_soup.find_all('section')[1]\n",
    "content = article.find_all(True, attrs={'dmcf-ptype':'general'})\n",
    "rst = []\n",
    "for para in content:\n",
    "    for tmp in para.text.split('\\n'):\n",
    "        if tmp.strip() != '':\n",
    "            rst.append(tmp.strip())\n",
    "rst"
   ]
  },
  {
   "cell_type": "code",
   "execution_count": 59,
   "id": "5802573c-ace7-4049-b916-0a489fdc7eff",
   "metadata": {
    "tags": []
   },
   "outputs": [
    {
     "data": {
      "text/plain": [
       "''"
      ]
     },
     "execution_count": 59,
     "metadata": {},
     "output_type": "execute_result"
    }
   ],
   "source": [
    "if len(rst) == 0 or len(rst[0]) < 25:\n",
    "    print('False')\n",
    "content = []\n",
    "for c in rst:\n",
    "    for i in stop_content:\n",
    "        if i in c:\n",
    "            break\n",
    "    else:\n",
    "        content.append(c.replace(u'\\xa0', u' '))\n",
    "content = ' '.join(content)\n",
    "content"
   ]
  },
  {
   "cell_type": "markdown",
   "id": "b0e29f31-919e-48c8-a6b8-b17a8068561d",
   "metadata": {
    "tags": []
   },
   "source": [
    "# 함수 정리"
   ]
  },
  {
   "cell_type": "code",
   "execution_count": 8,
   "id": "769ae014-03a1-4df9-bad6-39a032e66b4d",
   "metadata": {},
   "outputs": [],
   "source": [
    "def content_scraper(link):\n",
    "    article_soup = create_soup(link)\n",
    "    \n",
    "    # 기자없는 기사 걸러내기\n",
    "    journalist = article_soup.select('div>span')[0].text.split('기자')[0].strip() + ' 기자'\n",
    "    if '입력' in journalist or journalist == ' 기자':\n",
    "        return False\n",
    "    \n",
    "    # 본문 정리\n",
    "    article = article_soup.find_all('section')[1]\n",
    "    content = article.find_all(True, attrs={'dmcf-ptype':'general'})\n",
    "    rst = []\n",
    "    for para in content:\n",
    "        for tmp in para.text.split('\\n'):\n",
    "            if tmp.strip() != '':\n",
    "                rst.append(tmp.strip())\n",
    "    if len(rst) == 0 or len(rst[0]) < 25:\n",
    "        return False\n",
    "    content = []\n",
    "    for c in rst:\n",
    "        for i in stop_content:\n",
    "            if i in c:\n",
    "                break\n",
    "        else:\n",
    "            for rep in rep_list:\n",
    "                c = c.replace(rep, ' ')\n",
    "            content.append(c)\n",
    "    content = ' '.join(content)\n",
    "    return content, journalist"
   ]
  },
  {
   "cell_type": "code",
   "execution_count": null,
   "id": "2c497673-f3a6-4f61-8509-dfd71dc38b5a",
   "metadata": {},
   "outputs": [],
   "source": [
    "def get_articles(date, category):\n",
    "    articles = []\n",
    "    # 마지막 리스트 페이지 체크\n",
    "    url = f'https://news.daum.net/breakingnews/{category}?page=999&regDate={date}'\n",
    "    soup = create_soup(url)\n",
    "    last_page = soup.find(\"em\",attrs ={\"class\": \"num_page\"})\n",
    "    last_page_num = int(re.sub(r'[^0-9]', '', last_page.text))\n",
    "    # last_page_num = 10\n",
    "    \n",
    "    for page in tqdm(range(1, last_page_num+1)):\n",
    "        url = f'https://news.daum.net/breakingnews/{category}?page={page}&regDate={date}'\n",
    "        soup = create_soup(url)\n",
    "        news_list = soup.find_all('strong', attrs={'class':'tit_thumb'})\n",
    "        \n",
    "        # 리스트의 뉴스 하나씩 처리\n",
    "        for i in range(len(news_list)-4):\n",
    "            article = []\n",
    "            press = news_list[i].find('span').text.split('·')[0].strip()\n",
    "            if press not in press_list:\n",
    "                continue\n",
    "            title = news_list[i].find('a').text\n",
    "            if '[부고]' in title:\n",
    "                continue\n",
    "            link = news_list[i].find('a')['href']\n",
    "            # print(link, end='\\r')\n",
    "            date = news_list[i].find('a')['href'].split('/')[-1][:8]\n",
    "            arcid = news_list[i].find('a')['href'].split('/')[-1][8:]\n",
    "            category = url.split('/')[-1].split('?')[0]\n",
    "            checker = content_scraper(link)\n",
    "            if not checker:\n",
    "                continue\n",
    "            content, journalist = checker\n",
    "            \n",
    "            article = [arcid, press, title, content, journalist, date, link, category]\n",
    "            articles.append(article)\n",
    "    df = pd.DataFrame(articles, columns=['arcid', 'press', 'title', 'content', 'journalist', 'date', 'link', 'category'])\n",
    "    return df"
   ]
  },
  {
   "cell_type": "code",
   "execution_count": 10,
   "id": "622ce009-82c5-48a0-857a-d3aa9ad6c7cc",
   "metadata": {
    "tags": []
   },
   "outputs": [
    {
     "name": "stderr",
     "output_type": "stream",
     "text": [
      "100%|████████████████████████████████████████████████████████████████████████████████| 477/477 [14:40<00:00,  1.85s/it]\n"
     ]
    }
   ],
   "source": [
    "data = get_articles('20230131', 'society')"
   ]
  },
  {
   "cell_type": "code",
   "execution_count": 11,
   "id": "62acd49f-46f2-4463-8f96-8155b6597c49",
   "metadata": {
    "tags": []
   },
   "outputs": [
    {
     "data": {
      "text/html": [
       "<div>\n",
       "<style scoped>\n",
       "    .dataframe tbody tr th:only-of-type {\n",
       "        vertical-align: middle;\n",
       "    }\n",
       "\n",
       "    .dataframe tbody tr th {\n",
       "        vertical-align: top;\n",
       "    }\n",
       "\n",
       "    .dataframe thead th {\n",
       "        text-align: right;\n",
       "    }\n",
       "</style>\n",
       "<table border=\"1\" class=\"dataframe\">\n",
       "  <thead>\n",
       "    <tr style=\"text-align: right;\">\n",
       "      <th></th>\n",
       "      <th>arcid</th>\n",
       "      <th>press</th>\n",
       "      <th>title</th>\n",
       "      <th>content</th>\n",
       "      <th>journalist</th>\n",
       "      <th>date</th>\n",
       "      <th>link</th>\n",
       "      <th>category</th>\n",
       "    </tr>\n",
       "  </thead>\n",
       "  <tbody>\n",
       "    <tr>\n",
       "      <th>0</th>\n",
       "      <td>235654368</td>\n",
       "      <td>중앙일보</td>\n",
       "      <td>서희스타힐스 공사장서 미얀마 작업자 1명 질식사...중대재해법 적용되나</td>\n",
       "      <td>31일 오후 5시 44분쯤 경기 용인시 처인구 서희스타힐스 아파트 신축 공사장에서 ...</td>\n",
       "      <td>이수민 기자</td>\n",
       "      <td>20230131</td>\n",
       "      <td>https://v.daum.net/v/20230131235654368</td>\n",
       "      <td>society</td>\n",
       "    </tr>\n",
       "    <tr>\n",
       "      <th>1</th>\n",
       "      <td>235351351</td>\n",
       "      <td>뉴시스</td>\n",
       "      <td>경기교육청, 교육부 중투심 '학교 신설' 의뢰 100% 통과</td>\n",
       "      <td>기사내용 요약 적정 3개교, 조건부 2개교로 통과율 100% 도교육청 과밀학급 해소...</td>\n",
       "      <td>박종대 기자</td>\n",
       "      <td>20230131</td>\n",
       "      <td>https://v.daum.net/v/20230131235351351</td>\n",
       "      <td>society</td>\n",
       "    </tr>\n",
       "    <tr>\n",
       "      <th>2</th>\n",
       "      <td>235321348</td>\n",
       "      <td>뉴시스</td>\n",
       "      <td>박완수 경남도지사, 3개 출자·출연기관 현안 점검</td>\n",
       "      <td>기사내용 요약 경남신용보증재단, 투자경제진흥원, 관광재단 방문 민선 8기 비전 공유...</td>\n",
       "      <td>홍정명 기자</td>\n",
       "      <td>20230131</td>\n",
       "      <td>https://v.daum.net/v/20230131235321348</td>\n",
       "      <td>society</td>\n",
       "    </tr>\n",
       "    <tr>\n",
       "      <th>3</th>\n",
       "      <td>235314346</td>\n",
       "      <td>뉴시스</td>\n",
       "      <td>차기 수협중앙회장 선거…경남 출신 후보들간 경쟁할 듯</td>\n",
       "      <td>기사내용 요약 노동진 진해수협조합장,김덕철 통영수협조합장,김임권 전 수협중앙회장 후...</td>\n",
       "      <td>김기진 기자</td>\n",
       "      <td>20230131</td>\n",
       "      <td>https://v.daum.net/v/20230131235314346</td>\n",
       "      <td>society</td>\n",
       "    </tr>\n",
       "    <tr>\n",
       "      <th>4</th>\n",
       "      <td>233731270</td>\n",
       "      <td>뉴시스</td>\n",
       "      <td>경찰 출동하고도…도로 누운 만취 남성, 차에 치어 참변</td>\n",
       "      <td>기사내용 요약 현장 출동 경찰관, 주취자 일으키려다 거부하자 포기 길 건너편 순찰차...</td>\n",
       "      <td>위용성 기자</td>\n",
       "      <td>20230131</td>\n",
       "      <td>https://v.daum.net/v/20230131233731270</td>\n",
       "      <td>society</td>\n",
       "    </tr>\n",
       "    <tr>\n",
       "      <th>...</th>\n",
       "      <td>...</td>\n",
       "      <td>...</td>\n",
       "      <td>...</td>\n",
       "      <td>...</td>\n",
       "      <td>...</td>\n",
       "      <td>...</td>\n",
       "      <td>...</td>\n",
       "      <td>...</td>\n",
       "    </tr>\n",
       "    <tr>\n",
       "      <th>3221</th>\n",
       "      <td>000254932</td>\n",
       "      <td>중앙일보</td>\n",
       "      <td>사료값만 1억원…한우 농가 “소 먹이 주는 것도 겁나”</td>\n",
       "      <td>“20년간 한우를 키우면서 볏짚 가격이 이렇게 비싼 적은 처음입니다. 소먹이에만 1...</td>\n",
       "      <td>김정석 기자</td>\n",
       "      <td>20230131</td>\n",
       "      <td>https://v.daum.net/v/20230131000254932</td>\n",
       "      <td>society</td>\n",
       "    </tr>\n",
       "    <tr>\n",
       "      <th>3222</th>\n",
       "      <td>000244929</td>\n",
       "      <td>중앙일보</td>\n",
       "      <td>1㎏에 3만5000원…벌교 참꼬막이 ‘갯벌 진주’ 된 이유</td>\n",
       "      <td>“예전엔 아짐(아주머니) 한 분이 1t도 넘게 잡았제. 키로(㎏)에 1000원 하던...</td>\n",
       "      <td>최경호 기자</td>\n",
       "      <td>20230131</td>\n",
       "      <td>https://v.daum.net/v/20230131000244929</td>\n",
       "      <td>society</td>\n",
       "    </tr>\n",
       "    <tr>\n",
       "      <th>3223</th>\n",
       "      <td>000242928</td>\n",
       "      <td>중앙일보</td>\n",
       "      <td>[사진] 나흘 뒤면 입춘, 매화꽃도 기지개 펴요</td>\n",
       "      <td>전국에 한파가 몰아친 30일 입춘(立春)을 닷새 앞두고 부산 남구 동명대학교 본관 ...</td>\n",
       "      <td>송봉근 기자</td>\n",
       "      <td>20230131</td>\n",
       "      <td>https://v.daum.net/v/20230131000242928</td>\n",
       "      <td>society</td>\n",
       "    </tr>\n",
       "    <tr>\n",
       "      <th>3224</th>\n",
       "      <td>000240927</td>\n",
       "      <td>중앙일보</td>\n",
       "      <td>“일할 사람 구합니다”…한국 최고 ‘부자도시’가 소멸 위기?</td>\n",
       "      <td>1인당 지역총소득 5935만원, 지역내총생산 6913만원. 각각 5421만원·496...</td>\n",
       "      <td>김윤호 기자</td>\n",
       "      <td>20230131</td>\n",
       "      <td>https://v.daum.net/v/20230131000240927</td>\n",
       "      <td>society</td>\n",
       "    </tr>\n",
       "    <tr>\n",
       "      <th>3225</th>\n",
       "      <td>000237925</td>\n",
       "      <td>중앙일보</td>\n",
       "      <td>동아대, 13년만에 등록금 인상…전국 사립대 중 처음</td>\n",
       "      <td>부산 동아대가 전국 4년제 사립대학 중 13년 만에 처음으로 등록금 인상을 결정했다...</td>\n",
       "      <td>안대훈, 김민주 기자</td>\n",
       "      <td>20230131</td>\n",
       "      <td>https://v.daum.net/v/20230131000237925</td>\n",
       "      <td>society</td>\n",
       "    </tr>\n",
       "  </tbody>\n",
       "</table>\n",
       "<p>3226 rows × 8 columns</p>\n",
       "</div>"
      ],
      "text/plain": [
       "          arcid press                                    title  \\\n",
       "0     235654368  중앙일보  서희스타힐스 공사장서 미얀마 작업자 1명 질식사...중대재해법 적용되나   \n",
       "1     235351351   뉴시스        경기교육청, 교육부 중투심 '학교 신설' 의뢰 100% 통과   \n",
       "2     235321348   뉴시스              박완수 경남도지사, 3개 출자·출연기관 현안 점검   \n",
       "3     235314346   뉴시스            차기 수협중앙회장 선거…경남 출신 후보들간 경쟁할 듯   \n",
       "4     233731270   뉴시스           경찰 출동하고도…도로 누운 만취 남성, 차에 치어 참변   \n",
       "...         ...   ...                                      ...   \n",
       "3221  000254932  중앙일보           사료값만 1억원…한우 농가 “소 먹이 주는 것도 겁나”   \n",
       "3222  000244929  중앙일보         1㎏에 3만5000원…벌교 참꼬막이 ‘갯벌 진주’ 된 이유   \n",
       "3223  000242928  중앙일보               [사진] 나흘 뒤면 입춘, 매화꽃도 기지개 펴요   \n",
       "3224  000240927  중앙일보        “일할 사람 구합니다”…한국 최고 ‘부자도시’가 소멸 위기?   \n",
       "3225  000237925  중앙일보            동아대, 13년만에 등록금 인상…전국 사립대 중 처음   \n",
       "\n",
       "                                                content   journalist  \\\n",
       "0     31일 오후 5시 44분쯤 경기 용인시 처인구 서희스타힐스 아파트 신축 공사장에서 ...       이수민 기자   \n",
       "1     기사내용 요약 적정 3개교, 조건부 2개교로 통과율 100% 도교육청 과밀학급 해소...       박종대 기자   \n",
       "2     기사내용 요약 경남신용보증재단, 투자경제진흥원, 관광재단 방문 민선 8기 비전 공유...       홍정명 기자   \n",
       "3     기사내용 요약 노동진 진해수협조합장,김덕철 통영수협조합장,김임권 전 수협중앙회장 후...       김기진 기자   \n",
       "4     기사내용 요약 현장 출동 경찰관, 주취자 일으키려다 거부하자 포기 길 건너편 순찰차...       위용성 기자   \n",
       "...                                                 ...          ...   \n",
       "3221  “20년간 한우를 키우면서 볏짚 가격이 이렇게 비싼 적은 처음입니다. 소먹이에만 1...       김정석 기자   \n",
       "3222  “예전엔 아짐(아주머니) 한 분이 1t도 넘게 잡았제. 키로(㎏)에 1000원 하던...       최경호 기자   \n",
       "3223  전국에 한파가 몰아친 30일 입춘(立春)을 닷새 앞두고 부산 남구 동명대학교 본관 ...       송봉근 기자   \n",
       "3224  1인당 지역총소득 5935만원, 지역내총생산 6913만원. 각각 5421만원·496...       김윤호 기자   \n",
       "3225  부산 동아대가 전국 4년제 사립대학 중 13년 만에 처음으로 등록금 인상을 결정했다...  안대훈, 김민주 기자   \n",
       "\n",
       "          date                                    link category  \n",
       "0     20230131  https://v.daum.net/v/20230131235654368  society  \n",
       "1     20230131  https://v.daum.net/v/20230131235351351  society  \n",
       "2     20230131  https://v.daum.net/v/20230131235321348  society  \n",
       "3     20230131  https://v.daum.net/v/20230131235314346  society  \n",
       "4     20230131  https://v.daum.net/v/20230131233731270  society  \n",
       "...        ...                                     ...      ...  \n",
       "3221  20230131  https://v.daum.net/v/20230131000254932  society  \n",
       "3222  20230131  https://v.daum.net/v/20230131000244929  society  \n",
       "3223  20230131  https://v.daum.net/v/20230131000242928  society  \n",
       "3224  20230131  https://v.daum.net/v/20230131000240927  society  \n",
       "3225  20230131  https://v.daum.net/v/20230131000237925  society  \n",
       "\n",
       "[3226 rows x 8 columns]"
      ]
     },
     "execution_count": 11,
     "metadata": {},
     "output_type": "execute_result"
    }
   ],
   "source": [
    "data"
   ]
  },
  {
   "cell_type": "code",
   "execution_count": 54,
   "id": "08ff38f3-75f1-4c97-9087-624fab87af26",
   "metadata": {},
   "outputs": [],
   "source": [
    "for rep in rep_list:\n",
    "    data['content'] = data['content'].str.replace(rep, u' ')"
   ]
  },
  {
   "cell_type": "code",
   "execution_count": 56,
   "id": "2a4b47de-ff59-4e3e-b803-3b15da5eea95",
   "metadata": {},
   "outputs": [],
   "source": [
    "data.to_csv('20230131_society.csv', encoding='utf-8')"
   ]
  },
  {
   "cell_type": "markdown",
   "id": "ce3f9f9a-e6fd-4046-be1c-87fab1e32716",
   "metadata": {},
   "source": [
    "# 기간 설정 스크래핑"
   ]
  },
  {
   "cell_type": "code",
   "execution_count": null,
   "id": "429a6cc7-14db-4596-a509-00791e602236",
   "metadata": {},
   "outputs": [],
   "source": [
    "from datetime import date\n",
    "from dateutil.rrule import rrule, DAILY"
   ]
  },
  {
   "cell_type": "code",
   "execution_count": null,
   "id": "15af56c3-fdc2-42b2-83b6-2486bacb211a",
   "metadata": {},
   "outputs": [],
   "source": [
    "start_date = date(2023, 1, 29)\n",
    "end_date = date(2023, 1, 29)"
   ]
  },
  {
   "cell_type": "code",
   "execution_count": null,
   "id": "87426bce-d1d1-419d-a318-754bcb25f121",
   "metadata": {},
   "outputs": [],
   "source": [
    "data = pd.DataFrame()\n",
    "for date in tqdm(list(rrule(DAILY, dtstart=start_date, until=end_date))):\n",
    "    # print(date.strftime('%Y%m%d'))\n",
    "    data = pd.concat([data, get_articles(date.strftime('%Y%m%d'), 'society')])\n",
    "data.reset_index(drop=True, inplace=True)"
   ]
  },
  {
   "cell_type": "code",
   "execution_count": null,
   "id": "f3b60ffe-914b-4fa9-97f4-06dec0408ca7",
   "metadata": {},
   "outputs": [],
   "source": []
  }
 ],
 "metadata": {
  "kernelspec": {
   "display_name": "Python 3 (ipykernel)",
   "language": "python",
   "name": "python3"
  },
  "language_info": {
   "codemirror_mode": {
    "name": "ipython",
    "version": 3
   },
   "file_extension": ".py",
   "mimetype": "text/x-python",
   "name": "python",
   "nbconvert_exporter": "python",
   "pygments_lexer": "ipython3",
   "version": "3.8.15"
  }
 },
 "nbformat": 4,
 "nbformat_minor": 5
}
