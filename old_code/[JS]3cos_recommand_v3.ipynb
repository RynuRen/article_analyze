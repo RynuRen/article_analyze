{
 "cells": [
  {
   "cell_type": "markdown",
   "id": "b9217219-9bd1-4775-8e30-6a859d12ecf7",
   "metadata": {
    "tags": []
   },
   "source": [
    "# 데이터 모두 불러와 합치기"
   ]
  },
  {
   "cell_type": "code",
   "execution_count": 2,
   "id": "c9e0af2e-7459-4b15-ba12-342e365f9869",
   "metadata": {},
   "outputs": [],
   "source": [
    "from tqdm import tqdm\n",
    "import pandas as pd\n",
    "from glob import glob"
   ]
  },
  {
   "cell_type": "code",
   "execution_count": 3,
   "id": "b82a84fe-3933-4ff6-bdc9-9ad688f0e0bc",
   "metadata": {},
   "outputs": [
    {
     "name": "stderr",
     "output_type": "stream",
     "text": [
      "100%|████████████████████████████████████████████████████████████████████████████████| 365/365 [01:38<00:00,  3.70it/s]\n"
     ]
    }
   ],
   "source": [
    "files = sorted(glob('./data/*.csv'))\n",
    "date_cols = ['date']\n",
    "data_all = pd.DataFrame()\n",
    "for file in tqdm(files):\n",
    "    df_day = pd.read_csv(file, parse_dates=date_cols) # date 컬럼 datetime 형식으로 불러오기\n",
    "    data_all = pd.concat([data_all, df_day])\n",
    "data_all.reset_index(drop=True, inplace=True)"
   ]
  },
  {
   "cell_type": "code",
   "execution_count": 4,
   "id": "348416eb-73e3-4181-b8a6-1b62626b7fce",
   "metadata": {
    "collapsed": true,
    "jupyter": {
     "outputs_hidden": true
    },
    "tags": []
   },
   "outputs": [
    {
     "data": {
      "text/html": [
       "<div>\n",
       "<style scoped>\n",
       "    .dataframe tbody tr th:only-of-type {\n",
       "        vertical-align: middle;\n",
       "    }\n",
       "\n",
       "    .dataframe tbody tr th {\n",
       "        vertical-align: top;\n",
       "    }\n",
       "\n",
       "    .dataframe thead th {\n",
       "        text-align: right;\n",
       "    }\n",
       "</style>\n",
       "<table border=\"1\" class=\"dataframe\">\n",
       "  <thead>\n",
       "    <tr style=\"text-align: right;\">\n",
       "      <th></th>\n",
       "      <th>arcid</th>\n",
       "      <th>press</th>\n",
       "      <th>title</th>\n",
       "      <th>content</th>\n",
       "      <th>journalist</th>\n",
       "      <th>date</th>\n",
       "      <th>link</th>\n",
       "      <th>category</th>\n",
       "      <th>token</th>\n",
       "      <th>okt</th>\n",
       "    </tr>\n",
       "  </thead>\n",
       "  <tbody>\n",
       "    <tr>\n",
       "      <th>0</th>\n",
       "      <td>235811959</td>\n",
       "      <td>세계일보</td>\n",
       "      <td>\"우리 촉법소년들이라고!\" 경찰관 폭행한 10대들, 되레 인권위 진정 제기</td>\n",
       "      <td>술집에서 술을 마시던10대 미성년자들이 단속을 나온 경찰관에게 폭력을 휘두른 것도 ...</td>\n",
       "      <td>현화영 기자</td>\n",
       "      <td>2022-01-01</td>\n",
       "      <td>https://v.daum.net/v/20220101235811959</td>\n",
       "      <td>society</td>\n",
       "      <td>[('술집', 'Noun'), ('에서', 'Josa'), ('술', 'Noun')...</td>\n",
       "      <td>술집 술 말다 10 대다 미성년 들이다 단속 나오다 경찰관 폭력 휘두르다 것 모자라...</td>\n",
       "    </tr>\n",
       "    <tr>\n",
       "      <th>1</th>\n",
       "      <td>235510951</td>\n",
       "      <td>중앙일보</td>\n",
       "      <td>문자 한통에..4시간 벌벌 떨며 검사받은 초.중학생들, 무슨일</td>\n",
       "      <td>새해 첫날인 1일 광주지역 학교 2곳의 전수검사가 이뤄지면서 학생과 그 가족이 몰린...</td>\n",
       "      <td>한영혜 기자</td>\n",
       "      <td>2022-01-01</td>\n",
       "      <td>https://v.daum.net/v/20220101235510951</td>\n",
       "      <td>society</td>\n",
       "      <td>[('새해', 'Noun'), ('첫날', 'Noun'), ('인', 'Josa')...</td>\n",
       "      <td>새해 첫날 1일 광주 지역 학교 2 곳 전 수 검사 이뤄지다 학생 그 가족 몰리다 ...</td>\n",
       "    </tr>\n",
       "    <tr>\n",
       "      <th>2</th>\n",
       "      <td>231602763</td>\n",
       "      <td>서울신문</td>\n",
       "      <td>경찰 목 조른 10대들 \"인권침해다..우린 촉법소년\"(영상)</td>\n",
       "      <td>10대 미성년자들이 술집에서 술을 마시다 단속 경찰에게 폭력을 휘두른 것도 모자라 ...</td>\n",
       "      <td>김유민 기자</td>\n",
       "      <td>2022-01-01</td>\n",
       "      <td>https://v.daum.net/v/20220101231602763</td>\n",
       "      <td>society</td>\n",
       "      <td>[('10', 'Number'), ('대다', 'Verb'), ('미성년', 'No...</td>\n",
       "      <td>10 대다 미성년 들이다 술집 술 말다 단속 경찰 폭력 휘두르다 것 모자라 자신 촉...</td>\n",
       "    </tr>\n",
       "    <tr>\n",
       "      <th>3</th>\n",
       "      <td>225649705</td>\n",
       "      <td>뉴스1</td>\n",
       "      <td>\"개별 검사\" 문자에 3~4시간 '벌벌' 떨며 검사 받은 초·중학생들</td>\n",
       "      <td>광주뉴스1 전원 기자  새해 첫날 광주의 2개 학교 학생과 그 가족 등 수천여명이 ...</td>\n",
       "      <td>전원 기자</td>\n",
       "      <td>2022-01-01</td>\n",
       "      <td>https://v.daum.net/v/20220101225649705</td>\n",
       "      <td>society</td>\n",
       "      <td>[('광주', 'Noun'), ('뉴스', 'Noun'), ('1', 'Number...</td>\n",
       "      <td>광주 뉴스 1 전원 기자 새해 첫날 광주 2 개 학교 학생 그 가족 등 수천 여명 ...</td>\n",
       "    </tr>\n",
       "    <tr>\n",
       "      <th>4</th>\n",
       "      <td>225234694</td>\n",
       "      <td>조선일보</td>\n",
       "      <td>정시 경쟁률 뛰었다..서울대 4.13대 1, 연세대 4.76대 1</td>\n",
       "      <td>서울대와 연세대가 1일 정시 원서 접수를 마감한 가운데 일반전형 경쟁률이 작년보다 ...</td>\n",
       "      <td>오경묵 기자</td>\n",
       "      <td>2022-01-01</td>\n",
       "      <td>https://v.daum.net/v/20220101225234694</td>\n",
       "      <td>society</td>\n",
       "      <td>[('서울대', 'Noun'), ('와', 'Josa'), ('연세대', 'Noun...</td>\n",
       "      <td>서울대 연세대 1일 정시 원서 접수 마감 가운데 일반 전형 경쟁률 작년 높아지다 것...</td>\n",
       "    </tr>\n",
       "    <tr>\n",
       "      <th>...</th>\n",
       "      <td>...</td>\n",
       "      <td>...</td>\n",
       "      <td>...</td>\n",
       "      <td>...</td>\n",
       "      <td>...</td>\n",
       "      <td>...</td>\n",
       "      <td>...</td>\n",
       "      <td>...</td>\n",
       "      <td>...</td>\n",
       "      <td>...</td>\n",
       "    </tr>\n",
       "    <tr>\n",
       "      <th>668218</th>\n",
       "      <td>10122552</td>\n",
       "      <td>세계일보</td>\n",
       "      <td>한국남동발전, 8년째 취약계층 평생학습 지원</td>\n",
       "      <td>한국남동발전은 본사가 있는 지역 야학시설인 경남 진주향토시민학교에 후원금을 전달했다...</td>\n",
       "      <td>강승우 기자</td>\n",
       "      <td>2022-12-31</td>\n",
       "      <td>https://v.daum.net/v/20221231010122552</td>\n",
       "      <td>society</td>\n",
       "      <td>[('한국', 'Noun'), ('남동', 'Noun'), ('발전', 'Noun'...</td>\n",
       "      <td>한국 남동 발전 본사 있다 지역 야학 시설 경남 진주 향토 시민 학교 후 원금 전달...</td>\n",
       "    </tr>\n",
       "    <tr>\n",
       "      <th>668219</th>\n",
       "      <td>10117551</td>\n",
       "      <td>세계일보</td>\n",
       "      <td>KIS제주, 하버드대 2년 연속 합격생 배출</td>\n",
       "      <td>제주영어교육도시 내 제주    한국국제학교가 지난해에 이어 올해에도 세계 최고 명문...</td>\n",
       "      <td>임성준 기자</td>\n",
       "      <td>2022-12-31</td>\n",
       "      <td>https://v.daum.net/v/20221231010117551</td>\n",
       "      <td>society</td>\n",
       "      <td>[('제주', 'Noun'), ('영어', 'Noun'), ('교육', 'Noun'...</td>\n",
       "      <td>제주 영어 교육 도시 내 제주 한국 국제 학교 지난해 이다 올해 세계 최고 명문 하...</td>\n",
       "    </tr>\n",
       "    <tr>\n",
       "      <th>668220</th>\n",
       "      <td>1003411</td>\n",
       "      <td>한국일보</td>\n",
       "      <td>늘어나는 방음터널... 번지면 대형 화재인데 방염 규정은 전무</td>\n",
       "      <td>46명의 사상자가 발생한 경기 과천시 갈현고가교 방음터널 화재로 방음터널 안전성이 ...</td>\n",
       "      <td>원다라 기자</td>\n",
       "      <td>2022-12-31</td>\n",
       "      <td>https://v.daum.net/v/20221231001003411</td>\n",
       "      <td>society</td>\n",
       "      <td>[('46', 'Number'), ('명의', 'Noun'), ('사', 'Modi...</td>\n",
       "      <td>46 명의 사 상자 발생 경기 과천시 갈현 고가교 방음 터널 화재 방음 터널 안전성...</td>\n",
       "    </tr>\n",
       "    <tr>\n",
       "      <th>668221</th>\n",
       "      <td>423387</td>\n",
       "      <td>국민일보</td>\n",
       "      <td>[핫인픽] #배달할증료 #한파·폭설 출근길 #메시 지폐</td>\n",
       "      <td>지난 한 주 동안 있었던 핫한 뉴스 3를 소개하는 코너 핫한 뉴스만 모았다 인턴기자...</td>\n",
       "      <td>문혜정 기자</td>\n",
       "      <td>2022-12-31</td>\n",
       "      <td>https://v.daum.net/v/20221231000423387</td>\n",
       "      <td>society</td>\n",
       "      <td>[('지난', 'Noun'), ('하다', 'Verb'), ('주', 'Noun')...</td>\n",
       "      <td>지난 하다 주 동안 있다 핫 뉴스 3 를 소개 하다 코너 핫 뉴스 모으다 인턴 기자...</td>\n",
       "    </tr>\n",
       "    <tr>\n",
       "      <th>668222</th>\n",
       "      <td>27329</td>\n",
       "      <td>조선일보</td>\n",
       "      <td>[아무튼, 주말] 황야에 핀 꽃으로 만든 술, 허공에 대고 건배!</td>\n",
       "      <td>술은 책과 함께 마셔야 한다고 생각한다 책을 골라 읽듯이 술도 술꽂이에 꽂아두고 골...</td>\n",
       "      <td>한은형 소설가 기자</td>\n",
       "      <td>2022-12-31</td>\n",
       "      <td>https://v.daum.net/v/20221231000027329</td>\n",
       "      <td>society</td>\n",
       "      <td>[('술', 'Noun'), ('은', 'Josa'), ('책', 'Noun'), ...</td>\n",
       "      <td>술 책 함께 마시다 하다 생각 하다 책 고르다 읽다 술 술 꽂다 꽂다 두다 고르다 ...</td>\n",
       "    </tr>\n",
       "  </tbody>\n",
       "</table>\n",
       "<p>668223 rows × 10 columns</p>\n",
       "</div>"
      ],
      "text/plain": [
       "            arcid press                                      title  \\\n",
       "0       235811959  세계일보  \"우리 촉법소년들이라고!\" 경찰관 폭행한 10대들, 되레 인권위 진정 제기   \n",
       "1       235510951  중앙일보         문자 한통에..4시간 벌벌 떨며 검사받은 초.중학생들, 무슨일   \n",
       "2       231602763  서울신문          경찰 목 조른 10대들 \"인권침해다..우린 촉법소년\"(영상)   \n",
       "3       225649705   뉴스1     \"개별 검사\" 문자에 3~4시간 '벌벌' 떨며 검사 받은 초·중학생들   \n",
       "4       225234694  조선일보       정시 경쟁률 뛰었다..서울대 4.13대 1, 연세대 4.76대 1   \n",
       "...           ...   ...                                        ...   \n",
       "668218   10122552  세계일보                   한국남동발전, 8년째 취약계층 평생학습 지원   \n",
       "668219   10117551  세계일보                   KIS제주, 하버드대 2년 연속 합격생 배출   \n",
       "668220    1003411  한국일보         늘어나는 방음터널... 번지면 대형 화재인데 방염 규정은 전무   \n",
       "668221     423387  국민일보             [핫인픽] #배달할증료 #한파·폭설 출근길 #메시 지폐   \n",
       "668222      27329  조선일보       [아무튼, 주말] 황야에 핀 꽃으로 만든 술, 허공에 대고 건배!   \n",
       "\n",
       "                                                  content  journalist  \\\n",
       "0       술집에서 술을 마시던10대 미성년자들이 단속을 나온 경찰관에게 폭력을 휘두른 것도 ...      현화영 기자   \n",
       "1       새해 첫날인 1일 광주지역 학교 2곳의 전수검사가 이뤄지면서 학생과 그 가족이 몰린...      한영혜 기자   \n",
       "2       10대 미성년자들이 술집에서 술을 마시다 단속 경찰에게 폭력을 휘두른 것도 모자라 ...      김유민 기자   \n",
       "3       광주뉴스1 전원 기자  새해 첫날 광주의 2개 학교 학생과 그 가족 등 수천여명이 ...       전원 기자   \n",
       "4       서울대와 연세대가 1일 정시 원서 접수를 마감한 가운데 일반전형 경쟁률이 작년보다 ...      오경묵 기자   \n",
       "...                                                   ...         ...   \n",
       "668218  한국남동발전은 본사가 있는 지역 야학시설인 경남 진주향토시민학교에 후원금을 전달했다...      강승우 기자   \n",
       "668219  제주영어교육도시 내 제주    한국국제학교가 지난해에 이어 올해에도 세계 최고 명문...      임성준 기자   \n",
       "668220  46명의 사상자가 발생한 경기 과천시 갈현고가교 방음터널 화재로 방음터널 안전성이 ...      원다라 기자   \n",
       "668221  지난 한 주 동안 있었던 핫한 뉴스 3를 소개하는 코너 핫한 뉴스만 모았다 인턴기자...      문혜정 기자   \n",
       "668222  술은 책과 함께 마셔야 한다고 생각한다 책을 골라 읽듯이 술도 술꽂이에 꽂아두고 골...  한은형 소설가 기자   \n",
       "\n",
       "             date                                    link category  \\\n",
       "0      2022-01-01  https://v.daum.net/v/20220101235811959  society   \n",
       "1      2022-01-01  https://v.daum.net/v/20220101235510951  society   \n",
       "2      2022-01-01  https://v.daum.net/v/20220101231602763  society   \n",
       "3      2022-01-01  https://v.daum.net/v/20220101225649705  society   \n",
       "4      2022-01-01  https://v.daum.net/v/20220101225234694  society   \n",
       "...           ...                                     ...      ...   \n",
       "668218 2022-12-31  https://v.daum.net/v/20221231010122552  society   \n",
       "668219 2022-12-31  https://v.daum.net/v/20221231010117551  society   \n",
       "668220 2022-12-31  https://v.daum.net/v/20221231001003411  society   \n",
       "668221 2022-12-31  https://v.daum.net/v/20221231000423387  society   \n",
       "668222 2022-12-31  https://v.daum.net/v/20221231000027329  society   \n",
       "\n",
       "                                                    token  \\\n",
       "0       [('술집', 'Noun'), ('에서', 'Josa'), ('술', 'Noun')...   \n",
       "1       [('새해', 'Noun'), ('첫날', 'Noun'), ('인', 'Josa')...   \n",
       "2       [('10', 'Number'), ('대다', 'Verb'), ('미성년', 'No...   \n",
       "3       [('광주', 'Noun'), ('뉴스', 'Noun'), ('1', 'Number...   \n",
       "4       [('서울대', 'Noun'), ('와', 'Josa'), ('연세대', 'Noun...   \n",
       "...                                                   ...   \n",
       "668218  [('한국', 'Noun'), ('남동', 'Noun'), ('발전', 'Noun'...   \n",
       "668219  [('제주', 'Noun'), ('영어', 'Noun'), ('교육', 'Noun'...   \n",
       "668220  [('46', 'Number'), ('명의', 'Noun'), ('사', 'Modi...   \n",
       "668221  [('지난', 'Noun'), ('하다', 'Verb'), ('주', 'Noun')...   \n",
       "668222  [('술', 'Noun'), ('은', 'Josa'), ('책', 'Noun'), ...   \n",
       "\n",
       "                                                      okt  \n",
       "0       술집 술 말다 10 대다 미성년 들이다 단속 나오다 경찰관 폭력 휘두르다 것 모자라...  \n",
       "1       새해 첫날 1일 광주 지역 학교 2 곳 전 수 검사 이뤄지다 학생 그 가족 몰리다 ...  \n",
       "2       10 대다 미성년 들이다 술집 술 말다 단속 경찰 폭력 휘두르다 것 모자라 자신 촉...  \n",
       "3       광주 뉴스 1 전원 기자 새해 첫날 광주 2 개 학교 학생 그 가족 등 수천 여명 ...  \n",
       "4       서울대 연세대 1일 정시 원서 접수 마감 가운데 일반 전형 경쟁률 작년 높아지다 것...  \n",
       "...                                                   ...  \n",
       "668218  한국 남동 발전 본사 있다 지역 야학 시설 경남 진주 향토 시민 학교 후 원금 전달...  \n",
       "668219  제주 영어 교육 도시 내 제주 한국 국제 학교 지난해 이다 올해 세계 최고 명문 하...  \n",
       "668220  46 명의 사 상자 발생 경기 과천시 갈현 고가교 방음 터널 화재 방음 터널 안전성...  \n",
       "668221  지난 하다 주 동안 있다 핫 뉴스 3 를 소개 하다 코너 핫 뉴스 모으다 인턴 기자...  \n",
       "668222  술 책 함께 마시다 하다 생각 하다 책 고르다 읽다 술 술 꽂다 꽂다 두다 고르다 ...  \n",
       "\n",
       "[668223 rows x 10 columns]"
      ]
     },
     "execution_count": 4,
     "metadata": {},
     "output_type": "execute_result"
    }
   ],
   "source": [
    "data_all"
   ]
  },
  {
   "cell_type": "markdown",
   "id": "abda94c1-558b-4843-8a8d-a95aabe26339",
   "metadata": {
    "jp-MarkdownHeadingCollapsed": true,
    "tags": []
   },
   "source": [
    "# 모델 학습, 저장"
   ]
  },
  {
   "cell_type": "code",
   "execution_count": 5,
   "id": "acb05213-c51e-426a-a90d-bafea1f130c3",
   "metadata": {},
   "outputs": [],
   "source": [
    "from sklearn.feature_extraction.text import TfidfVectorizer\n",
    "from sklearn.metrics.pairwise import cosine_similarity\n",
    "import pickle"
   ]
  },
  {
   "cell_type": "code",
   "execution_count": 6,
   "id": "e377de38-cab9-4a41-ba77-2b637d8d5597",
   "metadata": {},
   "outputs": [],
   "source": [
    "tfidf_vec = TfidfVectorizer(ngram_range=(1, 2), min_df=1) # ngram_range=(1, 2)"
   ]
  },
  {
   "cell_type": "code",
   "execution_count": 18,
   "id": "830129b8-3506-424c-9313-b53b315b5e7a",
   "metadata": {
    "collapsed": true,
    "jupyter": {
     "outputs_hidden": true
    },
    "tags": []
   },
   "outputs": [
    {
     "ename": "KeyboardInterrupt",
     "evalue": "",
     "output_type": "error",
     "traceback": [
      "\u001b[1;31m---------------------------------------------------------------------------\u001b[0m",
      "\u001b[1;31mKeyboardInterrupt\u001b[0m                         Traceback (most recent call last)",
      "File \u001b[1;32m<timed exec>:1\u001b[0m\n",
      "File \u001b[1;32m~\\anaconda3\\envs\\sesac\\lib\\site-packages\\sklearn\\feature_extraction\\text.py:2121\u001b[0m, in \u001b[0;36mTfidfVectorizer.fit_transform\u001b[1;34m(self, raw_documents, y)\u001b[0m\n\u001b[0;32m   2114\u001b[0m \u001b[38;5;28mself\u001b[39m\u001b[38;5;241m.\u001b[39m_check_params()\n\u001b[0;32m   2115\u001b[0m \u001b[38;5;28mself\u001b[39m\u001b[38;5;241m.\u001b[39m_tfidf \u001b[38;5;241m=\u001b[39m TfidfTransformer(\n\u001b[0;32m   2116\u001b[0m     norm\u001b[38;5;241m=\u001b[39m\u001b[38;5;28mself\u001b[39m\u001b[38;5;241m.\u001b[39mnorm,\n\u001b[0;32m   2117\u001b[0m     use_idf\u001b[38;5;241m=\u001b[39m\u001b[38;5;28mself\u001b[39m\u001b[38;5;241m.\u001b[39muse_idf,\n\u001b[0;32m   2118\u001b[0m     smooth_idf\u001b[38;5;241m=\u001b[39m\u001b[38;5;28mself\u001b[39m\u001b[38;5;241m.\u001b[39msmooth_idf,\n\u001b[0;32m   2119\u001b[0m     sublinear_tf\u001b[38;5;241m=\u001b[39m\u001b[38;5;28mself\u001b[39m\u001b[38;5;241m.\u001b[39msublinear_tf,\n\u001b[0;32m   2120\u001b[0m )\n\u001b[1;32m-> 2121\u001b[0m X \u001b[38;5;241m=\u001b[39m \u001b[38;5;28;43msuper\u001b[39;49m\u001b[43m(\u001b[49m\u001b[43m)\u001b[49m\u001b[38;5;241;43m.\u001b[39;49m\u001b[43mfit_transform\u001b[49m\u001b[43m(\u001b[49m\u001b[43mraw_documents\u001b[49m\u001b[43m)\u001b[49m\n\u001b[0;32m   2122\u001b[0m \u001b[38;5;28mself\u001b[39m\u001b[38;5;241m.\u001b[39m_tfidf\u001b[38;5;241m.\u001b[39mfit(X)\n\u001b[0;32m   2123\u001b[0m \u001b[38;5;66;03m# X is already a transformed view of raw_documents so\u001b[39;00m\n\u001b[0;32m   2124\u001b[0m \u001b[38;5;66;03m# we set copy to False\u001b[39;00m\n",
      "File \u001b[1;32m~\\anaconda3\\envs\\sesac\\lib\\site-packages\\sklearn\\feature_extraction\\text.py:1377\u001b[0m, in \u001b[0;36mCountVectorizer.fit_transform\u001b[1;34m(self, raw_documents, y)\u001b[0m\n\u001b[0;32m   1369\u001b[0m             warnings\u001b[38;5;241m.\u001b[39mwarn(\n\u001b[0;32m   1370\u001b[0m                 \u001b[38;5;124m\"\u001b[39m\u001b[38;5;124mUpper case characters found in\u001b[39m\u001b[38;5;124m\"\u001b[39m\n\u001b[0;32m   1371\u001b[0m                 \u001b[38;5;124m\"\u001b[39m\u001b[38;5;124m vocabulary while \u001b[39m\u001b[38;5;124m'\u001b[39m\u001b[38;5;124mlowercase\u001b[39m\u001b[38;5;124m'\u001b[39m\u001b[38;5;124m\"\u001b[39m\n\u001b[0;32m   1372\u001b[0m                 \u001b[38;5;124m\"\u001b[39m\u001b[38;5;124m is True. These entries will not\u001b[39m\u001b[38;5;124m\"\u001b[39m\n\u001b[0;32m   1373\u001b[0m                 \u001b[38;5;124m\"\u001b[39m\u001b[38;5;124m be matched with any documents\u001b[39m\u001b[38;5;124m\"\u001b[39m\n\u001b[0;32m   1374\u001b[0m             )\n\u001b[0;32m   1375\u001b[0m             \u001b[38;5;28;01mbreak\u001b[39;00m\n\u001b[1;32m-> 1377\u001b[0m vocabulary, X \u001b[38;5;241m=\u001b[39m \u001b[38;5;28;43mself\u001b[39;49m\u001b[38;5;241;43m.\u001b[39;49m\u001b[43m_count_vocab\u001b[49m\u001b[43m(\u001b[49m\u001b[43mraw_documents\u001b[49m\u001b[43m,\u001b[49m\u001b[43m \u001b[49m\u001b[38;5;28;43mself\u001b[39;49m\u001b[38;5;241;43m.\u001b[39;49m\u001b[43mfixed_vocabulary_\u001b[49m\u001b[43m)\u001b[49m\n\u001b[0;32m   1379\u001b[0m \u001b[38;5;28;01mif\u001b[39;00m \u001b[38;5;28mself\u001b[39m\u001b[38;5;241m.\u001b[39mbinary:\n\u001b[0;32m   1380\u001b[0m     X\u001b[38;5;241m.\u001b[39mdata\u001b[38;5;241m.\u001b[39mfill(\u001b[38;5;241m1\u001b[39m)\n",
      "File \u001b[1;32m~\\anaconda3\\envs\\sesac\\lib\\site-packages\\sklearn\\feature_extraction\\text.py:1270\u001b[0m, in \u001b[0;36mCountVectorizer._count_vocab\u001b[1;34m(self, raw_documents, fixed_vocab)\u001b[0m\n\u001b[0;32m   1268\u001b[0m         feature_counter[feature_idx] \u001b[38;5;241m=\u001b[39m \u001b[38;5;241m1\u001b[39m\n\u001b[0;32m   1269\u001b[0m     \u001b[38;5;28;01melse\u001b[39;00m:\n\u001b[1;32m-> 1270\u001b[0m         feature_counter[feature_idx] \u001b[38;5;241m+\u001b[39m\u001b[38;5;241m=\u001b[39m \u001b[38;5;241m1\u001b[39m\n\u001b[0;32m   1271\u001b[0m \u001b[38;5;28;01mexcept\u001b[39;00m \u001b[38;5;167;01mKeyError\u001b[39;00m:\n\u001b[0;32m   1272\u001b[0m     \u001b[38;5;66;03m# Ignore out-of-vocabulary items for fixed_vocab=True\u001b[39;00m\n\u001b[0;32m   1273\u001b[0m     \u001b[38;5;28;01mcontinue\u001b[39;00m\n",
      "\u001b[1;31mKeyboardInterrupt\u001b[0m: "
     ]
    }
   ],
   "source": [
    "%%time\n",
    "tfidf_dtm = tfidf_vec.fit_transform(data_all['okt'])"
   ]
  },
  {
   "cell_type": "code",
   "execution_count": 8,
   "id": "692c9c1d-4401-4cd4-94e5-15b1e73d295c",
   "metadata": {},
   "outputs": [],
   "source": [
    "with open(\"./model/pickled_tfidf_vec.bin\", \"wb\") as f:\n",
    "    pickle.dump(tfidf_vec, f)"
   ]
  },
  {
   "cell_type": "code",
   "execution_count": 9,
   "id": "fbc3879d-5a6a-43b7-8307-27052667e465",
   "metadata": {},
   "outputs": [],
   "source": [
    "with open(\"./model/pickled_tfidf_dtm.bin\", \"wb\") as f:\n",
    "    pickle.dump(tfidf_dtm, f)"
   ]
  },
  {
   "cell_type": "markdown",
   "id": "5ca5b20c-5550-4154-b6cb-f6831b7df792",
   "metadata": {
    "tags": []
   },
   "source": [
    "# 전체 데이터 유사도 추천"
   ]
  },
  {
   "cell_type": "markdown",
   "id": "84b76bac-d201-4c7f-903b-22185e9dd3e1",
   "metadata": {},
   "source": [
    "## 모델 불러오기"
   ]
  },
  {
   "cell_type": "code",
   "execution_count": null,
   "id": "c8293a0d-632b-4425-8b97-c7212c497e39",
   "metadata": {},
   "outputs": [],
   "source": [
    "with open(\"./model/pickled_tfidf_vec.bin\", \"rb\") as f:\n",
    "    tfidf_vec = pickle.load(f)"
   ]
  },
  {
   "cell_type": "code",
   "execution_count": null,
   "id": "683c1f21-1b84-4149-a8e8-5f5eda02c5d6",
   "metadata": {},
   "outputs": [],
   "source": [
    "with open(\"./model/pickled_tfidf_dtm.bin\", \"rb\") as f:\n",
    "    tfidf_dtm = pickle.load(f)"
   ]
  },
  {
   "cell_type": "markdown",
   "id": "dca9ad02-be7e-4fa2-908f-195c36d06385",
   "metadata": {},
   "source": [
    "## 형태소 추출"
   ]
  },
  {
   "cell_type": "code",
   "execution_count": null,
   "id": "b6ba4e18-5c43-4f90-a75b-d7498c88b28c",
   "metadata": {},
   "outputs": [],
   "source": [
    "def string_tokenizer(content):\n",
    "    import pandas as pd\n",
    "    from konlpy.tag import Okt\n",
    "    okt = Okt()\n",
    "    \n",
    "    content = pd.Series(content)\n",
    "    # 한글, 숫자, 공백만 남기기\n",
    "    content = content.str.replace('[^0-9ㄱ-ㅎㅏ-ㅣ가-힣 ]', '', regex=True)\n",
    "    token_content = okt.pos(content[0], norm=True, stem=True)\n",
    "    return token_content"
   ]
  },
  {
   "cell_type": "code",
   "execution_count": null,
   "id": "b02fe6b9-febf-40a3-a497-1b115f3fdde2",
   "metadata": {},
   "outputs": [],
   "source": [
    "except_list = ['Exclamation', 'Josa', 'KoreanParticle', 'Determiner',  'Eomi', 'Suffix',  'VerbPrefix', 'PreEomi']\n",
    "include_list = ['Verb',  'Noun']"
   ]
  },
  {
   "cell_type": "code",
   "execution_count": null,
   "id": "1b1ab861-48eb-4ffd-b9a7-cb475011ed4d",
   "metadata": {},
   "outputs": [],
   "source": [
    "# 230207 기현\n",
    "def tag_except_list(except_list, token_content):\n",
    "    filtered_list= []\n",
    "    for tag in token_content :\n",
    "        if tag[1] in except_list:\n",
    "            continue\n",
    "        filtered_list.append(tag[0])\n",
    "    content = \" \".join(filtered_list)\n",
    "    return content"
   ]
  },
  {
   "cell_type": "code",
   "execution_count": null,
   "id": "693dcf8c-701e-47fe-9065-b06b82c1b4b5",
   "metadata": {
    "tags": []
   },
   "outputs": [],
   "source": [
    "# 230207 기현\n",
    "def tag_include_list(include_list, token_content):\n",
    "    filtered_list=[]\n",
    "    for tag in token_content :\n",
    "        if tag[1] in include_list:\n",
    "            filtered_list.append(tag[0])\n",
    "\n",
    "    content = \" \".join(filtered_list)\n",
    "    return content"
   ]
  },
  {
   "cell_type": "markdown",
   "id": "16413a4f-8020-471e-b657-52dd57acfd2d",
   "metadata": {
    "tags": []
   },
   "source": [
    "## 크롤링된 기사 제목으로 유사 기사 추천"
   ]
  },
  {
   "cell_type": "code",
   "execution_count": null,
   "id": "ea2d0142-bf13-48a5-a2d8-278218f41e25",
   "metadata": {},
   "outputs": [],
   "source": [
    "def get_recommend_by_title(title, n, drange=False):\n",
    "    # 타이틀로 저장된 토큰 호출, 축적된 기사들과 유사도 연산\n",
    "    token = data_all.loc[data_all['title'] == title]['okt'].values[0]\n",
    "    tfidf_content = tfidf_vec.transform([token])\n",
    "    \n",
    "    # 기간 설정\n",
    "    if drange:\n",
    "        data_filtered_idx = data_all[data_all['date'].isin(pd.date_range(drange[0], drange[1]))].index\n",
    "        tfidf_dtm_filtered = tfidf_dtm[data_filtered_idx]\n",
    "        cos_sim_res = cosine_similarity(tfidf_content, tfidf_dtm_filtered)\n",
    "    else:\n",
    "        cos_sim_res = cosine_similarity(tfidf_content, tfidf_dtm)\n",
    "    \n",
    "    # 유사도 정렬, 추출\n",
    "    sim_scores = list(enumerate(cos_sim_res[0]))\n",
    "    sim_scores = sorted(sim_scores, key=lambda x: x[1], reverse=True)\n",
    "    sim_scores_n = sim_scores[1:n+1]\n",
    "    # sim_scores_n = [sim for sim in sim_scores_n if sim[1] >= 0.6] # 유사도 60% 이상 필터=>옵션화 가능?###############\n",
    "    \n",
    "    # 해당하는 기사 가져오기\n",
    "    article_idx = [article_dict[0] for article_dict in sim_scores_n]\n",
    "    rst = data_all.iloc[article_idx][['press', 'title', 'date', 'link']]\n",
    "    rst['similarity'] = [round(sim[1], 4)*100 for sim in sim_scores_n]\n",
    "        \n",
    "    return rst[['press', 'similarity', 'title', 'date', 'link']]"
   ]
  },
  {
   "cell_type": "code",
   "execution_count": null,
   "id": "6646513e-0585-4b5a-b291-07f598e50424",
   "metadata": {},
   "outputs": [],
   "source": [
    "title = \"19년 동안 2억2000만원 내 놓은 기부천사 황영희씨\"\n",
    "data_all.loc[data_all['title'] == title]['link']"
   ]
  },
  {
   "cell_type": "code",
   "execution_count": null,
   "id": "f3c551e3-cfb6-4eda-bec8-f6a5a2e7e35f",
   "metadata": {
    "tags": []
   },
   "outputs": [],
   "source": [
    "%%time\n",
    "get_recommend_by_title(\"19년 동안 2억2000만원 내 놓은 기부천사 황영희씨\", 10)"
   ]
  },
  {
   "cell_type": "code",
   "execution_count": null,
   "id": "8f154b24-4aa3-4cd1-9edd-0a9e881bb03a",
   "metadata": {
    "tags": []
   },
   "outputs": [],
   "source": [
    "%%time\n",
    "get_recommend_by_title('19년 동안 2억2000만원 내 놓은 기부천사 황영희씨', 10, drange=['2022-01-01', '2022-12-31'])"
   ]
  },
  {
   "cell_type": "markdown",
   "id": "3e11fea2-45bb-4d38-9c9b-3afafd7b986b",
   "metadata": {},
   "source": [
    "* TODO\n",
    "    1. ~다음 뉴스 주소로 검색~\n",
    "    2. ~기사 본문 넣어서 검색~\n",
    "    3. DB연동\n",
    "    4. flask 서버 연동"
   ]
  },
  {
   "cell_type": "code",
   "execution_count": null,
   "id": "12883383-a976-4a9f-bb6f-a51772721066",
   "metadata": {
    "jp-MarkdownHeadingCollapsed": true,
    "tags": []
   },
   "outputs": [],
   "source": [
    "# 쿼리가 다음 뉴스 주소일 경우\n",
    "if query.startswith('https://news.daum.net/breakingnews/'):\n",
    "    pass\n",
    "elif query:\n",
    "    pass\n",
    "else:\n",
    "    pass"
   ]
  },
  {
   "cell_type": "markdown",
   "id": "9e240c4f-581c-4468-ba48-cecc8bb530bf",
   "metadata": {
    "tags": []
   },
   "source": [
    "## 다음 url로 유사 기사 추천"
   ]
  },
  {
   "cell_type": "code",
   "execution_count": null,
   "id": "a3bf428d-12e3-456e-a4d8-762274a1c28b",
   "metadata": {},
   "outputs": [],
   "source": [
    "from bs4 import BeautifulSoup\n",
    "import requests\n",
    "import pandas as pd"
   ]
  },
  {
   "cell_type": "code",
   "execution_count": null,
   "id": "5cd4b288-0bb9-4a10-b2fe-ca17ec956ae4",
   "metadata": {},
   "outputs": [],
   "source": [
    "stop_content = [\"무단전재\", \"재배포금지\",\"저작권자 ⓒ 서울신문사\",\"무단복제 및 전재\",\"무단 전재 및 재배포\",\"제보는 카톡\", \"☞\", \"무단 전재-재배포\", \"▶연합뉴스 앱 지금 바로 다운받기~\"]\n",
    "rep_list = ['기사내용 요약']"
   ]
  },
  {
   "cell_type": "code",
   "execution_count": null,
   "id": "7ec42f95-b156-41fc-a0aa-e3cc281d4f3c",
   "metadata": {},
   "outputs": [],
   "source": [
    "def create_soup(url):\n",
    "    i = 0\n",
    "    ## 요청 오류시 10번  재시도\n",
    "    while i < 10 :\n",
    "        try:\n",
    "            res = requests.get(url)\n",
    "            res.raise_for_status()\n",
    "            soup = BeautifulSoup(res.content, 'html.parser', from_encoding='cp949')\n",
    "            break\n",
    "        except:\n",
    "            i += 1\n",
    "            \n",
    "    return soup"
   ]
  },
  {
   "cell_type": "code",
   "execution_count": null,
   "id": "ec8bea57-52ab-4f16-ae32-cd2da488516e",
   "metadata": {},
   "outputs": [],
   "source": [
    "def content_only_scraper(link):\n",
    "    article_soup = create_soup(link)\n",
    "\n",
    "    # 본문 정리\n",
    "    article = article_soup.find_all('section')[1]\n",
    "    content = article.find_all(True, attrs={'dmcf-ptype':'general'})\n",
    "    rst = []\n",
    "    for para in content:\n",
    "        for tmp in para.text.split('\\n'):\n",
    "            if tmp.strip() != '':\n",
    "                rst.append(tmp.strip())\n",
    "    content = []\n",
    "    for c in rst:\n",
    "        for i in stop_content:\n",
    "            if i in c:\n",
    "                break\n",
    "        else:\n",
    "            for rep in rep_list:\n",
    "                c = c.replace(rep, '')\n",
    "            content.append(c)\n",
    "    content = ' '.join(content)\n",
    "    if len(content) < 200:\n",
    "        return False\n",
    "    \n",
    "    return content"
   ]
  },
  {
   "cell_type": "code",
   "execution_count": null,
   "id": "d9b55f9e-a86a-4ce1-9161-632b5dacfc11",
   "metadata": {},
   "outputs": [],
   "source": [
    "def get_recommend_by_url(url, n, drange=False):\n",
    "    # 다음 뉴스인지 확인\n",
    "    if not url.startswith('https://v.daum.net/v/'):\n",
    "        return False\n",
    "    # 본문 스크랩\n",
    "    content = content_only_scraper(url)\n",
    "\n",
    "    # 형태소 전처리\n",
    "    token = tag_except_list(except_list, string_tokenizer(content))\n",
    "    \n",
    "    tfidf_content = tfidf_vec.transform([token])\n",
    "    \n",
    "    # 기간 설정\n",
    "    if drange:\n",
    "        data_filtered_idx = data_all[data_all['date'].isin(pd.date_range(drange[0], drange[1]))].index\n",
    "        tfidf_dtm_filtered = tfidf_dtm[data_filtered_idx]\n",
    "        cos_sim_res = cosine_similarity(tfidf_content, tfidf_dtm_filtered)\n",
    "    else:\n",
    "        cos_sim_res = cosine_similarity(tfidf_content, tfidf_dtm)\n",
    "    \n",
    "    \n",
    "    # 유사도 정렬, 추출\n",
    "    sim_scores = list(enumerate(cos_sim_res[0]))\n",
    "    sim_scores = sorted(sim_scores, key=lambda x: x[1], reverse=True)\n",
    "    sim_scores_n = sim_scores[1:n+1]\n",
    "    # sim_scores_n = [sim for sim in sim_scores_n if sim[1] >= 0.6] # 유사도 60% 이상 필터=>옵션화 가능?###############\n",
    "    \n",
    "    # 해당하는 기사 가져오기\n",
    "    article_idx = [article_dict[0] for article_dict in sim_scores_n]\n",
    "    rst = data_all.iloc[article_idx][['press', 'title', 'date', 'link']]\n",
    "    rst['similarity'] = [round(sim[1], 4)*100 for sim in sim_scores_n]\n",
    "    \n",
    "    return rst[['press', 'similarity', 'title', 'date', 'link']]"
   ]
  },
  {
   "cell_type": "code",
   "execution_count": null,
   "id": "dee55169-23ab-40ec-b2d4-8ca3c4f130e0",
   "metadata": {
    "tags": []
   },
   "outputs": [],
   "source": [
    "url = \"\"\"https://v.daum.net/v/20230206162031399\"\"\"\n",
    "get_recommend_by_url(url, 10)"
   ]
  },
  {
   "cell_type": "markdown",
   "id": "b4bda31e-862b-4147-8e95-13b128c80347",
   "metadata": {
    "tags": []
   },
   "source": [
    "## 직접 입력한 본문(문자열)로 유사 기사 추천"
   ]
  },
  {
   "cell_type": "code",
   "execution_count": null,
   "id": "a109c27c-fc96-4071-970b-b101d0f855ef",
   "metadata": {},
   "outputs": [],
   "source": [
    "def get_recommend_by_content(content, n, drange=False):\n",
    "    # 형태소 전처리\n",
    "    token = tag_except_list(except_list, string_tokenizer(content))\n",
    "    \n",
    "    tfidf_content = tfidf_vec.transform([token])\n",
    "    \n",
    "    # 기간 설정\n",
    "    if drange:\n",
    "        data_filtered_idx = data_all[data_all['date'].isin(pd.date_range(drange[0], drange[1]))].index\n",
    "        tfidf_dtm_filtered = tfidf_dtm[data_filtered_idx]\n",
    "        cos_sim_res = cosine_similarity(tfidf_content, tfidf_dtm_filtered)\n",
    "    else:\n",
    "        cos_sim_res = cosine_similarity(tfidf_content, tfidf_dtm)\n",
    "    \n",
    "    \n",
    "    # 유사도 정렬, 추출\n",
    "    sim_scores = list(enumerate(cos_sim_res[0]))\n",
    "    sim_scores = sorted(sim_scores, key=lambda x: x[1], reverse=True)\n",
    "    sim_scores_n = sim_scores[1:n+1]\n",
    "    # sim_scores_n = [sim for sim in sim_scores_n if sim[1] >= 0.6] # 유사도 60% 이상 필터=>옵션화 가능?###############\n",
    "    \n",
    "    # 해당하는 기사 가져오기\n",
    "    article_idx = [article_dict[0] for article_dict in sim_scores_n]\n",
    "    rst = data_all.iloc[article_idx][['press', 'title', 'date', 'link']]\n",
    "    rst['similarity'] = [round(sim[1], 4)*100 for sim in sim_scores_n]\n",
    "        \n",
    "    return rst[['press', 'similarity', 'title', 'date', 'link']]"
   ]
  },
  {
   "cell_type": "code",
   "execution_count": null,
   "id": "4b459fda-1fe3-482d-91db-0c04d0427ccd",
   "metadata": {
    "tags": []
   },
   "outputs": [],
   "source": [
    "%%time\n",
    "arc_content = \"\"\"19년 간 2억원이 넘는 기부를 실천한 사람이 있다.\n",
    "\n",
    "지난 2004년부터 매년 꾸준히 어려운 이웃을 위한 나눔을 실천, 19년간 2억 2000만원을 기부한 시민이 있어 지역사회의 귀감이 되고 있다.\n",
    "\n",
    "코로나19가 길어져 취약 계층의 복지 수요가 늘었다고 판단한 황 대표는 올해 1월부터는 기부액을 매달 200만원으로 늘렸다.\n",
    "\n",
    "이렇게 이어온 황 대표의 누적 기부 금액은 2억 2000만원에 달한다.\"\"\"\n",
    "get_recommend_by_content(arc_content, 10)"
   ]
  },
  {
   "cell_type": "code",
   "execution_count": null,
   "id": "d11ec9c0-169b-43bd-bc79-c9d3abc6737a",
   "metadata": {
    "tags": []
   },
   "outputs": [],
   "source": [
    "%%time\n",
    "arc_content = \"\"\"빅토르 안 국내 복귀 시도\"\"\"\n",
    "get_recommend_by_content(arc_content, 10)"
   ]
  },
  {
   "cell_type": "code",
   "execution_count": null,
   "id": "f3d8ff94-04d6-4cc3-8897-5f2126c8277e",
   "metadata": {},
   "outputs": [],
   "source": []
  }
 ],
 "metadata": {
  "kernelspec": {
   "display_name": "Python 3 (ipykernel)",
   "language": "python",
   "name": "python3"
  },
  "language_info": {
   "codemirror_mode": {
    "name": "ipython",
    "version": 3
   },
   "file_extension": ".py",
   "mimetype": "text/x-python",
   "name": "python",
   "nbconvert_exporter": "python",
   "pygments_lexer": "ipython3",
   "version": "3.8.15"
  }
 },
 "nbformat": 4,
 "nbformat_minor": 5
}
