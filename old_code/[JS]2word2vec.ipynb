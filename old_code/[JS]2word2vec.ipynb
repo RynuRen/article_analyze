{
 "cells": [
  {
   "cell_type": "code",
   "execution_count": 2,
   "id": "9b68f834-0bb2-4dae-8184-dd2685824009",
   "metadata": {},
   "outputs": [],
   "source": [
    "from tqdm import tqdm\n",
    "import pandas as pd\n",
    "from glob import glob"
   ]
  },
  {
   "cell_type": "code",
   "execution_count": 3,
   "id": "94085de2-3d06-4bc7-ac86-c30e1ad8111d",
   "metadata": {
    "tags": []
   },
   "outputs": [
    {
     "name": "stderr",
     "output_type": "stream",
     "text": [
      "100%|████████████████████████████████████████████████████████████████████████████████| 730/730 [03:06<00:00,  3.91it/s]\n"
     ]
    }
   ],
   "source": [
    "files = sorted(glob('./data/*.csv'))\n",
    "data_fit = pd.DataFrame()\n",
    "for file in tqdm(files):\n",
    "    df_day = pd.read_csv(file)\n",
    "    data_fit = pd.concat([data_fit, df_day['okt']])\n",
    "data_fit.reset_index(drop=True, inplace=True)"
   ]
  },
  {
   "cell_type": "code",
   "execution_count": 4,
   "id": "4dd47333-88fd-49a6-9ce1-cc971b848420",
   "metadata": {
    "tags": []
   },
   "outputs": [
    {
     "data": {
      "text/html": [
       "<div>\n",
       "<style scoped>\n",
       "    .dataframe tbody tr th:only-of-type {\n",
       "        vertical-align: middle;\n",
       "    }\n",
       "\n",
       "    .dataframe tbody tr th {\n",
       "        vertical-align: top;\n",
       "    }\n",
       "\n",
       "    .dataframe thead th {\n",
       "        text-align: right;\n",
       "    }\n",
       "</style>\n",
       "<table border=\"1\" class=\"dataframe\">\n",
       "  <thead>\n",
       "    <tr style=\"text-align: right;\">\n",
       "      <th></th>\n",
       "      <th>0</th>\n",
       "    </tr>\n",
       "  </thead>\n",
       "  <tbody>\n",
       "    <tr>\n",
       "      <th>0</th>\n",
       "      <td>한국 배구 연맹 23일 주말 열리다 프로배구 4 경기 연기 다 고 1일 밝히다 중계...</td>\n",
       "    </tr>\n",
       "    <tr>\n",
       "      <th>1</th>\n",
       "      <td>아동 성범죄자 조두순 69 사진 지난달 추다 뒤 보름 외부 활동 나서다 것 전해지다...</td>\n",
       "    </tr>\n",
       "    <tr>\n",
       "      <th>2</th>\n",
       "      <td>서울 신문 추미애 구치소 집단 감염 첫 사과 집단 감염 송구 취약 부분 드러나다 빠...</td>\n",
       "    </tr>\n",
       "    <tr>\n",
       "      <th>3</th>\n",
       "      <td>정부 수도권 사회 거리 두기 조 정안 2일 발표 하다 하다 상황 지금 단계 몇 주 ...</td>\n",
       "    </tr>\n",
       "    <tr>\n",
       "      <th>4</th>\n",
       "      <td>강릉 뉴스 1 이종재 기자 새해 첫날 1일 강원 강릉 지역 찾다 해 맞이 객 지난해...</td>\n",
       "    </tr>\n",
       "    <tr>\n",
       "      <th>...</th>\n",
       "      <td>...</td>\n",
       "    </tr>\n",
       "    <tr>\n",
       "      <th>1411408</th>\n",
       "      <td>한국 남동 발전 본사 있다 지역 야학 시설 경남 진주 향토 시민 학교 후 원금 전달...</td>\n",
       "    </tr>\n",
       "    <tr>\n",
       "      <th>1411409</th>\n",
       "      <td>제주 영어 교육 도시 내 제주 한국 국제 학교 지난해 이다 올해 세계 최고 명문 하...</td>\n",
       "    </tr>\n",
       "    <tr>\n",
       "      <th>1411410</th>\n",
       "      <td>46 명의 사 상자 발생 경기 과천시 갈현 고가교 방음 터널 화재 방음 터널 안전성...</td>\n",
       "    </tr>\n",
       "    <tr>\n",
       "      <th>1411411</th>\n",
       "      <td>지난 하다 주 동안 있다 핫 뉴스 3 를 소개 하다 코너 핫 뉴스 모으다 인턴 기자...</td>\n",
       "    </tr>\n",
       "    <tr>\n",
       "      <th>1411412</th>\n",
       "      <td>술 책 함께 마시다 하다 생각 하다 책 고르다 읽다 술 술 꽂다 꽂다 두다 고르다 ...</td>\n",
       "    </tr>\n",
       "  </tbody>\n",
       "</table>\n",
       "<p>1411413 rows × 1 columns</p>\n",
       "</div>"
      ],
      "text/plain": [
       "                                                         0\n",
       "0        한국 배구 연맹 23일 주말 열리다 프로배구 4 경기 연기 다 고 1일 밝히다 중계...\n",
       "1        아동 성범죄자 조두순 69 사진 지난달 추다 뒤 보름 외부 활동 나서다 것 전해지다...\n",
       "2        서울 신문 추미애 구치소 집단 감염 첫 사과 집단 감염 송구 취약 부분 드러나다 빠...\n",
       "3        정부 수도권 사회 거리 두기 조 정안 2일 발표 하다 하다 상황 지금 단계 몇 주 ...\n",
       "4        강릉 뉴스 1 이종재 기자 새해 첫날 1일 강원 강릉 지역 찾다 해 맞이 객 지난해...\n",
       "...                                                    ...\n",
       "1411408  한국 남동 발전 본사 있다 지역 야학 시설 경남 진주 향토 시민 학교 후 원금 전달...\n",
       "1411409  제주 영어 교육 도시 내 제주 한국 국제 학교 지난해 이다 올해 세계 최고 명문 하...\n",
       "1411410  46 명의 사 상자 발생 경기 과천시 갈현 고가교 방음 터널 화재 방음 터널 안전성...\n",
       "1411411  지난 하다 주 동안 있다 핫 뉴스 3 를 소개 하다 코너 핫 뉴스 모으다 인턴 기자...\n",
       "1411412  술 책 함께 마시다 하다 생각 하다 책 고르다 읽다 술 술 꽂다 꽂다 두다 고르다 ...\n",
       "\n",
       "[1411413 rows x 1 columns]"
      ]
     },
     "execution_count": 4,
     "metadata": {},
     "output_type": "execute_result"
    }
   ],
   "source": [
    "data_fit"
   ]
  },
  {
   "cell_type": "code",
   "execution_count": 1,
   "id": "cd7903c6-7174-4cb6-a6d6-dd26275b3e19",
   "metadata": {},
   "outputs": [],
   "source": [
    "from gensim.models import Word2Vec"
   ]
  },
  {
   "cell_type": "code",
   "execution_count": null,
   "id": "20ec6275-245b-4aa5-8914-76180ceccd7b",
   "metadata": {},
   "outputs": [],
   "source": [
    "model = Word2Vec(data_fit[0], size=300, window=3, min_count=5, workers=1)"
   ]
  },
  {
   "cell_type": "code",
   "execution_count": null,
   "id": "5808652d-2520-45ba-9bb2-5fb1a14452c1",
   "metadata": {},
   "outputs": [],
   "source": [
    "word_vector = model.wv\n",
    "\n",
    "vocabs = word_vectors.vocab.keys()\n",
    "word_vectors_list = [word_vectors[v] for v in vocabs]"
   ]
  }
 ],
 "metadata": {
  "kernelspec": {
   "display_name": "Python 3 (ipykernel)",
   "language": "python",
   "name": "python3"
  },
  "language_info": {
   "codemirror_mode": {
    "name": "ipython",
    "version": 3
   },
   "file_extension": ".py",
   "mimetype": "text/x-python",
   "name": "python",
   "nbconvert_exporter": "python",
   "pygments_lexer": "ipython3",
   "version": "3.8.15"
  }
 },
 "nbformat": 4,
 "nbformat_minor": 5
}
