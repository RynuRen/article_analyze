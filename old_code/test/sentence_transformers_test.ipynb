{
 "cells": [
  {
   "cell_type": "code",
   "execution_count": 2,
   "id": "2aab6261-b3e8-4f60-9171-744fb486b608",
   "metadata": {},
   "outputs": [],
   "source": [
    "from tqdm import tqdm\n",
    "import pandas as pd\n",
    "from glob import glob"
   ]
  },
  {
   "cell_type": "code",
   "execution_count": 3,
   "id": "af8877d0-da62-4f8d-9402-f735b13c7614",
   "metadata": {
    "tags": []
   },
   "outputs": [
    {
     "name": "stderr",
     "output_type": "stream",
     "text": [
      "100%|████████████████████████████████████████████████████████████████████████████████████| 1/1 [00:00<00:00,  6.60it/s]\n"
     ]
    }
   ],
   "source": [
    "files = sorted(glob('./data/*.csv'))\n",
    "data_fit = pd.DataFrame()\n",
    "for file in tqdm(files[:1]):\n",
    "    df_day = pd.read_csv(file, usecols=[\"okt\"])\n",
    "    data_fit = pd.concat([data_fit, df_day])\n",
    "data_fit.reset_index(drop=True, inplace=True)"
   ]
  },
  {
   "cell_type": "code",
   "execution_count": 4,
   "id": "70ae023d-e9b4-4b0d-9400-72c08a5e9a37",
   "metadata": {
    "collapsed": true,
    "jupyter": {
     "outputs_hidden": true
    },
    "tags": []
   },
   "outputs": [
    {
     "data": {
      "text/html": [
       "<div>\n",
       "<style scoped>\n",
       "    .dataframe tbody tr th:only-of-type {\n",
       "        vertical-align: middle;\n",
       "    }\n",
       "\n",
       "    .dataframe tbody tr th {\n",
       "        vertical-align: top;\n",
       "    }\n",
       "\n",
       "    .dataframe thead th {\n",
       "        text-align: right;\n",
       "    }\n",
       "</style>\n",
       "<table border=\"1\" class=\"dataframe\">\n",
       "  <thead>\n",
       "    <tr style=\"text-align: right;\">\n",
       "      <th></th>\n",
       "      <th>okt</th>\n",
       "    </tr>\n",
       "  </thead>\n",
       "  <tbody>\n",
       "    <tr>\n",
       "      <th>0</th>\n",
       "      <td>한국 배구 연맹 23일 주말 열리다 프로배구 4 경기 연기 다 고 1일 밝히다 중계...</td>\n",
       "    </tr>\n",
       "    <tr>\n",
       "      <th>1</th>\n",
       "      <td>아동 성범죄자 조두순 69 사진 지난달 추다 뒤 보름 외부 활동 나서다 것 전해지다...</td>\n",
       "    </tr>\n",
       "    <tr>\n",
       "      <th>2</th>\n",
       "      <td>서울 신문 추미애 구치소 집단 감염 첫 사과 집단 감염 송구 취약 부분 드러나다 빠...</td>\n",
       "    </tr>\n",
       "    <tr>\n",
       "      <th>3</th>\n",
       "      <td>정부 수도권 사회 거리 두기 조 정안 2일 발표 하다 하다 상황 지금 단계 몇 주 ...</td>\n",
       "    </tr>\n",
       "    <tr>\n",
       "      <th>4</th>\n",
       "      <td>강릉 뉴스 1 이종재 기자 새해 첫날 1일 강원 강릉 지역 찾다 해 맞이 객 지난해...</td>\n",
       "    </tr>\n",
       "    <tr>\n",
       "      <th>...</th>\n",
       "      <td>...</td>\n",
       "    </tr>\n",
       "    <tr>\n",
       "      <th>1207</th>\n",
       "      <td>정읍 뉴시스 김얼 기자 2021년 신축년 희다 소 띠 해 상서 기운 물씬 일어나다 ...</td>\n",
       "    </tr>\n",
       "    <tr>\n",
       "      <th>1208</th>\n",
       "      <td>정읍 뉴시스 김얼 기자 2021년 신축년 희다 소 띠 해 상서 기운 물씬 일어나다 ...</td>\n",
       "    </tr>\n",
       "    <tr>\n",
       "      <th>1209</th>\n",
       "      <td>서울 뉴시스 홍세 희다 기자 최대 집 대한의사협회 1일 새해 94 의정 합의 정신 ...</td>\n",
       "    </tr>\n",
       "    <tr>\n",
       "      <th>1210</th>\n",
       "      <td>서울 뉴시스 구무 기자 김용익 건강 보험 공단 이사장 오다 한해 건강 보험 보장 률...</td>\n",
       "    </tr>\n",
       "    <tr>\n",
       "      <th>1211</th>\n",
       "      <td>어젠다 독자 실험 한국 일보 창간 67 주년 맞다 2021년 거 핵심 가치 이다 사...</td>\n",
       "    </tr>\n",
       "  </tbody>\n",
       "</table>\n",
       "<p>1212 rows × 1 columns</p>\n",
       "</div>"
      ],
      "text/plain": [
       "                                                    okt\n",
       "0     한국 배구 연맹 23일 주말 열리다 프로배구 4 경기 연기 다 고 1일 밝히다 중계...\n",
       "1     아동 성범죄자 조두순 69 사진 지난달 추다 뒤 보름 외부 활동 나서다 것 전해지다...\n",
       "2     서울 신문 추미애 구치소 집단 감염 첫 사과 집단 감염 송구 취약 부분 드러나다 빠...\n",
       "3     정부 수도권 사회 거리 두기 조 정안 2일 발표 하다 하다 상황 지금 단계 몇 주 ...\n",
       "4     강릉 뉴스 1 이종재 기자 새해 첫날 1일 강원 강릉 지역 찾다 해 맞이 객 지난해...\n",
       "...                                                 ...\n",
       "1207  정읍 뉴시스 김얼 기자 2021년 신축년 희다 소 띠 해 상서 기운 물씬 일어나다 ...\n",
       "1208  정읍 뉴시스 김얼 기자 2021년 신축년 희다 소 띠 해 상서 기운 물씬 일어나다 ...\n",
       "1209  서울 뉴시스 홍세 희다 기자 최대 집 대한의사협회 1일 새해 94 의정 합의 정신 ...\n",
       "1210  서울 뉴시스 구무 기자 김용익 건강 보험 공단 이사장 오다 한해 건강 보험 보장 률...\n",
       "1211  어젠다 독자 실험 한국 일보 창간 67 주년 맞다 2021년 거 핵심 가치 이다 사...\n",
       "\n",
       "[1212 rows x 1 columns]"
      ]
     },
     "execution_count": 4,
     "metadata": {},
     "output_type": "execute_result"
    }
   ],
   "source": [
    "data_fit"
   ]
  },
  {
   "cell_type": "code",
   "execution_count": 6,
   "id": "1f38b473-ac69-4125-87f1-e89ec69579a7",
   "metadata": {},
   "outputs": [],
   "source": [
    "from sentence_transformers import SentenceTransformer"
   ]
  },
  {
   "cell_type": "code",
   "execution_count": 7,
   "id": "def20119-1692-4a4a-bc76-5f9194fa1013",
   "metadata": {},
   "outputs": [],
   "source": [
    "model = SentenceTransformer('ddobokki/klue-roberta-small-nli-sts')"
   ]
  },
  {
   "cell_type": "code",
   "execution_count": 40,
   "id": "575cfcd3-9160-4a92-9bc2-0dea9dfd6463",
   "metadata": {},
   "outputs": [
    {
     "data": {
      "application/vnd.jupyter.widget-view+json": {
       "model_id": "9ca5159c23f54ed99f5fc17e0db689a2",
       "version_major": 2,
       "version_minor": 0
      },
      "text/plain": [
       "Batches:   0%|          | 0/4 [00:00<?, ?it/s]"
      ]
     },
     "metadata": {},
     "output_type": "display_data"
    },
    {
     "name": "stdout",
     "output_type": "stream",
     "text": [
      "CPU times: total: 1min 54s\n",
      "Wall time: 28.6 s\n"
     ]
    }
   ],
   "source": [
    "%%time\n",
    "embeddings = model.encode(data_fit.iloc[:100,0], show_progress_bar=True)"
   ]
  },
  {
   "cell_type": "code",
   "execution_count": 41,
   "id": "1f765f9c-bfc3-44cd-a55b-74b8263c3216",
   "metadata": {},
   "outputs": [],
   "source": [
    "arc_content = \"\"\"2011년 한국을 떠나 러시아로 귀화한 전 쇼트트랙 선수 빅토르 안(38·한국명 안현수)의 국내 복귀 시도가 일단 무산됐다. 경기도 성남시청 직장운동부 빙상팀 코치에 지원했으나, 최종 후보에 들지 못해서다.\n",
    "\n",
    "성남시는 29일 “시청 빙상팀 코치직 채용 전형에 빅토르 안을 포함해 7명이 지원했는데, 빅토르 안은 상위 2배수 후보에 들지 않았다”고 밝혔다. 시 관계자는 “서류와 면접 심사를 통해 기술, 소통 능력 등 여러 요소를 종합해 판단했다”며 “빙상계 여론과 언론 보도 등을 통해 나오는 시각도 평가에 반영됐다”고 했다.\n",
    "\n",
    "성남시는 지난해 12월 19일 빙상팀 코치를 뽑기 위한 채용 공고를 냈다. 빅토르 안과 베이징 동계올림픽에서 중국 대표팀을 이끈 김선태 전 감독 등 7명이 지원했다. 김 전 감독도 최종 후보에 들지 못한 것으로 전해졌다.\n",
    "\n",
    "빅토르 안은 2006년 토리노 동계올림픽에서 3개의 금메달을 딴 한국 쇼트트랙의 간판이었다. 2011년 소속팀이었던 성남시청이 빙상팀을 해체하자 선수 생활을 이어가기 위해 러시아로 귀화했다. 2014년 소치 동계올림픽에는 러시아 선수로 나서 3관왕에 올랐다. 2018년 평창 동계올림픽 출전이 무산된 이후에는 은퇴를 선언하고 지도자로 변신했다. 2022년 베이징 동계올림픽에서는 중국 대표팀 코치로 활동했다.\n",
    "\n",
    "성남시는 31일 빙상팀 코치 선발 결과를 발표할 예정이다.\"\"\""
   ]
  },
  {
   "cell_type": "code",
   "execution_count": 42,
   "id": "78e5f86a-4b4b-4ac0-893f-7383385e6efd",
   "metadata": {},
   "outputs": [
    {
     "name": "stdout",
     "output_type": "stream",
     "text": [
      "CPU times: total: 1.06 s\n",
      "Wall time: 272 ms\n"
     ]
    }
   ],
   "source": [
    "%%time\n",
    "embeded_content = model.encode([arc_content])"
   ]
  },
  {
   "cell_type": "code",
   "execution_count": 52,
   "id": "ab974f16-8d19-401d-b1c8-f8e1feb2fe0a",
   "metadata": {
    "tags": []
   },
   "outputs": [
    {
     "data": {
      "text/plain": [
       "array([ 0.05949196,  0.5816361 ,  0.16172582, -0.09110567, -0.30458847,\n",
       "        0.20078555, -0.10215177,  0.22305581, -0.29024214, -0.23665504],\n",
       "      dtype=float32)"
      ]
     },
     "execution_count": 52,
     "metadata": {},
     "output_type": "execute_result"
    }
   ],
   "source": [
    "embeded_content[0][:10]"
   ]
  },
  {
   "cell_type": "code",
   "execution_count": 26,
   "id": "9153f1aa-5b71-44e6-872e-e082a603ff2f",
   "metadata": {},
   "outputs": [],
   "source": [
    "from sentence_transformers import util\n",
    "import torch"
   ]
  },
  {
   "cell_type": "code",
   "execution_count": 63,
   "id": "bb02d035-476b-4361-a9b9-bd54b005c973",
   "metadata": {},
   "outputs": [
    {
     "name": "stdout",
     "output_type": "stream",
     "text": [
      "CPU times: total: 0 ns\n",
      "Wall time: 1.28 ms\n"
     ]
    }
   ],
   "source": [
    "%%time\n",
    "cos_scores = util.pytorch_cos_sim(embeded_content, embeddings)[0]"
   ]
  },
  {
   "cell_type": "code",
   "execution_count": 88,
   "id": "ecd05e56-36ed-49de-97b1-2f329369607f",
   "metadata": {
    "collapsed": true,
    "jupyter": {
     "outputs_hidden": true
    },
    "tags": []
   },
   "outputs": [
    {
     "name": "stdout",
     "output_type": "stream",
     "text": [
      "1: okt    원주 뉴시스 장경일 기자 강원 원주시 평창군 1일 오후 2 명의 신종 코로나바이러스...\n",
      "Name: 18, dtype: object (유사도: 0.3015)\n",
      "\n",
      "2: okt    서울 뉴스 1 이형진 기자 이영 기자 방역 당국 2일 사회 거리 두기 단계 조 정안...\n",
      "Name: 83, dtype: object (유사도: 0.2980)\n",
      "\n",
      "3: okt    서울 뉴시스 심 동준 류 인선 기자 서울 영등포구 트윈타워 청소 노동 하다 용역 업...\n",
      "Name: 81, dtype: object (유사도: 0.2834)\n",
      "\n",
      "4: okt    원주 뉴시스 장경일 기자 강원도 새해 첫날 1일 하루 동안 25 명의 신종 코로나바...\n",
      "Name: 88, dtype: object (유사도: 0.2799)\n",
      "\n",
      "5: okt    강원 뉴스 1 이종재 기자 1일 강원 지역 코로나 19 신규 확 진자 26 명 발생...\n",
      "Name: 98, dtype: object (유사도: 0.2761)\n",
      "\n"
     ]
    }
   ],
   "source": [
    "top_k = 5\n",
    "top_res = torch.topk(cos_scores, k=top_k)\n",
    "for i, (score, idx) in enumerate(zip(top_res[0], top_res[1])):\n",
    "    print(f\"{i+1}: {data_fit.iloc[idx.tolist()]} {'(유사도: {:.4f})'.format(score)}\\n\")"
   ]
  },
  {
   "cell_type": "code",
   "execution_count": null,
   "id": "7799bc82-842a-454d-9648-dcda84afa8a5",
   "metadata": {},
   "outputs": [],
   "source": []
  },
  {
   "cell_type": "code",
   "execution_count": null,
   "id": "a09f62da-e971-4137-afb5-18f79e45577e",
   "metadata": {},
   "outputs": [],
   "source": []
  },
  {
   "cell_type": "code",
   "execution_count": 89,
   "id": "f34eb3ea-19bf-405f-8b51-626e0ad3b435",
   "metadata": {},
   "outputs": [],
   "source": [
    "from sklearn.feature_extraction.text import TfidfVectorizer"
   ]
  },
  {
   "cell_type": "code",
   "execution_count": 90,
   "id": "9f1b7a12-2a9e-4ac9-9742-65b2c01c283c",
   "metadata": {},
   "outputs": [],
   "source": [
    "tfidf_vec = TfidfVectorizer()"
   ]
  },
  {
   "cell_type": "code",
   "execution_count": 92,
   "id": "d12a9f27-e801-424a-a249-cca5463cdc38",
   "metadata": {},
   "outputs": [
    {
     "name": "stdout",
     "output_type": "stream",
     "text": [
      "CPU times: total: 31.2 ms\n",
      "Wall time: 54 ms\n"
     ]
    }
   ],
   "source": [
    "%%time\n",
    "tfidf_dtm = tfidf_vec.fit_transform(data_fit.iloc[:100,0])"
   ]
  },
  {
   "cell_type": "code",
   "execution_count": 93,
   "id": "3ae1939c-9863-49b1-b5e1-52cbc38386f6",
   "metadata": {},
   "outputs": [
    {
     "name": "stdout",
     "output_type": "stream",
     "text": [
      "CPU times: total: 0 ns\n",
      "Wall time: 1.03 ms\n"
     ]
    }
   ],
   "source": [
    "%%time\n",
    "tfidf_content = tfidf_vec.transform([arc_content])"
   ]
  },
  {
   "cell_type": "code",
   "execution_count": 94,
   "id": "435cfe4b-2707-41c8-a51e-3634eb8fa37c",
   "metadata": {},
   "outputs": [],
   "source": [
    "from sklearn.metrics.pairwise import cosine_similarity"
   ]
  },
  {
   "cell_type": "code",
   "execution_count": 95,
   "id": "c1d93b7c-c977-46ea-ae45-b0278f619e22",
   "metadata": {},
   "outputs": [
    {
     "name": "stdout",
     "output_type": "stream",
     "text": [
      "CPU times: total: 0 ns\n",
      "Wall time: 4.09 ms\n"
     ]
    }
   ],
   "source": [
    "%%time\n",
    "cos_sim_res2 = cosine_similarity(tfidf_content, tfidf_dtm)"
   ]
  },
  {
   "cell_type": "code",
   "execution_count": null,
   "id": "91a4e6dc-60a5-4396-b2df-f8cabfe5a614",
   "metadata": {},
   "outputs": [],
   "source": []
  }
 ],
 "metadata": {
  "kernelspec": {
   "display_name": "Python 3 (ipykernel)",
   "language": "python",
   "name": "python3"
  },
  "language_info": {
   "codemirror_mode": {
    "name": "ipython",
    "version": 3
   },
   "file_extension": ".py",
   "mimetype": "text/x-python",
   "name": "python",
   "nbconvert_exporter": "python",
   "pygments_lexer": "ipython3",
   "version": "3.8.15"
  }
 },
 "nbformat": 4,
 "nbformat_minor": 5
}
