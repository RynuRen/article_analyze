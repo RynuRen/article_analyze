{
 "cells": [
  {
   "cell_type": "code",
   "execution_count": 1,
   "id": "9341c37f-be1e-40ed-857f-b476d111938b",
   "metadata": {},
   "outputs": [
    {
     "name": "stderr",
     "output_type": "stream",
     "text": [
      "100%|████████████████████████████████████████████████████████████████████████████████| 730/730 [02:04<00:00,  5.87it/s]\n"
     ]
    }
   ],
   "source": [
    "from recommand import *"
   ]
  },
  {
   "cell_type": "markdown",
   "id": "eed99d44-b98c-436a-a848-28a248046d8e",
   "metadata": {
    "tags": []
   },
   "source": [
    "# 전체 데이터 유사도 추천"
   ]
  },
  {
   "cell_type": "markdown",
   "id": "f78c16d2-4ed3-4de7-b7c3-6d872f03a8de",
   "metadata": {
    "tags": []
   },
   "source": [
    "## 다음 url로 유사 기사 추천"
   ]
  },
  {
   "cell_type": "code",
   "execution_count": 226,
   "id": "9bc095e0-50e6-4d14-9f65-742c40af1b5f",
   "metadata": {
    "tags": []
   },
   "outputs": [],
   "source": [
    "def get_recommend_by_url(url, n, drange, press):\n",
    "    import torch, time\n",
    "    # from sklearn.metrics.pairwise import cosine_similarity\n",
    "    # 다음 뉴스인지 확인\n",
    "    if not url.startswith('https://v.daum.net/v/'):\n",
    "        return False\n",
    "    \n",
    "    ## 입력 처리\n",
    "    # 본문 스크랩\n",
    "    content = content_only_scraper(url)\n",
    "    # 형태소 전처리\n",
    "    token = tag_except_list(except_list, string_tokenizer(content))\n",
    "    start = time.time()\n",
    "    # tfidf 연산\n",
    "    tfidf_content = tfidf_vec.transform([token])\n",
    "    print(f\"tfidf 계산 시간 : {time.time()-start}\")\n",
    "    ## 조회 한정\n",
    "    # 기간 & 언론사\n",
    "    start = time.time()\n",
    "    data_filtered_idx = data_all[(data_all['press']==press) & (data_all['date'].isin(pd.date_range(drange[0], drange[1])))].index\n",
    "    tfidf_dtm_filtered = tfidf_dtm[data_filtered_idx]\n",
    "    cos_sim_res = cos_similarity(tfidf_content, tfidf_dtm_filtered)\n",
    "    print(f\"코사인 계산 시간 : {time.time()-start}\")\n",
    "\n",
    "    # 유사도 정렬, 추출\n",
    "    sim_scores_n = torch.topk(torch.Tensor(cos_sim_res), k=n)\n",
    "    \n",
    "    # 해당하는 기사 가져오기\n",
    "    article_idx = data_filtered_idx[sim_scores_n[1][0]]\n",
    "    rst = data_all.iloc[article_idx][['press', 'title', 'date', 'link']]\n",
    "    rst['similarity'] = [round(sim.item(), 4)*100 for sim in sim_scores_n[0][0]]\n",
    "    \n",
    "    return rst[['press', 'similarity', 'title', 'date', 'link']]"
   ]
  },
  {
   "cell_type": "markdown",
   "id": "a1d1a293-03c7-4def-86b8-61515a6a4fca",
   "metadata": {},
   "source": [
    "# cos_sim 비교"
   ]
  },
  {
   "cell_type": "markdown",
   "id": "5d3a16c2-122a-4355-992d-3e2bfc10a920",
   "metadata": {
    "tags": []
   },
   "source": [
    "### sklearn의 cosine_similarity"
   ]
  },
  {
   "cell_type": "code",
   "execution_count": 227,
   "id": "c2f0ca07-e543-4b6f-9f86-a0ea4eb9b32f",
   "metadata": {},
   "outputs": [],
   "source": [
    "def cos_similarity(content, dtm_filtered):\n",
    "    from sklearn.metrics.pairwise import cosine_similarity\n",
    "    return cosine_similarity(content, dtm_filtered)"
   ]
  },
  {
   "cell_type": "code",
   "execution_count": 228,
   "id": "eadf382d-047e-41b0-a68d-7b997568bf8b",
   "metadata": {
    "tags": []
   },
   "outputs": [
    {
     "name": "stdout",
     "output_type": "stream",
     "text": [
      "tfidf 계산 시간 : 0.01927661895751953\n",
      "코사인 계산 시간 : 0.7079620361328125\n",
      "CPU times: total: 1.12 s\n",
      "Wall time: 1.2 s\n"
     ]
    },
    {
     "data": {
      "text/html": [
       "<div>\n",
       "<style scoped>\n",
       "    .dataframe tbody tr th:only-of-type {\n",
       "        vertical-align: middle;\n",
       "    }\n",
       "\n",
       "    .dataframe tbody tr th {\n",
       "        vertical-align: top;\n",
       "    }\n",
       "\n",
       "    .dataframe thead th {\n",
       "        text-align: right;\n",
       "    }\n",
       "</style>\n",
       "<table border=\"1\" class=\"dataframe\">\n",
       "  <thead>\n",
       "    <tr style=\"text-align: right;\">\n",
       "      <th></th>\n",
       "      <th>press</th>\n",
       "      <th>similarity</th>\n",
       "      <th>title</th>\n",
       "      <th>date</th>\n",
       "      <th>link</th>\n",
       "    </tr>\n",
       "  </thead>\n",
       "  <tbody>\n",
       "    <tr>\n",
       "      <th>1358639</th>\n",
       "      <td>뉴시스</td>\n",
       "      <td>48.96</td>\n",
       "      <td>'입시비리'·감찰무마' 조국 재판 오늘 결심…3년 만에 마무리 수순</td>\n",
       "      <td>2022-12-02</td>\n",
       "      <td>https://v.daum.net/v/20221202060032795</td>\n",
       "    </tr>\n",
       "    <tr>\n",
       "      <th>1357681</th>\n",
       "      <td>뉴시스</td>\n",
       "      <td>48.84</td>\n",
       "      <td>'자녀 입시비리' 조국 전 장관, 1심 결심공판 출석 [뉴시스Pic]</td>\n",
       "      <td>2022-12-02</td>\n",
       "      <td>https://v.daum.net/v/20221202141500738</td>\n",
       "    </tr>\n",
       "    <tr>\n",
       "      <th>1330596</th>\n",
       "      <td>뉴시스</td>\n",
       "      <td>48.03</td>\n",
       "      <td>檢 \"입시비리 중대범죄\", 정경심 측 \"부당 기소\"…징역 2년 구형</td>\n",
       "      <td>2022-11-18</td>\n",
       "      <td>https://v.daum.net/v/20221118115238952</td>\n",
       "    </tr>\n",
       "    <tr>\n",
       "      <th>1346082</th>\n",
       "      <td>뉴시스</td>\n",
       "      <td>47.49</td>\n",
       "      <td>조국 입시비리 등 의혹, 이번주 결심…이르면 올해 1심 결론</td>\n",
       "      <td>2022-11-27</td>\n",
       "      <td>https://v.daum.net/v/20221127095726043</td>\n",
       "    </tr>\n",
       "    <tr>\n",
       "      <th>1357622</th>\n",
       "      <td>뉴시스</td>\n",
       "      <td>47.43</td>\n",
       "      <td>검찰, 조국 '자녀 입시비리·감찰무마 혐의' 징역 5년 구형</td>\n",
       "      <td>2022-12-02</td>\n",
       "      <td>https://v.daum.net/v/20221202143703564</td>\n",
       "    </tr>\n",
       "    <tr>\n",
       "      <th>1357589</th>\n",
       "      <td>뉴시스</td>\n",
       "      <td>46.34</td>\n",
       "      <td>조국 징역 5년 구형…검찰 \"명백한 사실조차 인정 안해\"(종합)</td>\n",
       "      <td>2022-12-02</td>\n",
       "      <td>https://v.daum.net/v/20221202145411164</td>\n",
       "    </tr>\n",
       "    <tr>\n",
       "      <th>1330731</th>\n",
       "      <td>뉴시스</td>\n",
       "      <td>44.06</td>\n",
       "      <td>檢, 정경심 '아들 입시비리 혐의' 징역 2년 구형…\"중대범죄\"</td>\n",
       "      <td>2022-11-18</td>\n",
       "      <td>https://v.daum.net/v/20221118110927242</td>\n",
       "    </tr>\n",
       "    <tr>\n",
       "      <th>1316908</th>\n",
       "      <td>뉴시스</td>\n",
       "      <td>43.58</td>\n",
       "      <td>檢, 백원우·박형철 '감찰무마 혐의' 실형 구형…조국 \"文 청와대 모독\"(종합)</td>\n",
       "      <td>2022-11-11</td>\n",
       "      <td>https://v.daum.net/v/20221111122348143</td>\n",
       "    </tr>\n",
       "    <tr>\n",
       "      <th>1357047</th>\n",
       "      <td>뉴시스</td>\n",
       "      <td>43.05</td>\n",
       "      <td>'징역 5년' 구형된 조국 \"검찰권 앞에 무력…하루하루 생지옥\"</td>\n",
       "      <td>2022-12-02</td>\n",
       "      <td>https://v.daum.net/v/20221202185512175</td>\n",
       "    </tr>\n",
       "    <tr>\n",
       "      <th>1317109</th>\n",
       "      <td>뉴시스</td>\n",
       "      <td>42.60</td>\n",
       "      <td>'유재수 감찰무마 혐의' 백원우·박형철, 징역 2년·1년6월 구형</td>\n",
       "      <td>2022-11-11</td>\n",
       "      <td>https://v.daum.net/v/20221111112240978</td>\n",
       "    </tr>\n",
       "  </tbody>\n",
       "</table>\n",
       "</div>"
      ],
      "text/plain": [
       "        press  similarity                                         title  \\\n",
       "1358639   뉴시스       48.96         '입시비리'·감찰무마' 조국 재판 오늘 결심…3년 만에 마무리 수순   \n",
       "1357681   뉴시스       48.84        '자녀 입시비리' 조국 전 장관, 1심 결심공판 출석 [뉴시스Pic]   \n",
       "1330596   뉴시스       48.03         檢 \"입시비리 중대범죄\", 정경심 측 \"부당 기소\"…징역 2년 구형   \n",
       "1346082   뉴시스       47.49             조국 입시비리 등 의혹, 이번주 결심…이르면 올해 1심 결론   \n",
       "1357622   뉴시스       47.43             검찰, 조국 '자녀 입시비리·감찰무마 혐의' 징역 5년 구형   \n",
       "1357589   뉴시스       46.34           조국 징역 5년 구형…검찰 \"명백한 사실조차 인정 안해\"(종합)   \n",
       "1330731   뉴시스       44.06           檢, 정경심 '아들 입시비리 혐의' 징역 2년 구형…\"중대범죄\"   \n",
       "1316908   뉴시스       43.58  檢, 백원우·박형철 '감찰무마 혐의' 실형 구형…조국 \"文 청와대 모독\"(종합)   \n",
       "1357047   뉴시스       43.05           '징역 5년' 구형된 조국 \"검찰권 앞에 무력…하루하루 생지옥\"   \n",
       "1317109   뉴시스       42.60          '유재수 감찰무마 혐의' 백원우·박형철, 징역 2년·1년6월 구형   \n",
       "\n",
       "              date                                    link  \n",
       "1358639 2022-12-02  https://v.daum.net/v/20221202060032795  \n",
       "1357681 2022-12-02  https://v.daum.net/v/20221202141500738  \n",
       "1330596 2022-11-18  https://v.daum.net/v/20221118115238952  \n",
       "1346082 2022-11-27  https://v.daum.net/v/20221127095726043  \n",
       "1357622 2022-12-02  https://v.daum.net/v/20221202143703564  \n",
       "1357589 2022-12-02  https://v.daum.net/v/20221202145411164  \n",
       "1330731 2022-11-18  https://v.daum.net/v/20221118110927242  \n",
       "1316908 2022-11-11  https://v.daum.net/v/20221111122348143  \n",
       "1357047 2022-12-02  https://v.daum.net/v/20221202185512175  \n",
       "1317109 2022-11-11  https://v.daum.net/v/20221111112240978  "
      ]
     },
     "execution_count": 228,
     "metadata": {},
     "output_type": "execute_result"
    }
   ],
   "source": [
    "%%time\n",
    "url = \"\"\"https://v.daum.net/v/20230206162031399\"\"\"\n",
    "get_recommend_by_url(url, 10, (\"2022-01-01\", \"2022-12-31\"), \"뉴시스\")"
   ]
  },
  {
   "cell_type": "markdown",
   "id": "36f8d462-a210-4a0d-8bf8-57aa0fd28364",
   "metadata": {
    "tags": []
   },
   "source": [
    "### torch의 CosineSimilarity"
   ]
  },
  {
   "cell_type": "code",
   "execution_count": 160,
   "id": "39ee98cc-77f9-4b5b-89fa-7aed081a4f28",
   "metadata": {},
   "outputs": [],
   "source": [
    "def convert_sparse_matrix_to_sparse_tensor(X):\n",
    "    import numpy as np\n",
    "    import tensorflow as tf\n",
    "    coo = X.tocoo()\n",
    "    indices = np.mat([coo.row, coo.col]).transpose()\n",
    "    return tf.SparseTensor(indices, coo.data, coo.shape)"
   ]
  },
  {
   "cell_type": "code",
   "execution_count": 165,
   "id": "8d72c327-53d8-4c71-9bc6-29aa9089449e",
   "metadata": {},
   "outputs": [],
   "source": [
    "def cos_similarity(content, dtm_filtered):\n",
    "    from torch.nn import CosineSimilarity\n",
    "    content = convert_sparse_matrix_to_sparse_tensor(content)\n",
    "    dtm_filtered = convert_sparse_matrix_to_sparse_tensor(dtm_filtered)\n",
    "    cos = CosineSimilarity(dim=1)\n",
    "    return cos(content, dtm_filtered)"
   ]
  },
  {
   "cell_type": "code",
   "execution_count": 166,
   "id": "533a6b9e-e7ed-4ce6-991d-3329658918b6",
   "metadata": {
    "tags": []
   },
   "outputs": [
    {
     "ename": "TypeError",
     "evalue": "cosine_similarity(): argument 'x1' (position 1) must be Tensor, not SparseTensor",
     "output_type": "error",
     "traceback": [
      "\u001b[1;31m---------------------------------------------------------------------------\u001b[0m",
      "\u001b[1;31mTypeError\u001b[0m                                 Traceback (most recent call last)",
      "File \u001b[1;32m<timed exec>:2\u001b[0m\n",
      "Cell \u001b[1;32mIn[146], line 21\u001b[0m, in \u001b[0;36mget_recommend_by_url\u001b[1;34m(url, n, drange, press)\u001b[0m\n\u001b[0;32m     19\u001b[0m data_filtered_idx \u001b[38;5;241m=\u001b[39m data_all[(data_all[\u001b[38;5;124m'\u001b[39m\u001b[38;5;124mdate\u001b[39m\u001b[38;5;124m'\u001b[39m]\u001b[38;5;241m.\u001b[39misin(pd\u001b[38;5;241m.\u001b[39mdate_range(drange[\u001b[38;5;241m0\u001b[39m], drange[\u001b[38;5;241m1\u001b[39m])))]\u001b[38;5;241m.\u001b[39mindex\n\u001b[0;32m     20\u001b[0m tfidf_dtm_filtered \u001b[38;5;241m=\u001b[39m tfidf_dtm[data_filtered_idx]\n\u001b[1;32m---> 21\u001b[0m cos_sim_res \u001b[38;5;241m=\u001b[39m \u001b[43mcos_similarity\u001b[49m\u001b[43m(\u001b[49m\u001b[43mtfidf_content\u001b[49m\u001b[43m,\u001b[49m\u001b[43m \u001b[49m\u001b[43mtfidf_dtm_filtered\u001b[49m\u001b[43m)\u001b[49m\n\u001b[0;32m     22\u001b[0m \u001b[38;5;28mprint\u001b[39m(\u001b[38;5;124mf\u001b[39m\u001b[38;5;124m\"\u001b[39m\u001b[38;5;124m코사인 계산 시간 : \u001b[39m\u001b[38;5;132;01m{\u001b[39;00mtime\u001b[38;5;241m.\u001b[39mtime()\u001b[38;5;241m-\u001b[39mstart\u001b[38;5;132;01m}\u001b[39;00m\u001b[38;5;124m\"\u001b[39m)\n\u001b[0;32m     24\u001b[0m \u001b[38;5;66;03m# 유사도 정렬, 추출\u001b[39;00m\n",
      "Cell \u001b[1;32mIn[165], line 6\u001b[0m, in \u001b[0;36mcos_similarity\u001b[1;34m(content, dtm_filtered)\u001b[0m\n\u001b[0;32m      4\u001b[0m dtm_filtered \u001b[38;5;241m=\u001b[39m convert_sparse_matrix_to_sparse_tensor(dtm_filtered)\n\u001b[0;32m      5\u001b[0m cos \u001b[38;5;241m=\u001b[39m CosineSimilarity(dim\u001b[38;5;241m=\u001b[39m\u001b[38;5;241m1\u001b[39m)\n\u001b[1;32m----> 6\u001b[0m \u001b[38;5;28;01mreturn\u001b[39;00m \u001b[43mcos\u001b[49m\u001b[43m(\u001b[49m\u001b[43mcontent\u001b[49m\u001b[43m,\u001b[49m\u001b[43m \u001b[49m\u001b[43mdtm_filtered\u001b[49m\u001b[43m)\u001b[49m\n",
      "File \u001b[1;32m~\\anaconda3\\envs\\sesac\\lib\\site-packages\\torch\\nn\\modules\\module.py:1194\u001b[0m, in \u001b[0;36mModule._call_impl\u001b[1;34m(self, *input, **kwargs)\u001b[0m\n\u001b[0;32m   1190\u001b[0m \u001b[38;5;66;03m# If we don't have any hooks, we want to skip the rest of the logic in\u001b[39;00m\n\u001b[0;32m   1191\u001b[0m \u001b[38;5;66;03m# this function, and just call forward.\u001b[39;00m\n\u001b[0;32m   1192\u001b[0m \u001b[38;5;28;01mif\u001b[39;00m \u001b[38;5;129;01mnot\u001b[39;00m (\u001b[38;5;28mself\u001b[39m\u001b[38;5;241m.\u001b[39m_backward_hooks \u001b[38;5;129;01mor\u001b[39;00m \u001b[38;5;28mself\u001b[39m\u001b[38;5;241m.\u001b[39m_forward_hooks \u001b[38;5;129;01mor\u001b[39;00m \u001b[38;5;28mself\u001b[39m\u001b[38;5;241m.\u001b[39m_forward_pre_hooks \u001b[38;5;129;01mor\u001b[39;00m _global_backward_hooks\n\u001b[0;32m   1193\u001b[0m         \u001b[38;5;129;01mor\u001b[39;00m _global_forward_hooks \u001b[38;5;129;01mor\u001b[39;00m _global_forward_pre_hooks):\n\u001b[1;32m-> 1194\u001b[0m     \u001b[38;5;28;01mreturn\u001b[39;00m \u001b[43mforward_call\u001b[49m\u001b[43m(\u001b[49m\u001b[38;5;241;43m*\u001b[39;49m\u001b[38;5;28;43minput\u001b[39;49m\u001b[43m,\u001b[49m\u001b[43m \u001b[49m\u001b[38;5;241;43m*\u001b[39;49m\u001b[38;5;241;43m*\u001b[39;49m\u001b[43mkwargs\u001b[49m\u001b[43m)\u001b[49m\n\u001b[0;32m   1195\u001b[0m \u001b[38;5;66;03m# Do not call functions when jit is used\u001b[39;00m\n\u001b[0;32m   1196\u001b[0m full_backward_hooks, non_full_backward_hooks \u001b[38;5;241m=\u001b[39m [], []\n",
      "File \u001b[1;32m~\\anaconda3\\envs\\sesac\\lib\\site-packages\\torch\\nn\\modules\\distance.py:87\u001b[0m, in \u001b[0;36mCosineSimilarity.forward\u001b[1;34m(self, x1, x2)\u001b[0m\n\u001b[0;32m     86\u001b[0m \u001b[38;5;28;01mdef\u001b[39;00m \u001b[38;5;21mforward\u001b[39m(\u001b[38;5;28mself\u001b[39m, x1: Tensor, x2: Tensor) \u001b[38;5;241m-\u001b[39m\u001b[38;5;241m>\u001b[39m Tensor:\n\u001b[1;32m---> 87\u001b[0m     \u001b[38;5;28;01mreturn\u001b[39;00m \u001b[43mF\u001b[49m\u001b[38;5;241;43m.\u001b[39;49m\u001b[43mcosine_similarity\u001b[49m\u001b[43m(\u001b[49m\u001b[43mx1\u001b[49m\u001b[43m,\u001b[49m\u001b[43m \u001b[49m\u001b[43mx2\u001b[49m\u001b[43m,\u001b[49m\u001b[43m \u001b[49m\u001b[38;5;28;43mself\u001b[39;49m\u001b[38;5;241;43m.\u001b[39;49m\u001b[43mdim\u001b[49m\u001b[43m,\u001b[49m\u001b[43m \u001b[49m\u001b[38;5;28;43mself\u001b[39;49m\u001b[38;5;241;43m.\u001b[39;49m\u001b[43meps\u001b[49m\u001b[43m)\u001b[49m\n",
      "\u001b[1;31mTypeError\u001b[0m: cosine_similarity(): argument 'x1' (position 1) must be Tensor, not SparseTensor"
     ]
    }
   ],
   "source": [
    "%%time\n",
    "url = \"\"\"https://v.daum.net/v/20230206162031399\"\"\"\n",
    "get_recommend_by_url(url, 10, (\"2021-01-01\", \"2022-12-31\"), \"뉴시스\")"
   ]
  },
  {
   "cell_type": "markdown",
   "id": "44c7699b-eb23-4e89-b3d7-fb86756a05c0",
   "metadata": {
    "tags": []
   },
   "source": [
    "### scipy의 cosine"
   ]
  },
  {
   "cell_type": "code",
   "execution_count": 171,
   "id": "2fc302d5-ce81-46b4-bf81-7b99d0525791",
   "metadata": {},
   "outputs": [],
   "source": [
    "def cos_similarity(content, dtm_filtered):\n",
    "    from scipy.spatial.distance import cosine\n",
    "    return cosine(content, dtm_filtered)"
   ]
  },
  {
   "cell_type": "code",
   "execution_count": 172,
   "id": "99fc88fa-b05c-4c1b-a7d0-06623fb1bcb4",
   "metadata": {
    "collapsed": true,
    "jupyter": {
     "outputs_hidden": true
    },
    "tags": []
   },
   "outputs": [
    {
     "ename": "ValueError",
     "evalue": "Input vector should be 1-D.",
     "output_type": "error",
     "traceback": [
      "\u001b[1;31m---------------------------------------------------------------------------\u001b[0m",
      "\u001b[1;31mValueError\u001b[0m                                Traceback (most recent call last)",
      "File \u001b[1;32m<timed exec>:2\u001b[0m\n",
      "Cell \u001b[1;32mIn[146], line 21\u001b[0m, in \u001b[0;36mget_recommend_by_url\u001b[1;34m(url, n, drange, press)\u001b[0m\n\u001b[0;32m     19\u001b[0m data_filtered_idx \u001b[38;5;241m=\u001b[39m data_all[(data_all[\u001b[38;5;124m'\u001b[39m\u001b[38;5;124mdate\u001b[39m\u001b[38;5;124m'\u001b[39m]\u001b[38;5;241m.\u001b[39misin(pd\u001b[38;5;241m.\u001b[39mdate_range(drange[\u001b[38;5;241m0\u001b[39m], drange[\u001b[38;5;241m1\u001b[39m])))]\u001b[38;5;241m.\u001b[39mindex\n\u001b[0;32m     20\u001b[0m tfidf_dtm_filtered \u001b[38;5;241m=\u001b[39m tfidf_dtm[data_filtered_idx]\n\u001b[1;32m---> 21\u001b[0m cos_sim_res \u001b[38;5;241m=\u001b[39m \u001b[43mcos_similarity\u001b[49m\u001b[43m(\u001b[49m\u001b[43mtfidf_content\u001b[49m\u001b[43m,\u001b[49m\u001b[43m \u001b[49m\u001b[43mtfidf_dtm_filtered\u001b[49m\u001b[43m)\u001b[49m\n\u001b[0;32m     22\u001b[0m \u001b[38;5;28mprint\u001b[39m(\u001b[38;5;124mf\u001b[39m\u001b[38;5;124m\"\u001b[39m\u001b[38;5;124m코사인 계산 시간 : \u001b[39m\u001b[38;5;132;01m{\u001b[39;00mtime\u001b[38;5;241m.\u001b[39mtime()\u001b[38;5;241m-\u001b[39mstart\u001b[38;5;132;01m}\u001b[39;00m\u001b[38;5;124m\"\u001b[39m)\n\u001b[0;32m     24\u001b[0m \u001b[38;5;66;03m# 유사도 정렬, 추출\u001b[39;00m\n",
      "Cell \u001b[1;32mIn[171], line 3\u001b[0m, in \u001b[0;36mcos_similarity\u001b[1;34m(content, dtm_filtered)\u001b[0m\n\u001b[0;32m      1\u001b[0m \u001b[38;5;28;01mdef\u001b[39;00m \u001b[38;5;21mcos_similarity\u001b[39m(content, dtm_filtered):\n\u001b[0;32m      2\u001b[0m     \u001b[38;5;28;01mfrom\u001b[39;00m \u001b[38;5;21;01mscipy\u001b[39;00m\u001b[38;5;21;01m.\u001b[39;00m\u001b[38;5;21;01mspatial\u001b[39;00m\u001b[38;5;21;01m.\u001b[39;00m\u001b[38;5;21;01mdistance\u001b[39;00m \u001b[38;5;28;01mimport\u001b[39;00m cosine\n\u001b[1;32m----> 3\u001b[0m     \u001b[38;5;28;01mreturn\u001b[39;00m \u001b[43mcosine\u001b[49m\u001b[43m(\u001b[49m\u001b[43mcontent\u001b[49m\u001b[43m,\u001b[49m\u001b[43m \u001b[49m\u001b[43mdtm_filtered\u001b[49m\u001b[43m)\u001b[49m\n",
      "File \u001b[1;32m~\\anaconda3\\envs\\sesac\\lib\\site-packages\\scipy\\spatial\\distance.py:670\u001b[0m, in \u001b[0;36mcosine\u001b[1;34m(u, v, w)\u001b[0m\n\u001b[0;32m    628\u001b[0m \u001b[38;5;124;03m\"\"\"\u001b[39;00m\n\u001b[0;32m    629\u001b[0m \u001b[38;5;124;03mCompute the Cosine distance between 1-D arrays.\u001b[39;00m\n\u001b[0;32m    630\u001b[0m \n\u001b[1;32m   (...)\u001b[0m\n\u001b[0;32m    665\u001b[0m \n\u001b[0;32m    666\u001b[0m \u001b[38;5;124;03m\"\"\"\u001b[39;00m\n\u001b[0;32m    667\u001b[0m \u001b[38;5;66;03m# cosine distance is also referred to as 'uncentered correlation',\u001b[39;00m\n\u001b[0;32m    668\u001b[0m \u001b[38;5;66;03m#   or 'reflective correlation'\u001b[39;00m\n\u001b[0;32m    669\u001b[0m \u001b[38;5;66;03m# clamp the result to 0-2\u001b[39;00m\n\u001b[1;32m--> 670\u001b[0m \u001b[38;5;28;01mreturn\u001b[39;00m \u001b[38;5;28mmax\u001b[39m(\u001b[38;5;241m0\u001b[39m, \u001b[38;5;28mmin\u001b[39m(\u001b[43mcorrelation\u001b[49m\u001b[43m(\u001b[49m\u001b[43mu\u001b[49m\u001b[43m,\u001b[49m\u001b[43m \u001b[49m\u001b[43mv\u001b[49m\u001b[43m,\u001b[49m\u001b[43m \u001b[49m\u001b[43mw\u001b[49m\u001b[38;5;241;43m=\u001b[39;49m\u001b[43mw\u001b[49m\u001b[43m,\u001b[49m\u001b[43m \u001b[49m\u001b[43mcentered\u001b[49m\u001b[38;5;241;43m=\u001b[39;49m\u001b[38;5;28;43;01mFalse\u001b[39;49;00m\u001b[43m)\u001b[49m, \u001b[38;5;241m2.0\u001b[39m))\n",
      "File \u001b[1;32m~\\anaconda3\\envs\\sesac\\lib\\site-packages\\scipy\\spatial\\distance.py:610\u001b[0m, in \u001b[0;36mcorrelation\u001b[1;34m(u, v, w, centered)\u001b[0m\n\u001b[0;32m    577\u001b[0m \u001b[38;5;28;01mdef\u001b[39;00m \u001b[38;5;21mcorrelation\u001b[39m(u, v, w\u001b[38;5;241m=\u001b[39m\u001b[38;5;28;01mNone\u001b[39;00m, centered\u001b[38;5;241m=\u001b[39m\u001b[38;5;28;01mTrue\u001b[39;00m):\n\u001b[0;32m    578\u001b[0m     \u001b[38;5;124;03m\"\"\"\u001b[39;00m\n\u001b[0;32m    579\u001b[0m \u001b[38;5;124;03m    Compute the correlation distance between two 1-D arrays.\u001b[39;00m\n\u001b[0;32m    580\u001b[0m \n\u001b[1;32m   (...)\u001b[0m\n\u001b[0;32m    608\u001b[0m \n\u001b[0;32m    609\u001b[0m \u001b[38;5;124;03m    \"\"\"\u001b[39;00m\n\u001b[1;32m--> 610\u001b[0m     u \u001b[38;5;241m=\u001b[39m \u001b[43m_validate_vector\u001b[49m\u001b[43m(\u001b[49m\u001b[43mu\u001b[49m\u001b[43m)\u001b[49m\n\u001b[0;32m    611\u001b[0m     v \u001b[38;5;241m=\u001b[39m _validate_vector(v)\n\u001b[0;32m    612\u001b[0m     \u001b[38;5;28;01mif\u001b[39;00m w \u001b[38;5;129;01mis\u001b[39;00m \u001b[38;5;129;01mnot\u001b[39;00m \u001b[38;5;28;01mNone\u001b[39;00m:\n",
      "File \u001b[1;32m~\\anaconda3\\envs\\sesac\\lib\\site-packages\\scipy\\spatial\\distance.py:302\u001b[0m, in \u001b[0;36m_validate_vector\u001b[1;34m(u, dtype)\u001b[0m\n\u001b[0;32m    300\u001b[0m \u001b[38;5;28;01mif\u001b[39;00m u\u001b[38;5;241m.\u001b[39mndim \u001b[38;5;241m==\u001b[39m \u001b[38;5;241m1\u001b[39m:\n\u001b[0;32m    301\u001b[0m     \u001b[38;5;28;01mreturn\u001b[39;00m u\n\u001b[1;32m--> 302\u001b[0m \u001b[38;5;28;01mraise\u001b[39;00m \u001b[38;5;167;01mValueError\u001b[39;00m(\u001b[38;5;124m\"\u001b[39m\u001b[38;5;124mInput vector should be 1-D.\u001b[39m\u001b[38;5;124m\"\u001b[39m)\n",
      "\u001b[1;31mValueError\u001b[0m: Input vector should be 1-D."
     ]
    }
   ],
   "source": [
    "%%time\n",
    "url = \"\"\"https://v.daum.net/v/20230206162031399\"\"\"\n",
    "get_recommend_by_url(url, 10, (\"2021-01-01\", \"2022-12-31\"), \"뉴시스\")"
   ]
  },
  {
   "cell_type": "markdown",
   "id": "456b4e6e-c3cc-4131-b203-e81798174848",
   "metadata": {
    "tags": []
   },
   "source": [
    "### numpy로 직접 구현"
   ]
  },
  {
   "cell_type": "code",
   "execution_count": 62,
   "id": "e6ba018e-f7f8-458b-910a-6d85059feb19",
   "metadata": {},
   "outputs": [],
   "source": [
    "def cos_similarity(content, dtm_filtered):\n",
    "    import sklearn.preprocessing as pp\n",
    "    normed_mat = pp.normalize(content.tocsc(), axis=0)\n",
    "    return normed_mat.T*dtm_filtered"
   ]
  },
  {
   "cell_type": "code",
   "execution_count": 63,
   "id": "469e1525-0c92-4c80-a8ba-13b4edb2ca75",
   "metadata": {
    "collapsed": true,
    "jupyter": {
     "outputs_hidden": true
    },
    "tags": []
   },
   "outputs": [
    {
     "ename": "ValueError",
     "evalue": "dimension mismatch",
     "output_type": "error",
     "traceback": [
      "\u001b[1;31m---------------------------------------------------------------------------\u001b[0m",
      "\u001b[1;31mValueError\u001b[0m                                Traceback (most recent call last)",
      "File \u001b[1;32m<timed exec>:2\u001b[0m\n",
      "Cell \u001b[1;32mIn[11], line 19\u001b[0m, in \u001b[0;36mget_recommend_by_url\u001b[1;34m(url, n, drange, press)\u001b[0m\n\u001b[0;32m     17\u001b[0m data_filtered_idx \u001b[38;5;241m=\u001b[39m data_all[(data_all[\u001b[38;5;124m'\u001b[39m\u001b[38;5;124mdate\u001b[39m\u001b[38;5;124m'\u001b[39m]\u001b[38;5;241m.\u001b[39misin(pd\u001b[38;5;241m.\u001b[39mdate_range(drange[\u001b[38;5;241m0\u001b[39m], drange[\u001b[38;5;241m1\u001b[39m])))]\u001b[38;5;241m.\u001b[39mindex\n\u001b[0;32m     18\u001b[0m tfidf_dtm_filtered \u001b[38;5;241m=\u001b[39m tfidf_dtm[data_filtered_idx]\n\u001b[1;32m---> 19\u001b[0m cos_sim_res \u001b[38;5;241m=\u001b[39m \u001b[43mcos_similarity\u001b[49m\u001b[43m(\u001b[49m\u001b[43mtfidf_content\u001b[49m\u001b[43m,\u001b[49m\u001b[43m \u001b[49m\u001b[43mtfidf_dtm_filtered\u001b[49m\u001b[43m)\u001b[49m\n\u001b[0;32m     21\u001b[0m \u001b[38;5;66;03m# 유사도 정렬, 추출\u001b[39;00m\n\u001b[0;32m     22\u001b[0m sim_scores \u001b[38;5;241m=\u001b[39m \u001b[38;5;28mlist\u001b[39m(\u001b[38;5;28mzip\u001b[39m(data_filtered_idx, cos_sim_res[\u001b[38;5;241m0\u001b[39m]))\n",
      "Cell \u001b[1;32mIn[62], line 4\u001b[0m, in \u001b[0;36mcos_similarity\u001b[1;34m(content, dtm_filtered)\u001b[0m\n\u001b[0;32m      2\u001b[0m \u001b[38;5;28;01mimport\u001b[39;00m \u001b[38;5;21;01msklearn\u001b[39;00m\u001b[38;5;21;01m.\u001b[39;00m\u001b[38;5;21;01mpreprocessing\u001b[39;00m \u001b[38;5;28;01mas\u001b[39;00m \u001b[38;5;21;01mpp\u001b[39;00m\n\u001b[0;32m      3\u001b[0m normed_mat \u001b[38;5;241m=\u001b[39m pp\u001b[38;5;241m.\u001b[39mnormalize(content\u001b[38;5;241m.\u001b[39mtocsc(), axis\u001b[38;5;241m=\u001b[39m\u001b[38;5;241m0\u001b[39m)\n\u001b[1;32m----> 4\u001b[0m \u001b[38;5;28;01mreturn\u001b[39;00m \u001b[43mnormed_mat\u001b[49m\u001b[38;5;241;43m.\u001b[39;49m\u001b[43mT\u001b[49m\u001b[38;5;241;43m*\u001b[39;49m\u001b[43mdtm_filtered\u001b[49m\n",
      "File \u001b[1;32m~\\anaconda3\\envs\\sesac\\lib\\site-packages\\scipy\\sparse\\_base.py:590\u001b[0m, in \u001b[0;36mspmatrix.__mul__\u001b[1;34m(self, other)\u001b[0m\n\u001b[0;32m    589\u001b[0m \u001b[38;5;28;01mdef\u001b[39;00m \u001b[38;5;21m__mul__\u001b[39m(\u001b[38;5;28mself\u001b[39m, other):\n\u001b[1;32m--> 590\u001b[0m     \u001b[38;5;28;01mreturn\u001b[39;00m \u001b[38;5;28;43mself\u001b[39;49m\u001b[38;5;241;43m.\u001b[39;49m\u001b[43m_mul_dispatch\u001b[49m\u001b[43m(\u001b[49m\u001b[43mother\u001b[49m\u001b[43m)\u001b[49m\n",
      "File \u001b[1;32m~\\anaconda3\\envs\\sesac\\lib\\site-packages\\scipy\\sparse\\_base.py:540\u001b[0m, in \u001b[0;36mspmatrix._mul_dispatch\u001b[1;34m(self, other)\u001b[0m\n\u001b[0;32m    538\u001b[0m \u001b[38;5;28;01mif\u001b[39;00m issparse(other):\n\u001b[0;32m    539\u001b[0m     \u001b[38;5;28;01mif\u001b[39;00m \u001b[38;5;28mself\u001b[39m\u001b[38;5;241m.\u001b[39mshape[\u001b[38;5;241m1\u001b[39m] \u001b[38;5;241m!=\u001b[39m other\u001b[38;5;241m.\u001b[39mshape[\u001b[38;5;241m0\u001b[39m]:\n\u001b[1;32m--> 540\u001b[0m         \u001b[38;5;28;01mraise\u001b[39;00m \u001b[38;5;167;01mValueError\u001b[39;00m(\u001b[38;5;124m'\u001b[39m\u001b[38;5;124mdimension mismatch\u001b[39m\u001b[38;5;124m'\u001b[39m)\n\u001b[0;32m    541\u001b[0m     \u001b[38;5;28;01mreturn\u001b[39;00m \u001b[38;5;28mself\u001b[39m\u001b[38;5;241m.\u001b[39m_mul_sparse_matrix(other)\n\u001b[0;32m    543\u001b[0m \u001b[38;5;66;03m# If it's a list or whatever, treat it like a matrix\u001b[39;00m\n",
      "\u001b[1;31mValueError\u001b[0m: dimension mismatch"
     ]
    }
   ],
   "source": [
    "%%time\n",
    "url = \"\"\"https://v.daum.net/v/20230206162031399\"\"\"\n",
    "get_recommend_by_url(url, 10, (\"2021-01-01\", \"2022-12-31\"), \"뉴시스\")"
   ]
  },
  {
   "cell_type": "code",
   "execution_count": null,
   "id": "282da4bc-b793-446c-a617-a336332b11fc",
   "metadata": {},
   "outputs": [],
   "source": []
  }
 ],
 "metadata": {
  "kernelspec": {
   "display_name": "Python 3 (ipykernel)",
   "language": "python",
   "name": "python3"
  },
  "language_info": {
   "codemirror_mode": {
    "name": "ipython",
    "version": 3
   },
   "file_extension": ".py",
   "mimetype": "text/x-python",
   "name": "python",
   "nbconvert_exporter": "python",
   "pygments_lexer": "ipython3",
   "version": "3.8.15"
  }
 },
 "nbformat": 4,
 "nbformat_minor": 5
}
