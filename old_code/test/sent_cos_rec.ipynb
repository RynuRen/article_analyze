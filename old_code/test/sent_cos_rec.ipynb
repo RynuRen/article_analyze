{
 "cells": [
  {
   "cell_type": "markdown",
   "id": "6b679801-3a14-41bb-ae98-fa26675120ab",
   "metadata": {
    "tags": []
   },
   "source": [
    "# 조회에 필요한 데이터 불러오기"
   ]
  },
  {
   "cell_type": "code",
   "execution_count": 2,
   "id": "d5478477-a18c-40b0-92b2-fe8915d6707b",
   "metadata": {},
   "outputs": [],
   "source": [
    "from tqdm import tqdm\n",
    "import pandas as pd\n",
    "from glob import glob"
   ]
  },
  {
   "cell_type": "code",
   "execution_count": 18,
   "id": "d8bb8149-8e60-4c0e-90e3-d86db572ea92",
   "metadata": {},
   "outputs": [
    {
     "name": "stderr",
     "output_type": "stream",
     "text": [
      "100%|████████████████████████████████████████████████████████████████████████████████| 365/365 [00:50<00:00,  7.27it/s]\n"
     ]
    }
   ],
   "source": [
    "files = sorted(glob('./data/*.csv'))\n",
    "date_cols = ['date']\n",
    "data_all = pd.DataFrame()\n",
    "for file in tqdm(files):\n",
    "    df_day = pd.read_csv(file, parse_dates=date_cols, usecols=['press', 'title', 'date', 'link']) # date 컬럼 datetime 형식으로 불러오기\n",
    "    data_all = pd.concat([data_all, df_day])\n",
    "data_all.reset_index(drop=True, inplace=True)"
   ]
  },
  {
   "cell_type": "code",
   "execution_count": 3,
   "id": "a72512ff-a95d-425a-be3c-2f495eddba4e",
   "metadata": {
    "collapsed": true,
    "jupyter": {
     "outputs_hidden": true
    },
    "tags": []
   },
   "outputs": [
    {
     "data": {
      "text/html": [
       "<div>\n",
       "<style scoped>\n",
       "    .dataframe tbody tr th:only-of-type {\n",
       "        vertical-align: middle;\n",
       "    }\n",
       "\n",
       "    .dataframe tbody tr th {\n",
       "        vertical-align: top;\n",
       "    }\n",
       "\n",
       "    .dataframe thead th {\n",
       "        text-align: right;\n",
       "    }\n",
       "</style>\n",
       "<table border=\"1\" class=\"dataframe\">\n",
       "  <thead>\n",
       "    <tr style=\"text-align: right;\">\n",
       "      <th></th>\n",
       "      <th>press</th>\n",
       "      <th>title</th>\n",
       "      <th>date</th>\n",
       "      <th>link</th>\n",
       "    </tr>\n",
       "  </thead>\n",
       "  <tbody>\n",
       "    <tr>\n",
       "      <th>0</th>\n",
       "      <td>중앙일보</td>\n",
       "      <td>프로배구 2·3일 경기 연기.. 중계방송 스태프 코로나19 확진</td>\n",
       "      <td>2021-01-01</td>\n",
       "      <td>https://v.daum.net/v/20210101233343622</td>\n",
       "    </tr>\n",
       "    <tr>\n",
       "      <th>1</th>\n",
       "      <td>세계일보</td>\n",
       "      <td>\"산에서 커피 팔고 싶어\" 조두순의 소박한 꿈 이뤄질까? 시민들 '불안'</td>\n",
       "      <td>2021-01-01</td>\n",
       "      <td>https://v.daum.net/v/20210101233139613</td>\n",
       "    </tr>\n",
       "    <tr>\n",
       "      <th>2</th>\n",
       "      <td>서울신문</td>\n",
       "      <td>확진 1000명 목전 두고..秋 '구치소 집단감염' 첫 사과(종합)</td>\n",
       "      <td>2021-01-01</td>\n",
       "      <td>https://v.daum.net/v/20210101233101608</td>\n",
       "    </tr>\n",
       "    <tr>\n",
       "      <th>3</th>\n",
       "      <td>국민일보</td>\n",
       "      <td>문건 유출? 미루기?.. 벌써 다 퍼진 '2.5단계 연장안'</td>\n",
       "      <td>2021-01-01</td>\n",
       "      <td>https://v.daum.net/v/20210101231448533</td>\n",
       "    </tr>\n",
       "    <tr>\n",
       "      <th>4</th>\n",
       "      <td>뉴스1</td>\n",
       "      <td>'해변 폐쇄·드론 감시' 강릉 해맞이객 90% 줄어..그래도 1만6천명</td>\n",
       "      <td>2021-01-01</td>\n",
       "      <td>https://v.daum.net/v/20210101231238518</td>\n",
       "    </tr>\n",
       "    <tr>\n",
       "      <th>...</th>\n",
       "      <td>...</td>\n",
       "      <td>...</td>\n",
       "      <td>...</td>\n",
       "      <td>...</td>\n",
       "    </tr>\n",
       "    <tr>\n",
       "      <th>1411408</th>\n",
       "      <td>세계일보</td>\n",
       "      <td>한국남동발전, 8년째 취약계층 평생학습 지원</td>\n",
       "      <td>2022-12-31</td>\n",
       "      <td>https://v.daum.net/v/20221231010122552</td>\n",
       "    </tr>\n",
       "    <tr>\n",
       "      <th>1411409</th>\n",
       "      <td>세계일보</td>\n",
       "      <td>KIS제주, 하버드대 2년 연속 합격생 배출</td>\n",
       "      <td>2022-12-31</td>\n",
       "      <td>https://v.daum.net/v/20221231010117551</td>\n",
       "    </tr>\n",
       "    <tr>\n",
       "      <th>1411410</th>\n",
       "      <td>한국일보</td>\n",
       "      <td>늘어나는 방음터널... 번지면 대형 화재인데 방염 규정은 전무</td>\n",
       "      <td>2022-12-31</td>\n",
       "      <td>https://v.daum.net/v/20221231001003411</td>\n",
       "    </tr>\n",
       "    <tr>\n",
       "      <th>1411411</th>\n",
       "      <td>국민일보</td>\n",
       "      <td>[핫인픽] #배달할증료 #한파·폭설 출근길 #메시 지폐</td>\n",
       "      <td>2022-12-31</td>\n",
       "      <td>https://v.daum.net/v/20221231000423387</td>\n",
       "    </tr>\n",
       "    <tr>\n",
       "      <th>1411412</th>\n",
       "      <td>조선일보</td>\n",
       "      <td>[아무튼, 주말] 황야에 핀 꽃으로 만든 술, 허공에 대고 건배!</td>\n",
       "      <td>2022-12-31</td>\n",
       "      <td>https://v.daum.net/v/20221231000027329</td>\n",
       "    </tr>\n",
       "  </tbody>\n",
       "</table>\n",
       "<p>1411413 rows × 4 columns</p>\n",
       "</div>"
      ],
      "text/plain": [
       "        press                                     title       date  \\\n",
       "0        중앙일보       프로배구 2·3일 경기 연기.. 중계방송 스태프 코로나19 확진 2021-01-01   \n",
       "1        세계일보  \"산에서 커피 팔고 싶어\" 조두순의 소박한 꿈 이뤄질까? 시민들 '불안' 2021-01-01   \n",
       "2        서울신문     확진 1000명 목전 두고..秋 '구치소 집단감염' 첫 사과(종합) 2021-01-01   \n",
       "3        국민일보         문건 유출? 미루기?.. 벌써 다 퍼진 '2.5단계 연장안' 2021-01-01   \n",
       "4         뉴스1   '해변 폐쇄·드론 감시' 강릉 해맞이객 90% 줄어..그래도 1만6천명 2021-01-01   \n",
       "...       ...                                       ...        ...   \n",
       "1411408  세계일보                  한국남동발전, 8년째 취약계층 평생학습 지원 2022-12-31   \n",
       "1411409  세계일보                  KIS제주, 하버드대 2년 연속 합격생 배출 2022-12-31   \n",
       "1411410  한국일보        늘어나는 방음터널... 번지면 대형 화재인데 방염 규정은 전무 2022-12-31   \n",
       "1411411  국민일보            [핫인픽] #배달할증료 #한파·폭설 출근길 #메시 지폐 2022-12-31   \n",
       "1411412  조선일보      [아무튼, 주말] 황야에 핀 꽃으로 만든 술, 허공에 대고 건배! 2022-12-31   \n",
       "\n",
       "                                           link  \n",
       "0        https://v.daum.net/v/20210101233343622  \n",
       "1        https://v.daum.net/v/20210101233139613  \n",
       "2        https://v.daum.net/v/20210101233101608  \n",
       "3        https://v.daum.net/v/20210101231448533  \n",
       "4        https://v.daum.net/v/20210101231238518  \n",
       "...                                         ...  \n",
       "1411408  https://v.daum.net/v/20221231010122552  \n",
       "1411409  https://v.daum.net/v/20221231010117551  \n",
       "1411410  https://v.daum.net/v/20221231001003411  \n",
       "1411411  https://v.daum.net/v/20221231000423387  \n",
       "1411412  https://v.daum.net/v/20221231000027329  \n",
       "\n",
       "[1411413 rows x 4 columns]"
      ]
     },
     "execution_count": 3,
     "metadata": {},
     "output_type": "execute_result"
    }
   ],
   "source": [
    "data_all"
   ]
  },
  {
   "cell_type": "markdown",
   "id": "0d09e0dc-133f-4dd7-b3f7-3cca70e60c35",
   "metadata": {
    "tags": []
   },
   "source": [
    "# 전체 데이터 유사도 추천"
   ]
  },
  {
   "cell_type": "markdown",
   "id": "3383c258-ed42-48d0-b5b6-d5b21500c567",
   "metadata": {
    "tags": []
   },
   "source": [
    "## 모델 불러오기"
   ]
  },
  {
   "cell_type": "code",
   "execution_count": 4,
   "id": "7bc1b5c2-9514-40f4-8993-1cbbf834e841",
   "metadata": {},
   "outputs": [],
   "source": [
    "from sentence_transformers import SentenceTransformer\n",
    "import torch\n",
    "import pickle"
   ]
  },
  {
   "cell_type": "code",
   "execution_count": 5,
   "id": "99cbdb5a-ebb4-4caf-b923-361f886d3e03",
   "metadata": {},
   "outputs": [],
   "source": [
    "model = SentenceTransformer('ddobokki/klue-roberta-small-nli-sts')"
   ]
  },
  {
   "cell_type": "code",
   "execution_count": 7,
   "id": "fd6174d0-5b02-42d9-9c7b-5853fa947b77",
   "metadata": {
    "tags": []
   },
   "outputs": [],
   "source": [
    "with open(\"./model/pickled_embeddings_ddobokki_klue-roberta-small-nli-sts.bin\", \"rb\") as f:\n",
    "    embeddings = torch.load(f, map_location='cpu')"
   ]
  },
  {
   "cell_type": "markdown",
   "id": "98f888b5-e88f-488b-bd6f-218a40344687",
   "metadata": {},
   "source": [
    "## 형태소 추출"
   ]
  },
  {
   "cell_type": "code",
   "execution_count": 8,
   "id": "6abeb53d-2b99-41d1-a2a2-d7c589df3397",
   "metadata": {},
   "outputs": [],
   "source": [
    "def string_tokenizer(content):\n",
    "    import pandas as pd\n",
    "    from konlpy.tag import Okt\n",
    "    okt = Okt()\n",
    "    \n",
    "    content = pd.Series(content)\n",
    "    # 한글, 숫자, 공백만 남기기\n",
    "    content = content.str.replace('[^0-9ㄱ-ㅎㅏ-ㅣ가-힣 ]', '', regex=True)\n",
    "    token_content = okt.pos(content[0], norm=True, stem=True)\n",
    "    return token_content"
   ]
  },
  {
   "cell_type": "code",
   "execution_count": 9,
   "id": "304586e8-3f1d-43a1-bb64-95971761b01f",
   "metadata": {},
   "outputs": [],
   "source": [
    "except_list = ['Exclamation', 'Josa', 'KoreanParticle', 'Determiner',  'Eomi', 'Suffix',  'VerbPrefix', 'PreEomi']\n",
    "include_list = ['Verb',  'Noun']"
   ]
  },
  {
   "cell_type": "code",
   "execution_count": 10,
   "id": "e006221f-652a-418f-869d-4cfc43908c6f",
   "metadata": {},
   "outputs": [],
   "source": [
    "# 230207 기현\n",
    "def tag_except_list(except_list, token_content):\n",
    "    filtered_list= []\n",
    "    for tag in token_content :\n",
    "        if tag[1] in except_list:\n",
    "            continue\n",
    "        filtered_list.append(tag[0])\n",
    "    content = \" \".join(filtered_list)\n",
    "    return content"
   ]
  },
  {
   "cell_type": "markdown",
   "id": "c7ffb65b-377e-44ef-80af-b41b9459fe6e",
   "metadata": {
    "tags": []
   },
   "source": [
    "## 다음 url로 유사 기사 추천"
   ]
  },
  {
   "cell_type": "code",
   "execution_count": 11,
   "id": "fbe96cab-7aac-4199-987f-1f65ac8ec9ce",
   "metadata": {},
   "outputs": [],
   "source": [
    "stop_content = [\"무단전재\", \"재배포금지\",\"저작권자 ⓒ 서울신문사\",\"무단복제 및 전재\",\"무단 전재 및 재배포\",\"제보는 카톡\", \"☞\", \"무단 전재-재배포\", \"▶연합뉴스 앱 지금 바로 다운받기~\"]\n",
    "rep_list = ['기사내용 요약']"
   ]
  },
  {
   "cell_type": "code",
   "execution_count": 12,
   "id": "ec6a663c-4069-46b6-bc40-639e2d5263ce",
   "metadata": {},
   "outputs": [],
   "source": [
    "def create_soup(url):\n",
    "    from bs4 import BeautifulSoup\n",
    "    import requests\n",
    "    i = 0\n",
    "    ## 요청 오류시 10번  재시도\n",
    "    while i < 10 :\n",
    "        try:\n",
    "            res = requests.get(url)\n",
    "            res.raise_for_status()\n",
    "            soup = BeautifulSoup(res.content, 'html.parser', from_encoding='cp949')\n",
    "            break\n",
    "        except:\n",
    "            i += 1\n",
    "            \n",
    "    return soup"
   ]
  },
  {
   "cell_type": "code",
   "execution_count": 13,
   "id": "25bebed1-c84f-450d-b89e-e009eedd1067",
   "metadata": {},
   "outputs": [],
   "source": [
    "def content_only_scraper(link):\n",
    "    article_soup = create_soup(link)\n",
    "\n",
    "    # 본문 정리\n",
    "    article = article_soup.find_all('section')[1]\n",
    "    content = article.find_all(True, attrs={'dmcf-ptype':'general'})\n",
    "    rst = []\n",
    "    for para in content:\n",
    "        for tmp in para.text.split('\\n'):\n",
    "            if tmp.strip() != '':\n",
    "                rst.append(tmp.strip())\n",
    "    content = []\n",
    "    for c in rst:\n",
    "        for i in stop_content:\n",
    "            if i in c:\n",
    "                break\n",
    "        else:\n",
    "            for rep in rep_list:\n",
    "                c = c.replace(rep, '')\n",
    "            content.append(c)\n",
    "    content = ' '.join(content)\n",
    "    if len(content) < 200:\n",
    "        return False\n",
    "    \n",
    "    return content"
   ]
  },
  {
   "cell_type": "code",
   "execution_count": 32,
   "id": "3b203855-372f-4036-8489-387bac4db9bf",
   "metadata": {},
   "outputs": [],
   "source": [
    "def get_recommend_by_url(url, n, drange, press):\n",
    "    import torch, time\n",
    "    from sentence_transformers import util\n",
    "    # 다음 뉴스인지 확인\n",
    "    if not url.startswith('https://v.daum.net/v/'):\n",
    "        return False\n",
    "\n",
    "    ## 입력 처리\n",
    "    # 본문 스크랩\n",
    "    content = content_only_scraper(url)\n",
    "    # 형태소 전처리\n",
    "    token = tag_except_list(except_list, string_tokenizer(content))\n",
    "\n",
    "    # sbert 연산\n",
    "    start = time.time()\n",
    "    embeded_content = model.encode([token], convert_to_tensor=True)\n",
    "    print(f\"입력기사 임베딩 시간 : {time.time()-start}\")\n",
    "    ## 조회 한정\n",
    "    # 기간 & 언론사\n",
    "    start = time.time()\n",
    "    data_filtered_idx = data_all[(data_all['press']==press) & (data_all['date'].isin(pd.date_range(drange[0], drange[1])))].index\n",
    "    embeddings_filtered = embeddings[data_filtered_idx]\n",
    "    cos_sim_res = util.cos_sim(embeded_content, embeddings_filtered)\n",
    "    print(f\"코사인 계산 시간 : {time.time()-start}\")\n",
    "    \n",
    "    # 유사도 정렬, 추출\n",
    "    sim_scores_n = torch.topk(cos_sim_res, k=n)\n",
    "    \n",
    "    # 해당하는 기사 가져오기\n",
    "    article_idx = data_filtered_idx[sim_scores_n[1][0]]\n",
    "    rst = data_all.iloc[article_idx][['press', 'title', 'date', 'link']]\n",
    "    rst['similarity'] = [round(sim.item(), 4)*100 for sim in sim_scores_n[0][0]]\n",
    "     \n",
    "    return rst[['press', 'similarity', 'title', 'date', 'link']]"
   ]
  },
  {
   "cell_type": "code",
   "execution_count": 33,
   "id": "f666b43f-aeee-42d4-a7a1-1a7fe318e2e0",
   "metadata": {
    "tags": []
   },
   "outputs": [
    {
     "name": "stdout",
     "output_type": "stream",
     "text": [
      "입력기사 임베딩 시간 : 0.30916643142700195\n",
      "코사인 계산 시간 : 0.4333994388580322\n",
      "CPU times: total: 3.36 s\n",
      "Wall time: 1.33 s\n"
     ]
    },
    {
     "data": {
      "text/html": [
       "<div>\n",
       "<style scoped>\n",
       "    .dataframe tbody tr th:only-of-type {\n",
       "        vertical-align: middle;\n",
       "    }\n",
       "\n",
       "    .dataframe tbody tr th {\n",
       "        vertical-align: top;\n",
       "    }\n",
       "\n",
       "    .dataframe thead th {\n",
       "        text-align: right;\n",
       "    }\n",
       "</style>\n",
       "<table border=\"1\" class=\"dataframe\">\n",
       "  <thead>\n",
       "    <tr style=\"text-align: right;\">\n",
       "      <th></th>\n",
       "      <th>press</th>\n",
       "      <th>similarity</th>\n",
       "      <th>title</th>\n",
       "      <th>date</th>\n",
       "      <th>link</th>\n",
       "    </tr>\n",
       "  </thead>\n",
       "  <tbody>\n",
       "    <tr>\n",
       "      <th>414971</th>\n",
       "      <td>뉴시스</td>\n",
       "      <td>85.95</td>\n",
       "      <td>정경심, 내일 형집행정지 기로..중앙지검서 심의위 개최</td>\n",
       "      <td>2022-08-17</td>\n",
       "      <td>https://v.daum.net/v/20220817100516164</td>\n",
       "    </tr>\n",
       "    <tr>\n",
       "      <th>614399</th>\n",
       "      <td>뉴시스</td>\n",
       "      <td>85.74</td>\n",
       "      <td>조국 징역 5년 구형…검찰 \"명백한 사실조차 인정 안해\"(종합)</td>\n",
       "      <td>2022-12-02</td>\n",
       "      <td>https://v.daum.net/v/20221202145411164</td>\n",
       "    </tr>\n",
       "    <tr>\n",
       "      <th>586600</th>\n",
       "      <td>뉴시스</td>\n",
       "      <td>85.68</td>\n",
       "      <td>정경심 \"딸·아들·남편 삶 망쳐…천하의 나쁜 아내·엄마\" 법정 오열</td>\n",
       "      <td>2022-11-18</td>\n",
       "      <td>https://v.daum.net/v/20221118172209373</td>\n",
       "    </tr>\n",
       "    <tr>\n",
       "      <th>283648</th>\n",
       "      <td>뉴시스</td>\n",
       "      <td>85.59</td>\n",
       "      <td>'3선 교육감' 조희연, 해직교사 특채 의혹에 발목 잡히나</td>\n",
       "      <td>2022-06-03</td>\n",
       "      <td>https://v.daum.net/v/20220603070016675</td>\n",
       "    </tr>\n",
       "    <tr>\n",
       "      <th>587406</th>\n",
       "      <td>뉴시스</td>\n",
       "      <td>85.36</td>\n",
       "      <td>檢 \"입시비리 중대범죄\", 정경심 측 \"부당 기소\"…징역 2년 구형</td>\n",
       "      <td>2022-11-18</td>\n",
       "      <td>https://v.daum.net/v/20221118115238952</td>\n",
       "    </tr>\n",
       "    <tr>\n",
       "      <th>52264</th>\n",
       "      <td>뉴시스</td>\n",
       "      <td>84.82</td>\n",
       "      <td>정경심 변호인 \"안타깝다는 말씀 밖에 못 드리겠다..불쌍하다\"</td>\n",
       "      <td>2022-01-27</td>\n",
       "      <td>https://v.daum.net/v/20220127105626847</td>\n",
       "    </tr>\n",
       "    <tr>\n",
       "      <th>51345</th>\n",
       "      <td>뉴시스</td>\n",
       "      <td>84.62</td>\n",
       "      <td>조국 재판 남았다..'동일 증거·동일 혐의' 불리한 영향 불가피</td>\n",
       "      <td>2022-01-27</td>\n",
       "      <td>https://v.daum.net/v/20220127145128925</td>\n",
       "    </tr>\n",
       "    <tr>\n",
       "      <th>587541</th>\n",
       "      <td>뉴시스</td>\n",
       "      <td>84.33</td>\n",
       "      <td>檢, 정경심 '아들 입시비리 혐의' 징역 2년 구형…\"중대범죄\"</td>\n",
       "      <td>2022-11-18</td>\n",
       "      <td>https://v.daum.net/v/20221118110927242</td>\n",
       "    </tr>\n",
       "    <tr>\n",
       "      <th>385867</th>\n",
       "      <td>뉴시스</td>\n",
       "      <td>84.20</td>\n",
       "      <td>정경심, 형집행정지 신청..\"허리디스크 파열\"</td>\n",
       "      <td>2022-08-01</td>\n",
       "      <td>https://v.daum.net/v/20220801174105172</td>\n",
       "    </tr>\n",
       "    <tr>\n",
       "      <th>389088</th>\n",
       "      <td>뉴시스</td>\n",
       "      <td>83.92</td>\n",
       "      <td>[자녀살해②]반복되는 비극..\"생활고·스트레스·돌봄부담에..\"</td>\n",
       "      <td>2022-08-02</td>\n",
       "      <td>https://v.daum.net/v/20220802122026918</td>\n",
       "    </tr>\n",
       "  </tbody>\n",
       "</table>\n",
       "</div>"
      ],
      "text/plain": [
       "       press  similarity                                  title       date  \\\n",
       "414971   뉴시스       85.95         정경심, 내일 형집행정지 기로..중앙지검서 심의위 개최 2022-08-17   \n",
       "614399   뉴시스       85.74    조국 징역 5년 구형…검찰 \"명백한 사실조차 인정 안해\"(종합) 2022-12-02   \n",
       "586600   뉴시스       85.68  정경심 \"딸·아들·남편 삶 망쳐…천하의 나쁜 아내·엄마\" 법정 오열 2022-11-18   \n",
       "283648   뉴시스       85.59       '3선 교육감' 조희연, 해직교사 특채 의혹에 발목 잡히나 2022-06-03   \n",
       "587406   뉴시스       85.36  檢 \"입시비리 중대범죄\", 정경심 측 \"부당 기소\"…징역 2년 구형 2022-11-18   \n",
       "52264    뉴시스       84.82     정경심 변호인 \"안타깝다는 말씀 밖에 못 드리겠다..불쌍하다\" 2022-01-27   \n",
       "51345    뉴시스       84.62    조국 재판 남았다..'동일 증거·동일 혐의' 불리한 영향 불가피 2022-01-27   \n",
       "587541   뉴시스       84.33    檢, 정경심 '아들 입시비리 혐의' 징역 2년 구형…\"중대범죄\" 2022-11-18   \n",
       "385867   뉴시스       84.20              정경심, 형집행정지 신청..\"허리디스크 파열\" 2022-08-01   \n",
       "389088   뉴시스       83.92     [자녀살해②]반복되는 비극..\"생활고·스트레스·돌봄부담에..\" 2022-08-02   \n",
       "\n",
       "                                          link  \n",
       "414971  https://v.daum.net/v/20220817100516164  \n",
       "614399  https://v.daum.net/v/20221202145411164  \n",
       "586600  https://v.daum.net/v/20221118172209373  \n",
       "283648  https://v.daum.net/v/20220603070016675  \n",
       "587406  https://v.daum.net/v/20221118115238952  \n",
       "52264   https://v.daum.net/v/20220127105626847  \n",
       "51345   https://v.daum.net/v/20220127145128925  \n",
       "587541  https://v.daum.net/v/20221118110927242  \n",
       "385867  https://v.daum.net/v/20220801174105172  \n",
       "389088  https://v.daum.net/v/20220802122026918  "
      ]
     },
     "execution_count": 33,
     "metadata": {},
     "output_type": "execute_result"
    }
   ],
   "source": [
    "%%time\n",
    "url = \"\"\"https://v.daum.net/v/20230206162031399\"\"\"\n",
    "get_recommend_by_url(url, 10, (\"2022-01-01\", \"2022-12-31\"), \"뉴시스\")"
   ]
  },
  {
   "cell_type": "code",
   "execution_count": null,
   "id": "bab01bbd-c398-4c52-888d-5bf19445de72",
   "metadata": {},
   "outputs": [],
   "source": []
  }
 ],
 "metadata": {
  "kernelspec": {
   "display_name": "Python 3 (ipykernel)",
   "language": "python",
   "name": "python3"
  },
  "language_info": {
   "codemirror_mode": {
    "name": "ipython",
    "version": 3
   },
   "file_extension": ".py",
   "mimetype": "text/x-python",
   "name": "python",
   "nbconvert_exporter": "python",
   "pygments_lexer": "ipython3",
   "version": "3.8.15"
  }
 },
 "nbformat": 4,
 "nbformat_minor": 5
}
