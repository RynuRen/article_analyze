{
 "cells": [
  {
   "cell_type": "code",
   "execution_count": 1,
   "id": "60bf1682-662d-4fcc-afba-337723dec553",
   "metadata": {},
   "outputs": [],
   "source": [
    "\n",
    "import pandas as pd\n",
    "from glob import glob\n",
    "from tqdm import notebook"
   ]
  },
  {
   "cell_type": "code",
   "execution_count": 2,
   "id": "f189f19b-6d30-4682-90e0-5ff5ade4a1d1",
   "metadata": {},
   "outputs": [],
   "source": [
    "import pymysql as m\n",
    "import time\n",
    "import traceback"
   ]
  },
  {
   "cell_type": "code",
   "execution_count": 3,
   "id": "926263da-ab08-4400-a52c-87123865ac4a",
   "metadata": {},
   "outputs": [],
   "source": [
    "def ErrorLog_sql_dtm(error: str, element = None):\n",
    "    current_time = time.strftime(\"%Y.%m.%d/%H:%M:%S\", time.localtime(time.time()))\n",
    "    with open(\"error_Log_sql_dtm.txt\", \"a\") as f:\n",
    "        f.write(f\"[{current_time}] - {error}\\n\")\n",
    "        if element != None:\n",
    "            f.write(f\"[{element}\\n\\n\")"
   ]
  },
  {
   "cell_type": "code",
   "execution_count": null,
   "id": "2e384e82-ec77-4826-8785-6da176cbd25a",
   "metadata": {},
   "outputs": [],
   "source": []
  },
  {
   "cell_type": "code",
   "execution_count": 4,
   "id": "080558b3-6fd9-4d54-aee8-1bead7ec257e",
   "metadata": {},
   "outputs": [],
   "source": [
    "def send_mysql_select_for_fit():\n",
    "    con = m.connect(host = \"localhost\", user = 'root', db = 'mintsaveworld' , password = \"\", charset = \"utf8mb4\")\n",
    "    cur = con.cursor()\n",
    "    \n",
    "    sql = \"\"\"select link, token from society;\"\"\"\n",
    "        \n",
    "    cur.execute(sql)\n",
    "    result = cur.fetchall()\n",
    "    \n",
    "    con.commit()\n",
    "    con.close()\n",
    "\n",
    "    return result"
   ]
  },
  {
   "cell_type": "code",
   "execution_count": 5,
   "id": "95e1cad4-3c67-430a-adef-f7200531c643",
   "metadata": {},
   "outputs": [],
   "source": [
    "### table name = society_dtm\n",
    "def send_mysql_insert_tdm(dtms, linklist):\n",
    "    \n",
    "    \n",
    "    con = m.connect(host = \"localhost\", user = 'root', db = 'mintsaveworld' , password = \"\", charset = \"utf8mb4\")\n",
    "    cur = con.cursor()\n",
    "    idx = 0\n",
    "    for dtm in notebook.tqdm(dtms):\n",
    "        \n",
    "        q_link = linklist[idx]\n",
    "        q_data = str(list(dtm.data))\n",
    "        q_indices = str(list(dtm.indices))\n",
    "        q_indptr = str(list(dtm.indptr))\n",
    "\n",
    "\n",
    "\n",
    "        sql = \"\"\"insert into society_dtm values (%s,%s,%s,%s); \"\"\"\n",
    "        \n",
    "        try :\n",
    "\n",
    "            cur.execute(sql,(q_link, q_data, q_indices, q_indptr))\n",
    "        except:\n",
    "            err = traceback.format_exc().split('\\n')[-2]\n",
    "            element = q_link + q_data + q_indices + q_indptr\n",
    "            ErrorLog_sql_dtm(err, )\n",
    "            \n",
    "        idx = idx + 1\n",
    "            \n",
    "    con.commit()\n",
    "    con.close()"
   ]
  },
  {
   "cell_type": "code",
   "execution_count": 10,
   "id": "7d7fc3ea-727f-43a7-b6c4-93c5c85871ab",
   "metadata": {},
   "outputs": [],
   "source": [
    "def send_mysql_insert_tdm_shape(shape):\n",
    "    con = m.connect(host = \"localhost\", user = 'root', db = 'mintsaveworld' , password = \"\", charset = \"utf8mb4\")\n",
    "    cur = con.cursor()\n",
    "\n",
    "    q_shape = shape\n",
    "    \n",
    "    sql = \"\"\"insert into society_dtm_set values (%s); \"\"\"\n",
    "    \n",
    "    try :\n",
    "        cur.execute(sql,(q_shape))\n",
    "    except:\n",
    "            err = traceback.format_exc().split('\\n')[-2]\n",
    "            ErrorLog_sql_dtm(err)\n",
    "            \n",
    "    con.commit()\n",
    "    con.close()\n",
    "    \n",
    "    \n",
    "    "
   ]
  },
  {
   "cell_type": "code",
   "execution_count": 7,
   "id": "6e342210-c62b-4fa6-97a9-1a917c4d9dc5",
   "metadata": {},
   "outputs": [],
   "source": [
    "result = send_mysql_select_for_fit()"
   ]
  },
  {
   "cell_type": "code",
   "execution_count": 8,
   "id": "9a63a8a9-dabf-42f2-9684-60207b28c980",
   "metadata": {},
   "outputs": [
    {
     "data": {
      "text/plain": [
       "1406520"
      ]
     },
     "execution_count": 8,
     "metadata": {},
     "output_type": "execute_result"
    }
   ],
   "source": [
    "len(result)"
   ]
  },
  {
   "cell_type": "code",
   "execution_count": 9,
   "id": "79e9cb87-f566-41b5-8e87-59b53a0a5886",
   "metadata": {},
   "outputs": [],
   "source": [
    "from sklearn.feature_extraction.text import TfidfVectorizer\n",
    "from sklearn.metrics.pairwise import cosine_similarity\n",
    "import pickle"
   ]
  },
  {
   "cell_type": "code",
   "execution_count": 10,
   "id": "20aa5be8-3426-47c9-a9ae-4bbf24b631d1",
   "metadata": {},
   "outputs": [],
   "source": [
    "tfidf_vec = TfidfVectorizer()"
   ]
  },
  {
   "cell_type": "code",
   "execution_count": 11,
   "id": "9864a0e1-5f37-4252-aed6-860bf0879c30",
   "metadata": {},
   "outputs": [
    {
     "name": "stdout",
     "output_type": "stream",
     "text": [
      "Wall time: 2min 58s\n"
     ]
    },
    {
     "data": {
      "text/plain": [
       "TfidfVectorizer()"
      ]
     },
     "execution_count": 11,
     "metadata": {},
     "output_type": "execute_result"
    }
   ],
   "source": [
    "%%time\n",
    "tfidf_vec.fit(list(zip(*result))[1])"
   ]
  },
  {
   "cell_type": "code",
   "execution_count": 12,
   "id": "502ed92b-4b2f-46f6-96dd-38a579ba9264",
   "metadata": {},
   "outputs": [
    {
     "name": "stdout",
     "output_type": "stream",
     "text": [
      "Wall time: 3min 3s\n"
     ]
    }
   ],
   "source": [
    "%%time\n",
    "tfidf_dtm = tfidf_vec.transform(list(zip(*result))[1])"
   ]
  },
  {
   "cell_type": "code",
   "execution_count": 13,
   "id": "9460e221-2037-4359-be4d-7546aa45e578",
   "metadata": {},
   "outputs": [],
   "source": [
    "with open(\"../model/pickled_tfidf_vec.bin\", \"wb\") as f:\n",
    "    pickle.dump(tfidf_vec, f)"
   ]
  },
  {
   "cell_type": "code",
   "execution_count": 14,
   "id": "07c84c3e-5157-48d0-933e-c5614b5519bc",
   "metadata": {},
   "outputs": [],
   "source": [
    "with open(\"../model/pickled_tfidf_dtm.bin\", \"wb\") as f:\n",
    "    pickle.dump(tfidf_dtm, f)"
   ]
  },
  {
   "cell_type": "code",
   "execution_count": null,
   "id": "58ecd899-8368-4f81-9be5-07894d314289",
   "metadata": {},
   "outputs": [],
   "source": []
  },
  {
   "cell_type": "code",
   "execution_count": 8,
   "id": "bb3aa5c4-ca2b-4018-91ae-b63035f1c421",
   "metadata": {},
   "outputs": [],
   "source": [
    "# 필요 시 사용\n",
    "import pickle\n",
    "with open(\"../model/pickled_tfidf_dtm.bin\", \"rb\") as f:\n",
    "    tfidf_dtm = pickle.load(f)"
   ]
  },
  {
   "cell_type": "code",
   "execution_count": 9,
   "id": "96c4cb73-ae1f-4037-bf39-c2695fc6a6f2",
   "metadata": {},
   "outputs": [
    {
     "data": {
      "application/vnd.jupyter.widget-view+json": {
       "model_id": "39859806d79d442a9f510ea67908cc0e",
       "version_major": 2,
       "version_minor": 0
      },
      "text/plain": [
       "0it [00:00, ?it/s]"
      ]
     },
     "metadata": {},
     "output_type": "display_data"
    }
   ],
   "source": [
    "send_mysql_insert_tdm(tfidf_dtm, list(zip(*result))[0])"
   ]
  },
  {
   "cell_type": "code",
   "execution_count": 11,
   "id": "448ae1f3-fb8f-475f-baf3-54b9cdfc1794",
   "metadata": {},
   "outputs": [],
   "source": [
    "send_mysql_insert_tdm_shape(tfidf_dtm.shape[1])"
   ]
  },
  {
   "cell_type": "code",
   "execution_count": null,
   "id": "0a6b3ee9-d3c0-476c-8a64-7963c3a018b9",
   "metadata": {},
   "outputs": [],
   "source": [
    "#linklist list(zip(*result))[0]"
   ]
  }
 ],
 "metadata": {
  "kernelspec": {
   "display_name": "Python 3 (ipykernel)",
   "language": "python",
   "name": "python3"
  },
  "language_info": {
   "codemirror_mode": {
    "name": "ipython",
    "version": 3
   },
   "file_extension": ".py",
   "mimetype": "text/x-python",
   "name": "python",
   "nbconvert_exporter": "python",
   "pygments_lexer": "ipython3",
   "version": "3.8.15"
  }
 },
 "nbformat": 4,
 "nbformat_minor": 5
}
