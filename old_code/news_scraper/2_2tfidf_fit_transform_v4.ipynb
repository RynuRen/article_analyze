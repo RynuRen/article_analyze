{
 "cells": [
  {
   "cell_type": "markdown",
   "id": "4a29b293-9666-4c88-bd4f-718abbf0b38c",
   "metadata": {
    "tags": []
   },
   "source": [
    "# 필요한 데이터만 불러오기"
   ]
  },
  {
   "cell_type": "code",
   "execution_count": 1,
   "id": "f32f5191-a508-4e83-8b7f-0b71c46cf98e",
   "metadata": {},
   "outputs": [],
   "source": [
    "from tqdm import tqdm\n",
    "import pandas as pd\n",
    "from glob import glob"
   ]
  },
  {
   "cell_type": "code",
   "execution_count": 2,
   "id": "28f84abf-50b0-4094-9773-094665269164",
   "metadata": {
    "tags": []
   },
   "outputs": [
    {
     "name": "stderr",
     "output_type": "stream",
     "text": [
      "100%|████████████████████████████████████████████████████████████████████████████████| 730/730 [03:05<00:00,  3.93it/s]\n"
     ]
    }
   ],
   "source": [
    "files = sorted(glob('../data/*.csv'))\n",
    "data_fit = pd.DataFrame()\n",
    "for file in tqdm(files):\n",
    "    df_day = pd.read_csv(file, usecols=['okt'])\n",
    "    data_fit = pd.concat([data_fit, df_day])\n",
    "data_fit.reset_index(drop=True, inplace=True)"
   ]
  },
  {
   "cell_type": "code",
   "execution_count": 3,
   "id": "49e1ac14-b345-46f5-9a2f-f4fc462a46ab",
   "metadata": {
    "collapsed": true,
    "jupyter": {
     "outputs_hidden": true
    },
    "tags": []
   },
   "outputs": [
    {
     "data": {
      "text/html": [
       "<div>\n",
       "<style scoped>\n",
       "    .dataframe tbody tr th:only-of-type {\n",
       "        vertical-align: middle;\n",
       "    }\n",
       "\n",
       "    .dataframe tbody tr th {\n",
       "        vertical-align: top;\n",
       "    }\n",
       "\n",
       "    .dataframe thead th {\n",
       "        text-align: right;\n",
       "    }\n",
       "</style>\n",
       "<table border=\"1\" class=\"dataframe\">\n",
       "  <thead>\n",
       "    <tr style=\"text-align: right;\">\n",
       "      <th></th>\n",
       "      <th>0</th>\n",
       "    </tr>\n",
       "  </thead>\n",
       "  <tbody>\n",
       "    <tr>\n",
       "      <th>0</th>\n",
       "      <td>한국 배구 연맹 23일 주말 열리다 프로배구 4 경기 연기 다 고 1일 밝히다 중계...</td>\n",
       "    </tr>\n",
       "    <tr>\n",
       "      <th>1</th>\n",
       "      <td>아동 성범죄자 조두순 69 사진 지난달 추다 뒤 보름 외부 활동 나서다 것 전해지다...</td>\n",
       "    </tr>\n",
       "    <tr>\n",
       "      <th>2</th>\n",
       "      <td>서울 신문 추미애 구치소 집단 감염 첫 사과 집단 감염 송구 취약 부분 드러나다 빠...</td>\n",
       "    </tr>\n",
       "    <tr>\n",
       "      <th>3</th>\n",
       "      <td>정부 수도권 사회 거리 두기 조 정안 2일 발표 하다 하다 상황 지금 단계 몇 주 ...</td>\n",
       "    </tr>\n",
       "    <tr>\n",
       "      <th>4</th>\n",
       "      <td>강릉 뉴스 1 이종재 기자 새해 첫날 1일 강원 강릉 지역 찾다 해 맞이 객 지난해...</td>\n",
       "    </tr>\n",
       "    <tr>\n",
       "      <th>...</th>\n",
       "      <td>...</td>\n",
       "    </tr>\n",
       "    <tr>\n",
       "      <th>1411408</th>\n",
       "      <td>한국 남동 발전 본사 있다 지역 야학 시설 경남 진주 향토 시민 학교 후 원금 전달...</td>\n",
       "    </tr>\n",
       "    <tr>\n",
       "      <th>1411409</th>\n",
       "      <td>제주 영어 교육 도시 내 제주 한국 국제 학교 지난해 이다 올해 세계 최고 명문 하...</td>\n",
       "    </tr>\n",
       "    <tr>\n",
       "      <th>1411410</th>\n",
       "      <td>46 명의 사 상자 발생 경기 과천시 갈현 고가교 방음 터널 화재 방음 터널 안전성...</td>\n",
       "    </tr>\n",
       "    <tr>\n",
       "      <th>1411411</th>\n",
       "      <td>지난 하다 주 동안 있다 핫 뉴스 3 를 소개 하다 코너 핫 뉴스 모으다 인턴 기자...</td>\n",
       "    </tr>\n",
       "    <tr>\n",
       "      <th>1411412</th>\n",
       "      <td>술 책 함께 마시다 하다 생각 하다 책 고르다 읽다 술 술 꽂다 꽂다 두다 고르다 ...</td>\n",
       "    </tr>\n",
       "  </tbody>\n",
       "</table>\n",
       "<p>1411413 rows × 1 columns</p>\n",
       "</div>"
      ],
      "text/plain": [
       "                                                         0\n",
       "0        한국 배구 연맹 23일 주말 열리다 프로배구 4 경기 연기 다 고 1일 밝히다 중계...\n",
       "1        아동 성범죄자 조두순 69 사진 지난달 추다 뒤 보름 외부 활동 나서다 것 전해지다...\n",
       "2        서울 신문 추미애 구치소 집단 감염 첫 사과 집단 감염 송구 취약 부분 드러나다 빠...\n",
       "3        정부 수도권 사회 거리 두기 조 정안 2일 발표 하다 하다 상황 지금 단계 몇 주 ...\n",
       "4        강릉 뉴스 1 이종재 기자 새해 첫날 1일 강원 강릉 지역 찾다 해 맞이 객 지난해...\n",
       "...                                                    ...\n",
       "1411408  한국 남동 발전 본사 있다 지역 야학 시설 경남 진주 향토 시민 학교 후 원금 전달...\n",
       "1411409  제주 영어 교육 도시 내 제주 한국 국제 학교 지난해 이다 올해 세계 최고 명문 하...\n",
       "1411410  46 명의 사 상자 발생 경기 과천시 갈현 고가교 방음 터널 화재 방음 터널 안전성...\n",
       "1411411  지난 하다 주 동안 있다 핫 뉴스 3 를 소개 하다 코너 핫 뉴스 모으다 인턴 기자...\n",
       "1411412  술 책 함께 마시다 하다 생각 하다 책 고르다 읽다 술 술 꽂다 꽂다 두다 고르다 ...\n",
       "\n",
       "[1411413 rows x 1 columns]"
      ]
     },
     "execution_count": 3,
     "metadata": {},
     "output_type": "execute_result"
    }
   ],
   "source": [
    "data_fit"
   ]
  },
  {
   "cell_type": "markdown",
   "id": "503d0f40-1a5d-414b-91cf-0f693b848574",
   "metadata": {
    "tags": []
   },
   "source": [
    "# 모델 학습, 저장"
   ]
  },
  {
   "cell_type": "code",
   "execution_count": 1,
   "id": "762157db-2b9d-4b61-a111-5e0e74d05e92",
   "metadata": {},
   "outputs": [],
   "source": [
    "from sklearn.feature_extraction.text import TfidfVectorizer\n",
    "from sklearn.metrics.pairwise import cosine_similarity\n",
    "import pickle"
   ]
  },
  {
   "cell_type": "code",
   "execution_count": 2,
   "id": "9231a14d-a163-42d1-9bea-f3ffd4b670f1",
   "metadata": {},
   "outputs": [],
   "source": [
    "tfidf_vec = TfidfVectorizer()"
   ]
  },
  {
   "cell_type": "code",
   "execution_count": 6,
   "id": "d41ee3b7-4a2c-49aa-9f67-e72857058b90",
   "metadata": {
    "tags": []
   },
   "outputs": [
    {
     "name": "stdout",
     "output_type": "stream",
     "text": [
      "CPU times: total: 2min 34s\n",
      "Wall time: 2min 34s\n"
     ]
    }
   ],
   "source": [
    "%%time\n",
    "tfidf_dtm = tfidf_vec.fit_transform(data_fit[0])"
   ]
  },
  {
   "cell_type": "code",
   "execution_count": 7,
   "id": "fc7a286b-f44e-4acb-9045-701cddae8963",
   "metadata": {},
   "outputs": [],
   "source": [
    "with open(\"../model/pickled_tfidf_vec.bin\", \"wb\") as f:\n",
    "    pickle.dump(tfidf_vec, f)"
   ]
  },
  {
   "cell_type": "code",
   "execution_count": 8,
   "id": "3959c2a4-40f9-40ea-996f-5f29b0397a21",
   "metadata": {},
   "outputs": [],
   "source": [
    "with open(\"../model/pickled_tfidf_dtm.bin\", \"wb\") as f:\n",
    "    pickle.dump(tfidf_dtm, f)"
   ]
  },
  {
   "cell_type": "code",
   "execution_count": null,
   "id": "0df6a5c1-5ade-4aa3-ac2a-b766dc110a22",
   "metadata": {},
   "outputs": [],
   "source": []
  }
 ],
 "metadata": {
  "kernelspec": {
   "display_name": "Python 3 (ipykernel)",
   "language": "python",
   "name": "python3"
  },
  "language_info": {
   "codemirror_mode": {
    "name": "ipython",
    "version": 3
   },
   "file_extension": ".py",
   "mimetype": "text/x-python",
   "name": "python",
   "nbconvert_exporter": "python",
   "pygments_lexer": "ipython3",
   "version": "3.8.15"
  }
 },
 "nbformat": 4,
 "nbformat_minor": 5
}
