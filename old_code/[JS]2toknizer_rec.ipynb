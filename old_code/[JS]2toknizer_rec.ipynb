{
 "cells": [
  {
   "cell_type": "code",
   "execution_count": 98,
   "id": "68c86526-04a8-40b6-a06c-6389db6c91a5",
   "metadata": {},
   "outputs": [],
   "source": [
    "from konlpy.tag import Okt\n",
    "from tqdm import tqdm\n",
    "import pandas as pd"
   ]
  },
  {
   "cell_type": "markdown",
   "id": "ce6fb09f-6c8c-4bce-a076-ab191f723da1",
   "metadata": {
    "jp-MarkdownHeadingCollapsed": true,
    "tags": []
   },
   "source": [
    "# 형태소 추출"
   ]
  },
  {
   "cell_type": "code",
   "execution_count": 2,
   "id": "cd2fb847-ee83-42e9-9441-fa4c892ce1b9",
   "metadata": {},
   "outputs": [],
   "source": [
    "okt = Okt()"
   ]
  },
  {
   "cell_type": "code",
   "execution_count": 3,
   "id": "a3a61340-a8ea-4914-aa30-e8ddf7aafbfc",
   "metadata": {},
   "outputs": [],
   "source": [
    "loaded_data = pd.read_csv(\"./data/20230129_society.csv\")"
   ]
  },
  {
   "cell_type": "code",
   "execution_count": 4,
   "id": "d2c877a7-42dc-4477-8856-44fc55df9889",
   "metadata": {},
   "outputs": [
    {
     "name": "stderr",
     "output_type": "stream",
     "text": [
      "C:\\Users\\pros0\\AppData\\Local\\Temp\\ipykernel_7812\\3080468714.py:2: FutureWarning: The default value of regex will change from True to False in a future version.\n",
      "  loaded_data['content'] = loaded_data['content'].str.replace('[^0-9ㄱ-ㅎㅏ-ㅣ가-힣 ]', '')\n"
     ]
    }
   ],
   "source": [
    "# 한글, 숫자, 공백만 남기기\n",
    "loaded_data['content'] = loaded_data['content'].str.replace('[^0-9ㄱ-ㅎㅏ-ㅣ가-힣 ]', '')"
   ]
  },
  {
   "cell_type": "code",
   "execution_count": 5,
   "id": "51b7477c-e5fc-4a45-9e47-1d5f7d09dac1",
   "metadata": {},
   "outputs": [],
   "source": [
    "# 불용어 불러오기\n",
    "with open('./stopwords.txt', 'r', encoding='utf-8') as f:\n",
    "    stopwords = f.readlines()\n",
    "stopwords = [line.rstrip('\\n') for line in stopwords]"
   ]
  },
  {
   "cell_type": "code",
   "execution_count": 6,
   "id": "676313f0-3d37-4ae9-9bb3-e813435b851d",
   "metadata": {},
   "outputs": [
    {
     "name": "stderr",
     "output_type": "stream",
     "text": [
      "100%|█████████████████████████████████████████████████████████████████████████████████████████████████████████████████████████████████| 1383/1383 [00:55<00:00, 24.85it/s]\n"
     ]
    }
   ],
   "source": [
    "token_contents = []\n",
    "for content in tqdm(loaded_data['content']):\n",
    "    token_content = okt.morphs(content, norm=True, stem=True)\n",
    "    token_content_filtered = [word for word in token_content if not word in stopwords]\n",
    "    token_contents.append(' '.join(token_content_filtered))"
   ]
  },
  {
   "cell_type": "code",
   "execution_count": 7,
   "id": "7734cb28-74ed-4a88-a791-4108ca72e307",
   "metadata": {},
   "outputs": [],
   "source": [
    "loaded_data['token'] = token_contents"
   ]
  },
  {
   "cell_type": "code",
   "execution_count": 8,
   "id": "ab9377db-991e-4472-aba1-7c64063d763e",
   "metadata": {
    "collapsed": true,
    "jupyter": {
     "outputs_hidden": true
    },
    "tags": []
   },
   "outputs": [
    {
     "data": {
      "text/html": [
       "<div>\n",
       "<style scoped>\n",
       "    .dataframe tbody tr th:only-of-type {\n",
       "        vertical-align: middle;\n",
       "    }\n",
       "\n",
       "    .dataframe tbody tr th {\n",
       "        vertical-align: top;\n",
       "    }\n",
       "\n",
       "    .dataframe thead th {\n",
       "        text-align: right;\n",
       "    }\n",
       "</style>\n",
       "<table border=\"1\" class=\"dataframe\">\n",
       "  <thead>\n",
       "    <tr style=\"text-align: right;\">\n",
       "      <th></th>\n",
       "      <th>Unnamed: 0</th>\n",
       "      <th>arcid</th>\n",
       "      <th>press</th>\n",
       "      <th>title</th>\n",
       "      <th>content</th>\n",
       "      <th>journalist</th>\n",
       "      <th>date</th>\n",
       "      <th>link</th>\n",
       "      <th>category</th>\n",
       "      <th>token</th>\n",
       "    </tr>\n",
       "  </thead>\n",
       "  <tbody>\n",
       "    <tr>\n",
       "      <th>0</th>\n",
       "      <td>0</td>\n",
       "      <td>235502989</td>\n",
       "      <td>한겨레</td>\n",
       "      <td>1월30일 궂긴소식</td>\n",
       "      <td>조규용씨 별세 배월선씨 남편 세현사진작가 서울 중구문화재단 사장 종현 정우 기정씨...</td>\n",
       "      <td>한겨레 기자</td>\n",
       "      <td>20230129</td>\n",
       "      <td>https://v.daum.net/v/20230129235502989</td>\n",
       "      <td>society</td>\n",
       "      <td>조 규 용씨 별세 배월 선씨 남편 세 현 사진작가 서울 중구 문화재단 사장 종현 정...</td>\n",
       "    </tr>\n",
       "    <tr>\n",
       "      <th>1</th>\n",
       "      <td>1</td>\n",
       "      <td>234609963</td>\n",
       "      <td>조선일보</td>\n",
       "      <td>갑자기 버스 세우더니 불길 속으로…‘소방차 10대’ 역할한 남성</td>\n",
       "      <td>자칫 대형 화재가 될 뻔했던 불길이 시내버스 기사의 신속한 초동 대처로 빠르게 진압...</td>\n",
       "      <td>박선민 기자</td>\n",
       "      <td>20230129</td>\n",
       "      <td>https://v.daum.net/v/20230129234609963</td>\n",
       "      <td>society</td>\n",
       "      <td>자칫 대형 화재 되다 뻔하다 불길 시내버스 기사 신속하다 초동 대처 빠르다 진압됐다...</td>\n",
       "    </tr>\n",
       "    <tr>\n",
       "      <th>2</th>\n",
       "      <td>2</td>\n",
       "      <td>234000935</td>\n",
       "      <td>뉴시스</td>\n",
       "      <td>부산 동래구 교차로서 5중 충돌사고…5명 중·경상</td>\n",
       "      <td>부산뉴시스이동민 기자  29일 오후 6시 5분께 부산 동래구의 교차로에서 달리던 그...</td>\n",
       "      <td>이동민 기자</td>\n",
       "      <td>20230129</td>\n",
       "      <td>https://v.daum.net/v/20230129234000935</td>\n",
       "      <td>society</td>\n",
       "      <td>부산 뉴시스 동민 기자 29일 오후 6시 5분 께 부산 동래구 교차로 달리다 그랜저...</td>\n",
       "    </tr>\n",
       "    <tr>\n",
       "      <th>3</th>\n",
       "      <td>3</td>\n",
       "      <td>233948934</td>\n",
       "      <td>뉴시스</td>\n",
       "      <td>통영해경, 용남면 뱀섬 인근 침수어선 구조…인명피해 및 해양오염 없어</td>\n",
       "      <td>기사내용 요약 침수어선 사천에서 마산으로 이동중 암초에 좌초 통영뉴시스 신정철 기자...</td>\n",
       "      <td>신정철 기자</td>\n",
       "      <td>20230129</td>\n",
       "      <td>https://v.daum.net/v/20230129233948934</td>\n",
       "      <td>society</td>\n",
       "      <td>기사 내용 요약 침수 어선 사천 마산 이동 중 암초 좌초 통영 뉴시스 신 정철 기자...</td>\n",
       "    </tr>\n",
       "    <tr>\n",
       "      <th>4</th>\n",
       "      <td>4</td>\n",
       "      <td>233453917</td>\n",
       "      <td>조선일보</td>\n",
       "      <td>법원, ‘창원간첩단 사건’ 관련자 4명 체포적부심 기각</td>\n",
       "      <td>국가보안법 위반 혐의로 지난 28일 체포됐던 이른바 창원간첩단 사건 관련자 4명이 ...</td>\n",
       "      <td>허욱 기자</td>\n",
       "      <td>20230129</td>\n",
       "      <td>https://v.daum.net/v/20230129233453917</td>\n",
       "      <td>society</td>\n",
       "      <td>국가보안법 위반 혐의 지난 28일 체포 돼다 이른바 창원 간첩 단 사건 관련 4 명...</td>\n",
       "    </tr>\n",
       "    <tr>\n",
       "      <th>...</th>\n",
       "      <td>...</td>\n",
       "      <td>...</td>\n",
       "      <td>...</td>\n",
       "      <td>...</td>\n",
       "      <td>...</td>\n",
       "      <td>...</td>\n",
       "      <td>...</td>\n",
       "      <td>...</td>\n",
       "      <td>...</td>\n",
       "      <td>...</td>\n",
       "    </tr>\n",
       "    <tr>\n",
       "      <th>1378</th>\n",
       "      <td>1378</td>\n",
       "      <td>45006203</td>\n",
       "      <td>연합뉴스</td>\n",
       "      <td>영유아 코로나 예방접종 내일부터 예약…8주 간격 3회 접종</td>\n",
       "      <td>서울연합뉴스 김영신 기자  생후 6개월에서 4세까지 영유아를 대상으로 한 코로나19...</td>\n",
       "      <td>김영신 기자</td>\n",
       "      <td>20230129</td>\n",
       "      <td>https://v.daum.net/v/20230129045006203</td>\n",
       "      <td>society</td>\n",
       "      <td>서울 연합뉴스 김영신 기자 생후 6 개월 4 세 유아 대상 하다 코로나 19 예방접...</td>\n",
       "    </tr>\n",
       "    <tr>\n",
       "      <th>1379</th>\n",
       "      <td>1379</td>\n",
       "      <td>44506197</td>\n",
       "      <td>연합뉴스</td>\n",
       "      <td>내일부터 실내마스크 착용 '자유'…대중교통·병원선 꼭 써야</td>\n",
       "      <td>서울연합뉴스 조민정 기자  30일부터 대중교통 병원 등 일부 시설을 제외하곤 실내에...</td>\n",
       "      <td>조민정 기자</td>\n",
       "      <td>20230129</td>\n",
       "      <td>https://v.daum.net/v/20230129044506197</td>\n",
       "      <td>society</td>\n",
       "      <td>서울 연합뉴스 조 민정 기자 30일 대중교통 병원 일부 시설 제외 곤 실내 에서도 ...</td>\n",
       "    </tr>\n",
       "    <tr>\n",
       "      <th>1380</th>\n",
       "      <td>1380</td>\n",
       "      <td>40018123</td>\n",
       "      <td>뉴시스</td>\n",
       "      <td>[오늘날씨]최저 영하 16도 한파…전국 곳곳 눈 소식</td>\n",
       "      <td>기사내용 요약 아침 최저 160도 낮 최고 17도 충남전라 서해안 01 강원 13 ...</td>\n",
       "      <td>전재훈 기자</td>\n",
       "      <td>20230129</td>\n",
       "      <td>https://v.daum.net/v/20230129040018123</td>\n",
       "      <td>society</td>\n",
       "      <td>기사 내용 요약 아침 최저 160 도 낮 최고 17 도 충남 전라 서해안 01 강원...</td>\n",
       "    </tr>\n",
       "    <tr>\n",
       "      <th>1381</th>\n",
       "      <td>1381</td>\n",
       "      <td>13006035</td>\n",
       "      <td>문화일보</td>\n",
       "      <td>이케아 광명점 천장 누수…승강기에 갇힌 고객, 매장 바닥은 물바다</td>\n",
       "      <td>수도권 주민들이 쇼핑을 위해 많이 찾는 경기 광명시 이케아 매장에서 천장 누수가 발...</td>\n",
       "      <td>오남석 기자</td>\n",
       "      <td>20230129</td>\n",
       "      <td>https://v.daum.net/v/20230129013006035</td>\n",
       "      <td>society</td>\n",
       "      <td>수도권 주민 쇼핑 위해 많이 찾다 경기 광명시 이케아 매장 천장 누수 발생 영업 장...</td>\n",
       "    </tr>\n",
       "    <tr>\n",
       "      <th>1382</th>\n",
       "      <td>1382</td>\n",
       "      <td>1113879</td>\n",
       "      <td>세계일보</td>\n",
       "      <td>교원평가 성희롱, 교권 붕괴와 젠더 권력의 콜라보 [정지혜의 빨간약]</td>\n",
       "      <td>여론은 학생이 선생님에게 어떻게 그런 말을 할 수 있냐고 놀랍니다 하지만 현재 교육...</td>\n",
       "      <td>정지혜 기자</td>\n",
       "      <td>20230129</td>\n",
       "      <td>https://v.daum.net/v/20230129001113879</td>\n",
       "      <td>society</td>\n",
       "      <td>여론 은 학생 선생님 어떻다 그렇다 말 하다 수 현재 교육 현장 이렇다 성희롱 은 ...</td>\n",
       "    </tr>\n",
       "  </tbody>\n",
       "</table>\n",
       "<p>1383 rows × 10 columns</p>\n",
       "</div>"
      ],
      "text/plain": [
       "      Unnamed: 0      arcid press                                   title  \\\n",
       "0              0  235502989   한겨레                              1월30일 궂긴소식   \n",
       "1              1  234609963  조선일보     갑자기 버스 세우더니 불길 속으로…‘소방차 10대’ 역할한 남성   \n",
       "2              2  234000935   뉴시스             부산 동래구 교차로서 5중 충돌사고…5명 중·경상   \n",
       "3              3  233948934   뉴시스  통영해경, 용남면 뱀섬 인근 침수어선 구조…인명피해 및 해양오염 없어   \n",
       "4              4  233453917  조선일보          법원, ‘창원간첩단 사건’ 관련자 4명 체포적부심 기각   \n",
       "...          ...        ...   ...                                     ...   \n",
       "1378        1378   45006203  연합뉴스        영유아 코로나 예방접종 내일부터 예약…8주 간격 3회 접종   \n",
       "1379        1379   44506197  연합뉴스        내일부터 실내마스크 착용 '자유'…대중교통·병원선 꼭 써야   \n",
       "1380        1380   40018123   뉴시스           [오늘날씨]최저 영하 16도 한파…전국 곳곳 눈 소식   \n",
       "1381        1381   13006035  문화일보    이케아 광명점 천장 누수…승강기에 갇힌 고객, 매장 바닥은 물바다   \n",
       "1382        1382    1113879  세계일보  교원평가 성희롱, 교권 붕괴와 젠더 권력의 콜라보 [정지혜의 빨간약]   \n",
       "\n",
       "                                                content journalist      date  \\\n",
       "0      조규용씨 별세 배월선씨 남편 세현사진작가 서울 중구문화재단 사장 종현 정우 기정씨...     한겨레 기자  20230129   \n",
       "1     자칫 대형 화재가 될 뻔했던 불길이 시내버스 기사의 신속한 초동 대처로 빠르게 진압...     박선민 기자  20230129   \n",
       "2     부산뉴시스이동민 기자  29일 오후 6시 5분께 부산 동래구의 교차로에서 달리던 그...     이동민 기자  20230129   \n",
       "3     기사내용 요약 침수어선 사천에서 마산으로 이동중 암초에 좌초 통영뉴시스 신정철 기자...     신정철 기자  20230129   \n",
       "4     국가보안법 위반 혐의로 지난 28일 체포됐던 이른바 창원간첩단 사건 관련자 4명이 ...      허욱 기자  20230129   \n",
       "...                                                 ...        ...       ...   \n",
       "1378  서울연합뉴스 김영신 기자  생후 6개월에서 4세까지 영유아를 대상으로 한 코로나19...     김영신 기자  20230129   \n",
       "1379  서울연합뉴스 조민정 기자  30일부터 대중교통 병원 등 일부 시설을 제외하곤 실내에...     조민정 기자  20230129   \n",
       "1380  기사내용 요약 아침 최저 160도 낮 최고 17도 충남전라 서해안 01 강원 13 ...     전재훈 기자  20230129   \n",
       "1381  수도권 주민들이 쇼핑을 위해 많이 찾는 경기 광명시 이케아 매장에서 천장 누수가 발...     오남석 기자  20230129   \n",
       "1382  여론은 학생이 선생님에게 어떻게 그런 말을 할 수 있냐고 놀랍니다 하지만 현재 교육...     정지혜 기자  20230129   \n",
       "\n",
       "                                        link category  \\\n",
       "0     https://v.daum.net/v/20230129235502989  society   \n",
       "1     https://v.daum.net/v/20230129234609963  society   \n",
       "2     https://v.daum.net/v/20230129234000935  society   \n",
       "3     https://v.daum.net/v/20230129233948934  society   \n",
       "4     https://v.daum.net/v/20230129233453917  society   \n",
       "...                                      ...      ...   \n",
       "1378  https://v.daum.net/v/20230129045006203  society   \n",
       "1379  https://v.daum.net/v/20230129044506197  society   \n",
       "1380  https://v.daum.net/v/20230129040018123  society   \n",
       "1381  https://v.daum.net/v/20230129013006035  society   \n",
       "1382  https://v.daum.net/v/20230129001113879  society   \n",
       "\n",
       "                                                  token  \n",
       "0     조 규 용씨 별세 배월 선씨 남편 세 현 사진작가 서울 중구 문화재단 사장 종현 정...  \n",
       "1     자칫 대형 화재 되다 뻔하다 불길 시내버스 기사 신속하다 초동 대처 빠르다 진압됐다...  \n",
       "2     부산 뉴시스 동민 기자 29일 오후 6시 5분 께 부산 동래구 교차로 달리다 그랜저...  \n",
       "3     기사 내용 요약 침수 어선 사천 마산 이동 중 암초 좌초 통영 뉴시스 신 정철 기자...  \n",
       "4     국가보안법 위반 혐의 지난 28일 체포 돼다 이른바 창원 간첩 단 사건 관련 4 명...  \n",
       "...                                                 ...  \n",
       "1378  서울 연합뉴스 김영신 기자 생후 6 개월 4 세 유아 대상 하다 코로나 19 예방접...  \n",
       "1379  서울 연합뉴스 조 민정 기자 30일 대중교통 병원 일부 시설 제외 곤 실내 에서도 ...  \n",
       "1380  기사 내용 요약 아침 최저 160 도 낮 최고 17 도 충남 전라 서해안 01 강원...  \n",
       "1381  수도권 주민 쇼핑 위해 많이 찾다 경기 광명시 이케아 매장 천장 누수 발생 영업 장...  \n",
       "1382  여론 은 학생 선생님 어떻다 그렇다 말 하다 수 현재 교육 현장 이렇다 성희롱 은 ...  \n",
       "\n",
       "[1383 rows x 10 columns]"
      ]
     },
     "execution_count": 8,
     "metadata": {},
     "output_type": "execute_result"
    }
   ],
   "source": [
    "loaded_data"
   ]
  },
  {
   "cell_type": "markdown",
   "id": "8cd43b32-b0b7-47ca-936f-f411dac9f6e0",
   "metadata": {
    "tags": []
   },
   "source": [
    "# 모든 csv 형태소 추출"
   ]
  },
  {
   "cell_type": "code",
   "execution_count": 96,
   "id": "3b94554a-9bf3-4cbe-a237-cc63cab21224",
   "metadata": {},
   "outputs": [],
   "source": [
    "from glob import glob"
   ]
  },
  {
   "cell_type": "code",
   "execution_count": 100,
   "id": "092f0fcd-cf93-4eb1-9ced-25b483a8036d",
   "metadata": {},
   "outputs": [],
   "source": [
    "def content_tokenizer(df_day):\n",
    "    # 한글, 숫자, 공백만 남기기\n",
    "    df_day['content'] = df_day['content'].str.replace('[^0-9ㄱ-ㅎㅏ-ㅣ가-힣 ]', '', regex=True)\n",
    "    token_contents = []\n",
    "    date_s = str(df_day['date'].values[0]).strip()\n",
    "    for content in tqdm(df_day['content'], desc=date_s):\n",
    "        token_content = okt.morphs(content, norm=True, stem=True)\n",
    "        # 불용어 처리\n",
    "        token_content_filtered = [word for word in token_content if not word in stopwords]\n",
    "        token_contents.append(' '.join(token_content_filtered))\n",
    "    df_day['token'] = token_contents\n",
    "    return df_day"
   ]
  },
  {
   "cell_type": "code",
   "execution_count": 101,
   "id": "da99e730-85c4-49a6-b076-a436e88d8d5a",
   "metadata": {
    "tags": []
   },
   "outputs": [
    {
     "name": "stderr",
     "output_type": "stream",
     "text": [
      "20230129: 100%|███████████████████████████████████████████████████████████████████████████████████████████████████████████████████████| 1383/1383 [00:44<00:00, 31.42it/s]\n",
      "20230130: 100%|███████████████████████████████████████████████████████████████████████████████████████████████████████████████████████| 3430/3430 [01:55<00:00, 29.81it/s]\n",
      "20230131: 100%|███████████████████████████████████████████████████████████████████████████████████████████████████████████████████████| 3200/3200 [01:58<00:00, 26.99it/s]\n"
     ]
    }
   ],
   "source": [
    "files = glob('./data/*.csv')\n",
    "for file in files:\n",
    "    df_day = pd.read_csv(file)\n",
    "    date_s = file.split('\\\\')[-1].split('_')[0]\n",
    "    df_day = content_tokenizer(df_day)\n",
    "    df_day.to_csv(file, index=False)"
   ]
  },
  {
   "cell_type": "markdown",
   "id": "1be818e5-5467-48bb-ba95-410c368c847b",
   "metadata": {
    "jp-MarkdownHeadingCollapsed": true,
    "tags": []
   },
   "source": [
    "# 유사도 추천"
   ]
  },
  {
   "cell_type": "code",
   "execution_count": 102,
   "id": "0d5ad3bc-5e75-405f-9007-5eba0f554fea",
   "metadata": {},
   "outputs": [],
   "source": [
    "from sklearn.feature_extraction.text import TfidfVectorizer\n",
    "from sklearn.metrics.pairwise import cosine_similarity"
   ]
  },
  {
   "cell_type": "code",
   "execution_count": 103,
   "id": "caf7d9ed-3867-43a3-b451-00c8edac0675",
   "metadata": {},
   "outputs": [],
   "source": [
    "loaded_data = pd.read_csv(\"./data/20230129_society.csv\")"
   ]
  },
  {
   "cell_type": "code",
   "execution_count": 104,
   "id": "3867128b-5684-4cff-a61a-f218462a71bd",
   "metadata": {},
   "outputs": [],
   "source": [
    "ftidf_vec = TfidfVectorizer()"
   ]
  },
  {
   "cell_type": "code",
   "execution_count": 105,
   "id": "aa5a3370-4238-4391-8b64-62af7fe47da0",
   "metadata": {},
   "outputs": [],
   "source": [
    "tfidf_dtm = ftidf_vec.fit_transform(loaded_data['token'])"
   ]
  },
  {
   "cell_type": "code",
   "execution_count": 106,
   "id": "9ff7a77a-fac8-4c40-bd82-2695529b53a0",
   "metadata": {},
   "outputs": [],
   "source": [
    "cos_sim_res = cosine_similarity(tfidf_dtm, tfidf_dtm)"
   ]
  },
  {
   "cell_type": "code",
   "execution_count": 107,
   "id": "00c6aa79-86a7-48cd-a555-79ef530ac28a",
   "metadata": {},
   "outputs": [],
   "source": [
    "arcid_to_index = dict(zip(loaded_data['arcid'], loaded_data.index))"
   ]
  },
  {
   "cell_type": "code",
   "execution_count": 108,
   "id": "a528dab4-7fa2-44ab-958e-4c37224ee4ae",
   "metadata": {},
   "outputs": [],
   "source": [
    "def get_recommend(title, n):\n",
    "    arcid = loaded_data.loc[loaded_data['title'] == title]['arcid'].values[0]\n",
    "    idx = arcid_to_index[arcid]\n",
    "    sim_scores = list(enumerate(cos_sim_res[idx]))\n",
    "    sim_scores = sorted(sim_scores, key=lambda x: x[1], reverse=True)\n",
    "    sim_scores_n = sim_scores[1:n+1]\n",
    "    sim_scores_n = [sim for sim in sim_scores_n if sim[1] >= 0.6] # 유사도 60% 이상 필터\n",
    "    article_idx = [article_dict[0] for article_dict in sim_scores_n]\n",
    "    rst  = loaded_data.iloc[article_idx][['title', 'date', 'link']]\n",
    "    rst['similarity'] = [round(sim[1], 4)*100 for sim in sim_scores_n]\n",
    "    return rst[['similarity', 'title', 'date', 'link']]"
   ]
  },
  {
   "cell_type": "code",
   "execution_count": 109,
   "id": "331d17ab-b7a6-45aa-a59e-edaa84c8a578",
   "metadata": {},
   "outputs": [
    {
     "data": {
      "text/html": [
       "<div>\n",
       "<style scoped>\n",
       "    .dataframe tbody tr th:only-of-type {\n",
       "        vertical-align: middle;\n",
       "    }\n",
       "\n",
       "    .dataframe tbody tr th {\n",
       "        vertical-align: top;\n",
       "    }\n",
       "\n",
       "    .dataframe thead th {\n",
       "        text-align: right;\n",
       "    }\n",
       "</style>\n",
       "<table border=\"1\" class=\"dataframe\">\n",
       "  <thead>\n",
       "    <tr style=\"text-align: right;\">\n",
       "      <th></th>\n",
       "      <th>similarity</th>\n",
       "      <th>title</th>\n",
       "      <th>date</th>\n",
       "      <th>link</th>\n",
       "    </tr>\n",
       "  </thead>\n",
       "  <tbody>\n",
       "    <tr>\n",
       "      <th>85</th>\n",
       "      <td>70.82</td>\n",
       "      <td>\"소방차 10대 역할\" 119도 놀랐다…참사 막은 버스기사의 기지</td>\n",
       "      <td>20230129</td>\n",
       "      <td>https://v.daum.net/v/20230129185658951</td>\n",
       "    </tr>\n",
       "    <tr>\n",
       "      <th>130</th>\n",
       "      <td>66.62</td>\n",
       "      <td>버스 세우고 소화기 들고 상가 불끄러 간 경주 60대 기사…큰 불 막아</td>\n",
       "      <td>20230129</td>\n",
       "      <td>https://v.daum.net/v/20230129174944815</td>\n",
       "    </tr>\n",
       "    <tr>\n",
       "      <th>60</th>\n",
       "      <td>62.26</td>\n",
       "      <td>“할 일 했을 뿐…” 경주 시내버스 기사, 소화기로 상가 화재 막았다</td>\n",
       "      <td>20230129</td>\n",
       "      <td>https://v.daum.net/v/20230129203005750</td>\n",
       "    </tr>\n",
       "  </tbody>\n",
       "</table>\n",
       "</div>"
      ],
      "text/plain": [
       "     similarity                                    title      date  \\\n",
       "85        70.82     \"소방차 10대 역할\" 119도 놀랐다…참사 막은 버스기사의 기지  20230129   \n",
       "130       66.62  버스 세우고 소화기 들고 상가 불끄러 간 경주 60대 기사…큰 불 막아  20230129   \n",
       "60        62.26   “할 일 했을 뿐…” 경주 시내버스 기사, 소화기로 상가 화재 막았다  20230129   \n",
       "\n",
       "                                       link  \n",
       "85   https://v.daum.net/v/20230129185658951  \n",
       "130  https://v.daum.net/v/20230129174944815  \n",
       "60   https://v.daum.net/v/20230129203005750  "
      ]
     },
     "execution_count": 109,
     "metadata": {},
     "output_type": "execute_result"
    }
   ],
   "source": [
    "get_recommend(\"갑자기 버스 세우더니 불길 속으로…‘소방차 10대’ 역할한 남성\", 5)"
   ]
  },
  {
   "cell_type": "markdown",
   "id": "cee37ee1-28ad-4256-a6d5-61e27e7e1ea9",
   "metadata": {},
   "source": [
    "# 데이터 모두 불러와 합치기"
   ]
  },
  {
   "cell_type": "code",
   "execution_count": 110,
   "id": "42ce5962-0a57-4e94-976c-bedbae3b05bf",
   "metadata": {},
   "outputs": [],
   "source": [
    "from glob import glob"
   ]
  },
  {
   "cell_type": "code",
   "execution_count": 116,
   "id": "f8f9d1b5-d673-4440-bb79-4da6d6873e2b",
   "metadata": {},
   "outputs": [
    {
     "name": "stderr",
     "output_type": "stream",
     "text": [
      "100%|███████████████████████████████████████████████████████████████████████████████████████████████████████████████████████████████████████| 3/3 [00:00<00:00,  6.02it/s]\n"
     ]
    }
   ],
   "source": [
    "files = sorted(glob('./data/*.csv'))\n",
    "date_cols = ['date']\n",
    "data_all = pd.DataFrame()\n",
    "for file in tqdm(files):\n",
    "    df_day = pd.read_csv(file, parse_dates=date_cols) # date 컬럼 datetime 형식으로 불러오기\n",
    "    data_all = pd.concat([data_all, df_day])\n",
    "data_all.reset_index(drop=True, inplace=True)"
   ]
  },
  {
   "cell_type": "code",
   "execution_count": 117,
   "id": "0c618121-8d7c-49dc-bf3b-679beca7ea3a",
   "metadata": {
    "collapsed": true,
    "jupyter": {
     "outputs_hidden": true
    },
    "tags": []
   },
   "outputs": [
    {
     "data": {
      "text/html": [
       "<div>\n",
       "<style scoped>\n",
       "    .dataframe tbody tr th:only-of-type {\n",
       "        vertical-align: middle;\n",
       "    }\n",
       "\n",
       "    .dataframe tbody tr th {\n",
       "        vertical-align: top;\n",
       "    }\n",
       "\n",
       "    .dataframe thead th {\n",
       "        text-align: right;\n",
       "    }\n",
       "</style>\n",
       "<table border=\"1\" class=\"dataframe\">\n",
       "  <thead>\n",
       "    <tr style=\"text-align: right;\">\n",
       "      <th></th>\n",
       "      <th>arcid</th>\n",
       "      <th>press</th>\n",
       "      <th>title</th>\n",
       "      <th>content</th>\n",
       "      <th>journalist</th>\n",
       "      <th>date</th>\n",
       "      <th>link</th>\n",
       "      <th>category</th>\n",
       "      <th>token</th>\n",
       "    </tr>\n",
       "  </thead>\n",
       "  <tbody>\n",
       "    <tr>\n",
       "      <th>0</th>\n",
       "      <td>235502989</td>\n",
       "      <td>한겨레</td>\n",
       "      <td>1월30일 궂긴소식</td>\n",
       "      <td>조규용씨 별세 배월선씨 남편 세현사진작가 서울 중구문화재단 사장 종현 정우 기정씨...</td>\n",
       "      <td>한겨레 기자</td>\n",
       "      <td>2023-01-29</td>\n",
       "      <td>https://v.daum.net/v/20230129235502989</td>\n",
       "      <td>society</td>\n",
       "      <td>조 규 용씨 별세 배월 선씨 남편 세 현 사진작가 서울 중구 문화재단 사장 종현 정...</td>\n",
       "    </tr>\n",
       "    <tr>\n",
       "      <th>1</th>\n",
       "      <td>234609963</td>\n",
       "      <td>조선일보</td>\n",
       "      <td>갑자기 버스 세우더니 불길 속으로…‘소방차 10대’ 역할한 남성</td>\n",
       "      <td>자칫 대형 화재가 될 뻔했던 불길이 시내버스 기사의 신속한 초동 대처로 빠르게 진압...</td>\n",
       "      <td>박선민 기자</td>\n",
       "      <td>2023-01-29</td>\n",
       "      <td>https://v.daum.net/v/20230129234609963</td>\n",
       "      <td>society</td>\n",
       "      <td>자칫 대형 화재 되다 뻔하다 불길 시내버스 기사 신속하다 초동 대처 빠르다 진압됐다...</td>\n",
       "    </tr>\n",
       "    <tr>\n",
       "      <th>2</th>\n",
       "      <td>234000935</td>\n",
       "      <td>뉴시스</td>\n",
       "      <td>부산 동래구 교차로서 5중 충돌사고…5명 중·경상</td>\n",
       "      <td>부산뉴시스이동민 기자  29일 오후 6시 5분께 부산 동래구의 교차로에서 달리던 그...</td>\n",
       "      <td>이동민 기자</td>\n",
       "      <td>2023-01-29</td>\n",
       "      <td>https://v.daum.net/v/20230129234000935</td>\n",
       "      <td>society</td>\n",
       "      <td>부산 뉴시스 동민 기자 29일 오후 6시 5분 께 부산 동래구 교차로 달리다 그랜저...</td>\n",
       "    </tr>\n",
       "    <tr>\n",
       "      <th>3</th>\n",
       "      <td>233948934</td>\n",
       "      <td>뉴시스</td>\n",
       "      <td>통영해경, 용남면 뱀섬 인근 침수어선 구조…인명피해 및 해양오염 없어</td>\n",
       "      <td>기사내용 요약 침수어선 사천에서 마산으로 이동중 암초에 좌초 통영뉴시스 신정철 기자...</td>\n",
       "      <td>신정철 기자</td>\n",
       "      <td>2023-01-29</td>\n",
       "      <td>https://v.daum.net/v/20230129233948934</td>\n",
       "      <td>society</td>\n",
       "      <td>기사 내용 요약 침수 어선 사천 마산 이동 중 암초 좌초 통영 뉴시스 신 정철 기자...</td>\n",
       "    </tr>\n",
       "    <tr>\n",
       "      <th>4</th>\n",
       "      <td>233453917</td>\n",
       "      <td>조선일보</td>\n",
       "      <td>법원, ‘창원간첩단 사건’ 관련자 4명 체포적부심 기각</td>\n",
       "      <td>국가보안법 위반 혐의로 지난 28일 체포됐던 이른바 창원간첩단 사건 관련자 4명이 ...</td>\n",
       "      <td>허욱 기자</td>\n",
       "      <td>2023-01-29</td>\n",
       "      <td>https://v.daum.net/v/20230129233453917</td>\n",
       "      <td>society</td>\n",
       "      <td>국가보안법 위반 혐의 지난 28일 체포 돼다 이른바 창원 간첩 단 사건 관련 4 명...</td>\n",
       "    </tr>\n",
       "    <tr>\n",
       "      <th>...</th>\n",
       "      <td>...</td>\n",
       "      <td>...</td>\n",
       "      <td>...</td>\n",
       "      <td>...</td>\n",
       "      <td>...</td>\n",
       "      <td>...</td>\n",
       "      <td>...</td>\n",
       "      <td>...</td>\n",
       "      <td>...</td>\n",
       "    </tr>\n",
       "    <tr>\n",
       "      <th>8008</th>\n",
       "      <td>254932</td>\n",
       "      <td>중앙일보</td>\n",
       "      <td>사료값만 1억원…한우 농가 “소 먹이 주는 것도 겁나”</td>\n",
       "      <td>20년간 한우를 키우면서 볏짚 가격이 이렇게 비싼 적은 처음입니다 소먹이에만 1억원...</td>\n",
       "      <td>김정석 기자</td>\n",
       "      <td>2023-01-31</td>\n",
       "      <td>https://v.daum.net/v/20230131000254932</td>\n",
       "      <td>society</td>\n",
       "      <td>20년 간 한우 키우다 볏짚 가격 이렇게 비싸다 적다 처음 이다 소 먹이 에만 1억...</td>\n",
       "    </tr>\n",
       "    <tr>\n",
       "      <th>8009</th>\n",
       "      <td>244929</td>\n",
       "      <td>중앙일보</td>\n",
       "      <td>1㎏에 3만5000원…벌교 참꼬막이 ‘갯벌 진주’ 된 이유</td>\n",
       "      <td>예전엔 아짐아주머니 한 분이 1도 넘게 잡았제 키로에 1000원 하던 꼬막이 지금은...</td>\n",
       "      <td>최경호 기자</td>\n",
       "      <td>2023-01-31</td>\n",
       "      <td>https://v.daum.net/v/20230131000244929</td>\n",
       "      <td>society</td>\n",
       "      <td>예전 엔 짐 아주머니 하다 분 1 도 넘다 잡다 키로 1000원 하다 꼬막 지금 은...</td>\n",
       "    </tr>\n",
       "    <tr>\n",
       "      <th>8010</th>\n",
       "      <td>242928</td>\n",
       "      <td>중앙일보</td>\n",
       "      <td>[사진] 나흘 뒤면 입춘, 매화꽃도 기지개 펴요</td>\n",
       "      <td>전국에 한파가 몰아친 30일 입춘을 닷새 앞두고 부산 남구 동명대학교 본관 앞 정원...</td>\n",
       "      <td>송봉근 기자</td>\n",
       "      <td>2023-01-31</td>\n",
       "      <td>https://v.daum.net/v/20230131000242928</td>\n",
       "      <td>society</td>\n",
       "      <td>전국 한파 몰아치다 30일 입춘 닷새 앞두다 부산 남구 동명대학교 본관 앞 정원 매...</td>\n",
       "    </tr>\n",
       "    <tr>\n",
       "      <th>8011</th>\n",
       "      <td>240927</td>\n",
       "      <td>중앙일보</td>\n",
       "      <td>“일할 사람 구합니다”…한국 최고 ‘부자도시’가 소멸 위기?</td>\n",
       "      <td>1인당 지역총소득 5935만원 지역내총생산 6913만원 각각 5421만원4965만원...</td>\n",
       "      <td>김윤호 기자</td>\n",
       "      <td>2023-01-31</td>\n",
       "      <td>https://v.daum.net/v/20230131000240927</td>\n",
       "      <td>society</td>\n",
       "      <td>1 이다 지역 총 소득 5935만원 지역 내 총 생산 6913만원 5421만원 49...</td>\n",
       "    </tr>\n",
       "    <tr>\n",
       "      <th>8012</th>\n",
       "      <td>237925</td>\n",
       "      <td>중앙일보</td>\n",
       "      <td>동아대, 13년만에 등록금 인상…전국 사립대 중 처음</td>\n",
       "      <td>부산 동아대가 전국 4년제 사립대학 중 13년 만에 처음으로 등록금 인상을 결정했다...</td>\n",
       "      <td>안대훈, 김민주 기자</td>\n",
       "      <td>2023-01-31</td>\n",
       "      <td>https://v.daum.net/v/20230131000237925</td>\n",
       "      <td>society</td>\n",
       "      <td>부산 동아대 전국 4년 사립 대학 중 13년 만에 처음 등록금 인상 결정 하다 30...</td>\n",
       "    </tr>\n",
       "  </tbody>\n",
       "</table>\n",
       "<p>8013 rows × 9 columns</p>\n",
       "</div>"
      ],
      "text/plain": [
       "          arcid press                                   title  \\\n",
       "0     235502989   한겨레                              1월30일 궂긴소식   \n",
       "1     234609963  조선일보     갑자기 버스 세우더니 불길 속으로…‘소방차 10대’ 역할한 남성   \n",
       "2     234000935   뉴시스             부산 동래구 교차로서 5중 충돌사고…5명 중·경상   \n",
       "3     233948934   뉴시스  통영해경, 용남면 뱀섬 인근 침수어선 구조…인명피해 및 해양오염 없어   \n",
       "4     233453917  조선일보          법원, ‘창원간첩단 사건’ 관련자 4명 체포적부심 기각   \n",
       "...         ...   ...                                     ...   \n",
       "8008     254932  중앙일보          사료값만 1억원…한우 농가 “소 먹이 주는 것도 겁나”   \n",
       "8009     244929  중앙일보        1㎏에 3만5000원…벌교 참꼬막이 ‘갯벌 진주’ 된 이유   \n",
       "8010     242928  중앙일보              [사진] 나흘 뒤면 입춘, 매화꽃도 기지개 펴요   \n",
       "8011     240927  중앙일보       “일할 사람 구합니다”…한국 최고 ‘부자도시’가 소멸 위기?   \n",
       "8012     237925  중앙일보           동아대, 13년만에 등록금 인상…전국 사립대 중 처음   \n",
       "\n",
       "                                                content   journalist  \\\n",
       "0      조규용씨 별세 배월선씨 남편 세현사진작가 서울 중구문화재단 사장 종현 정우 기정씨...       한겨레 기자   \n",
       "1     자칫 대형 화재가 될 뻔했던 불길이 시내버스 기사의 신속한 초동 대처로 빠르게 진압...       박선민 기자   \n",
       "2     부산뉴시스이동민 기자  29일 오후 6시 5분께 부산 동래구의 교차로에서 달리던 그...       이동민 기자   \n",
       "3     기사내용 요약 침수어선 사천에서 마산으로 이동중 암초에 좌초 통영뉴시스 신정철 기자...       신정철 기자   \n",
       "4     국가보안법 위반 혐의로 지난 28일 체포됐던 이른바 창원간첩단 사건 관련자 4명이 ...        허욱 기자   \n",
       "...                                                 ...          ...   \n",
       "8008  20년간 한우를 키우면서 볏짚 가격이 이렇게 비싼 적은 처음입니다 소먹이에만 1억원...       김정석 기자   \n",
       "8009  예전엔 아짐아주머니 한 분이 1도 넘게 잡았제 키로에 1000원 하던 꼬막이 지금은...       최경호 기자   \n",
       "8010  전국에 한파가 몰아친 30일 입춘을 닷새 앞두고 부산 남구 동명대학교 본관 앞 정원...       송봉근 기자   \n",
       "8011  1인당 지역총소득 5935만원 지역내총생산 6913만원 각각 5421만원4965만원...       김윤호 기자   \n",
       "8012  부산 동아대가 전국 4년제 사립대학 중 13년 만에 처음으로 등록금 인상을 결정했다...  안대훈, 김민주 기자   \n",
       "\n",
       "           date                                    link category  \\\n",
       "0    2023-01-29  https://v.daum.net/v/20230129235502989  society   \n",
       "1    2023-01-29  https://v.daum.net/v/20230129234609963  society   \n",
       "2    2023-01-29  https://v.daum.net/v/20230129234000935  society   \n",
       "3    2023-01-29  https://v.daum.net/v/20230129233948934  society   \n",
       "4    2023-01-29  https://v.daum.net/v/20230129233453917  society   \n",
       "...         ...                                     ...      ...   \n",
       "8008 2023-01-31  https://v.daum.net/v/20230131000254932  society   \n",
       "8009 2023-01-31  https://v.daum.net/v/20230131000244929  society   \n",
       "8010 2023-01-31  https://v.daum.net/v/20230131000242928  society   \n",
       "8011 2023-01-31  https://v.daum.net/v/20230131000240927  society   \n",
       "8012 2023-01-31  https://v.daum.net/v/20230131000237925  society   \n",
       "\n",
       "                                                  token  \n",
       "0     조 규 용씨 별세 배월 선씨 남편 세 현 사진작가 서울 중구 문화재단 사장 종현 정...  \n",
       "1     자칫 대형 화재 되다 뻔하다 불길 시내버스 기사 신속하다 초동 대처 빠르다 진압됐다...  \n",
       "2     부산 뉴시스 동민 기자 29일 오후 6시 5분 께 부산 동래구 교차로 달리다 그랜저...  \n",
       "3     기사 내용 요약 침수 어선 사천 마산 이동 중 암초 좌초 통영 뉴시스 신 정철 기자...  \n",
       "4     국가보안법 위반 혐의 지난 28일 체포 돼다 이른바 창원 간첩 단 사건 관련 4 명...  \n",
       "...                                                 ...  \n",
       "8008  20년 간 한우 키우다 볏짚 가격 이렇게 비싸다 적다 처음 이다 소 먹이 에만 1억...  \n",
       "8009  예전 엔 짐 아주머니 하다 분 1 도 넘다 잡다 키로 1000원 하다 꼬막 지금 은...  \n",
       "8010  전국 한파 몰아치다 30일 입춘 닷새 앞두다 부산 남구 동명대학교 본관 앞 정원 매...  \n",
       "8011  1 이다 지역 총 소득 5935만원 지역 내 총 생산 6913만원 5421만원 49...  \n",
       "8012  부산 동아대 전국 4년 사립 대학 중 13년 만에 처음 등록금 인상 결정 하다 30...  \n",
       "\n",
       "[8013 rows x 9 columns]"
      ]
     },
     "execution_count": 117,
     "metadata": {},
     "output_type": "execute_result"
    }
   ],
   "source": [
    "data_all"
   ]
  },
  {
   "cell_type": "markdown",
   "id": "57db1d36-962a-461c-b792-54d17f036446",
   "metadata": {
    "tags": []
   },
   "source": [
    "# 전체 데이터 유사도 추천"
   ]
  },
  {
   "cell_type": "code",
   "execution_count": 102,
   "id": "cc777219-bcf2-455e-947c-b1334a19f626",
   "metadata": {},
   "outputs": [],
   "source": [
    "from sklearn.feature_extraction.text import TfidfVectorizer\n",
    "from sklearn.metrics.pairwise import cosine_similarity"
   ]
  },
  {
   "cell_type": "code",
   "execution_count": 104,
   "id": "d6f30ff7-cd24-4784-85e8-43308841a2e5",
   "metadata": {},
   "outputs": [],
   "source": [
    "ftidf_vec = TfidfVectorizer()"
   ]
  },
  {
   "cell_type": "code",
   "execution_count": 118,
   "id": "dde85f58-3e47-4a30-86cc-496bed85576a",
   "metadata": {},
   "outputs": [],
   "source": [
    "tfidf_dtm = ftidf_vec.fit_transform(data_all['token'])"
   ]
  },
  {
   "cell_type": "code",
   "execution_count": 119,
   "id": "4eb17f87-e003-4e47-8269-e09b69ad3e3f",
   "metadata": {},
   "outputs": [],
   "source": [
    "cos_sim_res = cosine_similarity(tfidf_dtm, tfidf_dtm)"
   ]
  },
  {
   "cell_type": "code",
   "execution_count": 120,
   "id": "173088a5-088a-450e-a90e-599e1cda7629",
   "metadata": {},
   "outputs": [],
   "source": [
    "arcid_to_index = dict(zip(data_all['arcid'], data_all.index))"
   ]
  },
  {
   "cell_type": "code",
   "execution_count": 139,
   "id": "23986b5e-c4b1-490a-9dc1-eabbaf908564",
   "metadata": {},
   "outputs": [],
   "source": [
    "def get_recommend(title, n, drange=False):\n",
    "    arcid = data_all.loc[data_all['title'] == title]['arcid'].values[0]\n",
    "    idx = arcid_to_index[arcid]\n",
    "    sim_scores = list(enumerate(cos_sim_res[idx]))\n",
    "    sim_scores = sorted(sim_scores, key=lambda x: x[1], reverse=True)\n",
    "    sim_scores_n = sim_scores[1:n+1]\n",
    "    sim_scores_n = [sim for sim in sim_scores_n if sim[1] >= 0.6] # 유사도 60% 이상 필터=>옵션화 가능?###############\n",
    "    article_idx = [article_dict[0] for article_dict in sim_scores_n]\n",
    "    rst  = data_all.iloc[article_idx][['press', 'title', 'date', 'link']]\n",
    "    rst['similarity'] = [round(sim[1], 4)*100 for sim in sim_scores_n]\n",
    "    # 기간 설정\n",
    "    if drange:\n",
    "        rst = rst[rst['date'].isin(pd.date_range(drange[0], drange[1]))]\n",
    "        # rst = rst.query('@drange[0] <= date <= @drange[1]')\n",
    "    return rst[['press', 'similarity', 'title', 'date', 'link']]"
   ]
  },
  {
   "cell_type": "code",
   "execution_count": 140,
   "id": "45f2e346-6667-49e8-9934-082e234a06f7",
   "metadata": {},
   "outputs": [
    {
     "data": {
      "text/html": [
       "<div>\n",
       "<style scoped>\n",
       "    .dataframe tbody tr th:only-of-type {\n",
       "        vertical-align: middle;\n",
       "    }\n",
       "\n",
       "    .dataframe tbody tr th {\n",
       "        vertical-align: top;\n",
       "    }\n",
       "\n",
       "    .dataframe thead th {\n",
       "        text-align: right;\n",
       "    }\n",
       "</style>\n",
       "<table border=\"1\" class=\"dataframe\">\n",
       "  <thead>\n",
       "    <tr style=\"text-align: right;\">\n",
       "      <th></th>\n",
       "      <th>press</th>\n",
       "      <th>similarity</th>\n",
       "      <th>title</th>\n",
       "      <th>date</th>\n",
       "      <th>link</th>\n",
       "    </tr>\n",
       "  </thead>\n",
       "  <tbody>\n",
       "    <tr>\n",
       "      <th>85</th>\n",
       "      <td>중앙일보</td>\n",
       "      <td>71.28</td>\n",
       "      <td>\"소방차 10대 역할\" 119도 놀랐다…참사 막은 버스기사의 기지</td>\n",
       "      <td>2023-01-29</td>\n",
       "      <td>https://v.daum.net/v/20230129185658951</td>\n",
       "    </tr>\n",
       "    <tr>\n",
       "      <th>130</th>\n",
       "      <td>뉴스1</td>\n",
       "      <td>66.32</td>\n",
       "      <td>버스 세우고 소화기 들고 상가 불끄러 간 경주 60대 기사…큰 불 막아</td>\n",
       "      <td>2023-01-29</td>\n",
       "      <td>https://v.daum.net/v/20230129174944815</td>\n",
       "    </tr>\n",
       "    <tr>\n",
       "      <th>4660</th>\n",
       "      <td>국민일보</td>\n",
       "      <td>65.34</td>\n",
       "      <td>“소방차 10대 역할”…불길 보고 달려간 버스기사 [영상]</td>\n",
       "      <td>2023-01-30</td>\n",
       "      <td>https://v.daum.net/v/20230130051613408</td>\n",
       "    </tr>\n",
       "    <tr>\n",
       "      <th>4506</th>\n",
       "      <td>동아일보</td>\n",
       "      <td>62.87</td>\n",
       "      <td>상가 불길 치솟자…소화기 들고 달려간 버스 기사</td>\n",
       "      <td>2023-01-30</td>\n",
       "      <td>https://v.daum.net/v/20230130083006817</td>\n",
       "    </tr>\n",
       "    <tr>\n",
       "      <th>60</th>\n",
       "      <td>경향신문</td>\n",
       "      <td>62.37</td>\n",
       "      <td>“할 일 했을 뿐…” 경주 시내버스 기사, 소화기로 상가 화재 막았다</td>\n",
       "      <td>2023-01-29</td>\n",
       "      <td>https://v.daum.net/v/20230129203005750</td>\n",
       "    </tr>\n",
       "  </tbody>\n",
       "</table>\n",
       "</div>"
      ],
      "text/plain": [
       "     press  similarity                                    title       date  \\\n",
       "85    중앙일보       71.28     \"소방차 10대 역할\" 119도 놀랐다…참사 막은 버스기사의 기지 2023-01-29   \n",
       "130    뉴스1       66.32  버스 세우고 소화기 들고 상가 불끄러 간 경주 60대 기사…큰 불 막아 2023-01-29   \n",
       "4660  국민일보       65.34         “소방차 10대 역할”…불길 보고 달려간 버스기사 [영상] 2023-01-30   \n",
       "4506  동아일보       62.87               상가 불길 치솟자…소화기 들고 달려간 버스 기사 2023-01-30   \n",
       "60    경향신문       62.37   “할 일 했을 뿐…” 경주 시내버스 기사, 소화기로 상가 화재 막았다 2023-01-29   \n",
       "\n",
       "                                        link  \n",
       "85    https://v.daum.net/v/20230129185658951  \n",
       "130   https://v.daum.net/v/20230129174944815  \n",
       "4660  https://v.daum.net/v/20230130051613408  \n",
       "4506  https://v.daum.net/v/20230130083006817  \n",
       "60    https://v.daum.net/v/20230129203005750  "
      ]
     },
     "execution_count": 140,
     "metadata": {},
     "output_type": "execute_result"
    }
   ],
   "source": [
    "get_recommend(\"갑자기 버스 세우더니 불길 속으로…‘소방차 10대’ 역할한 남성\", 5)"
   ]
  },
  {
   "cell_type": "code",
   "execution_count": 141,
   "id": "a9d78068-8e2a-4c75-addf-84064503c96f",
   "metadata": {},
   "outputs": [
    {
     "data": {
      "text/html": [
       "<div>\n",
       "<style scoped>\n",
       "    .dataframe tbody tr th:only-of-type {\n",
       "        vertical-align: middle;\n",
       "    }\n",
       "\n",
       "    .dataframe tbody tr th {\n",
       "        vertical-align: top;\n",
       "    }\n",
       "\n",
       "    .dataframe thead th {\n",
       "        text-align: right;\n",
       "    }\n",
       "</style>\n",
       "<table border=\"1\" class=\"dataframe\">\n",
       "  <thead>\n",
       "    <tr style=\"text-align: right;\">\n",
       "      <th></th>\n",
       "      <th>press</th>\n",
       "      <th>similarity</th>\n",
       "      <th>title</th>\n",
       "      <th>date</th>\n",
       "      <th>link</th>\n",
       "    </tr>\n",
       "  </thead>\n",
       "  <tbody>\n",
       "    <tr>\n",
       "      <th>85</th>\n",
       "      <td>중앙일보</td>\n",
       "      <td>71.28</td>\n",
       "      <td>\"소방차 10대 역할\" 119도 놀랐다…참사 막은 버스기사의 기지</td>\n",
       "      <td>2023-01-29</td>\n",
       "      <td>https://v.daum.net/v/20230129185658951</td>\n",
       "    </tr>\n",
       "    <tr>\n",
       "      <th>130</th>\n",
       "      <td>뉴스1</td>\n",
       "      <td>66.32</td>\n",
       "      <td>버스 세우고 소화기 들고 상가 불끄러 간 경주 60대 기사…큰 불 막아</td>\n",
       "      <td>2023-01-29</td>\n",
       "      <td>https://v.daum.net/v/20230129174944815</td>\n",
       "    </tr>\n",
       "    <tr>\n",
       "      <th>60</th>\n",
       "      <td>경향신문</td>\n",
       "      <td>62.37</td>\n",
       "      <td>“할 일 했을 뿐…” 경주 시내버스 기사, 소화기로 상가 화재 막았다</td>\n",
       "      <td>2023-01-29</td>\n",
       "      <td>https://v.daum.net/v/20230129203005750</td>\n",
       "    </tr>\n",
       "  </tbody>\n",
       "</table>\n",
       "</div>"
      ],
      "text/plain": [
       "    press  similarity                                    title       date  \\\n",
       "85   중앙일보       71.28     \"소방차 10대 역할\" 119도 놀랐다…참사 막은 버스기사의 기지 2023-01-29   \n",
       "130   뉴스1       66.32  버스 세우고 소화기 들고 상가 불끄러 간 경주 60대 기사…큰 불 막아 2023-01-29   \n",
       "60   경향신문       62.37   “할 일 했을 뿐…” 경주 시내버스 기사, 소화기로 상가 화재 막았다 2023-01-29   \n",
       "\n",
       "                                       link  \n",
       "85   https://v.daum.net/v/20230129185658951  \n",
       "130  https://v.daum.net/v/20230129174944815  \n",
       "60   https://v.daum.net/v/20230129203005750  "
      ]
     },
     "execution_count": 141,
     "metadata": {},
     "output_type": "execute_result"
    }
   ],
   "source": [
    "get_recommend(\"갑자기 버스 세우더니 불길 속으로…‘소방차 10대’ 역할한 남성\", 5, drange=['2023-01-29', '2023-01-29'])"
   ]
  },
  {
   "cell_type": "code",
   "execution_count": null,
   "id": "02eda553-3734-46b0-8fb0-08f52f3653f0",
   "metadata": {},
   "outputs": [],
   "source": []
  }
 ],
 "metadata": {
  "kernelspec": {
   "display_name": "Python 3 (ipykernel)",
   "language": "python",
   "name": "python3"
  },
  "language_info": {
   "codemirror_mode": {
    "name": "ipython",
    "version": 3
   },
   "file_extension": ".py",
   "mimetype": "text/x-python",
   "name": "python",
   "nbconvert_exporter": "python",
   "pygments_lexer": "ipython3",
   "version": "3.10.6"
  }
 },
 "nbformat": 4,
 "nbformat_minor": 5
}
