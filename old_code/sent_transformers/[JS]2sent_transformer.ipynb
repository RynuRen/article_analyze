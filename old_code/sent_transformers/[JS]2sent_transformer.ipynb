{
 "cells": [
  {
   "cell_type": "code",
   "execution_count": 3,
   "id": "9e5d04a0-d390-4f95-a975-6b98e5caef22",
   "metadata": {},
   "outputs": [],
   "source": [
    "from tqdm import tqdm\n",
    "import pandas as pd\n",
    "from glob import glob"
   ]
  },
  {
   "cell_type": "code",
   "execution_count": 4,
   "id": "33a06ae5-4ae4-437a-a1f9-b267aeead799",
   "metadata": {
    "tags": []
   },
   "outputs": [
    {
     "name": "stderr",
     "output_type": "stream",
     "text": [
      "100%|████████████████████████████████████████████████████████████████████████████████████| 1/1 [00:00<00:00,  5.48it/s]\n"
     ]
    }
   ],
   "source": [
    "files = sorted(glob('./data/*.csv'))\n",
    "data_fit = pd.DataFrame()\n",
    "for file in tqdm(files[:1]):\n",
    "    df_day = pd.read_csv(file)\n",
    "    data_fit = pd.concat([data_fit, df_day['okt']])\n",
    "data_fit.reset_index(drop=True, inplace=True)"
   ]
  },
  {
   "cell_type": "code",
   "execution_count": 5,
   "id": "a376a88e-50d1-49f0-b193-c6839fba0eb9",
   "metadata": {
    "collapsed": true,
    "jupyter": {
     "outputs_hidden": true
    },
    "tags": []
   },
   "outputs": [
    {
     "data": {
      "text/html": [
       "<div>\n",
       "<style scoped>\n",
       "    .dataframe tbody tr th:only-of-type {\n",
       "        vertical-align: middle;\n",
       "    }\n",
       "\n",
       "    .dataframe tbody tr th {\n",
       "        vertical-align: top;\n",
       "    }\n",
       "\n",
       "    .dataframe thead th {\n",
       "        text-align: right;\n",
       "    }\n",
       "</style>\n",
       "<table border=\"1\" class=\"dataframe\">\n",
       "  <thead>\n",
       "    <tr style=\"text-align: right;\">\n",
       "      <th></th>\n",
       "      <th>0</th>\n",
       "    </tr>\n",
       "  </thead>\n",
       "  <tbody>\n",
       "    <tr>\n",
       "      <th>0</th>\n",
       "      <td>한국 배구 연맹 23일 주말 열리다 프로배구 4 경기 연기 다 고 1일 밝히다 중계...</td>\n",
       "    </tr>\n",
       "    <tr>\n",
       "      <th>1</th>\n",
       "      <td>아동 성범죄자 조두순 69 사진 지난달 추다 뒤 보름 외부 활동 나서다 것 전해지다...</td>\n",
       "    </tr>\n",
       "    <tr>\n",
       "      <th>2</th>\n",
       "      <td>서울 신문 추미애 구치소 집단 감염 첫 사과 집단 감염 송구 취약 부분 드러나다 빠...</td>\n",
       "    </tr>\n",
       "    <tr>\n",
       "      <th>3</th>\n",
       "      <td>정부 수도권 사회 거리 두기 조 정안 2일 발표 하다 하다 상황 지금 단계 몇 주 ...</td>\n",
       "    </tr>\n",
       "    <tr>\n",
       "      <th>4</th>\n",
       "      <td>강릉 뉴스 1 이종재 기자 새해 첫날 1일 강원 강릉 지역 찾다 해 맞이 객 지난해...</td>\n",
       "    </tr>\n",
       "    <tr>\n",
       "      <th>...</th>\n",
       "      <td>...</td>\n",
       "    </tr>\n",
       "    <tr>\n",
       "      <th>1207</th>\n",
       "      <td>정읍 뉴시스 김얼 기자 2021년 신축년 희다 소 띠 해 상서 기운 물씬 일어나다 ...</td>\n",
       "    </tr>\n",
       "    <tr>\n",
       "      <th>1208</th>\n",
       "      <td>정읍 뉴시스 김얼 기자 2021년 신축년 희다 소 띠 해 상서 기운 물씬 일어나다 ...</td>\n",
       "    </tr>\n",
       "    <tr>\n",
       "      <th>1209</th>\n",
       "      <td>서울 뉴시스 홍세 희다 기자 최대 집 대한의사협회 1일 새해 94 의정 합의 정신 ...</td>\n",
       "    </tr>\n",
       "    <tr>\n",
       "      <th>1210</th>\n",
       "      <td>서울 뉴시스 구무 기자 김용익 건강 보험 공단 이사장 오다 한해 건강 보험 보장 률...</td>\n",
       "    </tr>\n",
       "    <tr>\n",
       "      <th>1211</th>\n",
       "      <td>어젠다 독자 실험 한국 일보 창간 67 주년 맞다 2021년 거 핵심 가치 이다 사...</td>\n",
       "    </tr>\n",
       "  </tbody>\n",
       "</table>\n",
       "<p>1212 rows × 1 columns</p>\n",
       "</div>"
      ],
      "text/plain": [
       "                                                      0\n",
       "0     한국 배구 연맹 23일 주말 열리다 프로배구 4 경기 연기 다 고 1일 밝히다 중계...\n",
       "1     아동 성범죄자 조두순 69 사진 지난달 추다 뒤 보름 외부 활동 나서다 것 전해지다...\n",
       "2     서울 신문 추미애 구치소 집단 감염 첫 사과 집단 감염 송구 취약 부분 드러나다 빠...\n",
       "3     정부 수도권 사회 거리 두기 조 정안 2일 발표 하다 하다 상황 지금 단계 몇 주 ...\n",
       "4     강릉 뉴스 1 이종재 기자 새해 첫날 1일 강원 강릉 지역 찾다 해 맞이 객 지난해...\n",
       "...                                                 ...\n",
       "1207  정읍 뉴시스 김얼 기자 2021년 신축년 희다 소 띠 해 상서 기운 물씬 일어나다 ...\n",
       "1208  정읍 뉴시스 김얼 기자 2021년 신축년 희다 소 띠 해 상서 기운 물씬 일어나다 ...\n",
       "1209  서울 뉴시스 홍세 희다 기자 최대 집 대한의사협회 1일 새해 94 의정 합의 정신 ...\n",
       "1210  서울 뉴시스 구무 기자 김용익 건강 보험 공단 이사장 오다 한해 건강 보험 보장 률...\n",
       "1211  어젠다 독자 실험 한국 일보 창간 67 주년 맞다 2021년 거 핵심 가치 이다 사...\n",
       "\n",
       "[1212 rows x 1 columns]"
      ]
     },
     "execution_count": 5,
     "metadata": {},
     "output_type": "execute_result"
    }
   ],
   "source": [
    "data_fit"
   ]
  },
  {
   "cell_type": "markdown",
   "id": "7a1a75e2-c79b-437c-9e75-7596ee967954",
   "metadata": {
    "tags": []
   },
   "source": [
    "# 모델 학습, 저장"
   ]
  },
  {
   "cell_type": "code",
   "execution_count": 6,
   "id": "24f168d8-1d2b-48a6-ad66-4cf044f99e55",
   "metadata": {},
   "outputs": [],
   "source": [
    "from sentence_transformers import SentenceTransformer\n",
    "import pickle"
   ]
  },
  {
   "cell_type": "code",
   "execution_count": 7,
   "id": "9bede63e-9d12-4aa6-9d45-eac77f20628f",
   "metadata": {},
   "outputs": [],
   "source": [
    "model = SentenceTransformer('ddobokki/klue-roberta-small-nli-sts')"
   ]
  },
  {
   "cell_type": "code",
   "execution_count": 8,
   "id": "5d056978-89b9-4363-bfee-4d5e91fdc32c",
   "metadata": {},
   "outputs": [],
   "source": [
    "arc_content = \"\"\"2011년 한국을 떠나 러시아로 귀화한 전 쇼트트랙 선수 빅토르 안(38·한국명 안현수)의 국내 복귀 시도가 일단 무산됐다. 경기도 성남시청 직장운동부 빙상팀 코치에 지원했으나, 최종 후보에 들지 못해서다.\n",
    "\n",
    "성남시는 29일 “시청 빙상팀 코치직 채용 전형에 빅토르 안을 포함해 7명이 지원했는데, 빅토르 안은 상위 2배수 후보에 들지 않았다”고 밝혔다. 시 관계자는 “서류와 면접 심사를 통해 기술, 소통 능력 등 여러 요소를 종합해 판단했다”며 “빙상계 여론과 언론 보도 등을 통해 나오는 시각도 평가에 반영됐다”고 했다.\n",
    "\n",
    "성남시는 지난해 12월 19일 빙상팀 코치를 뽑기 위한 채용 공고를 냈다. 빅토르 안과 베이징 동계올림픽에서 중국 대표팀을 이끈 김선태 전 감독 등 7명이 지원했다. 김 전 감독도 최종 후보에 들지 못한 것으로 전해졌다.\n",
    "\n",
    "빅토르 안은 2006년 토리노 동계올림픽에서 3개의 금메달을 딴 한국 쇼트트랙의 간판이었다. 2011년 소속팀이었던 성남시청이 빙상팀을 해체하자 선수 생활을 이어가기 위해 러시아로 귀화했다. 2014년 소치 동계올림픽에는 러시아 선수로 나서 3관왕에 올랐다. 2018년 평창 동계올림픽 출전이 무산된 이후에는 은퇴를 선언하고 지도자로 변신했다. 2022년 베이징 동계올림픽에서는 중국 대표팀 코치로 활동했다.\n",
    "\n",
    "성남시는 31일 빙상팀 코치 선발 결과를 발표할 예정이다.\"\"\""
   ]
  },
  {
   "cell_type": "code",
   "execution_count": 20,
   "id": "a563d64b-124e-4691-bbe0-88867022445d",
   "metadata": {},
   "outputs": [
    {
     "data": {
      "application/vnd.jupyter.widget-view+json": {
       "model_id": "cb8e1a43c36b4c69a6cb84e1b1f8916c",
       "version_major": 2,
       "version_minor": 0
      },
      "text/plain": [
       "Batches:   0%|          | 0/4 [00:00<?, ?it/s]"
      ]
     },
     "metadata": {},
     "output_type": "display_data"
    },
    {
     "name": "stdout",
     "output_type": "stream",
     "text": [
      "CPU times: total: 1min 39s\n",
      "Wall time: 25.3 s\n"
     ]
    }
   ],
   "source": [
    "%%time\n",
    "embeddings = model.encode(data_fit.loc[:100,0], show_progress_bar=True, convert_to_tensor=True).tolist()"
   ]
  },
  {
   "cell_type": "code",
   "execution_count": 24,
   "id": "455df0cc-4aa9-48a3-8d50-7fa0419b68de",
   "metadata": {},
   "outputs": [
    {
     "data": {
      "application/vnd.jupyter.widget-view+json": {
       "model_id": "ccd57ba3dc4f4483b3100d5e159925ad",
       "version_major": 2,
       "version_minor": 0
      },
      "text/plain": [
       "Batches:   0%|          | 0/4 [00:00<?, ?it/s]"
      ]
     },
     "metadata": {},
     "output_type": "display_data"
    },
    {
     "name": "stdout",
     "output_type": "stream",
     "text": [
      "CPU times: total: 1min 41s\n",
      "Wall time: 25.7 s\n"
     ]
    }
   ],
   "source": [
    "%%time\n",
    "embeddings2 = model.encode(data_fit.loc[:100,0], show_progress_bar=True, convert_to_tensor=True)"
   ]
  },
  {
   "cell_type": "code",
   "execution_count": 21,
   "id": "c7659398-df37-45ef-b198-d8f0b0a517b9",
   "metadata": {},
   "outputs": [
    {
     "name": "stdout",
     "output_type": "stream",
     "text": [
      "CPU times: total: 953 ms\n",
      "Wall time: 256 ms\n"
     ]
    }
   ],
   "source": [
    "%%time\n",
    "embeded_content = model.encode([arc_content], convert_to_tensor=True).tolist()"
   ]
  },
  {
   "cell_type": "code",
   "execution_count": 25,
   "id": "b4feaafc-1a8e-4e1e-824e-cf817988a9ed",
   "metadata": {},
   "outputs": [
    {
     "name": "stdout",
     "output_type": "stream",
     "text": [
      "CPU times: total: 906 ms\n",
      "Wall time: 235 ms\n"
     ]
    }
   ],
   "source": [
    "%%time\n",
    "embeded_content2 = model.encode([arc_content], convert_to_tensor=True)"
   ]
  },
  {
   "cell_type": "markdown",
   "id": "17787373-c7bf-4e16-8c56-ef6da77ef354",
   "metadata": {
    "tags": []
   },
   "source": [
    "# torch"
   ]
  },
  {
   "cell_type": "code",
   "execution_count": 9,
   "id": "3588ef8b-9c86-421c-bcac-a2ab70339e20",
   "metadata": {},
   "outputs": [],
   "source": [
    "from torch.nn import CosineSimilarity"
   ]
  },
  {
   "cell_type": "code",
   "execution_count": 114,
   "id": "759d7426-84b5-41f4-892d-5411afbee0cb",
   "metadata": {},
   "outputs": [],
   "source": [
    "cos = CosineSimilarity(dim=1)"
   ]
  },
  {
   "cell_type": "code",
   "execution_count": 144,
   "id": "732e88c8-e75f-4ce6-9570-aa4d8daa8d31",
   "metadata": {
    "tags": []
   },
   "outputs": [
    {
     "name": "stdout",
     "output_type": "stream",
     "text": [
      "CPU times: total: 0 ns\n",
      "Wall time: 6.12 ms\n"
     ]
    }
   ],
   "source": [
    "%%time\n",
    "cos_sim_res1 = cos(embeded_content, embeddings)"
   ]
  },
  {
   "cell_type": "code",
   "execution_count": 22,
   "id": "dfafc35a-3eab-4730-8d74-d37dd7d66e8f",
   "metadata": {},
   "outputs": [],
   "source": [
    "from sklearn.metrics.pairwise import cosine_similarity"
   ]
  },
  {
   "cell_type": "code",
   "execution_count": 23,
   "id": "9765a690-f46c-4939-8567-7926e2eae97d",
   "metadata": {},
   "outputs": [
    {
     "name": "stdout",
     "output_type": "stream",
     "text": [
      "CPU times: total: 15.6 ms\n",
      "Wall time: 35.5 ms\n"
     ]
    }
   ],
   "source": [
    "%%time\n",
    "cos_sim_res2 = cosine_similarity(embeded_content, embeddings)"
   ]
  },
  {
   "cell_type": "code",
   "execution_count": null,
   "id": "0ee1f48f-640b-432c-8253-9f1445536ab0",
   "metadata": {},
   "outputs": [],
   "source": []
  },
  {
   "cell_type": "code",
   "execution_count": null,
   "id": "8b067e8b-5119-4fe7-933d-d47f4613bb8e",
   "metadata": {},
   "outputs": [],
   "source": []
  },
  {
   "cell_type": "code",
   "execution_count": null,
   "id": "f9155936-b2a6-452a-9c16-195ddb5b14f0",
   "metadata": {},
   "outputs": [],
   "source": []
  },
  {
   "cell_type": "markdown",
   "id": "8e142370-9c31-42be-9fc2-fabbad7f0deb",
   "metadata": {},
   "source": [
    "# sentence_transformers"
   ]
  },
  {
   "cell_type": "code",
   "execution_count": 26,
   "id": "0a0ac098-12e7-4a56-9418-cf28efb160a8",
   "metadata": {},
   "outputs": [],
   "source": [
    "from sentence_transformers import util"
   ]
  },
  {
   "cell_type": "code",
   "execution_count": 27,
   "id": "5dc5e3ac-cd32-43fb-bda4-8e3de6becdd8",
   "metadata": {},
   "outputs": [
    {
     "name": "stdout",
     "output_type": "stream",
     "text": [
      "CPU times: total: 15.6 ms\n",
      "Wall time: 16.6 ms\n"
     ]
    }
   ],
   "source": [
    "%%time\n",
    "cos_sim_res3 = util.cos_sim(embeded_content, embeddings)"
   ]
  },
  {
   "cell_type": "code",
   "execution_count": 130,
   "id": "f23ef55f-c451-4a25-ad75-89ce9b5204e2",
   "metadata": {},
   "outputs": [
    {
     "data": {
      "text/plain": [
       "tensor([0.2455, 0.1644, 0.1944,  ..., 0.2164, 0.1999, 0.1721])"
      ]
     },
     "execution_count": 130,
     "metadata": {},
     "output_type": "execute_result"
    }
   ],
   "source": [
    "cos_sim_res3[0]"
   ]
  },
  {
   "cell_type": "code",
   "execution_count": 125,
   "id": "ed90af2e-843f-4ea1-af0d-728639fc6269",
   "metadata": {},
   "outputs": [
    {
     "data": {
      "text/plain": [
       "1212"
      ]
     },
     "execution_count": 125,
     "metadata": {},
     "output_type": "execute_result"
    }
   ],
   "source": [
    "len(cos_sim_res3[0])"
   ]
  },
  {
   "cell_type": "markdown",
   "id": "f04d39d3-b338-49f9-b35a-8eb2ea65979a",
   "metadata": {
    "tags": []
   },
   "source": [
    "# tfidf, sklearn cos_sim"
   ]
  },
  {
   "cell_type": "code",
   "execution_count": 28,
   "id": "416fe7f9-cdb1-44d7-a2cf-aaf3b75e9366",
   "metadata": {},
   "outputs": [],
   "source": [
    "from sklearn.feature_extraction.text import TfidfVectorizer"
   ]
  },
  {
   "cell_type": "code",
   "execution_count": 29,
   "id": "4734e51c-c8ec-4af4-876d-c0e3f22bfde3",
   "metadata": {},
   "outputs": [],
   "source": [
    "tfidf_vec = TfidfVectorizer(ngram_range=(1, 2), min_df=1)"
   ]
  },
  {
   "cell_type": "code",
   "execution_count": 31,
   "id": "44eec3b5-d130-4acb-a805-57e5bfff373e",
   "metadata": {},
   "outputs": [
    {
     "name": "stdout",
     "output_type": "stream",
     "text": [
      "CPU times: total: 93.8 ms\n",
      "Wall time: 116 ms\n"
     ]
    }
   ],
   "source": [
    "%%time\n",
    "tfidf_dtm = tfidf_vec.fit_transform(data_fit.loc[:100,0])"
   ]
  },
  {
   "cell_type": "code",
   "execution_count": 32,
   "id": "795db61e-ca3b-40a4-8c2e-c6e25be78a27",
   "metadata": {},
   "outputs": [
    {
     "name": "stdout",
     "output_type": "stream",
     "text": [
      "CPU times: total: 0 ns\n",
      "Wall time: 1 ms\n"
     ]
    }
   ],
   "source": [
    "%%time\n",
    "tfidf_content = tfidf_vec.transform([arc_content])"
   ]
  },
  {
   "cell_type": "code",
   "execution_count": 33,
   "id": "a356924c-66dd-4ea4-b372-34b48b419ed3",
   "metadata": {},
   "outputs": [],
   "source": [
    "from sklearn.metrics.pairwise import cosine_similarity"
   ]
  },
  {
   "cell_type": "code",
   "execution_count": 34,
   "id": "fb70b824-0f6b-4816-a6ca-f42e5e256ac6",
   "metadata": {},
   "outputs": [
    {
     "name": "stdout",
     "output_type": "stream",
     "text": [
      "CPU times: total: 0 ns\n",
      "Wall time: 5.16 ms\n"
     ]
    }
   ],
   "source": [
    "%%time\n",
    "cos_sim_res2 = cosine_similarity(tfidf_content, tfidf_dtm)"
   ]
  },
  {
   "cell_type": "code",
   "execution_count": null,
   "id": "4d1740b1-2695-4668-b989-1310a12bf6bc",
   "metadata": {},
   "outputs": [],
   "source": []
  },
  {
   "cell_type": "code",
   "execution_count": null,
   "id": "23716201-9e86-4ae5-ba85-dd5b20b78c14",
   "metadata": {},
   "outputs": [],
   "source": []
  },
  {
   "cell_type": "code",
   "execution_count": null,
   "id": "5d4328ea-347e-40c4-988d-f622f2fc0ddc",
   "metadata": {},
   "outputs": [],
   "source": []
  },
  {
   "cell_type": "code",
   "execution_count": null,
   "id": "6fe6a95f-0b44-47ac-8580-b008959cc970",
   "metadata": {},
   "outputs": [],
   "source": []
  },
  {
   "cell_type": "code",
   "execution_count": null,
   "id": "fe7823b3-9cea-4c97-b78b-0783e16548c5",
   "metadata": {},
   "outputs": [],
   "source": []
  },
  {
   "cell_type": "markdown",
   "id": "eff4e39d-3728-40a8-9097-3806d8568eda",
   "metadata": {
    "jp-MarkdownHeadingCollapsed": true,
    "tags": []
   },
   "source": [
    "## 기본 함수"
   ]
  },
  {
   "cell_type": "code",
   "execution_count": 23,
   "id": "f501bc0d-985d-4349-bbaf-911f30bb352d",
   "metadata": {},
   "outputs": [],
   "source": [
    "from tqdm import tqdm\n",
    "import pandas as pd\n",
    "from glob import glob"
   ]
  },
  {
   "cell_type": "code",
   "execution_count": 24,
   "id": "014325d6-94b6-4425-8014-9f8b7f1fa387",
   "metadata": {},
   "outputs": [],
   "source": [
    "def string_tokenizer(content):\n",
    "    import pandas as pd\n",
    "    from konlpy.tag import Okt\n",
    "    okt = Okt()\n",
    "    \n",
    "    content = pd.Series(content)\n",
    "    # 한글, 숫자, 공백만 남기기\n",
    "    content = content.str.replace('[^0-9ㄱ-ㅎㅏ-ㅣ가-힣 ]', '', regex=True)\n",
    "    token_content = okt.pos(content[0], norm=True, stem=True)\n",
    "    return token_content"
   ]
  },
  {
   "cell_type": "code",
   "execution_count": 25,
   "id": "1676ca17-0e91-4b7e-a2b7-032b4670953f",
   "metadata": {},
   "outputs": [],
   "source": [
    "except_list = ['Exclamation', 'Josa', 'KoreanParticle', 'Determiner',  'Eomi', 'Suffix',  'VerbPrefix', 'PreEomi']\n",
    "include_list = ['Verb',  'Noun']"
   ]
  },
  {
   "cell_type": "code",
   "execution_count": 26,
   "id": "5efd213f-0fd0-4f05-b492-3d7f62bf1bc8",
   "metadata": {},
   "outputs": [],
   "source": [
    "# 230207 기현\n",
    "def tag_except_list(except_list, token_content):\n",
    "    filtered_list= []\n",
    "    for tag in token_content :\n",
    "        if tag[1] in except_list:\n",
    "            continue\n",
    "        filtered_list.append(tag[0])\n",
    "    content = \" \".join(filtered_list)\n",
    "    return content"
   ]
  },
  {
   "cell_type": "code",
   "execution_count": 27,
   "id": "c3da4b48-e364-49b8-95fc-589bbe3866b2",
   "metadata": {
    "tags": []
   },
   "outputs": [],
   "source": [
    "# 230207 기현\n",
    "def tag_include_list(include_list, token_content):\n",
    "    filtered_list=[]\n",
    "    for tag in token_content:\n",
    "        if tag[1] in include_list:\n",
    "            filtered_list.append(tag[0])\n",
    "\n",
    "    content = \" \".join(filtered_list)\n",
    "    return content"
   ]
  },
  {
   "cell_type": "markdown",
   "id": "70a0eda4-9058-40aa-a5b3-3d1b64605a40",
   "metadata": {
    "jp-MarkdownHeadingCollapsed": true,
    "tags": []
   },
   "source": [
    "# torch_cos_sim, sent_transformer"
   ]
  },
  {
   "cell_type": "code",
   "execution_count": 133,
   "id": "422430d3-166c-4ce4-b0cf-1078f873283c",
   "metadata": {},
   "outputs": [],
   "source": [
    "def get_recommend_by_sent(content, n, drange=False):\n",
    "    from torch.nn import CosineSimilarity\n",
    "    cos = CosineSimilarity(dim=1)\n",
    "    # 형태소 전처리\n",
    "    token = tag_except_list(except_list, string_tokenizer(content))\n",
    "    \n",
    "    embeded_content = model.encode([token], convert_to_tensor=True)\n",
    "    \n",
    "    cos_sim_res1 = cos(embeded_content, embeddings)\n",
    "    \n",
    "    # 유사도 정렬, 추출\n",
    "    sim_scores = list(enumerate(cos_sim_res1))\n",
    "    sim_scores = sorted(sim_scores, key=lambda x: x[1], reverse=True)\n",
    "    sim_scores_n = sim_scores[1:n+1]\n",
    "    # sim_scores_n = [sim for sim in sim_scores_n if sim[1] >= 0.6] # 유사도 60% 이상 필터=>옵션화 가능?###############\n",
    "    \n",
    "    # 해당하는 기사 가져오기\n",
    "    article_idx = [article_dict[0] for article_dict in sim_scores_n]\n",
    "    rst = data_fit.iloc[article_idx][[0]]\n",
    "    # rst['similarity'] = [sim[1] for sim in sim_scores_n]\n",
    "    rst['similarity'] = [round(sim[1].item(), 4)*100 for sim in sim_scores_n]\n",
    "        \n",
    "    return rst"
   ]
  },
  {
   "cell_type": "code",
   "execution_count": 134,
   "id": "f3e68944-8277-4ff4-80a4-edac17240903",
   "metadata": {
    "tags": []
   },
   "outputs": [
    {
     "name": "stdout",
     "output_type": "stream",
     "text": [
      "CPU times: total: 438 ms\n",
      "Wall time: 117 ms\n"
     ]
    },
    {
     "data": {
      "text/html": [
       "<div>\n",
       "<style scoped>\n",
       "    .dataframe tbody tr th:only-of-type {\n",
       "        vertical-align: middle;\n",
       "    }\n",
       "\n",
       "    .dataframe tbody tr th {\n",
       "        vertical-align: top;\n",
       "    }\n",
       "\n",
       "    .dataframe thead th {\n",
       "        text-align: right;\n",
       "    }\n",
       "</style>\n",
       "<table border=\"1\" class=\"dataframe\">\n",
       "  <thead>\n",
       "    <tr style=\"text-align: right;\">\n",
       "      <th></th>\n",
       "      <th>0</th>\n",
       "      <th>similarity</th>\n",
       "    </tr>\n",
       "  </thead>\n",
       "  <tbody>\n",
       "    <tr>\n",
       "      <th>312</th>\n",
       "      <td>창원 뉴시스 김기진 기자 정의당 경 남도 신축년 새해 맞다 19일 째를 맞이 중대 ...</td>\n",
       "      <td>44.07</td>\n",
       "    </tr>\n",
       "    <tr>\n",
       "      <th>1001</th>\n",
       "      <td>서울 뉴스 1 심 언 기 기자 기부 어떻다 마약 보다 더하다 중독 있다 하다 기부 ...</td>\n",
       "      <td>44.02</td>\n",
       "    </tr>\n",
       "    <tr>\n",
       "      <th>740</th>\n",
       "      <td>서울 연합뉴스 이재윤 기자 국내 신종 코로나바이러스 감염증 코로나 19 확산 세 지...</td>\n",
       "      <td>42.47</td>\n",
       "    </tr>\n",
       "    <tr>\n",
       "      <th>753</th>\n",
       "      <td>서울 연합뉴스 신 선미 기자 국내 신종 코로나바이러스 감염증 코로나 19 확산 세 ...</td>\n",
       "      <td>41.02</td>\n",
       "    </tr>\n",
       "    <tr>\n",
       "      <th>1000</th>\n",
       "      <td>서울 뉴스 1 심 언 기 기자 연말 연 시 길거리 오가다 이 옷깃 가방 사랑 열매 ...</td>\n",
       "      <td>39.89</td>\n",
       "    </tr>\n",
       "    <tr>\n",
       "      <th>674</th>\n",
       "      <td>서울 연합뉴스 신 선미 기자 국내 신종 코로나바이러스 감염증 코로나 19 확 진자 ...</td>\n",
       "      <td>38.63</td>\n",
       "    </tr>\n",
       "    <tr>\n",
       "      <th>492</th>\n",
       "      <td>서울 뉴스 1 이형진 기자 이영 기자 2021년 새해 신종 코로나바이러스 감염증 코...</td>\n",
       "      <td>38.41</td>\n",
       "    </tr>\n",
       "    <tr>\n",
       "      <th>873</th>\n",
       "      <td>병역 기피 의혹 대한민국 입국 금지 처분 받다 가수 유승준 미국 스티브 유 44 이...</td>\n",
       "      <td>38.11</td>\n",
       "    </tr>\n",
       "    <tr>\n",
       "      <th>363</th>\n",
       "      <td>광주 뉴스 1 고귀하다 기자 광주 동구 지산 2 동 은 주민 마을 지키다 두 그루 ...</td>\n",
       "      <td>37.93</td>\n",
       "    </tr>\n",
       "    <tr>\n",
       "      <th>567</th>\n",
       "      <td>서울 뉴시스 하종 민 기자 2021년 새해 첫날 서울 신종 코로나바이러스 감염증 코...</td>\n",
       "      <td>37.84</td>\n",
       "    </tr>\n",
       "  </tbody>\n",
       "</table>\n",
       "</div>"
      ],
      "text/plain": [
       "                                                      0  similarity\n",
       "312   창원 뉴시스 김기진 기자 정의당 경 남도 신축년 새해 맞다 19일 째를 맞이 중대 ...       44.07\n",
       "1001  서울 뉴스 1 심 언 기 기자 기부 어떻다 마약 보다 더하다 중독 있다 하다 기부 ...       44.02\n",
       "740   서울 연합뉴스 이재윤 기자 국내 신종 코로나바이러스 감염증 코로나 19 확산 세 지...       42.47\n",
       "753   서울 연합뉴스 신 선미 기자 국내 신종 코로나바이러스 감염증 코로나 19 확산 세 ...       41.02\n",
       "1000  서울 뉴스 1 심 언 기 기자 연말 연 시 길거리 오가다 이 옷깃 가방 사랑 열매 ...       39.89\n",
       "674   서울 연합뉴스 신 선미 기자 국내 신종 코로나바이러스 감염증 코로나 19 확 진자 ...       38.63\n",
       "492   서울 뉴스 1 이형진 기자 이영 기자 2021년 새해 신종 코로나바이러스 감염증 코...       38.41\n",
       "873   병역 기피 의혹 대한민국 입국 금지 처분 받다 가수 유승준 미국 스티브 유 44 이...       38.11\n",
       "363   광주 뉴스 1 고귀하다 기자 광주 동구 지산 2 동 은 주민 마을 지키다 두 그루 ...       37.93\n",
       "567   서울 뉴시스 하종 민 기자 2021년 새해 첫날 서울 신종 코로나바이러스 감염증 코...       37.84"
      ]
     },
     "execution_count": 134,
     "metadata": {},
     "output_type": "execute_result"
    }
   ],
   "source": [
    "%%time\n",
    "arc_content = \"\"\"19년 간 2억원이 넘는 기부를 실천한 사람이 있다.\n",
    "\n",
    "지난 2004년부터 매년 꾸준히 어려운 이웃을 위한 나눔을 실천, 19년간 2억 2000만원을 기부한 시민이 있어 지역사회의 귀감이 되고 있다.\n",
    "\n",
    "코로나19가 길어져 취약 계층의 복지 수요가 늘었다고 판단한 황 대표는 올해 1월부터는 기부액을 매달 200만원으로 늘렸다.\n",
    "\n",
    "이렇게 이어온 황 대표의 누적 기부 금액은 2억 2000만원에 달한다.\"\"\"\n",
    "get_recommend_by_sent(arc_content, 10)"
   ]
  },
  {
   "cell_type": "markdown",
   "id": "4dbe2620-414a-4428-8273-140d64669118",
   "metadata": {},
   "source": [
    "# sent_transformers"
   ]
  },
  {
   "cell_type": "code",
   "execution_count": 127,
   "id": "d4d5e50e-d097-4011-90b8-149aeb6519d8",
   "metadata": {},
   "outputs": [],
   "source": [
    "def get_recommend_by_sentt(content, n, drange=False):\n",
    "    from sentence_transformers import util\n",
    "    # 형태소 전처리\n",
    "    token = tag_except_list(except_list, string_tokenizer(content))\n",
    "    \n",
    "    embeded_content = model.encode([token], convert_to_tensor=True)\n",
    "    \n",
    "    cos_sim_res3 = util.cos_sim(embeded_content, embeddings)\n",
    "    \n",
    "    \n",
    "    # 유사도 정렬, 추출\n",
    "    sim_scores = list(enumerate(cos_sim_res3[0]))\n",
    "    sim_scores = sorted(sim_scores, key=lambda x: x[1], reverse=True)\n",
    "    sim_scores_n = sim_scores[1:n+1]\n",
    "    # sim_scores_n = [sim for sim in sim_scores_n if sim[1] >= 0.6] # 유사도 60% 이상 필터=>옵션화 가능?###############\n",
    "    \n",
    "    # 해당하는 기사 가져오기\n",
    "    article_idx = [article_dict[0] for article_dict in sim_scores_n]\n",
    "    rst = data_fit.iloc[article_idx][[0]]\n",
    "    # rst['similarity'] = [sim[1] for sim in sim_scores_n]\n",
    "    rst['similarity'] = [round(sim[1].item(), 4)*100 for sim in sim_scores_n]\n",
    "        \n",
    "    return rst"
   ]
  },
  {
   "cell_type": "code",
   "execution_count": 128,
   "id": "5b6809be-432d-407b-9e60-abf2ac62de18",
   "metadata": {
    "tags": []
   },
   "outputs": [
    {
     "name": "stdout",
     "output_type": "stream",
     "text": [
      "CPU times: total: 547 ms\n",
      "Wall time: 138 ms\n"
     ]
    },
    {
     "data": {
      "text/html": [
       "<div>\n",
       "<style scoped>\n",
       "    .dataframe tbody tr th:only-of-type {\n",
       "        vertical-align: middle;\n",
       "    }\n",
       "\n",
       "    .dataframe tbody tr th {\n",
       "        vertical-align: top;\n",
       "    }\n",
       "\n",
       "    .dataframe thead th {\n",
       "        text-align: right;\n",
       "    }\n",
       "</style>\n",
       "<table border=\"1\" class=\"dataframe\">\n",
       "  <thead>\n",
       "    <tr style=\"text-align: right;\">\n",
       "      <th></th>\n",
       "      <th>0</th>\n",
       "      <th>similarity</th>\n",
       "    </tr>\n",
       "  </thead>\n",
       "  <tbody>\n",
       "    <tr>\n",
       "      <th>312</th>\n",
       "      <td>창원 뉴시스 김기진 기자 정의당 경 남도 신축년 새해 맞다 19일 째를 맞이 중대 ...</td>\n",
       "      <td>44.07</td>\n",
       "    </tr>\n",
       "    <tr>\n",
       "      <th>1001</th>\n",
       "      <td>서울 뉴스 1 심 언 기 기자 기부 어떻다 마약 보다 더하다 중독 있다 하다 기부 ...</td>\n",
       "      <td>44.02</td>\n",
       "    </tr>\n",
       "    <tr>\n",
       "      <th>740</th>\n",
       "      <td>서울 연합뉴스 이재윤 기자 국내 신종 코로나바이러스 감염증 코로나 19 확산 세 지...</td>\n",
       "      <td>42.47</td>\n",
       "    </tr>\n",
       "    <tr>\n",
       "      <th>753</th>\n",
       "      <td>서울 연합뉴스 신 선미 기자 국내 신종 코로나바이러스 감염증 코로나 19 확산 세 ...</td>\n",
       "      <td>41.02</td>\n",
       "    </tr>\n",
       "    <tr>\n",
       "      <th>1000</th>\n",
       "      <td>서울 뉴스 1 심 언 기 기자 연말 연 시 길거리 오가다 이 옷깃 가방 사랑 열매 ...</td>\n",
       "      <td>39.89</td>\n",
       "    </tr>\n",
       "    <tr>\n",
       "      <th>674</th>\n",
       "      <td>서울 연합뉴스 신 선미 기자 국내 신종 코로나바이러스 감염증 코로나 19 확 진자 ...</td>\n",
       "      <td>38.63</td>\n",
       "    </tr>\n",
       "    <tr>\n",
       "      <th>492</th>\n",
       "      <td>서울 뉴스 1 이형진 기자 이영 기자 2021년 새해 신종 코로나바이러스 감염증 코...</td>\n",
       "      <td>38.41</td>\n",
       "    </tr>\n",
       "    <tr>\n",
       "      <th>873</th>\n",
       "      <td>병역 기피 의혹 대한민국 입국 금지 처분 받다 가수 유승준 미국 스티브 유 44 이...</td>\n",
       "      <td>38.11</td>\n",
       "    </tr>\n",
       "    <tr>\n",
       "      <th>363</th>\n",
       "      <td>광주 뉴스 1 고귀하다 기자 광주 동구 지산 2 동 은 주민 마을 지키다 두 그루 ...</td>\n",
       "      <td>37.93</td>\n",
       "    </tr>\n",
       "    <tr>\n",
       "      <th>567</th>\n",
       "      <td>서울 뉴시스 하종 민 기자 2021년 새해 첫날 서울 신종 코로나바이러스 감염증 코...</td>\n",
       "      <td>37.84</td>\n",
       "    </tr>\n",
       "  </tbody>\n",
       "</table>\n",
       "</div>"
      ],
      "text/plain": [
       "                                                      0  similarity\n",
       "312   창원 뉴시스 김기진 기자 정의당 경 남도 신축년 새해 맞다 19일 째를 맞이 중대 ...       44.07\n",
       "1001  서울 뉴스 1 심 언 기 기자 기부 어떻다 마약 보다 더하다 중독 있다 하다 기부 ...       44.02\n",
       "740   서울 연합뉴스 이재윤 기자 국내 신종 코로나바이러스 감염증 코로나 19 확산 세 지...       42.47\n",
       "753   서울 연합뉴스 신 선미 기자 국내 신종 코로나바이러스 감염증 코로나 19 확산 세 ...       41.02\n",
       "1000  서울 뉴스 1 심 언 기 기자 연말 연 시 길거리 오가다 이 옷깃 가방 사랑 열매 ...       39.89\n",
       "674   서울 연합뉴스 신 선미 기자 국내 신종 코로나바이러스 감염증 코로나 19 확 진자 ...       38.63\n",
       "492   서울 뉴스 1 이형진 기자 이영 기자 2021년 새해 신종 코로나바이러스 감염증 코...       38.41\n",
       "873   병역 기피 의혹 대한민국 입국 금지 처분 받다 가수 유승준 미국 스티브 유 44 이...       38.11\n",
       "363   광주 뉴스 1 고귀하다 기자 광주 동구 지산 2 동 은 주민 마을 지키다 두 그루 ...       37.93\n",
       "567   서울 뉴시스 하종 민 기자 2021년 새해 첫날 서울 신종 코로나바이러스 감염증 코...       37.84"
      ]
     },
     "execution_count": 128,
     "metadata": {},
     "output_type": "execute_result"
    }
   ],
   "source": [
    "%%time\n",
    "arc_content = \"\"\"19년 간 2억원이 넘는 기부를 실천한 사람이 있다.\n",
    "\n",
    "지난 2004년부터 매년 꾸준히 어려운 이웃을 위한 나눔을 실천, 19년간 2억 2000만원을 기부한 시민이 있어 지역사회의 귀감이 되고 있다.\n",
    "\n",
    "코로나19가 길어져 취약 계층의 복지 수요가 늘었다고 판단한 황 대표는 올해 1월부터는 기부액을 매달 200만원으로 늘렸다.\n",
    "\n",
    "이렇게 이어온 황 대표의 누적 기부 금액은 2억 2000만원에 달한다.\"\"\"\n",
    "get_recommend_by_sentt(arc_content, 10)"
   ]
  },
  {
   "cell_type": "code",
   "execution_count": null,
   "id": "ea071992-acc8-4f9c-805f-06f7b2b79232",
   "metadata": {},
   "outputs": [],
   "source": []
  },
  {
   "cell_type": "markdown",
   "id": "42645736-3def-4382-8acf-625ba4a8dfd6",
   "metadata": {},
   "source": [
    "# skearn_cos_sim, tfidf"
   ]
  },
  {
   "cell_type": "code",
   "execution_count": 89,
   "id": "fe5e5552-7f5c-4a72-9467-8f54158ff15f",
   "metadata": {},
   "outputs": [],
   "source": [
    "def get_recommend_by_tfidf(content, n, drange=False):\n",
    "    from sklearn.metrics.pairwise import cosine_similarity\n",
    "    # 형태소 전처리\n",
    "    token = tag_except_list(except_list, string_tokenizer(content))\n",
    "    \n",
    "    tfidf_content = tfidf_vec.transform([token])\n",
    "    \n",
    "    cos_sim_res2 = cosine_similarity(tfidf_content, tfidf_dtm)\n",
    "    print(cos_sim_res2[0])\n",
    "    # 유사도 정렬, 추출\n",
    "    sim_scores = list(enumerate(cos_sim_res2[0]))\n",
    "    sim_scores = sorted(sim_scores, key=lambda x: x[1], reverse=True)\n",
    "    sim_scores_n = sim_scores[1:n+1]\n",
    "    # sim_scores_n = [sim for sim in sim_scores_n if sim[1] >= 0.6] # 유사도 60% 이상 필터=>옵션화 가능?###############\n",
    "    \n",
    "    # 해당하는 기사 가져오기\n",
    "    article_idx = [article_dict[0] for article_dict in sim_scores_n]\n",
    "    rst = data_fit.iloc[article_idx][[0]]\n",
    "    rst['similarity'] = [round(sim[1], 4)*100 for sim in sim_scores_n]\n",
    "        \n",
    "    return rst"
   ]
  },
  {
   "cell_type": "code",
   "execution_count": 90,
   "id": "615dc9eb-5f35-415b-a846-508eccd45966",
   "metadata": {
    "tags": []
   },
   "outputs": [
    {
     "name": "stdout",
     "output_type": "stream",
     "text": [
      "[0.00349746 0.00920457 0.0133762  ... 0.00797768 0.01787666 0.01167992]\n",
      "CPU times: total: 46.9 ms\n",
      "Wall time: 28.7 ms\n"
     ]
    },
    {
     "data": {
      "text/html": [
       "<div>\n",
       "<style scoped>\n",
       "    .dataframe tbody tr th:only-of-type {\n",
       "        vertical-align: middle;\n",
       "    }\n",
       "\n",
       "    .dataframe tbody tr th {\n",
       "        vertical-align: top;\n",
       "    }\n",
       "\n",
       "    .dataframe thead th {\n",
       "        text-align: right;\n",
       "    }\n",
       "</style>\n",
       "<table border=\"1\" class=\"dataframe\">\n",
       "  <thead>\n",
       "    <tr style=\"text-align: right;\">\n",
       "      <th></th>\n",
       "      <th>0</th>\n",
       "      <th>similarity</th>\n",
       "    </tr>\n",
       "  </thead>\n",
       "  <tbody>\n",
       "    <tr>\n",
       "      <th>1001</th>\n",
       "      <td>서울 뉴스 1 심 언 기 기자 기부 어떻다 마약 보다 더하다 중독 있다 하다 기부 ...</td>\n",
       "      <td>10.54</td>\n",
       "    </tr>\n",
       "    <tr>\n",
       "      <th>843</th>\n",
       "      <td>편집 자주 차다 고단 지난 하다 하다 신종 코로나바이러스 감염증 코로나 19 지금껏...</td>\n",
       "      <td>6.73</td>\n",
       "    </tr>\n",
       "    <tr>\n",
       "      <th>1049</th>\n",
       "      <td>경향신문 문재인 정부 3년 6 개월 민주주의 둘러싸다 실험 하다 문 대통령 촛불집회...</td>\n",
       "      <td>5.31</td>\n",
       "    </tr>\n",
       "    <tr>\n",
       "      <th>925</th>\n",
       "      <td>뉴스 스크립트 더불다 민주당 이낙연 대표 적절하다 시기 두 전직 대통령 사면 문재인...</td>\n",
       "      <td>5.03</td>\n",
       "    </tr>\n",
       "    <tr>\n",
       "      <th>1186</th>\n",
       "      <td>이대 규 24 씨 마이스터고 졸업 뒤 대학 진학 하다 않다 곧바로 일 시작 하다 기...</td>\n",
       "      <td>4.92</td>\n",
       "    </tr>\n",
       "    <tr>\n",
       "      <th>981</th>\n",
       "      <td>서울 뉴스 1 김윤경 기자 하다 해 끝나다 새해 시작 되다 보통 사람 라면 자성 하...</td>\n",
       "      <td>4.87</td>\n",
       "    </tr>\n",
       "    <tr>\n",
       "      <th>1048</th>\n",
       "      <td>경향신문 지난해 전 세계 덮다 친 코로나 19 를 계기 기본소득 논쟁 본격 돼다 정...</td>\n",
       "      <td>4.48</td>\n",
       "    </tr>\n",
       "    <tr>\n",
       "      <th>57</th>\n",
       "      <td>코로나 19 바이러스 사회 구성원 무차별 공격 하다 누군가 더 가혹하다 코로나 19...</td>\n",
       "      <td>4.33</td>\n",
       "    </tr>\n",
       "    <tr>\n",
       "      <th>930</th>\n",
       "      <td>서울 뉴스 1 온 다예 기 자강 수련 기자 김근 욱 기자 2021년 신축년 새해 밝...</td>\n",
       "      <td>4.10</td>\n",
       "    </tr>\n",
       "    <tr>\n",
       "      <th>1044</th>\n",
       "      <td>경향신문 2020년 하다 해 할퀴다 간 코로나 19 팬데믹 세계 대유행 한국 사회 ...</td>\n",
       "      <td>3.86</td>\n",
       "    </tr>\n",
       "  </tbody>\n",
       "</table>\n",
       "</div>"
      ],
      "text/plain": [
       "                                                      0  similarity\n",
       "1001  서울 뉴스 1 심 언 기 기자 기부 어떻다 마약 보다 더하다 중독 있다 하다 기부 ...       10.54\n",
       "843   편집 자주 차다 고단 지난 하다 하다 신종 코로나바이러스 감염증 코로나 19 지금껏...        6.73\n",
       "1049  경향신문 문재인 정부 3년 6 개월 민주주의 둘러싸다 실험 하다 문 대통령 촛불집회...        5.31\n",
       "925   뉴스 스크립트 더불다 민주당 이낙연 대표 적절하다 시기 두 전직 대통령 사면 문재인...        5.03\n",
       "1186  이대 규 24 씨 마이스터고 졸업 뒤 대학 진학 하다 않다 곧바로 일 시작 하다 기...        4.92\n",
       "981   서울 뉴스 1 김윤경 기자 하다 해 끝나다 새해 시작 되다 보통 사람 라면 자성 하...        4.87\n",
       "1048  경향신문 지난해 전 세계 덮다 친 코로나 19 를 계기 기본소득 논쟁 본격 돼다 정...        4.48\n",
       "57    코로나 19 바이러스 사회 구성원 무차별 공격 하다 누군가 더 가혹하다 코로나 19...        4.33\n",
       "930   서울 뉴스 1 온 다예 기 자강 수련 기자 김근 욱 기자 2021년 신축년 새해 밝...        4.10\n",
       "1044  경향신문 2020년 하다 해 할퀴다 간 코로나 19 팬데믹 세계 대유행 한국 사회 ...        3.86"
      ]
     },
     "execution_count": 90,
     "metadata": {},
     "output_type": "execute_result"
    }
   ],
   "source": [
    "%%time\n",
    "arc_content = \"\"\"19년 간 2억원이 넘는 기부를 실천한 사람이 있다.\n",
    "\n",
    "지난 2004년부터 매년 꾸준히 어려운 이웃을 위한 나눔을 실천, 19년간 2억 2000만원을 기부한 시민이 있어 지역사회의 귀감이 되고 있다.\n",
    "\n",
    "코로나19가 길어져 취약 계층의 복지 수요가 늘었다고 판단한 황 대표는 올해 1월부터는 기부액을 매달 200만원으로 늘렸다.\n",
    "\n",
    "이렇게 이어온 황 대표의 누적 기부 금액은 2억 2000만원에 달한다.\"\"\"\n",
    "get_recommend_by_tfidf(arc_content, 10)"
   ]
  },
  {
   "cell_type": "code",
   "execution_count": null,
   "id": "4fc5f799-01bd-4196-bdf9-b115a0dd69f9",
   "metadata": {},
   "outputs": [],
   "source": []
  }
 ],
 "metadata": {
  "kernelspec": {
   "display_name": "Python 3 (ipykernel)",
   "language": "python",
   "name": "python3"
  },
  "language_info": {
   "codemirror_mode": {
    "name": "ipython",
    "version": 3
   },
   "file_extension": ".py",
   "mimetype": "text/x-python",
   "name": "python",
   "nbconvert_exporter": "python",
   "pygments_lexer": "ipython3",
   "version": "3.8.15"
  }
 },
 "nbformat": 4,
 "nbformat_minor": 5
}
