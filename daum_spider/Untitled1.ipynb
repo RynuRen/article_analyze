{
 "cells": [
  {
   "cell_type": "code",
   "execution_count": 7,
   "id": "9681449f-515d-41d0-a2a9-ecc4777f6e68",
   "metadata": {},
   "outputs": [],
   "source": [
    "from datetime import datetime\n",
    "import os\n",
    "class path_manager:\n",
    "    __flask_directory = \"test/\"\n",
    "    __spider_directory = \"test/\"\n",
    "    category = \"test\"\n",
    "    \n",
    "    \n",
    "    @classmethod\n",
    "    def set_category(cls, category):\n",
    "        cls.category = category\n",
    "        \n",
    "    @classmethod\n",
    "    def mkdir(cls,directory):\n",
    "        if not os.path.exists(directory):\n",
    "            os.makedirs(directory)\n",
    "    \n",
    "    @classmethod\n",
    "    def get_path_data_mecav(cls,date=None):\n",
    "        \n",
    "        if not date:\n",
    "            date = 20000101\n",
    "        if isinstance(date, datetime):\n",
    "            date = date.strftime('%Y%m%d')\n",
    "            \n",
    "        directory = cls.__spider_directory+ f\"data_mecab_{cls.category}/\"\n",
    "        cls.mkdir(directory)\n",
    "        filename = f\"{cls.category}_{date}.csv\"\n",
    "        \n",
    "        return directory, filename"
   ]
  },
  {
   "cell_type": "code",
   "execution_count": 8,
   "id": "9bfb73bf-d3c2-4337-8eff-5bb38dd7e611",
   "metadata": {},
   "outputs": [
    {
     "data": {
      "text/plain": [
       "('test/data_mecab_test/', 'test_20000101.csv')"
      ]
     },
     "execution_count": 8,
     "metadata": {},
     "output_type": "execute_result"
    }
   ],
   "source": [
    "path_manager. get_path_data_mecav()"
   ]
  },
  {
   "cell_type": "code",
   "execution_count": null,
   "id": "c43513b8-995c-4565-a138-75fe0bf2db05",
   "metadata": {},
   "outputs": [],
   "source": []
  }
 ],
 "metadata": {
  "kernelspec": {
   "display_name": "Python 3 (ipykernel)",
   "language": "python",
   "name": "python3"
  },
  "language_info": {
   "codemirror_mode": {
    "name": "ipython",
    "version": 3
   },
   "file_extension": ".py",
   "mimetype": "text/x-python",
   "name": "python",
   "nbconvert_exporter": "python",
   "pygments_lexer": "ipython3",
   "version": "3.9.13"
  }
 },
 "nbformat": 4,
 "nbformat_minor": 5
}
