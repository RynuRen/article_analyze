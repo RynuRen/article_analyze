{
 "cells": [
  {
   "cell_type": "code",
   "execution_count": 86,
   "id": "ca741dbe-fe7b-4519-98ff-e2c57e17f58c",
   "metadata": {},
   "outputs": [],
   "source": [
    "### 레퍼런스 : [JS]2toknizer_v2.ipynb\n",
    "\n",
    "from tqdm import tqdm\n",
    "import pandas as pd\n",
    "from glob import glob"
   ]
  },
  {
   "cell_type": "code",
   "execution_count": 87,
   "id": "c7ed5fee-7d56-4678-8ac1-f34b3c7753c0",
   "metadata": {},
   "outputs": [
    {
     "name": "stderr",
     "output_type": "stream",
     "text": [
      "100%|████████████████████████████████████████████████████████████████████████████████| 365/365 [00:49<00:00,  7.42it/s]\n"
     ]
    }
   ],
   "source": [
    "files = sorted(glob('./data/*.csv'))\n",
    "date_cols = ['date']\n",
    "data_all = pd.DataFrame()\n",
    "for file in tqdm(files):\n",
    "    df_day = pd.read_csv(file, parse_dates=date_cols) # date 컬럼 datetime 형식으로 불러오기\n",
    "    data_all = pd.concat([data_all, df_day])\n",
    "data_all.reset_index(drop=True, inplace=True)"
   ]
  },
  {
   "cell_type": "code",
   "execution_count": 89,
   "id": "a64e24e0-f207-4291-a3b0-db99a56aa736",
   "metadata": {},
   "outputs": [],
   "source": [
    "from konlpy.tag import Okt, Kkma\n",
    "from tqdm import tqdm\n",
    "import pandas as pd\n",
    "from glob import glob\n",
    " \n",
    "okt = Okt() "
   ]
  },
  {
   "cell_type": "code",
   "execution_count": 90,
   "id": "a11e71ff-21f9-4db7-adee-b462320b7364",
   "metadata": {},
   "outputs": [],
   "source": [
    "kkma = Kkma()"
   ]
  },
  {
   "cell_type": "code",
   "execution_count": 91,
   "id": "a9b100d6-a58b-4b97-8ea2-a6f41dda4d29",
   "metadata": {},
   "outputs": [],
   "source": [
    "### 테스트용 : 결과  ' 들 하 들 하 하 되 하 되 들 하 들 되 하 하 하 하 들 하 하 하 들 들 하 들 들 하 들 들 하 하 하 하 하'\n",
    "\n",
    "except_tag_list = [\"NNG\", \"NNP\", \"NNB\", \"NNM\", \"NR\", \"NP\", \"VV\", \"VA\", \"VXV\", \"VXA\", \"VCP\", \"VCN\", \"MDN\", \"MDT\", \"MAG\", \"MAC\", \"IC\", \"JKS\", \"JKC\", \"JKG\", \"JKO\", \"JKM\", \"JKI\", \"JKQ\", \"JC\", \"JX\", \"EPH\", \"EPT\", \"EPP\", \"EFN\", \"EFQ\", \"EFO\", \"EFA\", \"EFI\", \"EFR\", \"ECE\", \"ECS\", \"ECD\", \"ETN\", \"ETD\", \"XPN\", \"XPV\"]"
   ]
  },
  {
   "cell_type": "code",
   "execution_count": 92,
   "id": "0f02a49b-a424-428b-82f5-ab7433e063e8",
   "metadata": {},
   "outputs": [
    {
     "data": {
      "text/plain": [
       "' 오미크론 변이 확진자 1명 추가 [울산=뉴시스]구미현 기자 = 새해 첫날 울산에서 코로나19 확진자 58명이 추가로 발생했다. 울산시는 1일 0시부터 오후 6시까지 코로나19 신규 확진자 58명이 발생, 지역 6924∼6981번으로 분류됐다고 밝혔다. 51명은 기존 확진자의 접촉자이며, 7명은 감염 경로가 확인되지 않았다. 울주군 A 어린이집에서는 새로운 집단감염이 확인돼 이날에만 9명이 확진 판정을 받았다. 이로써 이 어린이집 관련 직간접 누적 확진자는 14명이다. 기존 집단감염 사례 중에서는 동구 B 어린이집 관련 8명이 자가격리 중 확진돼 이 집단 누적 확진자가 37명으로 늘었다. 북구 C 초등학교 관련 확진자도 6명이 추가돼 누적 44명이 됐고, 북구 D 교회 관련 확진자가 1명 더 발생해 현재까지 누적 35명이 됐다. 지역별로는 북구 19명, 울주군 15명, 동구 9명, 남구 8명, 중구 7명이다. 시는 확진자 거주지를 방역하고, 동선과 접촉자를 조사하고 있다. 한편 코로나19의 새 변이인 오미크론 감염자 1명도 추가 확인됐다. 시는 영국에서 입국한 확진자의 가족 1명이 오미크론 변이로 확인됐다고 설명했다. 울산의 오미크론 변이 감염자는 해외 유입 10명과 이들에게서 감염된 가족·지인 7명 등 총 17명으로 늘었다.'"
      ]
     },
     "execution_count": 92,
     "metadata": {},
     "output_type": "execute_result"
    }
   ],
   "source": [
    "data_all.iloc[20][\"content\"]"
   ]
  },
  {
   "cell_type": "code",
   "execution_count": 93,
   "id": "cb7a9833-5d77-45f6-b4e0-61db8675d7fb",
   "metadata": {},
   "outputs": [],
   "source": [
    "def pos_drop_except(analyzer, except_tag_list, df):\n",
    "    from tqdm import notebook \n",
    "    ### analyzer : 형태소 분석기\n",
    "    ### except_tag_list : 사용 안할 태크 선정\n",
    "    df['content'] = df['content'].str.replace('[^0-9ㄱ-ㅎㅏ-ㅣ가-힣 ]', '', regex=True)\n",
    "    idx = 0\n",
    "    \n",
    "    for content in notebook.tqdm(df['content']):\n",
    "        \n",
    "        ### analyzer.pos 분석기에 따라 옵션은 수정해서 사용\n",
    "        tags = analyzer.pos(content)\n",
    "        \n",
    "        content = \"\"\n",
    "        for token_content in tags:\n",
    "            # if except_tag_list in token_content[1]:\n",
    "            if token_content[1] in except_tag_list:\n",
    "                continue\n",
    "                \n",
    "            content = content + \" \" + token_content[0]\n",
    "        \n",
    "        df.loc[[idx], 'content'] = content\n",
    "        \n",
    "        idx = idx + 1\n",
    "        \n",
    "\n",
    "            \n",
    "            \n",
    "    "
   ]
  },
  {
   "cell_type": "code",
   "execution_count": 94,
   "id": "4a6cff6d-c314-40c3-aa1f-98ba77ce58cb",
   "metadata": {},
   "outputs": [
    {
     "data": {
      "application/vnd.jupyter.widget-view+json": {
       "model_id": "a8dee1dafcb54979978c9fb7fb67571f",
       "version_major": 2,
       "version_minor": 0
      },
      "text/plain": [
       "  0%|          | 0/100 [00:00<?, ?it/s]"
      ]
     },
     "metadata": {},
     "output_type": "display_data"
    }
   ],
   "source": [
    "pos_drop_except(kkma, except_tag_list, data_all)"
   ]
  },
  {
   "cell_type": "code",
   "execution_count": 95,
   "id": "ce7519e4-d31c-4cac-8d84-98a75d887cd8",
   "metadata": {},
   "outputs": [
    {
     "data": {
      "text/plain": [
       "' 하 되 되 롭 되 되 하 하 하 되 하 되 하 들 되'"
      ]
     },
     "execution_count": 95,
     "metadata": {},
     "output_type": "execute_result"
    }
   ],
   "source": [
    "data_all.iloc[20][\"content\"]"
   ]
  },
  {
   "cell_type": "code",
   "execution_count": null,
   "id": "327b9529-6255-4974-82d3-2c2b30453e86",
   "metadata": {},
   "outputs": [],
   "source": []
  }
 ],
 "metadata": {
  "kernelspec": {
   "display_name": "Python 3 (ipykernel)",
   "language": "python",
   "name": "python3"
  },
  "language_info": {
   "codemirror_mode": {
    "name": "ipython",
    "version": 3
   },
   "file_extension": ".py",
   "mimetype": "text/x-python",
   "name": "python",
   "nbconvert_exporter": "python",
   "pygments_lexer": "ipython3",
   "version": "3.8.15"
  }
 },
 "nbformat": 4,
 "nbformat_minor": 5
}
