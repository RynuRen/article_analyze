{
 "cells": [
  {
   "cell_type": "code",
   "execution_count": 9,
   "id": "8af46e0a-777c-4fbe-bb89-8e3595e1f99e",
   "metadata": {},
   "outputs": [],
   "source": [
    "import pymysql as m\n",
    "import pandas as pd\n",
    "from datetime import datetime\n",
    "from tqdm import notebook\n",
    "from glob import glob\n",
    "import numpy as np\n",
    "from bs4 import BeautifulSoup\n",
    "import requests\n",
    "import re\n",
    "import pymysql\n",
    "import pandas as pd"
   ]
  },
  {
   "cell_type": "code",
   "execution_count": 10,
   "id": "736e990f-0fc5-4c3b-8416-e2efb95fdb70",
   "metadata": {},
   "outputs": [],
   "source": [
    "press_list = ['경향신문', '국민일보', '뉴스1', '뉴시스', '동아일보', '문화일보', '서울신문', '세계일보', '연합뉴스',  '조선일보', '중앙일보', '한겨레', '한국일보']\n",
    "\n",
    "stop_content = [\"무단전재\", \"재배포금지\",\"저작권자 ⓒ 서울신문사\",\"무단복제 및 전재\",\"무단 전재 및 재배포\",\"제보는 카톡\", \"☞\", \"무단 전재-재배포\", \"▶연합뉴스 앱 지금 바로 다운받기~\"]\n",
    "\n",
    "# rep_list = [u'\\xa0', u'\\u2027', u'\\u30fb', u'\\u2024', u'\\uff65', u'\\u2014', u'\\u22c5', u'\\u207a', u'\\u2219', u'\\u2e31', u'\\u200d']\n",
    "rep_list = ['기사내용 요약']\n",
    "\n",
    "stop_title = ['[부고]', '[인사]', '[표]', '[모멘트]', '[궂긴소식]']"
   ]
  },
  {
   "cell_type": "code",
   "execution_count": 11,
   "id": "5b9be409-6f9f-4c4f-8929-035afb2d7494",
   "metadata": {},
   "outputs": [],
   "source": [
    "import time\n",
    "import traceback\n",
    "def ErrorLog_scraping(error: str):\n",
    "    current_time = time.strftime(\"%Y.%m.%d/%H:%M:%S\", time.localtime(time.time()))\n",
    "    with open(\"error_Log_scraping.txt\", \"a\") as f:\n",
    "        f.write(f\"[{current_time}] - {error}\\n\")"
   ]
  },
  {
   "cell_type": "code",
   "execution_count": null,
   "id": "f3624d03-4028-4a03-af0e-e9a2ac40817c",
   "metadata": {},
   "outputs": [],
   "source": [
    "def ErrorLog_sql(error: str):\n",
    "    current_time = time.strftime(\"%Y.%m.%d/%H:%M:%S\", time.localtime(time.time()))\n",
    "    with open(\"error_Log_sql.txt\", \"a\") as f:\n",
    "        f.write(f\"[{current_time}] - {error}\\n\")"
   ]
  },
  {
   "cell_type": "code",
   "execution_count": 12,
   "id": "76c0c885-509b-4b55-b255-7d547ea798d3",
   "metadata": {},
   "outputs": [],
   "source": [
    "def create_soup(url):\n",
    "    i = 0\n",
    "    ## 요청 오류시 10번  재시도\n",
    "    while i < 10 :\n",
    "        try:\n",
    "            res = requests.get(url)\n",
    "            res.raise_for_status()\n",
    "            soup = BeautifulSoup(res.content, 'html.parser', from_encoding='cp949')\n",
    "            break\n",
    "        except:\n",
    "            i += 1\n",
    "            if i == 10 :\n",
    "                err = traceback.format_exc().split('\\n')[-2]\n",
    "                ErrorLog_scraping(str(err))\n",
    "                return false\n",
    "                \n",
    "            \n",
    "    return soup"
   ]
  },
  {
   "cell_type": "code",
   "execution_count": 13,
   "id": "85825c1f-d391-4c4d-9b50-f61fbd6eeb8d",
   "metadata": {},
   "outputs": [],
   "source": [
    "def content_scraper(link):\n",
    "    article_soup  = create_soup(link)\n",
    "    \n",
    "    if not article_soup:\n",
    "        return False\n",
    "    \n",
    "    # 기자없는 기사 걸러내기\n",
    "    journalist = article_soup.select('div>span')[0].text.split('기자')[0].strip() + ' 기자'\n",
    "    if '입력' in journalist or journalist == ' 기자':\n",
    "        return False\n",
    "    \n",
    "    # 본문 정리\n",
    "    article = article_soup.find_all('section')[1]\n",
    "    content = article.find_all(True, attrs={'dmcf-ptype':'general'})\n",
    "    rst = []\n",
    "    for para in content:\n",
    "        for tmp in para.text.split('\\n'):\n",
    "            if tmp.strip() != '':\n",
    "                rst.append(tmp.strip())\n",
    "    content = []\n",
    "    for c in rst:\n",
    "        for i in stop_content:\n",
    "            if i in c:\n",
    "                break\n",
    "        else:\n",
    "            for rep in rep_list:\n",
    "                c = c.replace(rep, '')\n",
    "            content.append(c)\n",
    "    content = ' '.join(content)\n",
    "    if len(content) < 200:\n",
    "        return False\n",
    "    return content, journalist"
   ]
  },
  {
   "cell_type": "code",
   "execution_count": 14,
   "id": "6b634ebd-632e-4f8c-89e6-c147e8b4fa0b",
   "metadata": {},
   "outputs": [],
   "source": [
    "def get_articles(date, category):\n",
    "    \n",
    "#     sql용 \n",
    "    con = m.connect(host = \"\", user = 'KH', db = 'mintsaveworld' , password = \"\", charset = \"utf8mb4\")\n",
    "    cur = con.cursor()\n",
    "    sql = \"\"\"insert into test values (%s,%s,%s,%s,%s,%s,%s,%s); \"\"\"\n",
    "    \n",
    "    \n",
    "    # 마지막 리스트 페이지 체크\n",
    "    url = f'https://news.daum.net/breakingnews/{category}?page=999&regDate={date}'\n",
    "    soup = create_soup(url)\n",
    "    \n",
    "    \n",
    "    if not soup:\n",
    "        return\n",
    "\n",
    "\n",
    "    \n",
    "    last_page = soup.find(\"em\",attrs ={\"class\": \"num_page\"})\n",
    "    last_page_num = int(re.sub(r'[^0-9]', '', last_page.text))\n",
    "    # last_page_num = 10\n",
    "    \n",
    "    for page in notebook.tqdm(range(1, last_page_num+1)):\n",
    "        url = f'https://news.daum.net/breakingnews/{category}?page={page}&regDate={date}'\n",
    "        soup = create_soup(url)\n",
    "        \n",
    "        if not soup:\n",
    "#           n페이지 오류 시 그냥 진행\n",
    "            continue\n",
    "        \n",
    "            \n",
    "        \n",
    "        news_list = soup.find_all('strong', attrs={'class':'tit_thumb'})\n",
    "        \n",
    "        # 리스트의 뉴스 하나씩 처리\n",
    "        for i in range(len(news_list)-4):\n",
    "            press = news_list[i].find('span').text.split('·')[0].strip()\n",
    "            if press not in press_list:\n",
    "                continue\n",
    "            title = news_list[i].find('a').text\n",
    "            tflag = True\n",
    "            for t in stop_title:\n",
    "                if t in title:\n",
    "                    tflag = False\n",
    "                    break\n",
    "            if not tflag:\n",
    "                continue\n",
    "            link = news_list[i].find('a')['href']\n",
    "            # print(link, end='\\r')\n",
    "            date = news_list[i].find('a')['href'].split('/')[-1][:8]\n",
    "            arcid = link.split('/')[-1]\n",
    "            category = url.split('/')[-1].split('?')[0]\n",
    "            checker = content_scraper(link)\n",
    "            \n",
    "            if not checker:\n",
    "                \n",
    "                continue\n",
    "                \n",
    "            content, journalist = checker\n",
    "                \n",
    "            \n",
    "            \n",
    "            q_arcid = arcid\n",
    "            q_press = press\n",
    "            q_title = title\n",
    "            q_content = content\n",
    "            q_journalist = journalist\n",
    "            q_date = date\n",
    "            q_link = link\n",
    "            q_category = category\n",
    "            \n",
    "            \n",
    "            try:\n",
    "                cur.execute(sql,(q_arcid, q_press, q_title, q_content, q_journalist, q_date, q_link, q_category))\n",
    "            except:\n",
    "                err = traceback.format_exc(chain=False).split('\\n')[-2]\n",
    "                ErrorLog_scraping(str(err))\n",
    "                \n",
    "\n",
    "            \n",
    "\n",
    "    \n",
    "    con.commit()\n",
    "    con.close()"
   ]
  },
  {
   "cell_type": "code",
   "execution_count": 15,
   "id": "21361208-389f-4bb2-ad53-5d9900b458a0",
   "metadata": {},
   "outputs": [],
   "source": [
    "from datetime import date\n",
    "from dateutil.rrule import rrule, DAILY\n",
    "start_date = date(2020, 6, 24)\n",
    "end_date = date(2020, 6, 24)\n"
   ]
  },
  {
   "cell_type": "code",
   "execution_count": 16,
   "id": "671c889f-0e71-41d3-b753-26a71879d957",
   "metadata": {},
   "outputs": [
    {
     "data": {
      "application/vnd.jupyter.widget-view+json": {
       "model_id": "0c41bc5d7c5b419c884c4b433f83e876",
       "version_major": 2,
       "version_minor": 0
      },
      "text/plain": [
       "  0%|          | 0/1 [00:00<?, ?it/s]"
      ]
     },
     "metadata": {},
     "output_type": "display_data"
    }
   ],
   "source": [
    "get_articles(start_date, 'society')"
   ]
  },
  {
   "cell_type": "code",
   "execution_count": null,
   "id": "6dd7a7d9-51b5-4057-b291-20577e888f36",
   "metadata": {},
   "outputs": [],
   "source": []
  }
 ],
 "metadata": {
  "kernelspec": {
   "display_name": "Python 3 (ipykernel)",
   "language": "python",
   "name": "python3"
  },
  "language_info": {
   "codemirror_mode": {
    "name": "ipython",
    "version": 3
   },
   "file_extension": ".py",
   "mimetype": "text/x-python",
   "name": "python",
   "nbconvert_exporter": "python",
   "pygments_lexer": "ipython3",
   "version": "3.8.15"
  }
 },
 "nbformat": 4,
 "nbformat_minor": 5
}
