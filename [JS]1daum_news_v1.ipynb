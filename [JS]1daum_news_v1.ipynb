{
 "cells": [
  {
   "cell_type": "code",
   "execution_count": 1,
   "id": "7a9091b0-67f3-47a4-8817-9b2d61db5df4",
   "metadata": {},
   "outputs": [],
   "source": [
    "import pandas as pd\n",
    "import numpy as np\n",
    "from bs4 import BeautifulSoup\n",
    "import requests\n",
    "from tqdm import tqdm"
   ]
  },
  {
   "cell_type": "code",
   "execution_count": 2,
   "id": "72bcf546-bf1b-4512-ab5a-ffe6dd1b7e52",
   "metadata": {},
   "outputs": [],
   "source": [
    "def create_soup(url):\n",
    "    res = requests.get(url)\n",
    "    res.raise_for_status()\n",
    "    soup = BeautifulSoup(res.content, 'html.parser', from_encoding='cp949')\n",
    "    return soup"
   ]
  },
  {
   "cell_type": "markdown",
   "id": "77fde3c8-27bb-401b-a009-a30c4ebb6779",
   "metadata": {},
   "source": [
    "[arcid, press, title, content, journalist, date, link, category]"
   ]
  },
  {
   "cell_type": "markdown",
   "id": "3e9c3b41-d0e1-473c-9360-84f18a39cbb5",
   "metadata": {
    "tags": []
   },
   "source": [
    "# 테스트"
   ]
  },
  {
   "cell_type": "markdown",
   "id": "7b0e8b2a-dcc1-43be-9e3e-4d748dcc0830",
   "metadata": {
    "jp-MarkdownHeadingCollapsed": true,
    "tags": []
   },
   "source": [
    "## 뉴스 리스트 스크래핑"
   ]
  },
  {
   "cell_type": "code",
   "execution_count": 103,
   "id": "7364b3f2-874b-415d-b136-1ae5291ca9f0",
   "metadata": {},
   "outputs": [],
   "source": [
    "date = '20230130'\n",
    "category = 'society'\n",
    "page = 1\n",
    "url = f'https://news.daum.net/breakingnews/{category}?page={page}&regDate={date}'\n",
    "\n",
    "soup = create_soup(url)"
   ]
  },
  {
   "cell_type": "code",
   "execution_count": 104,
   "id": "81cbc64a-74ba-410c-9dcd-831a1bdf4d16",
   "metadata": {},
   "outputs": [],
   "source": [
    "news_list = soup.find_all('strong', attrs={'class':'tit_thumb'})"
   ]
  },
  {
   "cell_type": "code",
   "execution_count": 333,
   "id": "9e484469-2560-4359-99cd-a53a59c360b8",
   "metadata": {},
   "outputs": [
    {
     "data": {
      "text/plain": [
       "'다음'"
      ]
     },
     "execution_count": 333,
     "metadata": {},
     "output_type": "execute_result"
    }
   ],
   "source": [
    "soup = create_soup('https://news.daum.net/breakingnews/society?page=170&regDate=20230129')\n",
    "paging = soup.find('span', attrs={'class':'inner_paging'}).find_all(text=True)\n",
    "paging = [i.strip() for i in paging if i != '\\n']\n",
    "paging[-1]"
   ]
  },
  {
   "cell_type": "code",
   "execution_count": 334,
   "id": "bec17da9-4173-4369-a861-5cba478baf61",
   "metadata": {},
   "outputs": [
    {
     "data": {
      "text/plain": [
       "['이전', '171', '172', '173', '174', '175', '176', '177', '현재 페이지', '178']"
      ]
     },
     "execution_count": 334,
     "metadata": {},
     "output_type": "execute_result"
    }
   ],
   "source": [
    "url = 'https://news.daum.net/breakingnews/society?page=178&regDate=20230129'\n",
    "soup = create_soup(url)\n",
    "paging = soup.find('span', attrs={'class':'inner_paging'}).find_all(text=True)\n",
    "paging = [i.strip() for i in paging if i != '\\n']\n",
    "paging"
   ]
  },
  {
   "cell_type": "code",
   "execution_count": 345,
   "id": "85ae497f-230d-4b7f-b841-7b6edf999f13",
   "metadata": {},
   "outputs": [
    {
     "data": {
      "text/plain": [
       "'178'"
      ]
     },
     "execution_count": 345,
     "metadata": {},
     "output_type": "execute_result"
    }
   ],
   "source": [
    "paging[-1]"
   ]
  },
  {
   "cell_type": "code",
   "execution_count": 105,
   "id": "869632b0-35ea-4bbb-a9b6-f4b4a1cbaf0d",
   "metadata": {},
   "outputs": [
    {
     "name": "stderr",
     "output_type": "stream",
     "text": [
      "100%|███████████████████████████████████████████████████████████████████████████████| 15/15 [00:00<00:00, 14563.56it/s]\n"
     ]
    }
   ],
   "source": [
    "articles = []\n",
    "for i in tqdm(range(len(news_list)-4)):\n",
    "    article = []\n",
    "    title = news_list[i].find('a').text\n",
    "    link = news_list[i].find('a')['href']\n",
    "    date = news_list[i].find('a')['href'].split('/')[-1][:8]\n",
    "    arcid = news_list[i].find('a')['href'].split('/')[-1][8:]\n",
    "    press = news_list[i].find('span').text.split('·')[0].strip()\n",
    "    category = url.split('/')[-1].split('?')[0]\n",
    "    article = [arcid, press, title, date, link, category]\n",
    "    articles.append(article)"
   ]
  },
  {
   "cell_type": "code",
   "execution_count": 106,
   "id": "3c5243bb-244b-438b-9d3c-741882651132",
   "metadata": {
    "collapsed": true,
    "jupyter": {
     "outputs_hidden": true
    },
    "tags": []
   },
   "outputs": [
    {
     "data": {
      "text/html": [
       "<div>\n",
       "<style scoped>\n",
       "    .dataframe tbody tr th:only-of-type {\n",
       "        vertical-align: middle;\n",
       "    }\n",
       "\n",
       "    .dataframe tbody tr th {\n",
       "        vertical-align: top;\n",
       "    }\n",
       "\n",
       "    .dataframe thead th {\n",
       "        text-align: right;\n",
       "    }\n",
       "</style>\n",
       "<table border=\"1\" class=\"dataframe\">\n",
       "  <thead>\n",
       "    <tr style=\"text-align: right;\">\n",
       "      <th></th>\n",
       "      <th>arcid</th>\n",
       "      <th>press</th>\n",
       "      <th>title</th>\n",
       "      <th>date</th>\n",
       "      <th>link</th>\n",
       "      <th>category</th>\n",
       "    </tr>\n",
       "  </thead>\n",
       "  <tbody>\n",
       "    <tr>\n",
       "      <th>0</th>\n",
       "      <td>215114044</td>\n",
       "      <td>KBS</td>\n",
       "      <td>강기정 시장-시민단체 간담회…사안마다 격돌</td>\n",
       "      <td>20230130</td>\n",
       "      <td>https://v.daum.net/v/20230130215114044</td>\n",
       "      <td>society</td>\n",
       "    </tr>\n",
       "    <tr>\n",
       "      <th>1</th>\n",
       "      <td>215110043</td>\n",
       "      <td>KBS</td>\n",
       "      <td>3년 만에 실내 마스크 해제…“아직은 쓰는 게 편해요”</td>\n",
       "      <td>20230130</td>\n",
       "      <td>https://v.daum.net/v/20230130215110043</td>\n",
       "      <td>society</td>\n",
       "    </tr>\n",
       "    <tr>\n",
       "      <th>2</th>\n",
       "      <td>215050037</td>\n",
       "      <td>KBS</td>\n",
       "      <td>‘밀렵’ 여전…매년 ‘덫·올무’ 7천여 개 적발</td>\n",
       "      <td>20230130</td>\n",
       "      <td>https://v.daum.net/v/20230130215050037</td>\n",
       "      <td>society</td>\n",
       "    </tr>\n",
       "    <tr>\n",
       "      <th>3</th>\n",
       "      <td>215025034</td>\n",
       "      <td>KBS</td>\n",
       "      <td>“쓰레기 늘었는데” 소각장 증설 반대…지자체 골머리</td>\n",
       "      <td>20230130</td>\n",
       "      <td>https://v.daum.net/v/20230130215025034</td>\n",
       "      <td>society</td>\n",
       "    </tr>\n",
       "    <tr>\n",
       "      <th>4</th>\n",
       "      <td>215024033</td>\n",
       "      <td>머니투데이</td>\n",
       "      <td>파키스탄 이슬람사원서 자폭 테러…\"180여명 사상\"</td>\n",
       "      <td>20230130</td>\n",
       "      <td>https://v.daum.net/v/20230130215024033</td>\n",
       "      <td>society</td>\n",
       "    </tr>\n",
       "    <tr>\n",
       "      <th>5</th>\n",
       "      <td>215002028</td>\n",
       "      <td>한국경제</td>\n",
       "      <td>\"귀신 내쫓아야\"…친딸 폭행해 숨지게 한 무속인 아버지</td>\n",
       "      <td>20230130</td>\n",
       "      <td>https://v.daum.net/v/20230130215002028</td>\n",
       "      <td>society</td>\n",
       "    </tr>\n",
       "    <tr>\n",
       "      <th>6</th>\n",
       "      <td>214938027</td>\n",
       "      <td>KBS</td>\n",
       "      <td>유치원·어린이집 하나로…“2025년 시행 목표”</td>\n",
       "      <td>20230130</td>\n",
       "      <td>https://v.daum.net/v/20230130214938027</td>\n",
       "      <td>society</td>\n",
       "    </tr>\n",
       "    <tr>\n",
       "      <th>7</th>\n",
       "      <td>214921025</td>\n",
       "      <td>KBS</td>\n",
       "      <td>[일하다 죽지 않게] 중대재해법 기소 11건 불과…법 개정만 검토?</td>\n",
       "      <td>20230130</td>\n",
       "      <td>https://v.daum.net/v/20230130214921025</td>\n",
       "      <td>society</td>\n",
       "    </tr>\n",
       "    <tr>\n",
       "      <th>8</th>\n",
       "      <td>214918024</td>\n",
       "      <td>KBS</td>\n",
       "      <td>교통문화지수, 원주 4년 연속 1위…속초·인제·고성도 ‘A’</td>\n",
       "      <td>20230130</td>\n",
       "      <td>https://v.daum.net/v/20230130214918024</td>\n",
       "      <td>society</td>\n",
       "    </tr>\n",
       "    <tr>\n",
       "      <th>9</th>\n",
       "      <td>214915023</td>\n",
       "      <td>KBS</td>\n",
       "      <td>전국혁신도시협 “2차 공공기관 혁신도시 우선 배치”</td>\n",
       "      <td>20230130</td>\n",
       "      <td>https://v.daum.net/v/20230130214915023</td>\n",
       "      <td>society</td>\n",
       "    </tr>\n",
       "    <tr>\n",
       "      <th>10</th>\n",
       "      <td>214915022</td>\n",
       "      <td>아시아경제</td>\n",
       "      <td>영암교육지원청·영암군청, 지역교육 협력 방안 논의</td>\n",
       "      <td>20230130</td>\n",
       "      <td>https://v.daum.net/v/20230130214915022</td>\n",
       "      <td>society</td>\n",
       "    </tr>\n",
       "    <tr>\n",
       "      <th>11</th>\n",
       "      <td>214905020</td>\n",
       "      <td>KBS</td>\n",
       "      <td>[집중취재] 마트는 벗고, 마트 내 약국은 쓰고…혼란 가중</td>\n",
       "      <td>20230130</td>\n",
       "      <td>https://v.daum.net/v/20230130214905020</td>\n",
       "      <td>society</td>\n",
       "    </tr>\n",
       "    <tr>\n",
       "      <th>12</th>\n",
       "      <td>214857014</td>\n",
       "      <td>KBS</td>\n",
       "      <td>강원, 오늘 490명 신규 확진…12일째 천명 아래</td>\n",
       "      <td>20230130</td>\n",
       "      <td>https://v.daum.net/v/20230130214857014</td>\n",
       "      <td>society</td>\n",
       "    </tr>\n",
       "    <tr>\n",
       "      <th>13</th>\n",
       "      <td>214850011</td>\n",
       "      <td>KBS</td>\n",
       "      <td>문턱 낮아진 주민 조례…참정권 확대는 아직</td>\n",
       "      <td>20230130</td>\n",
       "      <td>https://v.daum.net/v/20230130214850011</td>\n",
       "      <td>society</td>\n",
       "    </tr>\n",
       "    <tr>\n",
       "      <th>14</th>\n",
       "      <td>214847010</td>\n",
       "      <td>KBS</td>\n",
       "      <td>오늘 0시 기준, 부산 409명 코로나19 신규 확진</td>\n",
       "      <td>20230130</td>\n",
       "      <td>https://v.daum.net/v/20230130214847010</td>\n",
       "      <td>society</td>\n",
       "    </tr>\n",
       "  </tbody>\n",
       "</table>\n",
       "</div>"
      ],
      "text/plain": [
       "        arcid  press                                  title      date  \\\n",
       "0   215114044    KBS                강기정 시장-시민단체 간담회…사안마다 격돌  20230130   \n",
       "1   215110043    KBS         3년 만에 실내 마스크 해제…“아직은 쓰는 게 편해요”  20230130   \n",
       "2   215050037    KBS             ‘밀렵’ 여전…매년 ‘덫·올무’ 7천여 개 적발  20230130   \n",
       "3   215025034    KBS           “쓰레기 늘었는데” 소각장 증설 반대…지자체 골머리  20230130   \n",
       "4   215024033  머니투데이           파키스탄 이슬람사원서 자폭 테러…\"180여명 사상\"  20230130   \n",
       "5   215002028   한국경제         \"귀신 내쫓아야\"…친딸 폭행해 숨지게 한 무속인 아버지  20230130   \n",
       "6   214938027    KBS             유치원·어린이집 하나로…“2025년 시행 목표”  20230130   \n",
       "7   214921025    KBS  [일하다 죽지 않게] 중대재해법 기소 11건 불과…법 개정만 검토?  20230130   \n",
       "8   214918024    KBS      교통문화지수, 원주 4년 연속 1위…속초·인제·고성도 ‘A’  20230130   \n",
       "9   214915023    KBS           전국혁신도시협 “2차 공공기관 혁신도시 우선 배치”  20230130   \n",
       "10  214915022  아시아경제            영암교육지원청·영암군청, 지역교육 협력 방안 논의  20230130   \n",
       "11  214905020    KBS       [집중취재] 마트는 벗고, 마트 내 약국은 쓰고…혼란 가중  20230130   \n",
       "12  214857014    KBS           강원, 오늘 490명 신규 확진…12일째 천명 아래  20230130   \n",
       "13  214850011    KBS                문턱 낮아진 주민 조례…참정권 확대는 아직  20230130   \n",
       "14  214847010    KBS          오늘 0시 기준, 부산 409명 코로나19 신규 확진  20230130   \n",
       "\n",
       "                                      link category  \n",
       "0   https://v.daum.net/v/20230130215114044  society  \n",
       "1   https://v.daum.net/v/20230130215110043  society  \n",
       "2   https://v.daum.net/v/20230130215050037  society  \n",
       "3   https://v.daum.net/v/20230130215025034  society  \n",
       "4   https://v.daum.net/v/20230130215024033  society  \n",
       "5   https://v.daum.net/v/20230130215002028  society  \n",
       "6   https://v.daum.net/v/20230130214938027  society  \n",
       "7   https://v.daum.net/v/20230130214921025  society  \n",
       "8   https://v.daum.net/v/20230130214918024  society  \n",
       "9   https://v.daum.net/v/20230130214915023  society  \n",
       "10  https://v.daum.net/v/20230130214915022  society  \n",
       "11  https://v.daum.net/v/20230130214905020  society  \n",
       "12  https://v.daum.net/v/20230130214857014  society  \n",
       "13  https://v.daum.net/v/20230130214850011  society  \n",
       "14  https://v.daum.net/v/20230130214847010  society  "
      ]
     },
     "execution_count": 106,
     "metadata": {},
     "output_type": "execute_result"
    }
   ],
   "source": [
    "pd.DataFrame(articles, columns=['arcid', 'press', 'title', 'date', 'link', 'category'])"
   ]
  },
  {
   "cell_type": "markdown",
   "id": "182cd887-9da1-40b0-8c0d-af12652792be",
   "metadata": {
    "jp-MarkdownHeadingCollapsed": true,
    "tags": []
   },
   "source": [
    "## 링크로 본문 스크래핑"
   ]
  },
  {
   "cell_type": "code",
   "execution_count": 299,
   "id": "be0e0367-6605-400c-96e6-1d226dd34cde",
   "metadata": {},
   "outputs": [],
   "source": [
    "link = 'https://v.daum.net/v/20230129093900580'\n",
    "article_soup = create_soup(link)\n",
    "article = article_soup.find_all('section')[1]\n",
    "article = article.find_all(True, attrs={'dmcf-ptype':'general'})\n",
    "article = [i.text.strip() for i in article]"
   ]
  },
  {
   "cell_type": "code",
   "execution_count": 300,
   "id": "55330464-3594-4c70-9f50-7f9ba01fba13",
   "metadata": {},
   "outputs": [
    {
     "data": {
      "text/plain": [
       "['오늘(29일) 0시 기준 코로나19 신규 환자는 18,871명으로 집계됐습니다.',\n",
       " '1주일 전보다 2천여 명 늘었고 2주 전보다는 만3천여 명 줄었습니다.',\n",
       " '신규 환자 가운데 국내 발생은 만 8,834명, 해외 유입은 37명입니다.',\n",
       " '위중증 환자는 420명으로 12일 연속 4백 명대를 나타냈습니다.',\n",
       " '사망자는 29명으로 누적 사망자는 3만 3,390명입니다.',\n",
       " 'YTN 김현아 (kimhaha@ytn.co.kr)',\n",
       " \"※ '당신의 제보가 뉴스가 됩니다'\",\n",
       " '[카카오톡] YTN 검색해 채널 추가',\n",
       " '[전화] 02-398-8585',\n",
       " '[메일] social@ytn.co.kr',\n",
       " '[저작권자(c) YTN 무단전재 및 재배포 금지]']"
      ]
     },
     "execution_count": 300,
     "metadata": {},
     "output_type": "execute_result"
    }
   ],
   "source": [
    "article"
   ]
  },
  {
   "cell_type": "code",
   "execution_count": 304,
   "id": "34b8426f-53f0-40e1-9934-e32e78680e70",
   "metadata": {},
   "outputs": [
    {
     "data": {
      "text/plain": [
       "32"
      ]
     },
     "execution_count": 304,
     "metadata": {},
     "output_type": "execute_result"
    }
   ],
   "source": [
    "len('사망자는 29명으로 누적 사망자는 3만 3,390명입니다.')"
   ]
  },
  {
   "cell_type": "code",
   "execution_count": 305,
   "id": "61616829-5c1e-432f-872c-bcac38cde98f",
   "metadata": {},
   "outputs": [],
   "source": [
    "if len(article) == 1:\n",
    "    n = 1\n",
    "elif len(article) == 0 or len(article[0]) < 20:\n",
    "    print('pass')\n",
    "for i in range(len(article)-1, -1, -1):\n",
    "    if len(article[i]) > 30:\n",
    "        n = i+1\n",
    "        break\n",
    "content = [i.strip() for i in article[:n] if i != '']\n",
    "content = ' '.join(content)\n",
    "journalist = article_soup.select('div>span')[0].text.split('기자')[0].strip() + ' 기자'"
   ]
  },
  {
   "cell_type": "code",
   "execution_count": 291,
   "id": "ed5918ec-5e9d-406f-8df4-d10aeb843467",
   "metadata": {},
   "outputs": [
    {
     "data": {
      "text/plain": [
       "'원성윤 기자'"
      ]
     },
     "execution_count": 291,
     "metadata": {},
     "output_type": "execute_result"
    }
   ],
   "source": [
    "journalist"
   ]
  },
  {
   "cell_type": "code",
   "execution_count": 292,
   "id": "6031bd29-c193-4678-91ef-3a08ee0aa77d",
   "metadata": {},
   "outputs": [
    {
     "data": {
      "text/plain": [
       "\"[아이뉴스24 원성윤 기자] /원성윤 기자(better2017@inews24.com) ▶네이버 채널에서 '아이뉴스24'를 구독해주세요. ▶재밌는 아이뉴스TV 영상보기▶아이뉴스24 바로가기 [ⓒ 아이뉴스24 무단전재 및 재배포 금지]\""
      ]
     },
     "execution_count": 292,
     "metadata": {},
     "output_type": "execute_result"
    }
   ],
   "source": [
    "content"
   ]
  },
  {
   "cell_type": "markdown",
   "id": "9c40db17-fe2d-454a-8da7-2b5e73b5adc2",
   "metadata": {
    "tags": []
   },
   "source": [
    "# 함수 정리"
   ]
  },
  {
   "cell_type": "code",
   "execution_count": 9,
   "id": "6f0e49de-3b81-4551-9595-e21aa11457e7",
   "metadata": {},
   "outputs": [],
   "source": [
    "def content_scraper(link):\n",
    "    article_soup = create_soup(link)\n",
    "    article = article_soup.find_all('section')[1]\n",
    "    article = article.find_all(True, attrs={'dmcf-ptype':'general'})\n",
    "    article = [i.text.strip() for i in article]\n",
    "    if len(article) == 1:\n",
    "        n = 1\n",
    "    elif len(article) == 0 or len(article[0]) < 20:\n",
    "        return False\n",
    "    for i in range(len(article)-1, -1, -1):\n",
    "        if len(article[i]) > 30:\n",
    "            n = i+1\n",
    "            break\n",
    "    content = [i.strip() for i in article[:n] if i != '']\n",
    "    content = ' '.join(content)\n",
    "    journalist = article_soup.select('div>span')[0].text.split('기자')[0].strip() + ' 기자'\n",
    "    return content, journalist"
   ]
  },
  {
   "cell_type": "code",
   "execution_count": 10,
   "id": "2d7b96ac-6546-40e1-911c-67150d432bd0",
   "metadata": {},
   "outputs": [],
   "source": [
    "def get_articles(date, category):\n",
    "    articles = []\n",
    "    for page in range(1, 1000):\n",
    "        url = f'https://news.daum.net/breakingnews/{category}?page={page}&regDate={date}'\n",
    "        soup = create_soup(url)\n",
    "        \n",
    "        # 마지막 리스트 체크\n",
    "        print(f'check page: {page} to', end=' ')\n",
    "        paging = soup.find('span', attrs={'class':'inner_paging'}).find_all(text=True)\n",
    "        paging = [i.strip() for i in paging if i != '\\n']\n",
    "        print(f'{paging[-1]}\\t\\t\\t', end='\\r')\n",
    "        if paging[-1] == str(page):\n",
    "            end = page\n",
    "            break\n",
    "\n",
    "    for page in tqdm(range(1, end+1)):\n",
    "        url = f'https://news.daum.net/breakingnews/{category}?page={page}&regDate={date}'\n",
    "        soup = create_soup(url)\n",
    "        \n",
    "        news_list = soup.find_all('strong', attrs={'class':'tit_thumb'})\n",
    "        for i in range(len(news_list)-4):\n",
    "            article = []\n",
    "            title = news_list[i].find('a').text\n",
    "            link = news_list[i].find('a')['href']\n",
    "            # print(link, end='\\r')\n",
    "            \n",
    "            date = news_list[i].find('a')['href'].split('/')[-1][:8]\n",
    "            arcid = news_list[i].find('a')['href'].split('/')[-1][8:]\n",
    "            press = news_list[i].find('span').text.split('·')[0].strip()\n",
    "            if press in ban_list:\n",
    "                continue\n",
    "            category = url.split('/')[-1].split('?')[0]\n",
    "            checker = content_scraper(link)\n",
    "            if not checker:\n",
    "                continue\n",
    "            content, journalist = checker\n",
    "            \n",
    "            article = [arcid, press, title, content, journalist, date, link, category]\n",
    "            articles.append(article)\n",
    "    df = pd.DataFrame(articles, columns=['arcid', 'press', 'title', 'content', 'journalist', 'date', 'link', 'category'])\n",
    "    return df"
   ]
  },
  {
   "cell_type": "code",
   "execution_count": 5,
   "id": "5579a333-1a69-4115-a376-ce73bffaa483",
   "metadata": {},
   "outputs": [],
   "source": [
    "ban_list = ['코리아중앙데일리']"
   ]
  },
  {
   "cell_type": "code",
   "execution_count": 6,
   "id": "929ff322-d8ee-486b-bf21-905c585670de",
   "metadata": {
    "tags": []
   },
   "outputs": [
    {
     "name": "stdout",
     "output_type": "stream",
     "text": [
      "check page: 178 to 178\t\t\t\t\t\t\r"
     ]
    },
    {
     "name": "stderr",
     "output_type": "stream",
     "text": [
      "100%|████████████████████████████████████████████████████████████████████████████████| 178/178 [06:16<00:00,  2.11s/it]\n"
     ]
    }
   ],
   "source": [
    "data = get_articles('20230129', 'society')"
   ]
  },
  {
   "cell_type": "code",
   "execution_count": 7,
   "id": "5e6f4f3c-0263-45ca-ba9e-0ea3005a56af",
   "metadata": {
    "tags": []
   },
   "outputs": [
    {
     "data": {
      "text/html": [
       "<div>\n",
       "<style scoped>\n",
       "    .dataframe tbody tr th:only-of-type {\n",
       "        vertical-align: middle;\n",
       "    }\n",
       "\n",
       "    .dataframe tbody tr th {\n",
       "        vertical-align: top;\n",
       "    }\n",
       "\n",
       "    .dataframe thead th {\n",
       "        text-align: right;\n",
       "    }\n",
       "</style>\n",
       "<table border=\"1\" class=\"dataframe\">\n",
       "  <thead>\n",
       "    <tr style=\"text-align: right;\">\n",
       "      <th></th>\n",
       "      <th>arcid</th>\n",
       "      <th>press</th>\n",
       "      <th>title</th>\n",
       "      <th>content</th>\n",
       "      <th>journalist</th>\n",
       "      <th>date</th>\n",
       "      <th>link</th>\n",
       "      <th>category</th>\n",
       "    </tr>\n",
       "  </thead>\n",
       "  <tbody>\n",
       "    <tr>\n",
       "      <th>0</th>\n",
       "      <td>235946000</td>\n",
       "      <td>아시아경제</td>\n",
       "      <td>130만 명 불러 모은 '화천산천어축제' 29일 폐막</td>\n",
       "      <td>[아시아경제 라영철 기자] 3년 만에 재개한 '2023 화천산천어축제'가 흥행에 성...</td>\n",
       "      <td>라영철 기자</td>\n",
       "      <td>20230129</td>\n",
       "      <td>https://v.daum.net/v/20230129235946000</td>\n",
       "      <td>society</td>\n",
       "    </tr>\n",
       "    <tr>\n",
       "      <th>1</th>\n",
       "      <td>235701991</td>\n",
       "      <td>노컷뉴스</td>\n",
       "      <td>2023 화천산천어축제 폐막…\"대표 겨울축제 건재 재확인\"</td>\n",
       "      <td>핵심요약\\n\\n             폭우 대비 대응, 신속한 제설 등 한발 앞선 ...</td>\n",
       "      <td>강원CBS 진유정 기자</td>\n",
       "      <td>20230129</td>\n",
       "      <td>https://v.daum.net/v/20230129235701991</td>\n",
       "      <td>society</td>\n",
       "    </tr>\n",
       "    <tr>\n",
       "      <th>2</th>\n",
       "      <td>235502989</td>\n",
       "      <td>한겨레</td>\n",
       "      <td>1월30일 궂긴소식</td>\n",
       "      <td>◆ 조규용씨 별세: 배월선씨 남편, 세현(사진작가, 서울 중구문화재단 사장) 종현 ...</td>\n",
       "      <td>한겨레 기자</td>\n",
       "      <td>20230129</td>\n",
       "      <td>https://v.daum.net/v/20230129235502989</td>\n",
       "      <td>society</td>\n",
       "    </tr>\n",
       "    <tr>\n",
       "      <th>3</th>\n",
       "      <td>235400986</td>\n",
       "      <td>SBS</td>\n",
       "      <td>부산 온천교사거리서 차량 연쇄 추돌…\"신호위반 추정\"</td>\n",
       "      <td>오늘(29일) 저녁 6시쯤 부산 동래구 온천동 온천교사거리에서 60대 A 씨가 몰던...</td>\n",
       "      <td>김덕현 기자</td>\n",
       "      <td>20230129</td>\n",
       "      <td>https://v.daum.net/v/20230129235400986</td>\n",
       "      <td>society</td>\n",
       "    </tr>\n",
       "    <tr>\n",
       "      <th>4</th>\n",
       "      <td>235311983</td>\n",
       "      <td>조선비즈</td>\n",
       "      <td>쇼트트랙 안현수 국내복귀 무산… 성남시청 코치직 2배수에서 제외</td>\n",
       "      <td>러시아로 귀화해 러시아 쇼트트랙 대표팀 선수와 중국 쇼트트랙 대표팀 코치 등으로 활...</td>\n",
       "      <td>최효정 기자</td>\n",
       "      <td>20230129</td>\n",
       "      <td>https://v.daum.net/v/20230129235311983</td>\n",
       "      <td>society</td>\n",
       "    </tr>\n",
       "    <tr>\n",
       "      <th>...</th>\n",
       "      <td>...</td>\n",
       "      <td>...</td>\n",
       "      <td>...</td>\n",
       "      <td>...</td>\n",
       "      <td>...</td>\n",
       "      <td>...</td>\n",
       "      <td>...</td>\n",
       "      <td>...</td>\n",
       "    </tr>\n",
       "    <tr>\n",
       "      <th>2376</th>\n",
       "      <td>000039805</td>\n",
       "      <td>아이뉴스24</td>\n",
       "      <td>김은숙 작가가 쏘아올린 '학교 폭력'의 짙은 그늘 [원성윤의 人어바웃]</td>\n",
       "      <td>[아이뉴스24 원성윤 기자] \"내 소원이 뭐였는 줄 아니? 나도 언젠가는 너의 이름...</td>\n",
       "      <td>원성윤 기자</td>\n",
       "      <td>20230129</td>\n",
       "      <td>https://v.daum.net/v/20230129000039805</td>\n",
       "      <td>society</td>\n",
       "    </tr>\n",
       "    <tr>\n",
       "      <th>2377</th>\n",
       "      <td>000036803</td>\n",
       "      <td>아이뉴스24</td>\n",
       "      <td>[주말엔 뷰티] PX화장품 1위 달팽이 크림 왜 없어질까</td>\n",
       "      <td>[아이뉴스24 홍수현 기자] 군마트(PX) 내 부동의 인기 상품 1위를 달리던 '달...</td>\n",
       "      <td>홍수현 기자</td>\n",
       "      <td>20230129</td>\n",
       "      <td>https://v.daum.net/v/20230129000036803</td>\n",
       "      <td>society</td>\n",
       "    </tr>\n",
       "    <tr>\n",
       "      <th>2378</th>\n",
       "      <td>000034801</td>\n",
       "      <td>더팩트</td>\n",
       "      <td>'우여곡절' 마주 앉는 오세훈-전장연…반전은 불투명</td>\n",
       "      <td>2일 면담하지만 의제 두고 '동상이몽'시 \"탈시설 의견수렴\", 전장연 \"이동권·사망...</td>\n",
       "      <td>이헌일 기자</td>\n",
       "      <td>20230129</td>\n",
       "      <td>https://v.daum.net/v/20230129000034801</td>\n",
       "      <td>society</td>\n",
       "    </tr>\n",
       "    <tr>\n",
       "      <th>2379</th>\n",
       "      <td>000031800</td>\n",
       "      <td>더팩트</td>\n",
       "      <td>[폴리스스토리]\"믿어줘서 고마워요\"…성범죄 피해자의 '최후 보루'</td>\n",
       "      <td>경기북부청 경기북동부해바라기센터 장윤정 수사팀장처벌 가능 여부 떠나 '듣는 사람' ...</td>\n",
       "      <td>최의종 기자</td>\n",
       "      <td>20230129</td>\n",
       "      <td>https://v.daum.net/v/20230129000031800</td>\n",
       "      <td>society</td>\n",
       "    </tr>\n",
       "    <tr>\n",
       "      <th>2380</th>\n",
       "      <td>000006792</td>\n",
       "      <td>이데일리</td>\n",
       "      <td>피범벅된 얼굴로 \"살려주세요\"…이기영, 혼신의 연기 펼쳤다</td>\n",
       "      <td>[이데일리 이선영 기자] “응급실에서 겁에 질린 눈으로 연신 ‘살려달라’ 외치더군요...</td>\n",
       "      <td>이선영 기자</td>\n",
       "      <td>20230129</td>\n",
       "      <td>https://v.daum.net/v/20230129000006792</td>\n",
       "      <td>society</td>\n",
       "    </tr>\n",
       "  </tbody>\n",
       "</table>\n",
       "<p>2381 rows × 8 columns</p>\n",
       "</div>"
      ],
      "text/plain": [
       "          arcid   press                                    title  \\\n",
       "0     235946000   아시아경제            130만 명 불러 모은 '화천산천어축제' 29일 폐막   \n",
       "1     235701991    노컷뉴스         2023 화천산천어축제 폐막…\"대표 겨울축제 건재 재확인\"   \n",
       "2     235502989     한겨레                               1월30일 궂긴소식   \n",
       "3     235400986     SBS            부산 온천교사거리서 차량 연쇄 추돌…\"신호위반 추정\"   \n",
       "4     235311983    조선비즈      쇼트트랙 안현수 국내복귀 무산… 성남시청 코치직 2배수에서 제외   \n",
       "...         ...     ...                                      ...   \n",
       "2376  000039805  아이뉴스24  김은숙 작가가 쏘아올린 '학교 폭력'의 짙은 그늘 [원성윤의 人어바웃]   \n",
       "2377  000036803  아이뉴스24          [주말엔 뷰티] PX화장품 1위 달팽이 크림 왜 없어질까   \n",
       "2378  000034801     더팩트             '우여곡절' 마주 앉는 오세훈-전장연…반전은 불투명   \n",
       "2379  000031800     더팩트     [폴리스스토리]\"믿어줘서 고마워요\"…성범죄 피해자의 '최후 보루'   \n",
       "2380  000006792    이데일리         피범벅된 얼굴로 \"살려주세요\"…이기영, 혼신의 연기 펼쳤다   \n",
       "\n",
       "                                                content    journalist  \\\n",
       "0     [아시아경제 라영철 기자] 3년 만에 재개한 '2023 화천산천어축제'가 흥행에 성...        라영철 기자   \n",
       "1     핵심요약\\n\\n             폭우 대비 대응, 신속한 제설 등 한발 앞선 ...  강원CBS 진유정 기자   \n",
       "2     ◆ 조규용씨 별세: 배월선씨 남편, 세현(사진작가, 서울 중구문화재단 사장) 종현 ...        한겨레 기자   \n",
       "3     오늘(29일) 저녁 6시쯤 부산 동래구 온천동 온천교사거리에서 60대 A 씨가 몰던...        김덕현 기자   \n",
       "4     러시아로 귀화해 러시아 쇼트트랙 대표팀 선수와 중국 쇼트트랙 대표팀 코치 등으로 활...        최효정 기자   \n",
       "...                                                 ...           ...   \n",
       "2376  [아이뉴스24 원성윤 기자] \"내 소원이 뭐였는 줄 아니? 나도 언젠가는 너의 이름...        원성윤 기자   \n",
       "2377  [아이뉴스24 홍수현 기자] 군마트(PX) 내 부동의 인기 상품 1위를 달리던 '달...        홍수현 기자   \n",
       "2378  2일 면담하지만 의제 두고 '동상이몽'시 \"탈시설 의견수렴\", 전장연 \"이동권·사망...        이헌일 기자   \n",
       "2379  경기북부청 경기북동부해바라기센터 장윤정 수사팀장처벌 가능 여부 떠나 '듣는 사람' ...        최의종 기자   \n",
       "2380  [이데일리 이선영 기자] “응급실에서 겁에 질린 눈으로 연신 ‘살려달라’ 외치더군요...        이선영 기자   \n",
       "\n",
       "          date                                    link category  \n",
       "0     20230129  https://v.daum.net/v/20230129235946000  society  \n",
       "1     20230129  https://v.daum.net/v/20230129235701991  society  \n",
       "2     20230129  https://v.daum.net/v/20230129235502989  society  \n",
       "3     20230129  https://v.daum.net/v/20230129235400986  society  \n",
       "4     20230129  https://v.daum.net/v/20230129235311983  society  \n",
       "...        ...                                     ...      ...  \n",
       "2376  20230129  https://v.daum.net/v/20230129000039805  society  \n",
       "2377  20230129  https://v.daum.net/v/20230129000036803  society  \n",
       "2378  20230129  https://v.daum.net/v/20230129000034801  society  \n",
       "2379  20230129  https://v.daum.net/v/20230129000031800  society  \n",
       "2380  20230129  https://v.daum.net/v/20230129000006792  society  \n",
       "\n",
       "[2381 rows x 8 columns]"
      ]
     },
     "execution_count": 7,
     "metadata": {},
     "output_type": "execute_result"
    }
   ],
   "source": [
    "data"
   ]
  },
  {
   "cell_type": "code",
   "execution_count": 13,
   "id": "355181e0-4ce8-4394-a0c2-f68d8ef8a2e8",
   "metadata": {},
   "outputs": [],
   "source": [
    "data.to_csv('20230129_society.csv')"
   ]
  },
  {
   "cell_type": "markdown",
   "id": "5caa60bc-6a0d-4edd-bd20-b8d7516eccbf",
   "metadata": {},
   "source": [
    "# 기간 설정 스크래핑"
   ]
  },
  {
   "cell_type": "code",
   "execution_count": 256,
   "id": "7de4b812-6afe-40d1-a863-e041905d5d04",
   "metadata": {},
   "outputs": [],
   "source": [
    "from datetime import date\n",
    "from dateutil.rrule import rrule, DAILY"
   ]
  },
  {
   "cell_type": "code",
   "execution_count": 257,
   "id": "19c1631d-1aa6-477c-b3d3-6289fd0a12ad",
   "metadata": {},
   "outputs": [],
   "source": [
    "start_date = date(2023, 1, 29)\n",
    "end_date = date(2023, 1, 29)"
   ]
  },
  {
   "cell_type": "code",
   "execution_count": 264,
   "id": "a2749ab2-f7b8-43bb-a5b6-401cde4dc90b",
   "metadata": {},
   "outputs": [
    {
     "name": "stderr",
     "output_type": "stream",
     "text": [
      "  0%|                                                                                            | 0/1 [01:28<?, ?it/s]\n"
     ]
    },
    {
     "ename": "IndexError",
     "evalue": "list index out of range",
     "output_type": "error",
     "traceback": [
      "\u001b[1;31m---------------------------------------------------------------------------\u001b[0m",
      "\u001b[1;31mIndexError\u001b[0m                                Traceback (most recent call last)",
      "Cell \u001b[1;32mIn[264], line 4\u001b[0m\n\u001b[0;32m      1\u001b[0m data \u001b[38;5;241m=\u001b[39m pd\u001b[38;5;241m.\u001b[39mDataFrame()\n\u001b[0;32m      2\u001b[0m \u001b[38;5;28;01mfor\u001b[39;00m date \u001b[38;5;129;01min\u001b[39;00m tqdm(\u001b[38;5;28mlist\u001b[39m(rrule(DAILY, dtstart\u001b[38;5;241m=\u001b[39mstart_date, until\u001b[38;5;241m=\u001b[39mend_date))):\n\u001b[0;32m      3\u001b[0m     \u001b[38;5;66;03m# print(date.strftime('%Y%m%d'))\u001b[39;00m\n\u001b[1;32m----> 4\u001b[0m     data \u001b[38;5;241m=\u001b[39m pd\u001b[38;5;241m.\u001b[39mconcat([data, \u001b[43mget_articles\u001b[49m\u001b[43m(\u001b[49m\u001b[43mdate\u001b[49m\u001b[38;5;241;43m.\u001b[39;49m\u001b[43mstrftime\u001b[49m\u001b[43m(\u001b[49m\u001b[38;5;124;43m'\u001b[39;49m\u001b[38;5;124;43m%\u001b[39;49m\u001b[38;5;124;43mY\u001b[39;49m\u001b[38;5;124;43m%\u001b[39;49m\u001b[38;5;124;43mm\u001b[39;49m\u001b[38;5;132;43;01m%d\u001b[39;49;00m\u001b[38;5;124;43m'\u001b[39;49m\u001b[43m)\u001b[49m\u001b[43m,\u001b[49m\u001b[43m \u001b[49m\u001b[38;5;124;43m'\u001b[39;49m\u001b[38;5;124;43msociety\u001b[39;49m\u001b[38;5;124;43m'\u001b[39;49m\u001b[43m)\u001b[49m])\n\u001b[0;32m      5\u001b[0m data\u001b[38;5;241m.\u001b[39mreset_index(drop\u001b[38;5;241m=\u001b[39m\u001b[38;5;28;01mTrue\u001b[39;00m, inplace\u001b[38;5;241m=\u001b[39m\u001b[38;5;28;01mTrue\u001b[39;00m)\n",
      "Cell \u001b[1;32mIn[262], line 16\u001b[0m, in \u001b[0;36mget_articles\u001b[1;34m(date, category)\u001b[0m\n\u001b[0;32m     14\u001b[0m link \u001b[38;5;241m=\u001b[39m news_list[i]\u001b[38;5;241m.\u001b[39mfind(\u001b[38;5;124m'\u001b[39m\u001b[38;5;124ma\u001b[39m\u001b[38;5;124m'\u001b[39m)[\u001b[38;5;124m'\u001b[39m\u001b[38;5;124mhref\u001b[39m\u001b[38;5;124m'\u001b[39m]\n\u001b[0;32m     15\u001b[0m \u001b[38;5;66;03m# print(link, end='\\r')\u001b[39;00m\n\u001b[1;32m---> 16\u001b[0m checker \u001b[38;5;241m=\u001b[39m \u001b[43mcontent_scraper\u001b[49m\u001b[43m(\u001b[49m\u001b[43mlink\u001b[49m\u001b[43m)\u001b[49m\n\u001b[0;32m     17\u001b[0m \u001b[38;5;28;01mif\u001b[39;00m \u001b[38;5;129;01mnot\u001b[39;00m checker:\n\u001b[0;32m     18\u001b[0m     \u001b[38;5;28;01mcontinue\u001b[39;00m\n",
      "Cell \u001b[1;32mIn[250], line 8\u001b[0m, in \u001b[0;36mcontent_scraper\u001b[1;34m(link)\u001b[0m\n\u001b[0;32m      6\u001b[0m \u001b[38;5;28;01mif\u001b[39;00m \u001b[38;5;28mlen\u001b[39m(article) \u001b[38;5;241m==\u001b[39m \u001b[38;5;241m1\u001b[39m:\n\u001b[0;32m      7\u001b[0m     n \u001b[38;5;241m=\u001b[39m \u001b[38;5;241m1\u001b[39m\n\u001b[1;32m----> 8\u001b[0m \u001b[38;5;28;01melif\u001b[39;00m \u001b[38;5;28mlen\u001b[39m(\u001b[43marticle\u001b[49m\u001b[43m[\u001b[49m\u001b[38;5;241;43m0\u001b[39;49m\u001b[43m]\u001b[49m) \u001b[38;5;241m<\u001b[39m \u001b[38;5;241m10\u001b[39m:\n\u001b[0;32m      9\u001b[0m     \u001b[38;5;28;01mreturn\u001b[39;00m \u001b[38;5;28;01mFalse\u001b[39;00m\n\u001b[0;32m     10\u001b[0m \u001b[38;5;28;01mfor\u001b[39;00m i \u001b[38;5;129;01min\u001b[39;00m \u001b[38;5;28mrange\u001b[39m(\u001b[38;5;28mlen\u001b[39m(article)\u001b[38;5;241m-\u001b[39m\u001b[38;5;241m1\u001b[39m, \u001b[38;5;241m-\u001b[39m\u001b[38;5;241m1\u001b[39m, \u001b[38;5;241m-\u001b[39m\u001b[38;5;241m1\u001b[39m):\n",
      "\u001b[1;31mIndexError\u001b[0m: list index out of range"
     ]
    }
   ],
   "source": [
    "data = pd.DataFrame()\n",
    "for date in tqdm(list(rrule(DAILY, dtstart=start_date, until=end_date))):\n",
    "    # print(date.strftime('%Y%m%d'))\n",
    "    data = pd.concat([data, get_articles(date.strftime('%Y%m%d'), 'society')])\n",
    "data.reset_index(drop=True, inplace=True)"
   ]
  },
  {
   "cell_type": "code",
   "execution_count": null,
   "id": "3cdb20b0-76fb-40d9-9b7b-be3757cca379",
   "metadata": {},
   "outputs": [],
   "source": []
  }
 ],
 "metadata": {
  "kernelspec": {
   "display_name": "Python 3 (ipykernel)",
   "language": "python",
   "name": "python3"
  },
  "language_info": {
   "codemirror_mode": {
    "name": "ipython",
    "version": 3
   },
   "file_extension": ".py",
   "mimetype": "text/x-python",
   "name": "python",
   "nbconvert_exporter": "python",
   "pygments_lexer": "ipython3",
   "version": "3.8.15"
  }
 },
 "nbformat": 4,
 "nbformat_minor": 5
}
