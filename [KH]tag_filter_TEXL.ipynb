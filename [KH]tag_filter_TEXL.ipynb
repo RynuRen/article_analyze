{
 "cells": [
  {
   "cell_type": "code",
   "execution_count": null,
   "id": "057b595a-0a0b-4308-a161-68cac12d81a7",
   "metadata": {},
   "outputs": [],
   "source": [
    "def tag_except_list(except_list, df):\n",
    "    from tqdm import notebook\n",
    "    import ast\n",
    "    \n",
    "    idx = 0\n",
    "    for token in notebook.tqdm(df['token']):\n",
    "        \n",
    "        filtered_list=[]\n",
    "        \n",
    "        tag_list = ast.literal_eval(token)\n",
    "        for tag in tag_list :\n",
    "            if tag[1] in except_list:\n",
    "                continue\n",
    "            filtered_list.append(tag[0])\n",
    "        \n",
    "        df.loc[[idx], \"okt\"] = \" \".join(filtered_list)\n",
    "        \n",
    "        idx = idx + 1\n",
    "        \n",
    "def tag_enclude_list(enclude_list, df):\n",
    "    from tqdm import notebook\n",
    "    import ast\n",
    "    \n",
    "    idx = 0\n",
    "    for token in notebook.tqdm(df['token']):\n",
    "        \n",
    "        filtered_list=[]\n",
    "        \n",
    "        tag_list = ast.literal_eval(token)\n",
    "        for tag in tag_list :\n",
    "            if tag[1] in enclude_list:\n",
    "                filtered_list.append(tag[0])\n",
    "        \n",
    "        df.loc[[idx], \"okt\"] = \" \".join(filtered_list)\n",
    "        \n",
    "        idx = idx + 1\n",
    "        \n",
    "            \n"
   ]
  },
  {
   "cell_type": "code",
   "execution_count": null,
   "id": "97cfc4d3-3585-4b52-9cd4-b11d1bf78e34",
   "metadata": {},
   "outputs": [],
   "source": [
    "except_list = ['Exclamation', 'Josa', 'KoreanParticle', 'Determiner',  'Eomi', 'Suffix',  'VerbPrefix', 'PreEomi']\n",
    "enclude_list = ['Verb',  'Noun']"
   ]
  },
  {
   "cell_type": "code",
   "execution_count": null,
   "id": "0b6173b8-cdc5-492f-a8b7-ffa9d8f3b857",
   "metadata": {},
   "outputs": [],
   "source": [
    "from konlpy.tag import Okt\n",
    "from tqdm import notebook\n",
    "import pandas as pd\n",
    "from glob import glob\n",
    "import pandas as pd\n",
    "\n",
    "okt = Okt()\n",
    "files = glob('data_token/*.csv')\n",
    "for file in notebook.tqdm(files):\n",
    "    df_day = pd.read_csv(file)\n",
    "    tag_except_list(except_list, df_day)\n",
    "    \n",
    "    file = \"TEXL\" + file\n",
    "    df_day.to_csv(file, index=False)"
   ]
  }
 ],
 "metadata": {
  "kernelspec": {
   "display_name": "Python 3 (ipykernel)",
   "language": "python",
   "name": "python3"
  },
  "language_info": {
   "codemirror_mode": {
    "name": "ipython",
    "version": 3
   },
   "file_extension": ".py",
   "mimetype": "text/x-python",
   "name": "python",
   "nbconvert_exporter": "python",
   "pygments_lexer": "ipython3",
   "version": "3.8.15"
  }
 },
 "nbformat": 4,
 "nbformat_minor": 5
}
