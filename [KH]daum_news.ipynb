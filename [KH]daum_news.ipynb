{
 "cells": [
  {
   "cell_type": "code",
   "execution_count": 1,
   "id": "609ec095-1682-47a0-bb16-f5384a6df249",
   "metadata": {},
   "outputs": [
    {
     "data": {
      "text/plain": [
       "'\\n\\n190 page 기준 8분 정도\\n휴일 때 대략 100~200 page\\n평일 때 대략 400~500 page \\n\\n한 페이지에 15 기사\\n\\n'"
      ]
     },
     "execution_count": 1,
     "metadata": {},
     "output_type": "execute_result"
    }
   ],
   "source": [
    "\"\"\"\n",
    "\n",
    "190 page 기준 8분 정도\n",
    "휴일 때 대략 100~200 page\n",
    "평일 때 대략 400~500 page \n",
    "\n",
    "한 페이지에 15 기사\n",
    "\n",
    "\"\"\""
   ]
  },
  {
   "cell_type": "code",
   "execution_count": 30,
   "id": "15bfcee7-f48e-4ffc-889f-0d829806b7cd",
   "metadata": {},
   "outputs": [],
   "source": [
    "press_using_list = [\"경향신문\", \"국민일보\", \"뉴스1\", \"뉴시스\", \"동아일보\", \"문화일보\", \"서울신문\", \"세계일보\", \"연합뉴스\",  \"조선일보\", \"중앙일보\", \"한겨레\", \"한국일보\"]"
   ]
  },
  {
   "cell_type": "code",
   "execution_count": 73,
   "id": "59d568c3-4f98-474c-9b0e-1bc7cd99e2d4",
   "metadata": {},
   "outputs": [],
   "source": [
    "from datetime import date\n",
    "import pandas as pd\n",
    "from tqdm import notebook\n",
    "import requests\n",
    "from bs4 import BeautifulSoup\n",
    "import re\n",
    "\n",
    "start_date = date(2022, 1, 1)\n",
    "end_date = date(2022, 1, 15)\n"
   ]
  },
  {
   "cell_type": "code",
   "execution_count": 74,
   "id": "6bb8e7ed-7439-4b79-9178-e7ccd1005cfa",
   "metadata": {},
   "outputs": [],
   "source": [
    "def create_soup(url):\n",
    "\n",
    "    res = requests.get(url)\n",
    "    res.raise_for_status()\n",
    "    soup = BeautifulSoup(res.content, 'html.parser', from_encoding='cp949')\n",
    "    return soup"
   ]
  },
  {
   "cell_type": "code",
   "execution_count": 184,
   "id": "62167232-5ae6-4483-a6fb-c81ed629653e",
   "metadata": {},
   "outputs": [],
   "source": [
    "def get_articles(year,month,day, category, press_using_list = None):\n",
    "    \n",
    "    no_get_list = [\"@\",\"무단전재\", \"재배포금지\",\"저작권자 ⓒ 서울신문사\",\"무단복제 및 전재\",\"무단 전재 및 재배포\",\"제보는 카톡\", \"☞\", \"무단 전재-재배포\", \"▶연합뉴스 앱 지금 바로 다운받기~\"]\n",
    "    replace_list = [\"\\xa0\", \"\\u2008\",\"\\n             \",\"\\n            \",\"\\n          \"]\n",
    "\n",
    "    \n",
    "    date_data = pd.DataFrame(columns=['arcid', 'press', 'title', 'content', 'journalist', 'date', 'link', 'category'])\n",
    "    \n",
    "    year = str(year)\n",
    "    month = str(month).zfill(2)\n",
    "    day = str(day).zfill(2)\n",
    "    date = year+month+day\n",
    "    \n",
    "    \n",
    "    # 마지막 페이지 번호 추출\n",
    "    url = f\"https://news.daum.net/breakingnews/{category}?page=999&regDate={date}\"\n",
    "    soup = create_soup(url)\n",
    "    last_page = soup.find(\"em\",attrs ={\"class\": \"num_page\"})\n",
    "    last_page_num = int(re.sub(r'[^0-9]', '', last_page.text))\n",
    "\n",
    "    \n",
    "    # 본문 외 내용 제외를 위한 키워드 리스트\n",
    "    # no_get_list = [\"[카카오톡]\", \"[전화]\", \"[메일]\",\"[온라인 제보]\", \"재배포 금지\", \"※ '당신의 제보가 뉴스가 됩니다'\", \"무단전재\", \"@\"]\n",
    "    \n",
    "    \n",
    "    for i in notebook.tqdm(range(1,last_page_num+1)):\n",
    "        url = f\"https://news.daum.net/breakingnews/society?page={i}&regDate={date}\"\n",
    "        soup = create_soup(url)\n",
    "        \n",
    "    \n",
    "        # 뉴스 리스트가 포함된 속성 추출\n",
    "        news_list_part = soup.find('ul', attrs={'class':'list_news2 list_allnews'})\n",
    "        \n",
    "        \n",
    "        \n",
    "        # COLUME : press\n",
    "        press_list_ = []\n",
    "        press = news_list_part.find_all('span', attrs={'class':'info_news'})\n",
    "        for _span in press:\n",
    "            press_list_.append(_span.text.split()[0])\n",
    " \n",
    "        \n",
    "        # 뉴스 링크 리스트 추출\n",
    "        # COLUME : link\n",
    "        link_list_ = []\n",
    "        news_link_list = news_list_part.find_all('strong', attrs={'class':'tit_thumb'})\n",
    "        for news_link in news_link_list:\n",
    "            link_list_.append(news_link.find(\"a\")[\"href\"])\n",
    "        \n",
    "        \n",
    "        \n",
    "        \n",
    "        # 안쓰는 언론사에 대해 모든 리스트에서 제거\n",
    "        press_list = []\n",
    "        link_list = []\n",
    "        for idx in range(len(press_list_)):\n",
    "            if press_list_[idx] in press_using_list:\n",
    "                press_list.append(press_list_[idx])\n",
    "                link_list.append(link_list_[idx])\n",
    "                \n",
    "                \n",
    "        # COLUME : articleid\n",
    "        articleid_list = []\n",
    "        for link in link_list:\n",
    "            articleid_list.append(link.split(\"/\")[-1])\n",
    "                \n",
    "            \n",
    "        \n",
    "        \n",
    "\n",
    "        # 링크마다 요청\n",
    "        # COLUME : title, content ,journalist\n",
    "        title_list = []\n",
    "        journalist_list = []\n",
    "        content_list = []\n",
    "\n",
    "        for idx, link in enumerate(link_list):\n",
    "            url = link\n",
    "            article_soup = create_soup(url)\n",
    "            article_soup = article_soup.find(\"article\")\n",
    "            \n",
    "            ### title\n",
    "            title = article_soup.find(\"h3\", attrs={'class':\"tit_view\"})\n",
    "            title_list.append(title.text)\n",
    "            \n",
    "            ### journalist\n",
    "            journalist = article_soup.find(\"span\", attrs={'class':\"txt_info\"})\n",
    "            journalist_list.append(journalist.text)\n",
    "            \n",
    "            ### content\n",
    "            content = article_soup.find(\"div\", attrs={'class':\"article_view\"})\n",
    "            \n",
    "            # 이미지 제거 \n",
    "            if content.select_one(\"p.link_figure\") != None:\n",
    "                content.select_one(\"p.link_figure\").decompose()\n",
    "                \n",
    "            \n",
    "            news_contents = content.find_all(True, attrs={'dmcf-ptype':'general'})\n",
    "            news_content= \"\"\n",
    "            \n",
    "            # p text 확인 후 \n",
    "            for _p in news_contents:\n",
    "                skip_p = False\n",
    "                \n",
    "                tmp = _p.text\n",
    "                \n",
    "                # 주로 \\과 관련된 문자를 \" \"로 변경\n",
    "                for replace_word in replace_list:\n",
    "                    tmp = tmp.replace(replace_word,\" \")\n",
    "                    \n",
    "                # tmp = tmp.replace(journalist_list[idx],\"\")\n",
    "                \n",
    "                # 예외가 포함된 문장을 건너뛰기\n",
    "                for no in no_get_list :\n",
    "                    if no in tmp :\n",
    "                        skip_p = True\n",
    "                        break;\n",
    "                        \n",
    "                if skip_p :\n",
    "                    continue\n",
    "\n",
    "                        \n",
    "                news_content += tmp\n",
    "\n",
    "                \n",
    "            content_list.append(news_content)\n",
    "            \n",
    "\n",
    "        \n",
    "        # 현페이지 데이터 프레임 생성\n",
    "        data =  pd.DataFrame(columns=['arcid', 'press', 'title', 'content', 'journalist', 'date', 'link', 'category','drop'])\n",
    "        data['arcid'] = articleid_list\n",
    "        data['press'] = press_list\n",
    "        data['title'] = title_list\n",
    "        data['content'] = content_list\n",
    "        data['journalist'] = journalist_list\n",
    "        data['link'] = link_list\n",
    "        \n",
    "        # 저널리스트 입력 제거\n",
    "        if len(journalist_list) > 0 :\n",
    "            \n",
    "            data[\"drop\"] = data['journalist'].str.contains(\"입력\")\n",
    "            idx = data[data['drop'] == True].index\n",
    "            data.drop(idx , inplace=True)\n",
    "\n",
    "        data.drop(columns = \"drop\", inplace=True)\n",
    "        \n",
    "        \n",
    "        date_data = pd.concat([date_data, data])\n",
    "    \n",
    "    \n",
    "    \n",
    "    date_data['date'] = date\n",
    "    date_data['category'] = category\n",
    "\n",
    "    date_data.reset_index(drop=True, inplace=True)\n",
    "    \n",
    "    return date_data"
   ]
  },
  {
   "cell_type": "code",
   "execution_count": 185,
   "id": "906257eb-f15a-4333-960b-e0b32e594589",
   "metadata": {},
   "outputs": [],
   "source": [
    "# [카카오톡] YTN을 검색해 채널 추가 [전화] 02-398-8585 [메일] social@ytn.co.kr [온라인 제보] www.ytn.co.kr"
   ]
  },
  {
   "cell_type": "code",
   "execution_count": 187,
   "id": "bac49695-bb2b-4e90-9af0-c22284e5f2b6",
   "metadata": {},
   "outputs": [
    {
     "data": {
      "application/vnd.jupyter.widget-view+json": {
       "model_id": "eae772162cff4f469000ac92e12bda2e",
       "version_major": 2,
       "version_minor": 0
      },
      "text/plain": [
       "  0%|          | 0/15 [00:00<?, ?it/s]"
      ]
     },
     "metadata": {},
     "output_type": "display_data"
    },
    {
     "data": {
      "application/vnd.jupyter.widget-view+json": {
       "model_id": "e804f907ea084645a074d15c86016e92",
       "version_major": 2,
       "version_minor": 0
      },
      "text/plain": [
       "  0%|          | 0/10 [00:00<?, ?it/s]"
      ]
     },
     "metadata": {},
     "output_type": "display_data"
    },
    {
     "data": {
      "application/vnd.jupyter.widget-view+json": {
       "model_id": "b9f450539c6d4e00a46b8c5a60adb2c7",
       "version_major": 2,
       "version_minor": 0
      },
      "text/plain": [
       "  0%|          | 0/10 [00:00<?, ?it/s]"
      ]
     },
     "metadata": {},
     "output_type": "display_data"
    },
    {
     "data": {
      "application/vnd.jupyter.widget-view+json": {
       "model_id": "7df62e47695a4013a114a1351c2e18fc",
       "version_major": 2,
       "version_minor": 0
      },
      "text/plain": [
       "  0%|          | 0/10 [00:00<?, ?it/s]"
      ]
     },
     "metadata": {},
     "output_type": "display_data"
    },
    {
     "data": {
      "application/vnd.jupyter.widget-view+json": {
       "model_id": "d02da353c3074527b61ad84d2d0432c4",
       "version_major": 2,
       "version_minor": 0
      },
      "text/plain": [
       "  0%|          | 0/10 [00:00<?, ?it/s]"
      ]
     },
     "metadata": {},
     "output_type": "display_data"
    },
    {
     "data": {
      "application/vnd.jupyter.widget-view+json": {
       "model_id": "a8428e97a0ae443185bb632a1ce1fc91",
       "version_major": 2,
       "version_minor": 0
      },
      "text/plain": [
       "  0%|          | 0/10 [00:00<?, ?it/s]"
      ]
     },
     "metadata": {},
     "output_type": "display_data"
    },
    {
     "data": {
      "application/vnd.jupyter.widget-view+json": {
       "model_id": "983fd3ed08094633acbfa4b953b26434",
       "version_major": 2,
       "version_minor": 0
      },
      "text/plain": [
       "  0%|          | 0/10 [00:00<?, ?it/s]"
      ]
     },
     "metadata": {},
     "output_type": "display_data"
    },
    {
     "data": {
      "application/vnd.jupyter.widget-view+json": {
       "model_id": "fa80d46e09954557913457b07a3982f5",
       "version_major": 2,
       "version_minor": 0
      },
      "text/plain": [
       "  0%|          | 0/10 [00:00<?, ?it/s]"
      ]
     },
     "metadata": {},
     "output_type": "display_data"
    },
    {
     "data": {
      "application/vnd.jupyter.widget-view+json": {
       "model_id": "ebbcfbcc11124ae68393bc2ca1ed2c95",
       "version_major": 2,
       "version_minor": 0
      },
      "text/plain": [
       "  0%|          | 0/10 [00:00<?, ?it/s]"
      ]
     },
     "metadata": {},
     "output_type": "display_data"
    },
    {
     "data": {
      "application/vnd.jupyter.widget-view+json": {
       "model_id": "beccc452bd8c4710a2e0bcf23c8798e9",
       "version_major": 2,
       "version_minor": 0
      },
      "text/plain": [
       "  0%|          | 0/10 [00:00<?, ?it/s]"
      ]
     },
     "metadata": {},
     "output_type": "display_data"
    },
    {
     "data": {
      "application/vnd.jupyter.widget-view+json": {
       "model_id": "e45e38b567344869a6b21f7302490beb",
       "version_major": 2,
       "version_minor": 0
      },
      "text/plain": [
       "  0%|          | 0/10 [00:00<?, ?it/s]"
      ]
     },
     "metadata": {},
     "output_type": "display_data"
    },
    {
     "data": {
      "application/vnd.jupyter.widget-view+json": {
       "model_id": "77385fc900704ee784fe0e369152de44",
       "version_major": 2,
       "version_minor": 0
      },
      "text/plain": [
       "  0%|          | 0/10 [00:00<?, ?it/s]"
      ]
     },
     "metadata": {},
     "output_type": "display_data"
    },
    {
     "data": {
      "application/vnd.jupyter.widget-view+json": {
       "model_id": "16202d5b59ba46f283035781da116467",
       "version_major": 2,
       "version_minor": 0
      },
      "text/plain": [
       "  0%|          | 0/10 [00:00<?, ?it/s]"
      ]
     },
     "metadata": {},
     "output_type": "display_data"
    },
    {
     "data": {
      "application/vnd.jupyter.widget-view+json": {
       "model_id": "08606c04f5b3473c8abf96233c4f859e",
       "version_major": 2,
       "version_minor": 0
      },
      "text/plain": [
       "  0%|          | 0/10 [00:00<?, ?it/s]"
      ]
     },
     "metadata": {},
     "output_type": "display_data"
    },
    {
     "data": {
      "application/vnd.jupyter.widget-view+json": {
       "model_id": "4f2ce791e4ea4a72a046507ba6d83a3c",
       "version_major": 2,
       "version_minor": 0
      },
      "text/plain": [
       "  0%|          | 0/10 [00:00<?, ?it/s]"
      ]
     },
     "metadata": {},
     "output_type": "display_data"
    },
    {
     "data": {
      "application/vnd.jupyter.widget-view+json": {
       "model_id": "91ba333260894cfdb0315361fd8fc790",
       "version_major": 2,
       "version_minor": 0
      },
      "text/plain": [
       "  0%|          | 0/10 [00:00<?, ?it/s]"
      ]
     },
     "metadata": {},
     "output_type": "display_data"
    }
   ],
   "source": [
    "from dateutil.rrule import rrule, DAILY\n",
    "\n",
    "df = pd.DataFrame()\n",
    "\n",
    "for date in notebook.tqdm(list(rrule(DAILY, dtstart=start_date, until=end_date))):\n",
    "    df = pd.concat([df, get_articles(date.year, date.month, date.day,\"society\",press_using_list)])\n",
    "df.reset_index(drop=True, inplace=True)\n"
   ]
  },
  {
   "cell_type": "code",
   "execution_count": 165,
   "id": "17729119-d9ee-46ff-8ac6-d162bf20cec2",
   "metadata": {
    "tags": []
   },
   "outputs": [
    {
     "data": {
      "application/vnd.jupyter.widget-view+json": {
       "model_id": "11ae97c52c5f40eeb00a330e1adbc3e0",
       "version_major": 2,
       "version_minor": 0
      },
      "text/plain": [
       "  0%|          | 0/10 [00:00<?, ?it/s]"
      ]
     },
     "metadata": {},
     "output_type": "display_data"
    }
   ],
   "source": [
    "df = get_articles(2022, 1, 2,\"society\",press_using_list)"
   ]
  },
  {
   "cell_type": "code",
   "execution_count": 175,
   "id": "8fdb8394-f64e-4a0b-a876-4ea1ee381a68",
   "metadata": {},
   "outputs": [],
   "source": [
    "# \"\"\"\n",
    "# HTTPSConnectionPool(host='v.daum.net', port=443): Max retries exceeded with url: /v/20220101121016727 (Caused by NewConnectionError('<urllib3.connection.HTTPSConnection object at 0x0000020C9A0B23A0>: Failed to establish a new connection: [WinError 10060] 연결된 구성원으로부터 응답이 없어 연결하지 못했거나, 호스트로부터 응답이 없어 연결이 끊어졌습니다'))\n",
    "# \"\"\"\n"
   ]
  },
  {
   "cell_type": "code",
   "execution_count": 188,
   "id": "75513d41-6708-4d60-b8a2-7f2f5766602c",
   "metadata": {
    "tags": []
   },
   "outputs": [
    {
     "data": {
      "text/plain": [
       "뉴시스     143\n",
       "뉴스1     109\n",
       "연합뉴스    105\n",
       "서울신문     61\n",
       "조선일보     54\n",
       "세계일보     49\n",
       "경향신문     49\n",
       "중앙일보     37\n",
       "국민일보     24\n",
       "한국일보     19\n",
       "한겨레       9\n",
       "문화일보      5\n",
       "동아일보      4\n",
       "Name: press, dtype: int64"
      ]
     },
     "execution_count": 188,
     "metadata": {},
     "output_type": "execute_result"
    }
   ],
   "source": [
    "df[\"press\"].value_counts()"
   ]
  },
  {
   "cell_type": "code",
   "execution_count": null,
   "id": "6bb04230-0e63-491e-b86e-543946e80fd6",
   "metadata": {},
   "outputs": [],
   "source": [
    " [\"경향신문\", \"국민일보\", \"뉴스1\", \"뉴시스\", \"동아일보\", \"문화일보\", \"서울신문\", \"세계일보\", \"연합뉴스\",  \"조선일보\", \"중앙일보\", \"한겨레\", \"한국일보\"]"
   ]
  }
 ],
 "metadata": {
  "kernelspec": {
   "display_name": "Python 3 (ipykernel)",
   "language": "python",
   "name": "python3"
  },
  "language_info": {
   "codemirror_mode": {
    "name": "ipython",
    "version": 3
   },
   "file_extension": ".py",
   "mimetype": "text/x-python",
   "name": "python",
   "nbconvert_exporter": "python",
   "pygments_lexer": "ipython3",
   "version": "3.8.15"
  }
 },
 "nbformat": 4,
 "nbformat_minor": 5
}
