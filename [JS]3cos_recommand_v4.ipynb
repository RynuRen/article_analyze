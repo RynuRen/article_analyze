{
 "cells": [
  {
   "cell_type": "markdown",
   "id": "54651d35-458d-4276-b734-3d6e6af69f4a",
   "metadata": {},
   "source": [
    "# 조회에 필요한 데이터 불러오기"
   ]
  },
  {
   "cell_type": "code",
   "execution_count": 14,
   "id": "2d07ae62-9a48-4d97-a54d-b1aacaec5090",
   "metadata": {},
   "outputs": [],
   "source": [
    "from tqdm import tqdm\n",
    "import pandas as pd\n",
    "from glob import glob"
   ]
  },
  {
   "cell_type": "code",
   "execution_count": 15,
   "id": "3c727414-449f-418b-8fa9-06eef577e4a2",
   "metadata": {},
   "outputs": [
    {
     "name": "stderr",
     "output_type": "stream",
     "text": [
      "100%|████████████████████████████████████████████████████████████████████████████████| 730/730 [01:57<00:00,  6.23it/s]\n"
     ]
    }
   ],
   "source": [
    "files = sorted(glob('./data/*.csv'))\n",
    "date_cols = ['date']\n",
    "data_all = pd.DataFrame()\n",
    "for file in tqdm(files):\n",
    "    df_day = pd.read_csv(file, parse_dates=date_cols, usecols=['press', 'title', 'date', 'link']) # date 컬럼 datetime 형식으로 불러오기\n",
    "    data_all = pd.concat([data_all, df_day])\n",
    "data_all.reset_index(drop=True, inplace=True)"
   ]
  },
  {
   "cell_type": "code",
   "execution_count": 24,
   "id": "eab9ca4f-8b4b-4407-b838-8cdff632a382",
   "metadata": {
    "collapsed": true,
    "jupyter": {
     "outputs_hidden": true
    },
    "tags": []
   },
   "outputs": [
    {
     "data": {
      "text/html": [
       "<div>\n",
       "<style scoped>\n",
       "    .dataframe tbody tr th:only-of-type {\n",
       "        vertical-align: middle;\n",
       "    }\n",
       "\n",
       "    .dataframe tbody tr th {\n",
       "        vertical-align: top;\n",
       "    }\n",
       "\n",
       "    .dataframe thead th {\n",
       "        text-align: right;\n",
       "    }\n",
       "</style>\n",
       "<table border=\"1\" class=\"dataframe\">\n",
       "  <thead>\n",
       "    <tr style=\"text-align: right;\">\n",
       "      <th></th>\n",
       "      <th>press</th>\n",
       "      <th>title</th>\n",
       "      <th>date</th>\n",
       "      <th>link</th>\n",
       "    </tr>\n",
       "  </thead>\n",
       "  <tbody>\n",
       "    <tr>\n",
       "      <th>0</th>\n",
       "      <td>중앙일보</td>\n",
       "      <td>프로배구 2·3일 경기 연기.. 중계방송 스태프 코로나19 확진</td>\n",
       "      <td>2021-01-01</td>\n",
       "      <td>https://v.daum.net/v/20210101233343622</td>\n",
       "    </tr>\n",
       "    <tr>\n",
       "      <th>1</th>\n",
       "      <td>세계일보</td>\n",
       "      <td>\"산에서 커피 팔고 싶어\" 조두순의 소박한 꿈 이뤄질까? 시민들 '불안'</td>\n",
       "      <td>2021-01-01</td>\n",
       "      <td>https://v.daum.net/v/20210101233139613</td>\n",
       "    </tr>\n",
       "    <tr>\n",
       "      <th>2</th>\n",
       "      <td>서울신문</td>\n",
       "      <td>확진 1000명 목전 두고..秋 '구치소 집단감염' 첫 사과(종합)</td>\n",
       "      <td>2021-01-01</td>\n",
       "      <td>https://v.daum.net/v/20210101233101608</td>\n",
       "    </tr>\n",
       "    <tr>\n",
       "      <th>3</th>\n",
       "      <td>국민일보</td>\n",
       "      <td>문건 유출? 미루기?.. 벌써 다 퍼진 '2.5단계 연장안'</td>\n",
       "      <td>2021-01-01</td>\n",
       "      <td>https://v.daum.net/v/20210101231448533</td>\n",
       "    </tr>\n",
       "    <tr>\n",
       "      <th>4</th>\n",
       "      <td>뉴스1</td>\n",
       "      <td>'해변 폐쇄·드론 감시' 강릉 해맞이객 90% 줄어..그래도 1만6천명</td>\n",
       "      <td>2021-01-01</td>\n",
       "      <td>https://v.daum.net/v/20210101231238518</td>\n",
       "    </tr>\n",
       "    <tr>\n",
       "      <th>...</th>\n",
       "      <td>...</td>\n",
       "      <td>...</td>\n",
       "      <td>...</td>\n",
       "      <td>...</td>\n",
       "    </tr>\n",
       "    <tr>\n",
       "      <th>1411408</th>\n",
       "      <td>세계일보</td>\n",
       "      <td>한국남동발전, 8년째 취약계층 평생학습 지원</td>\n",
       "      <td>2022-12-31</td>\n",
       "      <td>https://v.daum.net/v/20221231010122552</td>\n",
       "    </tr>\n",
       "    <tr>\n",
       "      <th>1411409</th>\n",
       "      <td>세계일보</td>\n",
       "      <td>KIS제주, 하버드대 2년 연속 합격생 배출</td>\n",
       "      <td>2022-12-31</td>\n",
       "      <td>https://v.daum.net/v/20221231010117551</td>\n",
       "    </tr>\n",
       "    <tr>\n",
       "      <th>1411410</th>\n",
       "      <td>한국일보</td>\n",
       "      <td>늘어나는 방음터널... 번지면 대형 화재인데 방염 규정은 전무</td>\n",
       "      <td>2022-12-31</td>\n",
       "      <td>https://v.daum.net/v/20221231001003411</td>\n",
       "    </tr>\n",
       "    <tr>\n",
       "      <th>1411411</th>\n",
       "      <td>국민일보</td>\n",
       "      <td>[핫인픽] #배달할증료 #한파·폭설 출근길 #메시 지폐</td>\n",
       "      <td>2022-12-31</td>\n",
       "      <td>https://v.daum.net/v/20221231000423387</td>\n",
       "    </tr>\n",
       "    <tr>\n",
       "      <th>1411412</th>\n",
       "      <td>조선일보</td>\n",
       "      <td>[아무튼, 주말] 황야에 핀 꽃으로 만든 술, 허공에 대고 건배!</td>\n",
       "      <td>2022-12-31</td>\n",
       "      <td>https://v.daum.net/v/20221231000027329</td>\n",
       "    </tr>\n",
       "  </tbody>\n",
       "</table>\n",
       "<p>1411413 rows × 4 columns</p>\n",
       "</div>"
      ],
      "text/plain": [
       "        press                                     title       date  \\\n",
       "0        중앙일보       프로배구 2·3일 경기 연기.. 중계방송 스태프 코로나19 확진 2021-01-01   \n",
       "1        세계일보  \"산에서 커피 팔고 싶어\" 조두순의 소박한 꿈 이뤄질까? 시민들 '불안' 2021-01-01   \n",
       "2        서울신문     확진 1000명 목전 두고..秋 '구치소 집단감염' 첫 사과(종합) 2021-01-01   \n",
       "3        국민일보         문건 유출? 미루기?.. 벌써 다 퍼진 '2.5단계 연장안' 2021-01-01   \n",
       "4         뉴스1   '해변 폐쇄·드론 감시' 강릉 해맞이객 90% 줄어..그래도 1만6천명 2021-01-01   \n",
       "...       ...                                       ...        ...   \n",
       "1411408  세계일보                  한국남동발전, 8년째 취약계층 평생학습 지원 2022-12-31   \n",
       "1411409  세계일보                  KIS제주, 하버드대 2년 연속 합격생 배출 2022-12-31   \n",
       "1411410  한국일보        늘어나는 방음터널... 번지면 대형 화재인데 방염 규정은 전무 2022-12-31   \n",
       "1411411  국민일보            [핫인픽] #배달할증료 #한파·폭설 출근길 #메시 지폐 2022-12-31   \n",
       "1411412  조선일보      [아무튼, 주말] 황야에 핀 꽃으로 만든 술, 허공에 대고 건배! 2022-12-31   \n",
       "\n",
       "                                           link  \n",
       "0        https://v.daum.net/v/20210101233343622  \n",
       "1        https://v.daum.net/v/20210101233139613  \n",
       "2        https://v.daum.net/v/20210101233101608  \n",
       "3        https://v.daum.net/v/20210101231448533  \n",
       "4        https://v.daum.net/v/20210101231238518  \n",
       "...                                         ...  \n",
       "1411408  https://v.daum.net/v/20221231010122552  \n",
       "1411409  https://v.daum.net/v/20221231010117551  \n",
       "1411410  https://v.daum.net/v/20221231001003411  \n",
       "1411411  https://v.daum.net/v/20221231000423387  \n",
       "1411412  https://v.daum.net/v/20221231000027329  \n",
       "\n",
       "[1411413 rows x 4 columns]"
      ]
     },
     "execution_count": 24,
     "metadata": {},
     "output_type": "execute_result"
    }
   ],
   "source": [
    "data_all"
   ]
  },
  {
   "cell_type": "markdown",
   "id": "eed99d44-b98c-436a-a848-28a248046d8e",
   "metadata": {
    "tags": []
   },
   "source": [
    "# 전체 데이터 유사도 추천"
   ]
  },
  {
   "cell_type": "markdown",
   "id": "7b98dee6-d284-4d7f-8896-73cb10033ed0",
   "metadata": {
    "tags": []
   },
   "source": [
    "## 모델 불러오기"
   ]
  },
  {
   "cell_type": "code",
   "execution_count": 16,
   "id": "3c0643c2-b36f-4266-a846-80da11e54c67",
   "metadata": {},
   "outputs": [],
   "source": [
    "import pickle"
   ]
  },
  {
   "cell_type": "code",
   "execution_count": 17,
   "id": "1018d2f8-c626-44a6-8343-5cc7f153f9ef",
   "metadata": {},
   "outputs": [],
   "source": [
    "with open(\"./model/pickled_tfidf_vec.bin\", \"rb\") as f:\n",
    "    tfidf_vec = pickle.load(f)"
   ]
  },
  {
   "cell_type": "code",
   "execution_count": 18,
   "id": "61d62f8a-e27b-4add-b978-ef90c7582eea",
   "metadata": {},
   "outputs": [],
   "source": [
    "with open(\"./model/pickled_tfidf_dtm.bin\", \"rb\") as f:\n",
    "    tfidf_dtm = pickle.load(f)"
   ]
  },
  {
   "cell_type": "markdown",
   "id": "77e60ddb-f98b-456f-8e1e-3eb06090e033",
   "metadata": {},
   "source": [
    "## 형태소 추출"
   ]
  },
  {
   "cell_type": "code",
   "execution_count": 19,
   "id": "d5af343f-0de0-4142-bdc3-e5dd5d853ec8",
   "metadata": {},
   "outputs": [],
   "source": [
    "def string_tokenizer(content):\n",
    "    import pandas as pd\n",
    "    from konlpy.tag import Okt\n",
    "    okt = Okt()\n",
    "    \n",
    "    content = pd.Series(content)\n",
    "    # 한글, 숫자, 공백만 남기기\n",
    "    content = content.str.replace('[^0-9ㄱ-ㅎㅏ-ㅣ가-힣 ]', '', regex=True)\n",
    "    token_content = okt.pos(content[0], norm=True, stem=True)\n",
    "    return token_content"
   ]
  },
  {
   "cell_type": "code",
   "execution_count": 20,
   "id": "ebbe152c-5930-4c68-b49e-31e667a8b0cb",
   "metadata": {},
   "outputs": [],
   "source": [
    "except_list = ['Exclamation', 'Josa', 'KoreanParticle', 'Determiner',  'Eomi', 'Suffix',  'VerbPrefix', 'PreEomi']\n",
    "include_list = ['Verb',  'Noun']"
   ]
  },
  {
   "cell_type": "code",
   "execution_count": 21,
   "id": "5888cc1c-3a53-4981-a8be-9e90a5cb25e9",
   "metadata": {},
   "outputs": [],
   "source": [
    "# 230207 기현\n",
    "def tag_except_list(except_list, token_content):\n",
    "    filtered_list= []\n",
    "    for tag in token_content :\n",
    "        if tag[1] in except_list:\n",
    "            continue\n",
    "        filtered_list.append(tag[0])\n",
    "    content = \" \".join(filtered_list)\n",
    "    return content"
   ]
  },
  {
   "cell_type": "code",
   "execution_count": 22,
   "id": "8e49dff3-7eef-40fc-99ef-2508ba82623f",
   "metadata": {
    "tags": []
   },
   "outputs": [],
   "source": [
    "# 230207 기현\n",
    "def tag_include_list(include_list, token_content):\n",
    "    filtered_list=[]\n",
    "    for tag in token_content :\n",
    "        if tag[1] in include_list:\n",
    "            filtered_list.append(tag[0])\n",
    "\n",
    "    content = \" \".join(filtered_list)\n",
    "    return content"
   ]
  },
  {
   "cell_type": "markdown",
   "id": "f78c16d2-4ed3-4de7-b7c3-6d872f03a8de",
   "metadata": {
    "tags": []
   },
   "source": [
    "## 다음 url로 유사 기사 추천"
   ]
  },
  {
   "cell_type": "code",
   "execution_count": 23,
   "id": "a33ed899-ff3c-487c-be2e-7f9b73b84bc2",
   "metadata": {},
   "outputs": [],
   "source": [
    "stop_content = [\"무단전재\", \"재배포금지\",\"저작권자 ⓒ 서울신문사\",\"무단복제 및 전재\",\"무단 전재 및 재배포\",\"제보는 카톡\", \"☞\", \"무단 전재-재배포\", \"▶연합뉴스 앱 지금 바로 다운받기~\"]\n",
    "rep_list = ['기사내용 요약']"
   ]
  },
  {
   "cell_type": "code",
   "execution_count": 24,
   "id": "33afef7f-7740-494b-89be-0d75e2ee9865",
   "metadata": {},
   "outputs": [],
   "source": [
    "def create_soup(url):\n",
    "    from bs4 import BeautifulSoup\n",
    "    import requests\n",
    "    i = 0\n",
    "    ## 요청 오류시 10번  재시도\n",
    "    while i < 10 :\n",
    "        try:\n",
    "            res = requests.get(url)\n",
    "            res.raise_for_status()\n",
    "            soup = BeautifulSoup(res.content, 'html.parser', from_encoding='cp949')\n",
    "            break\n",
    "        except:\n",
    "            i += 1\n",
    "            \n",
    "    return soup"
   ]
  },
  {
   "cell_type": "code",
   "execution_count": 25,
   "id": "04d6d326-d507-4e55-b104-0f0c69d79631",
   "metadata": {},
   "outputs": [],
   "source": [
    "def content_only_scraper(link):\n",
    "    article_soup = create_soup(link)\n",
    "\n",
    "    # 본문 정리\n",
    "    article = article_soup.find_all('section')[1]\n",
    "    content = article.find_all(True, attrs={'dmcf-ptype':'general'})\n",
    "    rst = []\n",
    "    for para in content:\n",
    "        for tmp in para.text.split('\\n'):\n",
    "            if tmp.strip() != '':\n",
    "                rst.append(tmp.strip())\n",
    "    content = []\n",
    "    for c in rst:\n",
    "        for i in stop_content:\n",
    "            if i in c:\n",
    "                break\n",
    "        else:\n",
    "            for rep in rep_list:\n",
    "                c = c.replace(rep, '')\n",
    "            content.append(c)\n",
    "    content = ' '.join(content)\n",
    "    if len(content) < 200:\n",
    "        return False\n",
    "    \n",
    "    return content"
   ]
  },
  {
   "cell_type": "code",
   "execution_count": 61,
   "id": "9bc095e0-50e6-4d14-9f65-742c40af1b5f",
   "metadata": {},
   "outputs": [],
   "source": [
    "def get_recommend_by_url(url, n, drange, press):\n",
    "    from sklearn.metrics.pairwise import cosine_similarity\n",
    "    # 다음 뉴스인지 확인\n",
    "    if not url.startswith('https://v.daum.net/v/'):\n",
    "        return False\n",
    "    \n",
    "    ## 입력 처리\n",
    "    # 본문 스크랩\n",
    "    content = content_only_scraper(url)\n",
    "    # 형태소 전처리\n",
    "    token = tag_except_list(except_list, string_tokenizer(content))\n",
    "    # tfidf 연산\n",
    "    tfidf_content = tfidf_vec.transform([token])\n",
    "    \n",
    "    ## 조회 한정\n",
    "    # 기간 & 언론사\n",
    "    data_filtered_idx = data_all[(data_all['date'].isin(pd.date_range(drange[0], drange[1]))) & (data_all['press']==press)].index\n",
    "    tfidf_dtm_filtered = tfidf_dtm[data_filtered_idx]\n",
    "    cos_sim_res = cosine_similarity(tfidf_content, tfidf_dtm_filtered)\n",
    "    \n",
    "    # 유사도 정렬, 추출\n",
    "    sim_scores = list(zip(data_filtered_idx, cos_sim_res[0]))\n",
    "    sim_scores = sorted(sim_scores, key=lambda x: x[1], reverse=True)\n",
    "    sim_scores_n = sim_scores[1:n+1]\n",
    "    # sim_scores_n = [sim for sim in sim_scores_n if sim[1] >= 0.6] # 유사도 60% 이상 필터\n",
    "    \n",
    "    # 해당하는 기사 가져오기\n",
    "    article_idx = [article_dict[0] for article_dict in sim_scores_n]\n",
    "    rst = data_all.iloc[article_idx][['press', 'title', 'date', 'link']]\n",
    "    rst['similarity'] = [round(sim[1], 4)*100 for sim in sim_scores_n]\n",
    "    \n",
    "    return rst[['press', 'similarity', 'title', 'date', 'link']]"
   ]
  },
  {
   "cell_type": "code",
   "execution_count": 66,
   "id": "eadf382d-047e-41b0-a68d-7b997568bf8b",
   "metadata": {
    "tags": []
   },
   "outputs": [
    {
     "name": "stdout",
     "output_type": "stream",
     "text": [
      "CPU times: total: 2.84 s\n",
      "Wall time: 2.39 s\n"
     ]
    },
    {
     "data": {
      "text/html": [
       "<div>\n",
       "<style scoped>\n",
       "    .dataframe tbody tr th:only-of-type {\n",
       "        vertical-align: middle;\n",
       "    }\n",
       "\n",
       "    .dataframe tbody tr th {\n",
       "        vertical-align: top;\n",
       "    }\n",
       "\n",
       "    .dataframe thead th {\n",
       "        text-align: right;\n",
       "    }\n",
       "</style>\n",
       "<table border=\"1\" class=\"dataframe\">\n",
       "  <thead>\n",
       "    <tr style=\"text-align: right;\">\n",
       "      <th></th>\n",
       "      <th>press</th>\n",
       "      <th>similarity</th>\n",
       "      <th>title</th>\n",
       "      <th>date</th>\n",
       "      <th>link</th>\n",
       "    </tr>\n",
       "  </thead>\n",
       "  <tbody>\n",
       "    <tr>\n",
       "      <th>1358639</th>\n",
       "      <td>뉴시스</td>\n",
       "      <td>48.96</td>\n",
       "      <td>'입시비리'·감찰무마' 조국 재판 오늘 결심…3년 만에 마무리 수순</td>\n",
       "      <td>2022-12-02</td>\n",
       "      <td>https://v.daum.net/v/20221202060032795</td>\n",
       "    </tr>\n",
       "    <tr>\n",
       "      <th>1357681</th>\n",
       "      <td>뉴시스</td>\n",
       "      <td>48.84</td>\n",
       "      <td>'자녀 입시비리' 조국 전 장관, 1심 결심공판 출석 [뉴시스Pic]</td>\n",
       "      <td>2022-12-02</td>\n",
       "      <td>https://v.daum.net/v/20221202141500738</td>\n",
       "    </tr>\n",
       "    <tr>\n",
       "      <th>338902</th>\n",
       "      <td>뉴시스</td>\n",
       "      <td>48.05</td>\n",
       "      <td>검찰 \"위조의 시간\" 지적 vs 조국 \"법률용어 써라\" 반발</td>\n",
       "      <td>2021-06-11</td>\n",
       "      <td>https://v.daum.net/v/20210611160122570</td>\n",
       "    </tr>\n",
       "    <tr>\n",
       "      <th>1330596</th>\n",
       "      <td>뉴시스</td>\n",
       "      <td>48.03</td>\n",
       "      <td>檢 \"입시비리 중대범죄\", 정경심 측 \"부당 기소\"…징역 2년 구형</td>\n",
       "      <td>2022-11-18</td>\n",
       "      <td>https://v.daum.net/v/20221118115238952</td>\n",
       "    </tr>\n",
       "    <tr>\n",
       "      <th>252388</th>\n",
       "      <td>뉴시스</td>\n",
       "      <td>47.95</td>\n",
       "      <td>조국·정경심, 6월11일 법정 같이선다..반년만 재판 재개</td>\n",
       "      <td>2021-04-30</td>\n",
       "      <td>https://v.daum.net/v/20210430121651371</td>\n",
       "    </tr>\n",
       "    <tr>\n",
       "      <th>339614</th>\n",
       "      <td>뉴시스</td>\n",
       "      <td>47.82</td>\n",
       "      <td>조국 측 \"검찰의 투망식 공소\"..'감찰무마' 거듭 부인</td>\n",
       "      <td>2021-06-11</td>\n",
       "      <td>https://v.daum.net/v/20210611112445421</td>\n",
       "    </tr>\n",
       "    <tr>\n",
       "      <th>327314</th>\n",
       "      <td>뉴시스</td>\n",
       "      <td>47.66</td>\n",
       "      <td>조국·정경심, 나란히 법정 선다..6개월만에 재판 재개</td>\n",
       "      <td>2021-06-06</td>\n",
       "      <td>https://v.daum.net/v/20210606050052336</td>\n",
       "    </tr>\n",
       "    <tr>\n",
       "      <th>1346082</th>\n",
       "      <td>뉴시스</td>\n",
       "      <td>47.49</td>\n",
       "      <td>조국 입시비리 등 의혹, 이번주 결심…이르면 올해 1심 결론</td>\n",
       "      <td>2022-11-27</td>\n",
       "      <td>https://v.daum.net/v/20221127095726043</td>\n",
       "    </tr>\n",
       "    <tr>\n",
       "      <th>1357622</th>\n",
       "      <td>뉴시스</td>\n",
       "      <td>47.43</td>\n",
       "      <td>검찰, 조국 '자녀 입시비리·감찰무마 혐의' 징역 5년 구형</td>\n",
       "      <td>2022-12-02</td>\n",
       "      <td>https://v.daum.net/v/20221202143703564</td>\n",
       "    </tr>\n",
       "    <tr>\n",
       "      <th>338720</th>\n",
       "      <td>뉴시스</td>\n",
       "      <td>46.68</td>\n",
       "      <td>조국·정경심 재판에 아들·딸도 부른다..\"온가족이 증인\"(종합)</td>\n",
       "      <td>2021-06-11</td>\n",
       "      <td>https://v.daum.net/v/20210611171621584</td>\n",
       "    </tr>\n",
       "  </tbody>\n",
       "</table>\n",
       "</div>"
      ],
      "text/plain": [
       "        press  similarity                                   title       date  \\\n",
       "1358639   뉴시스       48.96   '입시비리'·감찰무마' 조국 재판 오늘 결심…3년 만에 마무리 수순 2022-12-02   \n",
       "1357681   뉴시스       48.84  '자녀 입시비리' 조국 전 장관, 1심 결심공판 출석 [뉴시스Pic] 2022-12-02   \n",
       "338902    뉴시스       48.05       검찰 \"위조의 시간\" 지적 vs 조국 \"법률용어 써라\" 반발 2021-06-11   \n",
       "1330596   뉴시스       48.03   檢 \"입시비리 중대범죄\", 정경심 측 \"부당 기소\"…징역 2년 구형 2022-11-18   \n",
       "252388    뉴시스       47.95        조국·정경심, 6월11일 법정 같이선다..반년만 재판 재개 2021-04-30   \n",
       "339614    뉴시스       47.82         조국 측 \"검찰의 투망식 공소\"..'감찰무마' 거듭 부인 2021-06-11   \n",
       "327314    뉴시스       47.66          조국·정경심, 나란히 법정 선다..6개월만에 재판 재개 2021-06-06   \n",
       "1346082   뉴시스       47.49       조국 입시비리 등 의혹, 이번주 결심…이르면 올해 1심 결론 2022-11-27   \n",
       "1357622   뉴시스       47.43       검찰, 조국 '자녀 입시비리·감찰무마 혐의' 징역 5년 구형 2022-12-02   \n",
       "338720    뉴시스       46.68     조국·정경심 재판에 아들·딸도 부른다..\"온가족이 증인\"(종합) 2021-06-11   \n",
       "\n",
       "                                           link  \n",
       "1358639  https://v.daum.net/v/20221202060032795  \n",
       "1357681  https://v.daum.net/v/20221202141500738  \n",
       "338902   https://v.daum.net/v/20210611160122570  \n",
       "1330596  https://v.daum.net/v/20221118115238952  \n",
       "252388   https://v.daum.net/v/20210430121651371  \n",
       "339614   https://v.daum.net/v/20210611112445421  \n",
       "327314   https://v.daum.net/v/20210606050052336  \n",
       "1346082  https://v.daum.net/v/20221127095726043  \n",
       "1357622  https://v.daum.net/v/20221202143703564  \n",
       "338720   https://v.daum.net/v/20210611171621584  "
      ]
     },
     "execution_count": 66,
     "metadata": {},
     "output_type": "execute_result"
    }
   ],
   "source": [
    "%%time\n",
    "url = \"\"\"https://v.daum.net/v/20230206162031399\"\"\"\n",
    "get_recommend_by_url(url, 10, (\"2021-01-01\", \"2022-12-31\"), \"뉴시스\")"
   ]
  },
  {
   "cell_type": "markdown",
   "id": "439bd130-8f1f-4975-b6c2-7c7a2ed2a7b9",
   "metadata": {
    "tags": []
   },
   "source": [
    "## 직접 입력한 본문(문자열)로 유사 기사 추천"
   ]
  },
  {
   "cell_type": "code",
   "execution_count": 14,
   "id": "e6165f82-79aa-4299-b80a-01e69ff92c62",
   "metadata": {},
   "outputs": [],
   "source": [
    "def get_recommend_by_content(content, n, drange=False):\n",
    "    from sklearn.metrics.pairwise import cosine_similarity\n",
    "    ## 입력 처리\n",
    "    # 형태소 전처리\n",
    "    token = tag_except_list(except_list, string_tokenizer(content))\n",
    "    # tfidf 연산\n",
    "    tfidf_content = tfidf_vec.transform([token])\n",
    "    \n",
    "    ## 조회 한정\n",
    "    # 기간 & 언론사\n",
    "    data_filtered_idx = data_all[(data_all['date'].isin(pd.date_range(drange[0], drange[1]))) & (data_all['press']==press)].index\n",
    "    tfidf_dtm_filtered = tfidf_dtm[data_filtered_idx]\n",
    "    cos_sim_res = cosine_similarity(tfidf_content, tfidf_dtm_filtered)\n",
    "    \n",
    "    # 유사도 정렬, 추출\n",
    "    sim_scores = list(enumerate(cos_sim_res[0]))\n",
    "    sim_scores = sorted(sim_scores, key=lambda x: x[1], reverse=True)\n",
    "    sim_scores_n = sim_scores[1:n+1]\n",
    "    # sim_scores_n = [sim for sim in sim_scores_n if sim[1] >= 0.6] # 유사도 60% 이상 필터=>옵션화 가능?###############\n",
    "    \n",
    "    # 해당하는 기사 가져오기\n",
    "    article_idx = [article_dict[0] for article_dict in sim_scores_n]\n",
    "    rst = data_all.iloc[article_idx][['press', 'title', 'date', 'link']]\n",
    "    rst['similarity'] = [round(sim[1], 4)*100 for sim in sim_scores_n]\n",
    "        \n",
    "    return rst[['press', 'similarity', 'title', 'date', 'link']]"
   ]
  },
  {
   "cell_type": "code",
   "execution_count": null,
   "id": "5a71682c-d155-47b7-a315-01f455b487a1",
   "metadata": {
    "collapsed": true,
    "jupyter": {
     "outputs_hidden": true
    },
    "tags": []
   },
   "outputs": [
    {
     "ename": "NameError",
     "evalue": "name 'tag_except_list' is not defined",
     "output_type": "error",
     "traceback": [
      "\u001b[1;31m---------------------------------------------------------------------------\u001b[0m",
      "\u001b[1;31mNameError\u001b[0m                                 Traceback (most recent call last)",
      "File \u001b[1;32m<timed exec>:10\u001b[0m\n",
      "Cell \u001b[1;32mIn[1], line 5\u001b[0m, in \u001b[0;36mget_recommend_by_content\u001b[1;34m(content, n, drange)\u001b[0m\n\u001b[0;32m      3\u001b[0m cos \u001b[38;5;241m=\u001b[39m CosineSimilarity(dim\u001b[38;5;241m=\u001b[39m\u001b[38;5;241m0\u001b[39m)\n\u001b[0;32m      4\u001b[0m \u001b[38;5;66;03m# 형태소 전처리\u001b[39;00m\n\u001b[1;32m----> 5\u001b[0m token \u001b[38;5;241m=\u001b[39m \u001b[43mtag_except_list\u001b[49m(except_list, string_tokenizer(content))\n\u001b[0;32m      7\u001b[0m embeded_content \u001b[38;5;241m=\u001b[39m model\u001b[38;5;241m.\u001b[39mencode([token], convert_to_tensor\u001b[38;5;241m=\u001b[39m\u001b[38;5;28;01mTrue\u001b[39;00m)\n\u001b[0;32m      9\u001b[0m \u001b[38;5;66;03m# 기간 설정\u001b[39;00m\n",
      "\u001b[1;31mNameError\u001b[0m: name 'tag_except_list' is not defined"
     ]
    }
   ],
   "source": [
    "%%time\n",
    "arc_content = \"\"\"2011년 한국을 떠나 러시아로 귀화한 전 쇼트트랙 선수 빅토르 안(38·한국명 안현수)의 국내 복귀 시도가 일단 무산됐다. 경기도 성남시청 직장운동부 빙상팀 코치에 지원했으나, 최종 후보에 들지 못해서다.\n",
    "\n",
    "성남시는 29일 “시청 빙상팀 코치직 채용 전형에 빅토르 안을 포함해 7명이 지원했는데, 빅토르 안은 상위 2배수 후보에 들지 않았다”고 밝혔다. 시 관계자는 “서류와 면접 심사를 통해 기술, 소통 능력 등 여러 요소를 종합해 판단했다”며 “빙상계 여론과 언론 보도 등을 통해 나오는 시각도 평가에 반영됐다”고 했다.\n",
    "\n",
    "성남시는 지난해 12월 19일 빙상팀 코치를 뽑기 위한 채용 공고를 냈다. 빅토르 안과 베이징 동계올림픽에서 중국 대표팀을 이끈 김선태 전 감독 등 7명이 지원했다. 김 전 감독도 최종 후보에 들지 못한 것으로 전해졌다.\n",
    "\n",
    "빅토르 안은 2006년 토리노 동계올림픽에서 3개의 금메달을 딴 한국 쇼트트랙의 간판이었다. 2011년 소속팀이었던 성남시청이 빙상팀을 해체하자 선수 생활을 이어가기 위해 러시아로 귀화했다. 2014년 소치 동계올림픽에는 러시아 선수로 나서 3관왕에 올랐다. 2018년 평창 동계올림픽 출전이 무산된 이후에는 은퇴를 선언하고 지도자로 변신했다. 2022년 베이징 동계올림픽에서는 중국 대표팀 코치로 활동했다.\n",
    "\n",
    "성남시는 31일 빙상팀 코치 선발 결과를 발표할 예정이다.\"\"\"\n",
    "get_recommend_by_content(arc_content, 10)"
   ]
  },
  {
   "cell_type": "code",
   "execution_count": 19,
   "id": "680bcc36-1c02-4ddf-9045-6a0f466e7c92",
   "metadata": {
    "tags": []
   },
   "outputs": [
    {
     "name": "stdout",
     "output_type": "stream",
     "text": [
      "CPU times: total: 12.6 s\n",
      "Wall time: 9.03 s\n"
     ]
    },
    {
     "data": {
      "text/html": [
       "<div>\n",
       "<style scoped>\n",
       "    .dataframe tbody tr th:only-of-type {\n",
       "        vertical-align: middle;\n",
       "    }\n",
       "\n",
       "    .dataframe tbody tr th {\n",
       "        vertical-align: top;\n",
       "    }\n",
       "\n",
       "    .dataframe thead th {\n",
       "        text-align: right;\n",
       "    }\n",
       "</style>\n",
       "<table border=\"1\" class=\"dataframe\">\n",
       "  <thead>\n",
       "    <tr style=\"text-align: right;\">\n",
       "      <th></th>\n",
       "      <th>press</th>\n",
       "      <th>similarity</th>\n",
       "      <th>title</th>\n",
       "      <th>date</th>\n",
       "      <th>link</th>\n",
       "    </tr>\n",
       "  </thead>\n",
       "  <tbody>\n",
       "    <tr>\n",
       "      <th>1125112</th>\n",
       "      <td>뉴스1</td>\n",
       "      <td>42.95</td>\n",
       "      <td>19년 동안 2억2000만원 내 놓은 기부천사 황영희씨</td>\n",
       "      <td>2022-07-28</td>\n",
       "      <td>https://v.daum.net/v/20220728101841849</td>\n",
       "    </tr>\n",
       "    <tr>\n",
       "      <th>223041</th>\n",
       "      <td>중앙일보</td>\n",
       "      <td>33.62</td>\n",
       "      <td>\"소아암 아이 함께 돕자\"..MZ세대는 SNS로 나눈다 [기부,부의 품격⑤]</td>\n",
       "      <td>2021-04-16</td>\n",
       "      <td>https://v.daum.net/v/20210416050051397</td>\n",
       "    </tr>\n",
       "    <tr>\n",
       "      <th>392752</th>\n",
       "      <td>뉴시스</td>\n",
       "      <td>32.11</td>\n",
       "      <td>코로나 속 이웃돕기 실천..행안부, 연말에 '착한 기부자'로 포상</td>\n",
       "      <td>2021-07-07</td>\n",
       "      <td>https://v.daum.net/v/20210707120041498</td>\n",
       "    </tr>\n",
       "    <tr>\n",
       "      <th>832095</th>\n",
       "      <td>세계일보</td>\n",
       "      <td>31.85</td>\n",
       "      <td>10년간 자발적 기부금품 1248억원.. 매년 증가 추세</td>\n",
       "      <td>2022-02-17</td>\n",
       "      <td>https://v.daum.net/v/20220217010846900</td>\n",
       "    </tr>\n",
       "    <tr>\n",
       "      <th>138753</th>\n",
       "      <td>뉴시스</td>\n",
       "      <td>31.67</td>\n",
       "      <td>박남춘 시장, '나눔e음' 서비스 업무 협약</td>\n",
       "      <td>2021-03-08</td>\n",
       "      <td>https://v.daum.net/v/20210308090019230</td>\n",
       "    </tr>\n",
       "    <tr>\n",
       "      <th>624504</th>\n",
       "      <td>조선일보</td>\n",
       "      <td>31.37</td>\n",
       "      <td>기부 좀 해본 MZ세대에게 물었다 \"기부의 미래는?\"</td>\n",
       "      <td>2021-11-02</td>\n",
       "      <td>https://v.daum.net/v/20211102030345961</td>\n",
       "    </tr>\n",
       "    <tr>\n",
       "      <th>1061465</th>\n",
       "      <td>뉴시스</td>\n",
       "      <td>30.96</td>\n",
       "      <td>10년 익명기부 '키다리 아저씨' 박무근 미광전업 대표, 청룡봉사상 수상</td>\n",
       "      <td>2022-06-24</td>\n",
       "      <td>https://v.daum.net/v/20220624153329353</td>\n",
       "    </tr>\n",
       "    <tr>\n",
       "      <th>87184</th>\n",
       "      <td>뉴스1</td>\n",
       "      <td>30.93</td>\n",
       "      <td>[영상]\"밥 한 끼라도 든든하게\"..'코로나 혹한기' 녹인 나눔의 온정</td>\n",
       "      <td>2021-02-10</td>\n",
       "      <td>https://v.daum.net/v/20210210074609536</td>\n",
       "    </tr>\n",
       "    <tr>\n",
       "      <th>641540</th>\n",
       "      <td>국민일보</td>\n",
       "      <td>30.82</td>\n",
       "      <td>조광한 남양주시장 '선거실패, 국가실패' 수익금 기부</td>\n",
       "      <td>2021-11-11</td>\n",
       "      <td>https://v.daum.net/v/20211111181546583</td>\n",
       "    </tr>\n",
       "    <tr>\n",
       "      <th>21115</th>\n",
       "      <td>세계일보</td>\n",
       "      <td>30.48</td>\n",
       "      <td>울산 '사랑의 온도탑' 39일 만에 124도 달성</td>\n",
       "      <td>2021-01-11</td>\n",
       "      <td>https://v.daum.net/v/20210111030154385</td>\n",
       "    </tr>\n",
       "  </tbody>\n",
       "</table>\n",
       "</div>"
      ],
      "text/plain": [
       "        press  similarity                                       title  \\\n",
       "1125112   뉴스1       42.95              19년 동안 2억2000만원 내 놓은 기부천사 황영희씨   \n",
       "223041   중앙일보       33.62  \"소아암 아이 함께 돕자\"..MZ세대는 SNS로 나눈다 [기부,부의 품격⑤]   \n",
       "392752    뉴시스       32.11        코로나 속 이웃돕기 실천..행안부, 연말에 '착한 기부자'로 포상   \n",
       "832095   세계일보       31.85             10년간 자발적 기부금품 1248억원.. 매년 증가 추세   \n",
       "138753    뉴시스       31.67                    박남춘 시장, '나눔e음' 서비스 업무 협약   \n",
       "624504   조선일보       31.37               기부 좀 해본 MZ세대에게 물었다 \"기부의 미래는?\"   \n",
       "1061465   뉴시스       30.96    10년 익명기부 '키다리 아저씨' 박무근 미광전업 대표, 청룡봉사상 수상   \n",
       "87184     뉴스1       30.93     [영상]\"밥 한 끼라도 든든하게\"..'코로나 혹한기' 녹인 나눔의 온정   \n",
       "641540   국민일보       30.82               조광한 남양주시장 '선거실패, 국가실패' 수익금 기부   \n",
       "21115    세계일보       30.48                 울산 '사랑의 온도탑' 39일 만에 124도 달성   \n",
       "\n",
       "              date                                    link  \n",
       "1125112 2022-07-28  https://v.daum.net/v/20220728101841849  \n",
       "223041  2021-04-16  https://v.daum.net/v/20210416050051397  \n",
       "392752  2021-07-07  https://v.daum.net/v/20210707120041498  \n",
       "832095  2022-02-17  https://v.daum.net/v/20220217010846900  \n",
       "138753  2021-03-08  https://v.daum.net/v/20210308090019230  \n",
       "624504  2021-11-02  https://v.daum.net/v/20211102030345961  \n",
       "1061465 2022-06-24  https://v.daum.net/v/20220624153329353  \n",
       "87184   2021-02-10  https://v.daum.net/v/20210210074609536  \n",
       "641540  2021-11-11  https://v.daum.net/v/20211111181546583  \n",
       "21115   2021-01-11  https://v.daum.net/v/20210111030154385  "
      ]
     },
     "execution_count": 19,
     "metadata": {},
     "output_type": "execute_result"
    }
   ],
   "source": [
    "%%time\n",
    "arc_content = \"\"\"19년 간 2억원이 넘는 기부를 실천한 사람이 있다.\n",
    "\n",
    "지난 2004년부터 매년 꾸준히 어려운 이웃을 위한 나눔을 실천, 19년간 2억 2000만원을 기부한 시민이 있어 지역사회의 귀감이 되고 있다.\n",
    "\n",
    "코로나19가 길어져 취약 계층의 복지 수요가 늘었다고 판단한 황 대표는 올해 1월부터는 기부액을 매달 200만원으로 늘렸다.\n",
    "\n",
    "이렇게 이어온 황 대표의 누적 기부 금액은 2억 2000만원에 달한다.\"\"\"\n",
    "get_recommend_by_content(arc_content, 10)"
   ]
  },
  {
   "cell_type": "code",
   "execution_count": null,
   "id": "0858468b-e7b9-4e9d-a7d9-d2c02b9a08d2",
   "metadata": {},
   "outputs": [],
   "source": []
  }
 ],
 "metadata": {
  "kernelspec": {
   "display_name": "Python 3 (ipykernel)",
   "language": "python",
   "name": "python3"
  },
  "language_info": {
   "codemirror_mode": {
    "name": "ipython",
    "version": 3
   },
   "file_extension": ".py",
   "mimetype": "text/x-python",
   "name": "python",
   "nbconvert_exporter": "python",
   "pygments_lexer": "ipython3",
   "version": "3.8.15"
  }
 },
 "nbformat": 4,
 "nbformat_minor": 5
}
