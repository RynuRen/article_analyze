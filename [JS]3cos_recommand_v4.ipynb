{
 "cells": [
  {
   "cell_type": "markdown",
   "id": "54651d35-458d-4276-b734-3d6e6af69f4a",
   "metadata": {},
   "source": [
    "# 조회에 필요한 데이터 불러오기"
   ]
  },
  {
   "cell_type": "code",
   "execution_count": 1,
   "id": "2d07ae62-9a48-4d97-a54d-b1aacaec5090",
   "metadata": {},
   "outputs": [],
   "source": [
    "from tqdm import tqdm\n",
    "import pandas as pd\n",
    "from glob import glob"
   ]
  },
  {
   "cell_type": "code",
   "execution_count": 3,
   "id": "3c727414-449f-418b-8fa9-06eef577e4a2",
   "metadata": {},
   "outputs": [
    {
     "name": "stderr",
     "output_type": "stream",
     "text": [
      "100%|████████████████████████████████████████████████████████████████████████████████| 730/730 [03:30<00:00,  3.46it/s]\n"
     ]
    }
   ],
   "source": [
    "files = sorted(glob('./data/*.csv'))\n",
    "date_cols = ['date']\n",
    "data_all = pd.DataFrame()\n",
    "for file in tqdm(files):\n",
    "    df_day = pd.read_csv(file, parse_dates=date_cols) # date 컬럼 datetime 형식으로 불러오기\n",
    "    data_all = pd.concat([data_all, df_day[['press', 'title', 'date', 'link']]])\n",
    "data_all.reset_index(drop=True, inplace=True)"
   ]
  },
  {
   "cell_type": "code",
   "execution_count": 4,
   "id": "eab9ca4f-8b4b-4407-b838-8cdff632a382",
   "metadata": {
    "collapsed": true,
    "jupyter": {
     "outputs_hidden": true
    },
    "tags": []
   },
   "outputs": [
    {
     "data": {
      "text/html": [
       "<div>\n",
       "<style scoped>\n",
       "    .dataframe tbody tr th:only-of-type {\n",
       "        vertical-align: middle;\n",
       "    }\n",
       "\n",
       "    .dataframe tbody tr th {\n",
       "        vertical-align: top;\n",
       "    }\n",
       "\n",
       "    .dataframe thead th {\n",
       "        text-align: right;\n",
       "    }\n",
       "</style>\n",
       "<table border=\"1\" class=\"dataframe\">\n",
       "  <thead>\n",
       "    <tr style=\"text-align: right;\">\n",
       "      <th></th>\n",
       "      <th>press</th>\n",
       "      <th>title</th>\n",
       "      <th>date</th>\n",
       "      <th>link</th>\n",
       "    </tr>\n",
       "  </thead>\n",
       "  <tbody>\n",
       "    <tr>\n",
       "      <th>0</th>\n",
       "      <td>중앙일보</td>\n",
       "      <td>프로배구 2·3일 경기 연기.. 중계방송 스태프 코로나19 확진</td>\n",
       "      <td>2021-01-01</td>\n",
       "      <td>https://v.daum.net/v/20210101233343622</td>\n",
       "    </tr>\n",
       "    <tr>\n",
       "      <th>1</th>\n",
       "      <td>세계일보</td>\n",
       "      <td>\"산에서 커피 팔고 싶어\" 조두순의 소박한 꿈 이뤄질까? 시민들 '불안'</td>\n",
       "      <td>2021-01-01</td>\n",
       "      <td>https://v.daum.net/v/20210101233139613</td>\n",
       "    </tr>\n",
       "    <tr>\n",
       "      <th>2</th>\n",
       "      <td>서울신문</td>\n",
       "      <td>확진 1000명 목전 두고..秋 '구치소 집단감염' 첫 사과(종합)</td>\n",
       "      <td>2021-01-01</td>\n",
       "      <td>https://v.daum.net/v/20210101233101608</td>\n",
       "    </tr>\n",
       "    <tr>\n",
       "      <th>3</th>\n",
       "      <td>국민일보</td>\n",
       "      <td>문건 유출? 미루기?.. 벌써 다 퍼진 '2.5단계 연장안'</td>\n",
       "      <td>2021-01-01</td>\n",
       "      <td>https://v.daum.net/v/20210101231448533</td>\n",
       "    </tr>\n",
       "    <tr>\n",
       "      <th>4</th>\n",
       "      <td>뉴스1</td>\n",
       "      <td>'해변 폐쇄·드론 감시' 강릉 해맞이객 90% 줄어..그래도 1만6천명</td>\n",
       "      <td>2021-01-01</td>\n",
       "      <td>https://v.daum.net/v/20210101231238518</td>\n",
       "    </tr>\n",
       "    <tr>\n",
       "      <th>...</th>\n",
       "      <td>...</td>\n",
       "      <td>...</td>\n",
       "      <td>...</td>\n",
       "      <td>...</td>\n",
       "    </tr>\n",
       "    <tr>\n",
       "      <th>1411408</th>\n",
       "      <td>세계일보</td>\n",
       "      <td>한국남동발전, 8년째 취약계층 평생학습 지원</td>\n",
       "      <td>2022-12-31</td>\n",
       "      <td>https://v.daum.net/v/20221231010122552</td>\n",
       "    </tr>\n",
       "    <tr>\n",
       "      <th>1411409</th>\n",
       "      <td>세계일보</td>\n",
       "      <td>KIS제주, 하버드대 2년 연속 합격생 배출</td>\n",
       "      <td>2022-12-31</td>\n",
       "      <td>https://v.daum.net/v/20221231010117551</td>\n",
       "    </tr>\n",
       "    <tr>\n",
       "      <th>1411410</th>\n",
       "      <td>한국일보</td>\n",
       "      <td>늘어나는 방음터널... 번지면 대형 화재인데 방염 규정은 전무</td>\n",
       "      <td>2022-12-31</td>\n",
       "      <td>https://v.daum.net/v/20221231001003411</td>\n",
       "    </tr>\n",
       "    <tr>\n",
       "      <th>1411411</th>\n",
       "      <td>국민일보</td>\n",
       "      <td>[핫인픽] #배달할증료 #한파·폭설 출근길 #메시 지폐</td>\n",
       "      <td>2022-12-31</td>\n",
       "      <td>https://v.daum.net/v/20221231000423387</td>\n",
       "    </tr>\n",
       "    <tr>\n",
       "      <th>1411412</th>\n",
       "      <td>조선일보</td>\n",
       "      <td>[아무튼, 주말] 황야에 핀 꽃으로 만든 술, 허공에 대고 건배!</td>\n",
       "      <td>2022-12-31</td>\n",
       "      <td>https://v.daum.net/v/20221231000027329</td>\n",
       "    </tr>\n",
       "  </tbody>\n",
       "</table>\n",
       "<p>1411413 rows × 4 columns</p>\n",
       "</div>"
      ],
      "text/plain": [
       "        press                                     title       date  \\\n",
       "0        중앙일보       프로배구 2·3일 경기 연기.. 중계방송 스태프 코로나19 확진 2021-01-01   \n",
       "1        세계일보  \"산에서 커피 팔고 싶어\" 조두순의 소박한 꿈 이뤄질까? 시민들 '불안' 2021-01-01   \n",
       "2        서울신문     확진 1000명 목전 두고..秋 '구치소 집단감염' 첫 사과(종합) 2021-01-01   \n",
       "3        국민일보         문건 유출? 미루기?.. 벌써 다 퍼진 '2.5단계 연장안' 2021-01-01   \n",
       "4         뉴스1   '해변 폐쇄·드론 감시' 강릉 해맞이객 90% 줄어..그래도 1만6천명 2021-01-01   \n",
       "...       ...                                       ...        ...   \n",
       "1411408  세계일보                  한국남동발전, 8년째 취약계층 평생학습 지원 2022-12-31   \n",
       "1411409  세계일보                  KIS제주, 하버드대 2년 연속 합격생 배출 2022-12-31   \n",
       "1411410  한국일보        늘어나는 방음터널... 번지면 대형 화재인데 방염 규정은 전무 2022-12-31   \n",
       "1411411  국민일보            [핫인픽] #배달할증료 #한파·폭설 출근길 #메시 지폐 2022-12-31   \n",
       "1411412  조선일보      [아무튼, 주말] 황야에 핀 꽃으로 만든 술, 허공에 대고 건배! 2022-12-31   \n",
       "\n",
       "                                           link  \n",
       "0        https://v.daum.net/v/20210101233343622  \n",
       "1        https://v.daum.net/v/20210101233139613  \n",
       "2        https://v.daum.net/v/20210101233101608  \n",
       "3        https://v.daum.net/v/20210101231448533  \n",
       "4        https://v.daum.net/v/20210101231238518  \n",
       "...                                         ...  \n",
       "1411408  https://v.daum.net/v/20221231010122552  \n",
       "1411409  https://v.daum.net/v/20221231010117551  \n",
       "1411410  https://v.daum.net/v/20221231001003411  \n",
       "1411411  https://v.daum.net/v/20221231000423387  \n",
       "1411412  https://v.daum.net/v/20221231000027329  \n",
       "\n",
       "[1411413 rows x 4 columns]"
      ]
     },
     "execution_count": 4,
     "metadata": {},
     "output_type": "execute_result"
    }
   ],
   "source": [
    "data_all"
   ]
  },
  {
   "cell_type": "markdown",
   "id": "eed99d44-b98c-436a-a848-28a248046d8e",
   "metadata": {
    "tags": []
   },
   "source": [
    "# 전체 데이터 유사도 추천"
   ]
  },
  {
   "cell_type": "markdown",
   "id": "7b98dee6-d284-4d7f-8896-73cb10033ed0",
   "metadata": {},
   "source": [
    "## 모델 불러오기"
   ]
  },
  {
   "cell_type": "code",
   "execution_count": 7,
   "id": "3c0643c2-b36f-4266-a846-80da11e54c67",
   "metadata": {},
   "outputs": [],
   "source": [
    "import pickle"
   ]
  },
  {
   "cell_type": "code",
   "execution_count": 8,
   "id": "1018d2f8-c626-44a6-8343-5cc7f153f9ef",
   "metadata": {},
   "outputs": [],
   "source": [
    "with open(\"./model/pickled_tfidf_vec.bin\", \"rb\") as f:\n",
    "    tfidf_vec = pickle.load(f)"
   ]
  },
  {
   "cell_type": "code",
   "execution_count": 9,
   "id": "61d62f8a-e27b-4add-b978-ef90c7582eea",
   "metadata": {},
   "outputs": [],
   "source": [
    "with open(\"./model/pickled_tfidf_dtm.bin\", \"rb\") as f:\n",
    "    tfidf_dtm = pickle.load(f)"
   ]
  },
  {
   "cell_type": "markdown",
   "id": "77e60ddb-f98b-456f-8e1e-3eb06090e033",
   "metadata": {},
   "source": [
    "## 형태소 추출"
   ]
  },
  {
   "cell_type": "code",
   "execution_count": 10,
   "id": "d5af343f-0de0-4142-bdc3-e5dd5d853ec8",
   "metadata": {},
   "outputs": [],
   "source": [
    "def string_tokenizer(content):\n",
    "    import pandas as pd\n",
    "    from konlpy.tag import Okt\n",
    "    okt = Okt()\n",
    "    \n",
    "    content = pd.Series(content)\n",
    "    # 한글, 숫자, 공백만 남기기\n",
    "    content = content.str.replace('[^0-9ㄱ-ㅎㅏ-ㅣ가-힣 ]', '', regex=True)\n",
    "    token_content = okt.pos(content[0], norm=True, stem=True)\n",
    "    return token_content"
   ]
  },
  {
   "cell_type": "code",
   "execution_count": 11,
   "id": "ebbe152c-5930-4c68-b49e-31e667a8b0cb",
   "metadata": {},
   "outputs": [],
   "source": [
    "except_list = ['Exclamation', 'Josa', 'KoreanParticle', 'Determiner',  'Eomi', 'Suffix',  'VerbPrefix', 'PreEomi']\n",
    "include_list = ['Verb',  'Noun']"
   ]
  },
  {
   "cell_type": "code",
   "execution_count": 12,
   "id": "5888cc1c-3a53-4981-a8be-9e90a5cb25e9",
   "metadata": {},
   "outputs": [],
   "source": [
    "# 230207 기현\n",
    "def tag_except_list(except_list, token_content):\n",
    "    filtered_list= []\n",
    "    for tag in token_content :\n",
    "        if tag[1] in except_list:\n",
    "            continue\n",
    "        filtered_list.append(tag[0])\n",
    "    content = \" \".join(filtered_list)\n",
    "    return content"
   ]
  },
  {
   "cell_type": "code",
   "execution_count": 13,
   "id": "8e49dff3-7eef-40fc-99ef-2508ba82623f",
   "metadata": {
    "tags": []
   },
   "outputs": [],
   "source": [
    "# 230207 기현\n",
    "def tag_include_list(include_list, token_content):\n",
    "    filtered_list=[]\n",
    "    for tag in token_content :\n",
    "        if tag[1] in include_list:\n",
    "            filtered_list.append(tag[0])\n",
    "\n",
    "    content = \" \".join(filtered_list)\n",
    "    return content"
   ]
  },
  {
   "cell_type": "markdown",
   "id": "4c0af8a8-7d4d-4b22-b312-b89a7bb565a8",
   "metadata": {
    "jp-MarkdownHeadingCollapsed": true,
    "tags": []
   },
   "source": [
    "## 크롤링된 기사 제목으로 유사 기사 추천"
   ]
  },
  {
   "cell_type": "code",
   "execution_count": 14,
   "id": "e64d6b6e-1000-44bf-85f9-5c51adf9d776",
   "metadata": {},
   "outputs": [],
   "source": [
    "def get_recommend_by_title(title, n, drange=False):\n",
    "    from sklearn.metrics.pairwise import cosine_similarity\n",
    "    # 타이틀로 저장된 토큰 호출, 축적된 기사들과 유사도 연산\n",
    "    token = data_all.loc[data_all['title'] == title]['okt'].values[0]\n",
    "    tfidf_content = tfidf_vec.transform([token])\n",
    "    \n",
    "    # 기간 설정\n",
    "    if drange:\n",
    "        data_filtered_idx = data_all[data_all['date'].isin(pd.date_range(drange[0], drange[1]))].index\n",
    "        tfidf_dtm_filtered = tfidf_dtm[data_filtered_idx]\n",
    "        cos_sim_res = cosine_similarity(tfidf_content, tfidf_dtm_filtered)\n",
    "    else:\n",
    "        cos_sim_res = cosine_similarity(tfidf_content, tfidf_dtm)\n",
    "    \n",
    "    # 유사도 정렬, 추출\n",
    "    sim_scores = list(enumerate(cos_sim_res[0]))\n",
    "    sim_scores = sorted(sim_scores, key=lambda x: x[1], reverse=True)\n",
    "    sim_scores_n = sim_scores[1:n+1]\n",
    "    # sim_scores_n = [sim for sim in sim_scores_n if sim[1] >= 0.6] # 유사도 60% 이상 필터=>옵션화 가능?###############\n",
    "    \n",
    "    # 해당하는 기사 가져오기\n",
    "    article_idx = [article_dict[0] for article_dict in sim_scores_n]\n",
    "    rst = data_all.iloc[article_idx][['press', 'title', 'date', 'link']]\n",
    "    rst['similarity'] = [round(sim[1], 4)*100 for sim in sim_scores_n]\n",
    "        \n",
    "    return rst[['press', 'similarity', 'title', 'date', 'link']]"
   ]
  },
  {
   "cell_type": "code",
   "execution_count": null,
   "id": "81bb58df-8a1e-4860-b2fa-410efa6901af",
   "metadata": {},
   "outputs": [],
   "source": [
    "title = \"19년 동안 2억2000만원 내 놓은 기부천사 황영희씨\"\n",
    "data_all.loc[data_all['title'] == title]['link']"
   ]
  },
  {
   "cell_type": "code",
   "execution_count": 15,
   "id": "cf36f1f2-a762-414f-b34c-d66ddc51ca33",
   "metadata": {
    "tags": []
   },
   "outputs": [
    {
     "ename": "KeyError",
     "evalue": "'okt'",
     "output_type": "error",
     "traceback": [
      "\u001b[1;31m---------------------------------------------------------------------------\u001b[0m",
      "\u001b[1;31mKeyError\u001b[0m                                  Traceback (most recent call last)",
      "File \u001b[1;32m~\\anaconda3\\envs\\sesac\\lib\\site-packages\\pandas\\core\\indexes\\base.py:3803\u001b[0m, in \u001b[0;36mIndex.get_loc\u001b[1;34m(self, key, method, tolerance)\u001b[0m\n\u001b[0;32m   3802\u001b[0m \u001b[38;5;28;01mtry\u001b[39;00m:\n\u001b[1;32m-> 3803\u001b[0m     \u001b[38;5;28;01mreturn\u001b[39;00m \u001b[38;5;28;43mself\u001b[39;49m\u001b[38;5;241;43m.\u001b[39;49m\u001b[43m_engine\u001b[49m\u001b[38;5;241;43m.\u001b[39;49m\u001b[43mget_loc\u001b[49m\u001b[43m(\u001b[49m\u001b[43mcasted_key\u001b[49m\u001b[43m)\u001b[49m\n\u001b[0;32m   3804\u001b[0m \u001b[38;5;28;01mexcept\u001b[39;00m \u001b[38;5;167;01mKeyError\u001b[39;00m \u001b[38;5;28;01mas\u001b[39;00m err:\n",
      "File \u001b[1;32m~\\anaconda3\\envs\\sesac\\lib\\site-packages\\pandas\\_libs\\index.pyx:138\u001b[0m, in \u001b[0;36mpandas._libs.index.IndexEngine.get_loc\u001b[1;34m()\u001b[0m\n",
      "File \u001b[1;32m~\\anaconda3\\envs\\sesac\\lib\\site-packages\\pandas\\_libs\\index.pyx:165\u001b[0m, in \u001b[0;36mpandas._libs.index.IndexEngine.get_loc\u001b[1;34m()\u001b[0m\n",
      "File \u001b[1;32mpandas\\_libs\\hashtable_class_helper.pxi:5745\u001b[0m, in \u001b[0;36mpandas._libs.hashtable.PyObjectHashTable.get_item\u001b[1;34m()\u001b[0m\n",
      "File \u001b[1;32mpandas\\_libs\\hashtable_class_helper.pxi:5753\u001b[0m, in \u001b[0;36mpandas._libs.hashtable.PyObjectHashTable.get_item\u001b[1;34m()\u001b[0m\n",
      "\u001b[1;31mKeyError\u001b[0m: 'okt'",
      "\nThe above exception was the direct cause of the following exception:\n",
      "\u001b[1;31mKeyError\u001b[0m                                  Traceback (most recent call last)",
      "File \u001b[1;32m<timed eval>:1\u001b[0m\n",
      "Cell \u001b[1;32mIn[14], line 4\u001b[0m, in \u001b[0;36mget_recommend_by_title\u001b[1;34m(title, n, drange)\u001b[0m\n\u001b[0;32m      2\u001b[0m \u001b[38;5;28;01mfrom\u001b[39;00m \u001b[38;5;21;01msklearn\u001b[39;00m\u001b[38;5;21;01m.\u001b[39;00m\u001b[38;5;21;01mmetrics\u001b[39;00m\u001b[38;5;21;01m.\u001b[39;00m\u001b[38;5;21;01mpairwise\u001b[39;00m \u001b[38;5;28;01mimport\u001b[39;00m cosine_similarity\n\u001b[0;32m      3\u001b[0m \u001b[38;5;66;03m# 타이틀로 저장된 토큰 호출, 축적된 기사들과 유사도 연산\u001b[39;00m\n\u001b[1;32m----> 4\u001b[0m token \u001b[38;5;241m=\u001b[39m \u001b[43mdata_all\u001b[49m\u001b[38;5;241;43m.\u001b[39;49m\u001b[43mloc\u001b[49m\u001b[43m[\u001b[49m\u001b[43mdata_all\u001b[49m\u001b[43m[\u001b[49m\u001b[38;5;124;43m'\u001b[39;49m\u001b[38;5;124;43mtitle\u001b[39;49m\u001b[38;5;124;43m'\u001b[39;49m\u001b[43m]\u001b[49m\u001b[43m \u001b[49m\u001b[38;5;241;43m==\u001b[39;49m\u001b[43m \u001b[49m\u001b[43mtitle\u001b[49m\u001b[43m]\u001b[49m\u001b[43m[\u001b[49m\u001b[38;5;124;43m'\u001b[39;49m\u001b[38;5;124;43mokt\u001b[39;49m\u001b[38;5;124;43m'\u001b[39;49m\u001b[43m]\u001b[49m\u001b[38;5;241m.\u001b[39mvalues[\u001b[38;5;241m0\u001b[39m]\n\u001b[0;32m      5\u001b[0m tfidf_content \u001b[38;5;241m=\u001b[39m tfidf_vec\u001b[38;5;241m.\u001b[39mtransform([token])\n\u001b[0;32m      7\u001b[0m \u001b[38;5;66;03m# 기간 설정\u001b[39;00m\n",
      "File \u001b[1;32m~\\anaconda3\\envs\\sesac\\lib\\site-packages\\pandas\\core\\frame.py:3805\u001b[0m, in \u001b[0;36mDataFrame.__getitem__\u001b[1;34m(self, key)\u001b[0m\n\u001b[0;32m   3803\u001b[0m \u001b[38;5;28;01mif\u001b[39;00m \u001b[38;5;28mself\u001b[39m\u001b[38;5;241m.\u001b[39mcolumns\u001b[38;5;241m.\u001b[39mnlevels \u001b[38;5;241m>\u001b[39m \u001b[38;5;241m1\u001b[39m:\n\u001b[0;32m   3804\u001b[0m     \u001b[38;5;28;01mreturn\u001b[39;00m \u001b[38;5;28mself\u001b[39m\u001b[38;5;241m.\u001b[39m_getitem_multilevel(key)\n\u001b[1;32m-> 3805\u001b[0m indexer \u001b[38;5;241m=\u001b[39m \u001b[38;5;28;43mself\u001b[39;49m\u001b[38;5;241;43m.\u001b[39;49m\u001b[43mcolumns\u001b[49m\u001b[38;5;241;43m.\u001b[39;49m\u001b[43mget_loc\u001b[49m\u001b[43m(\u001b[49m\u001b[43mkey\u001b[49m\u001b[43m)\u001b[49m\n\u001b[0;32m   3806\u001b[0m \u001b[38;5;28;01mif\u001b[39;00m is_integer(indexer):\n\u001b[0;32m   3807\u001b[0m     indexer \u001b[38;5;241m=\u001b[39m [indexer]\n",
      "File \u001b[1;32m~\\anaconda3\\envs\\sesac\\lib\\site-packages\\pandas\\core\\indexes\\base.py:3805\u001b[0m, in \u001b[0;36mIndex.get_loc\u001b[1;34m(self, key, method, tolerance)\u001b[0m\n\u001b[0;32m   3803\u001b[0m     \u001b[38;5;28;01mreturn\u001b[39;00m \u001b[38;5;28mself\u001b[39m\u001b[38;5;241m.\u001b[39m_engine\u001b[38;5;241m.\u001b[39mget_loc(casted_key)\n\u001b[0;32m   3804\u001b[0m \u001b[38;5;28;01mexcept\u001b[39;00m \u001b[38;5;167;01mKeyError\u001b[39;00m \u001b[38;5;28;01mas\u001b[39;00m err:\n\u001b[1;32m-> 3805\u001b[0m     \u001b[38;5;28;01mraise\u001b[39;00m \u001b[38;5;167;01mKeyError\u001b[39;00m(key) \u001b[38;5;28;01mfrom\u001b[39;00m \u001b[38;5;21;01merr\u001b[39;00m\n\u001b[0;32m   3806\u001b[0m \u001b[38;5;28;01mexcept\u001b[39;00m \u001b[38;5;167;01mTypeError\u001b[39;00m:\n\u001b[0;32m   3807\u001b[0m     \u001b[38;5;66;03m# If we have a listlike key, _check_indexing_error will raise\u001b[39;00m\n\u001b[0;32m   3808\u001b[0m     \u001b[38;5;66;03m#  InvalidIndexError. Otherwise we fall through and re-raise\u001b[39;00m\n\u001b[0;32m   3809\u001b[0m     \u001b[38;5;66;03m#  the TypeError.\u001b[39;00m\n\u001b[0;32m   3810\u001b[0m     \u001b[38;5;28mself\u001b[39m\u001b[38;5;241m.\u001b[39m_check_indexing_error(key)\n",
      "\u001b[1;31mKeyError\u001b[0m: 'okt'"
     ]
    }
   ],
   "source": [
    "%%time\n",
    "get_recommend_by_title(\"19년 동안 2억2000만원 내 놓은 기부천사 황영희씨\", 10)"
   ]
  },
  {
   "cell_type": "code",
   "execution_count": null,
   "id": "da27d6a4-7354-4c75-ab19-ed7d800502f6",
   "metadata": {
    "tags": []
   },
   "outputs": [],
   "source": [
    "%%time\n",
    "get_recommend_by_title('19년 동안 2억2000만원 내 놓은 기부천사 황영희씨', 10, drange=['2022-01-01', '2022-12-31'])"
   ]
  },
  {
   "cell_type": "markdown",
   "id": "f78c16d2-4ed3-4de7-b7c3-6d872f03a8de",
   "metadata": {
    "tags": []
   },
   "source": [
    "## 다음 url로 유사 기사 추천"
   ]
  },
  {
   "cell_type": "code",
   "execution_count": 16,
   "id": "a33ed899-ff3c-487c-be2e-7f9b73b84bc2",
   "metadata": {},
   "outputs": [],
   "source": [
    "stop_content = [\"무단전재\", \"재배포금지\",\"저작권자 ⓒ 서울신문사\",\"무단복제 및 전재\",\"무단 전재 및 재배포\",\"제보는 카톡\", \"☞\", \"무단 전재-재배포\", \"▶연합뉴스 앱 지금 바로 다운받기~\"]\n",
    "rep_list = ['기사내용 요약']"
   ]
  },
  {
   "cell_type": "code",
   "execution_count": 17,
   "id": "33afef7f-7740-494b-89be-0d75e2ee9865",
   "metadata": {},
   "outputs": [],
   "source": [
    "def create_soup(url):\n",
    "    from bs4 import BeautifulSoup\n",
    "    import requests\n",
    "    i = 0\n",
    "    ## 요청 오류시 10번  재시도\n",
    "    while i < 10 :\n",
    "        try:\n",
    "            res = requests.get(url)\n",
    "            res.raise_for_status()\n",
    "            soup = BeautifulSoup(res.content, 'html.parser', from_encoding='cp949')\n",
    "            break\n",
    "        except:\n",
    "            i += 1\n",
    "            \n",
    "    return soup"
   ]
  },
  {
   "cell_type": "code",
   "execution_count": 18,
   "id": "04d6d326-d507-4e55-b104-0f0c69d79631",
   "metadata": {},
   "outputs": [],
   "source": [
    "def content_only_scraper(link):\n",
    "    article_soup = create_soup(link)\n",
    "\n",
    "    # 본문 정리\n",
    "    article = article_soup.find_all('section')[1]\n",
    "    content = article.find_all(True, attrs={'dmcf-ptype':'general'})\n",
    "    rst = []\n",
    "    for para in content:\n",
    "        for tmp in para.text.split('\\n'):\n",
    "            if tmp.strip() != '':\n",
    "                rst.append(tmp.strip())\n",
    "    content = []\n",
    "    for c in rst:\n",
    "        for i in stop_content:\n",
    "            if i in c:\n",
    "                break\n",
    "        else:\n",
    "            for rep in rep_list:\n",
    "                c = c.replace(rep, '')\n",
    "            content.append(c)\n",
    "    content = ' '.join(content)\n",
    "    if len(content) < 200:\n",
    "        return False\n",
    "    \n",
    "    return content"
   ]
  },
  {
   "cell_type": "code",
   "execution_count": 19,
   "id": "9bc095e0-50e6-4d14-9f65-742c40af1b5f",
   "metadata": {},
   "outputs": [],
   "source": [
    "def get_recommend_by_url(url, n, drange=False):\n",
    "    from sklearn.metrics.pairwise import cosine_similarity\n",
    "    # 다음 뉴스인지 확인\n",
    "    if not url.startswith('https://v.daum.net/v/'):\n",
    "        return False\n",
    "    # 본문 스크랩\n",
    "    content = content_only_scraper(url)\n",
    "\n",
    "    # 형태소 전처리\n",
    "    token = tag_except_list(except_list, string_tokenizer(content))\n",
    "    \n",
    "    tfidf_content = tfidf_vec.transform([token])\n",
    "    \n",
    "    # 기간 설정\n",
    "    if drange:\n",
    "        data_filtered_idx = data_all[data_all['date'].isin(pd.date_range(drange[0], drange[1]))].index\n",
    "        tfidf_dtm_filtered = tfidf_dtm[data_filtered_idx]\n",
    "        cos_sim_res = cosine_similarity(tfidf_content, tfidf_dtm_filtered)\n",
    "    else:\n",
    "        cos_sim_res = cosine_similarity(tfidf_content, tfidf_dtm)\n",
    "    \n",
    "    \n",
    "    # 유사도 정렬, 추출\n",
    "    sim_scores = list(enumerate(cos_sim_res[0]))\n",
    "    sim_scores = sorted(sim_scores, key=lambda x: x[1], reverse=True)\n",
    "    sim_scores_n = sim_scores[1:n+1]\n",
    "    # sim_scores_n = [sim for sim in sim_scores_n if sim[1] >= 0.6] # 유사도 60% 이상 필터=>옵션화 가능?###############\n",
    "    \n",
    "    # 해당하는 기사 가져오기\n",
    "    article_idx = [article_dict[0] for article_dict in sim_scores_n]\n",
    "    rst = data_all.iloc[article_idx][['press', 'title', 'date', 'link']]\n",
    "    rst['similarity'] = [round(sim[1], 4)*100 for sim in sim_scores_n]\n",
    "    \n",
    "    return rst[['press', 'similarity', 'title', 'date', 'link']]"
   ]
  },
  {
   "cell_type": "code",
   "execution_count": 21,
   "id": "eadf382d-047e-41b0-a68d-7b997568bf8b",
   "metadata": {
    "tags": []
   },
   "outputs": [
    {
     "name": "stdout",
     "output_type": "stream",
     "text": [
      "CPU times: total: 1min 6s\n",
      "Wall time: 1min 55s\n"
     ]
    },
    {
     "data": {
      "text/html": [
       "<div>\n",
       "<style scoped>\n",
       "    .dataframe tbody tr th:only-of-type {\n",
       "        vertical-align: middle;\n",
       "    }\n",
       "\n",
       "    .dataframe tbody tr th {\n",
       "        vertical-align: top;\n",
       "    }\n",
       "\n",
       "    .dataframe thead th {\n",
       "        text-align: right;\n",
       "    }\n",
       "</style>\n",
       "<table border=\"1\" class=\"dataframe\">\n",
       "  <thead>\n",
       "    <tr style=\"text-align: right;\">\n",
       "      <th></th>\n",
       "      <th>press</th>\n",
       "      <th>similarity</th>\n",
       "      <th>title</th>\n",
       "      <th>date</th>\n",
       "      <th>link</th>\n",
       "    </tr>\n",
       "  </thead>\n",
       "  <tbody>\n",
       "    <tr>\n",
       "      <th>252178</th>\n",
       "      <td>국민일보</td>\n",
       "      <td>30.28</td>\n",
       "      <td>조국 재판 6개월 만에 재개..정경심과 법정 같이 설듯</td>\n",
       "      <td>2021-04-30</td>\n",
       "      <td>https://v.daum.net/v/20210430140850136</td>\n",
       "    </tr>\n",
       "    <tr>\n",
       "      <th>339634</th>\n",
       "      <td>문화일보</td>\n",
       "      <td>30.06</td>\n",
       "      <td>'피고인' 조국·정경심 나란히 법정 출석</td>\n",
       "      <td>2021-06-11</td>\n",
       "      <td>https://v.daum.net/v/20210611112009228</td>\n",
       "    </tr>\n",
       "    <tr>\n",
       "      <th>252388</th>\n",
       "      <td>뉴시스</td>\n",
       "      <td>28.49</td>\n",
       "      <td>조국·정경심, 6월11일 법정 같이선다..반년만 재판 재개</td>\n",
       "      <td>2021-04-30</td>\n",
       "      <td>https://v.daum.net/v/20210430121651371</td>\n",
       "    </tr>\n",
       "    <tr>\n",
       "      <th>1357317</th>\n",
       "      <td>세계일보</td>\n",
       "      <td>28.45</td>\n",
       "      <td>‘자녀 입시 비리·감찰 무마’ 조국 전 장관에 징역 5년 구형</td>\n",
       "      <td>2022-12-02</td>\n",
       "      <td>https://v.daum.net/v/20221202162327923</td>\n",
       "    </tr>\n",
       "    <tr>\n",
       "      <th>1357592</th>\n",
       "      <td>연합뉴스</td>\n",
       "      <td>28.45</td>\n",
       "      <td>검찰 \"조국, 명백한 사실도 인정 안 해\"…징역 5년 구형(종합)</td>\n",
       "      <td>2022-12-02</td>\n",
       "      <td>https://v.daum.net/v/20221202145347140</td>\n",
       "    </tr>\n",
       "    <tr>\n",
       "      <th>1357066</th>\n",
       "      <td>연합뉴스</td>\n",
       "      <td>28.35</td>\n",
       "      <td>징역 5년 구형받은 조국 \"검찰의 무차별 공격에 무력\"(종합2보)</td>\n",
       "      <td>2022-12-02</td>\n",
       "      <td>https://v.daum.net/v/20221202183710978</td>\n",
       "    </tr>\n",
       "    <tr>\n",
       "      <th>1358639</th>\n",
       "      <td>뉴시스</td>\n",
       "      <td>28.32</td>\n",
       "      <td>'입시비리'·감찰무마' 조국 재판 오늘 결심…3년 만에 마무리 수순</td>\n",
       "      <td>2022-12-02</td>\n",
       "      <td>https://v.daum.net/v/20221202060032795</td>\n",
       "    </tr>\n",
       "    <tr>\n",
       "      <th>327314</th>\n",
       "      <td>뉴시스</td>\n",
       "      <td>28.17</td>\n",
       "      <td>조국·정경심, 나란히 법정 선다..6개월만에 재판 재개</td>\n",
       "      <td>2021-06-06</td>\n",
       "      <td>https://v.daum.net/v/20210606050052336</td>\n",
       "    </tr>\n",
       "    <tr>\n",
       "      <th>1357681</th>\n",
       "      <td>뉴시스</td>\n",
       "      <td>27.97</td>\n",
       "      <td>'자녀 입시비리' 조국 전 장관, 1심 결심공판 출석 [뉴시스Pic]</td>\n",
       "      <td>2022-12-02</td>\n",
       "      <td>https://v.daum.net/v/20221202141500738</td>\n",
       "    </tr>\n",
       "    <tr>\n",
       "      <th>1346082</th>\n",
       "      <td>뉴시스</td>\n",
       "      <td>27.96</td>\n",
       "      <td>조국 입시비리 등 의혹, 이번주 결심…이르면 올해 1심 결론</td>\n",
       "      <td>2022-11-27</td>\n",
       "      <td>https://v.daum.net/v/20221127095726043</td>\n",
       "    </tr>\n",
       "  </tbody>\n",
       "</table>\n",
       "</div>"
      ],
      "text/plain": [
       "        press  similarity                                   title       date  \\\n",
       "252178   국민일보       30.28          조국 재판 6개월 만에 재개..정경심과 법정 같이 설듯 2021-04-30   \n",
       "339634   문화일보       30.06                  '피고인' 조국·정경심 나란히 법정 출석 2021-06-11   \n",
       "252388    뉴시스       28.49        조국·정경심, 6월11일 법정 같이선다..반년만 재판 재개 2021-04-30   \n",
       "1357317  세계일보       28.45      ‘자녀 입시 비리·감찰 무마’ 조국 전 장관에 징역 5년 구형 2022-12-02   \n",
       "1357592  연합뉴스       28.45    검찰 \"조국, 명백한 사실도 인정 안 해\"…징역 5년 구형(종합) 2022-12-02   \n",
       "1357066  연합뉴스       28.35    징역 5년 구형받은 조국 \"검찰의 무차별 공격에 무력\"(종합2보) 2022-12-02   \n",
       "1358639   뉴시스       28.32   '입시비리'·감찰무마' 조국 재판 오늘 결심…3년 만에 마무리 수순 2022-12-02   \n",
       "327314    뉴시스       28.17          조국·정경심, 나란히 법정 선다..6개월만에 재판 재개 2021-06-06   \n",
       "1357681   뉴시스       27.97  '자녀 입시비리' 조국 전 장관, 1심 결심공판 출석 [뉴시스Pic] 2022-12-02   \n",
       "1346082   뉴시스       27.96       조국 입시비리 등 의혹, 이번주 결심…이르면 올해 1심 결론 2022-11-27   \n",
       "\n",
       "                                           link  \n",
       "252178   https://v.daum.net/v/20210430140850136  \n",
       "339634   https://v.daum.net/v/20210611112009228  \n",
       "252388   https://v.daum.net/v/20210430121651371  \n",
       "1357317  https://v.daum.net/v/20221202162327923  \n",
       "1357592  https://v.daum.net/v/20221202145347140  \n",
       "1357066  https://v.daum.net/v/20221202183710978  \n",
       "1358639  https://v.daum.net/v/20221202060032795  \n",
       "327314   https://v.daum.net/v/20210606050052336  \n",
       "1357681  https://v.daum.net/v/20221202141500738  \n",
       "1346082  https://v.daum.net/v/20221127095726043  "
      ]
     },
     "execution_count": 21,
     "metadata": {},
     "output_type": "execute_result"
    }
   ],
   "source": [
    "%%time\n",
    "url = \"\"\"https://v.daum.net/v/20230206162031399\"\"\"\n",
    "get_recommend_by_url(url, 10)"
   ]
  },
  {
   "cell_type": "markdown",
   "id": "439bd130-8f1f-4975-b6c2-7c7a2ed2a7b9",
   "metadata": {
    "tags": []
   },
   "source": [
    "## 직접 입력한 본문(문자열)로 유사 기사 추천"
   ]
  },
  {
   "cell_type": "code",
   "execution_count": null,
   "id": "e6165f82-79aa-4299-b80a-01e69ff92c62",
   "metadata": {},
   "outputs": [],
   "source": [
    "def get_recommend_by_content(content, n, drange=False):\n",
    "    from sklearn.metrics.pairwise import cosine_similarity\n",
    "    # 형태소 전처리\n",
    "    token = tag_except_list(except_list, string_tokenizer(content))\n",
    "    \n",
    "    tfidf_content = tfidf_vec.transform([token])\n",
    "    \n",
    "    # 기간 설정\n",
    "    if drange:\n",
    "        data_filtered_idx = data_all[data_all['date'].isin(pd.date_range(drange[0], drange[1]))].index\n",
    "        tfidf_dtm_filtered = tfidf_dtm[data_filtered_idx]\n",
    "        cos_sim_res = cosine_similarity(tfidf_content, tfidf_dtm_filtered)\n",
    "    else:\n",
    "        cos_sim_res = cosine_similarity(tfidf_content, tfidf_dtm)\n",
    "    \n",
    "    \n",
    "    # 유사도 정렬, 추출\n",
    "    sim_scores = list(enumerate(cos_sim_res[0]))\n",
    "    sim_scores = sorted(sim_scores, key=lambda x: x[1], reverse=True)\n",
    "    sim_scores_n = sim_scores[1:n+1]\n",
    "    # sim_scores_n = [sim for sim in sim_scores_n if sim[1] >= 0.6] # 유사도 60% 이상 필터=>옵션화 가능?###############\n",
    "    \n",
    "    # 해당하는 기사 가져오기\n",
    "    article_idx = [article_dict[0] for article_dict in sim_scores_n]\n",
    "    rst = data_all.iloc[article_idx][['press', 'title', 'date', 'link']]\n",
    "    rst['similarity'] = [round(sim[1], 4)*100 for sim in sim_scores_n]\n",
    "        \n",
    "    return rst[['press', 'similarity', 'title', 'date', 'link']]"
   ]
  },
  {
   "cell_type": "code",
   "execution_count": null,
   "id": "680bcc36-1c02-4ddf-9045-6a0f466e7c92",
   "metadata": {
    "tags": []
   },
   "outputs": [],
   "source": [
    "%%time\n",
    "arc_content = \"\"\"19년 간 2억원이 넘는 기부를 실천한 사람이 있다.\n",
    "\n",
    "지난 2004년부터 매년 꾸준히 어려운 이웃을 위한 나눔을 실천, 19년간 2억 2000만원을 기부한 시민이 있어 지역사회의 귀감이 되고 있다.\n",
    "\n",
    "코로나19가 길어져 취약 계층의 복지 수요가 늘었다고 판단한 황 대표는 올해 1월부터는 기부액을 매달 200만원으로 늘렸다.\n",
    "\n",
    "이렇게 이어온 황 대표의 누적 기부 금액은 2억 2000만원에 달한다.\"\"\"\n",
    "get_recommend_by_content(arc_content, 10)"
   ]
  },
  {
   "cell_type": "code",
   "execution_count": null,
   "id": "016732a0-576a-483b-b0b4-bc9136ea595b",
   "metadata": {
    "tags": []
   },
   "outputs": [],
   "source": [
    "%%time\n",
    "arc_content = \"\"\"빅토르 안 국내 복귀 시도\"\"\"\n",
    "get_recommend_by_content(arc_content, 10)"
   ]
  }
 ],
 "metadata": {
  "kernelspec": {
   "display_name": "Python 3 (ipykernel)",
   "language": "python",
   "name": "python3"
  },
  "language_info": {
   "codemirror_mode": {
    "name": "ipython",
    "version": 3
   },
   "file_extension": ".py",
   "mimetype": "text/x-python",
   "name": "python",
   "nbconvert_exporter": "python",
   "pygments_lexer": "ipython3",
   "version": "3.8.15"
  }
 },
 "nbformat": 4,
 "nbformat_minor": 5
}
