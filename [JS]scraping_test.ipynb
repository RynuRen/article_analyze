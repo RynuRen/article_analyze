{
 "cells": [
  {
   "cell_type": "code",
   "execution_count": 1,
   "id": "ef72f0ca-981a-436b-a696-62d731c34ad2",
   "metadata": {},
   "outputs": [],
   "source": [
    "import pandas as pd\n",
    "import numpy as np\n",
    "from bs4 import BeautifulSoup\n",
    "import requests\n",
    "from tqdm import tqdm"
   ]
  },
  {
   "cell_type": "code",
   "execution_count": 2,
   "id": "7d7e09e2-774a-492d-9086-cb40387a6c08",
   "metadata": {},
   "outputs": [],
   "source": [
    "def create_soup(url):\n",
    "    res = requests.get(url)\n",
    "    res.raise_for_status()\n",
    "    soup = BeautifulSoup(res.content, 'html.parser', from_encoding='cp949')\n",
    "    return soup"
   ]
  },
  {
   "cell_type": "markdown",
   "id": "209483ea-b1c4-463d-8d46-8725fc9cb8ff",
   "metadata": {
    "jp-MarkdownHeadingCollapsed": true,
    "tags": []
   },
   "source": [
    "## 23년 1월 28일 리스트 테스트"
   ]
  },
  {
   "cell_type": "code",
   "execution_count": 3,
   "id": "910a2eb9-8a38-47b3-9836-95eb25e20e58",
   "metadata": {},
   "outputs": [],
   "source": [
    "date = '20230128'\n",
    "url = f'https://news.kmib.co.kr/article/list_all.asp?sid1=soc&sid2=&sdate={date}'\n",
    "\n",
    "soup = create_soup(url)"
   ]
  },
  {
   "cell_type": "code",
   "execution_count": 4,
   "id": "7fe5d5c9-025d-4e46-9a30-2eccb03306b1",
   "metadata": {},
   "outputs": [],
   "source": [
    "news_list = soup.find('div', attrs={'class':'nws_list_all brnone'})"
   ]
  },
  {
   "cell_type": "code",
   "execution_count": 5,
   "id": "4b6d2ea3-c6b7-49ef-835f-a2cfd911fc7b",
   "metadata": {},
   "outputs": [],
   "source": [
    "news = news_list.find_all('a')"
   ]
  },
  {
   "cell_type": "code",
   "execution_count": 6,
   "id": "a40768ba-26ad-49dd-9936-ec9614e48a21",
   "metadata": {},
   "outputs": [],
   "source": [
    "articles = []\n",
    "base_url = 'https://news.kmib.co.kr/article/'\n",
    "for i in range(len(news)):\n",
    "    article = []\n",
    "    title = news[i].text\n",
    "    link = base_url + news[i]['href']\n",
    "    date = news_list.find_all('dd')[i].text\n",
    "    article = [title, date, link]\n",
    "    articles.append(article)"
   ]
  },
  {
   "cell_type": "markdown",
   "id": "e2cb56fa-cefc-4c6e-9c82-8072b640ddac",
   "metadata": {
    "jp-MarkdownHeadingCollapsed": true,
    "tags": []
   },
   "source": [
    "## 기사 본문 스크래핑"
   ]
  },
  {
   "cell_type": "code",
   "execution_count": 7,
   "id": "0ccb29ec-255b-4661-909c-4328ae202d07",
   "metadata": {},
   "outputs": [],
   "source": [
    "link = 'https://news.kmib.co.kr/article/view.asp?arcid=0014169099&code=61121611&sid1=soc'\n",
    "article_soup = create_soup(link)\n",
    "article_soup = article_soup.find('div', attrs={'id':'articleBody'})\n",
    "article_soup.div.decompose() # 기사 이미지 설명문 제거"
   ]
  },
  {
   "cell_type": "code",
   "execution_count": 8,
   "id": "d2622946-110f-4bf8-a8aa-3037f901ada5",
   "metadata": {},
   "outputs": [],
   "source": [
    "article = article_soup.find_all(text=True)\n",
    "article = [i for i in article if i != '\\n']"
   ]
  },
  {
   "cell_type": "code",
   "execution_count": 9,
   "id": "2f28f277-1fd4-46d9-8c7b-223d7f318c75",
   "metadata": {},
   "outputs": [
    {
     "data": {
      "text/plain": [
       "[' 기사 내용 ',\n",
       " '1월 27일 월요일, 아침 날씨입니다.',\n",
       " '이 시각 현재 매우 강한 바람이 부는 곳이 있습니다.',\n",
       " '아침 최저기온은 서울 3도, 인천 4도, 수원 5도, 춘천 2도, 강릉 3도, 청주 5도, 대전 6도, 전주 6도, 광주 7도, 대구 7도, 부산 9도, 제주 11도로 예상됩니다.',\n",
       " '낮 최고기온은 서울 7도, 인천 7도, 수원 8도, 춘천 7도, 강릉 7도, 청주 7도, 대전 7도, 전주 7도, 광주 8도, 대구 8도, 부산 11도, 제주 11도로 예상됩니다.',\n",
       " '일부 지방에 강풍특보가 발효중입니다. 시설물 관리에 주의해야 합니다.',\n",
       " '이상 날씨였습니다.',\n",
       " '웨더봇 기자',\n",
       " '※ 이 기사는 국민일보가 개발한 기상뉴스 전용 인공지능 로봇 ‘웨더봇’이 기상청 데이터를 토대로 작성한 것입니다. 지속적인 업그레이드를 통해 더욱 풍부한 내용과 정확한 문장을 담아 가겠습니다.\\r\\n\\t\\t\\t\\t\\t',\n",
       " '기자페이지 박스',\n",
       " '//기자페이지 박스',\n",
       " '\\r\\n\\t\\t\\t\\t\\tGoodNews paper ⓒ ',\n",
       " '국민일보(www.kmib.co.kr)',\n",
       " ', 무단전재 및 수집, 재배포금지\\r\\n\\t\\t\\t\\t\\t',\n",
       " ' ad 20220106 추가 ',\n",
       " '// ad 20220106 추가 ']"
      ]
     },
     "execution_count": 9,
     "metadata": {},
     "output_type": "execute_result"
    }
   ],
   "source": [
    "article"
   ]
  },
  {
   "cell_type": "code",
   "execution_count": 10,
   "id": "c43fe76c-36fb-4f60-bf60-4cfb37b85ce0",
   "metadata": {},
   "outputs": [],
   "source": [
    "for i in range(len(article)-1, 0, -1):\n",
    "    if article[i] == '기자페이지 박스':\n",
    "        n = i-1\n",
    "        if article[n][0] == '※':\n",
    "            n -= 1\n",
    "        break\n",
    "content = [i.strip() for i in article[1:n]]\n",
    "content = ' '.join(content) # 문단 합치기\n",
    "journalist = article[n].split('기자')[0].strip() + ' 기자'"
   ]
  },
  {
   "cell_type": "code",
   "execution_count": 11,
   "id": "8124962a-bc91-4a05-a3a7-5f0b529c7457",
   "metadata": {},
   "outputs": [
    {
     "data": {
      "text/plain": [
       "'웨더봇 기자'"
      ]
     },
     "execution_count": 11,
     "metadata": {},
     "output_type": "execute_result"
    }
   ],
   "source": [
    "journalist"
   ]
  },
  {
   "cell_type": "code",
   "execution_count": 12,
   "id": "738f569e-9ea5-48ae-98a3-a2b84f424254",
   "metadata": {},
   "outputs": [
    {
     "data": {
      "text/plain": [
       "('1월 27일 월요일, 아침 날씨입니다. 이 시각 현재 매우 강한 바람이 부는 곳이 있습니다. 아침 최저기온은 서울 3도, 인천 4도, 수원 5도, 춘천 2도, 강릉 3도, 청주 5도, 대전 6도, 전주 6도, 광주 7도, 대구 7도, 부산 9도, 제주 11도로 예상됩니다. 낮 최고기온은 서울 7도, 인천 7도, 수원 8도, 춘천 7도, 강릉 7도, 청주 7도, 대전 7도, 전주 7도, 광주 8도, 대구 8도, 부산 11도, 제주 11도로 예상됩니다. 일부 지방에 강풍특보가 발효중입니다. 시설물 관리에 주의해야 합니다. 이상 날씨였습니다.',\n",
       " '웨더봇 기자')"
      ]
     },
     "execution_count": 12,
     "metadata": {},
     "output_type": "execute_result"
    }
   ],
   "source": [
    "content, journalist"
   ]
  },
  {
   "cell_type": "markdown",
   "id": "6b208068-4d14-49bc-a9b5-944418dc9344",
   "metadata": {
    "tags": []
   },
   "source": [
    "## 함수 정리 테스트"
   ]
  },
  {
   "cell_type": "code",
   "execution_count": 13,
   "id": "1229d19b-d619-46d0-9598-d817c10ab024",
   "metadata": {},
   "outputs": [],
   "source": [
    "# 기사 링크로 본문과 기자 읽어오는 함수\n",
    "def content_scraper(link):\n",
    "    article_soup = create_soup(link)\n",
    "    article_soup = article_soup.find('div', attrs={'id':'articleBody'})\n",
    "    article_soup.div.decompose() # 기사 이미지 설명문 제거\n",
    "    article = article_soup.find_all(text=True)\n",
    "    article = [i for i in article if i != '\\n']\n",
    "    for i in range(len(article)-1, 0, -1):\n",
    "        if article[i] == '기자페이지 박스':\n",
    "            n = i-1\n",
    "            if article[n][0] == '※':\n",
    "                n -= 1\n",
    "            break\n",
    "    content = [i.strip() for i in article[1:n]]\n",
    "    content = ' '.join(content)\n",
    "    journalist = article[n].split('기자')[0].strip() + ' 기자'\n",
    "    return content, journalist"
   ]
  },
  {
   "cell_type": "code",
   "execution_count": 14,
   "id": "683b0386-4b30-4b08-a735-f4032170f485",
   "metadata": {},
   "outputs": [],
   "source": [
    "def get_articles(year, month, day):\n",
    "    year = str(year)\n",
    "    month = str(month).zfill(2)\n",
    "    day = str(day).zfill(2)\n",
    "    date = year+month+day\n",
    "    url = f'https://news.kmib.co.kr/article/list_all.asp?sid1=soc&sid2=&sdate={date}'\n",
    "    soup = create_soup(url)\n",
    "\n",
    "    news_list = soup.find('div', attrs={'class':'nws_list_all brnone'})\n",
    "    news = news_list.find_all('a')\n",
    "\n",
    "    articles = []\n",
    "    base_url = 'https://news.kmib.co.kr/article/'\n",
    "    # for i in tqdm(range(len(news)), desc=f'{date}'):\n",
    "    for i in range(len(news)):\n",
    "        article = []\n",
    "        title = news[i].text.strip()\n",
    "        if '[포토]' in title:\n",
    "            continue\n",
    "        link = base_url + news[i]['href']\n",
    "        arcid = link.split('=')[1].split('&')[0]\n",
    "        date = news_list.find_all('dd')[i].text\n",
    "        content, journalist = content_scraper(link)\n",
    "        article = [arcid, title, journalist, date, content, link]\n",
    "        articles.append(article)\n",
    "    df = pd.DataFrame(articles, columns=['arcid', 'title', 'journalist', 'date', 'content', 'link'])\n",
    "    return df"
   ]
  },
  {
   "cell_type": "code",
   "execution_count": 15,
   "id": "e8c8b219-7013-4e15-8b78-5c20f1d4e914",
   "metadata": {},
   "outputs": [],
   "source": [
    "data = get_articles(2023, 1, 9)"
   ]
  },
  {
   "cell_type": "markdown",
   "id": "4172a0ff-30be-41d9-b600-7c8325670563",
   "metadata": {},
   "source": [
    "## 한달치 스크래핑"
   ]
  },
  {
   "cell_type": "code",
   "execution_count": 16,
   "id": "16323d64-48a5-45e5-a71f-e90620bfaee8",
   "metadata": {},
   "outputs": [],
   "source": [
    "from datetime import date\n",
    "from dateutil.rrule import rrule, DAILY"
   ]
  },
  {
   "cell_type": "code",
   "execution_count": 17,
   "id": "640f1a91-b795-47a4-9007-aefa12b64fe9",
   "metadata": {},
   "outputs": [],
   "source": [
    "start_date = date(2022, 12, 29)\n",
    "end_date = date(2023, 1, 28)"
   ]
  },
  {
   "cell_type": "code",
   "execution_count": 18,
   "id": "b5d40009-9237-4b03-9d0f-d8281a0b8bdd",
   "metadata": {},
   "outputs": [
    {
     "name": "stderr",
     "output_type": "stream",
     "text": [
      "100%|██████████████████████████████████████████████████████████████████████████████████| 31/31 [02:27<00:00,  4.76s/it]\n"
     ]
    }
   ],
   "source": [
    "data = pd.DataFrame()\n",
    "for date in tqdm(list(rrule(DAILY, dtstart=start_date, until=end_date))):\n",
    "    data = pd.concat([data, get_articles(date.year, date.month, date.day)])\n",
    "data.reset_index(drop=True, inplace=True)"
   ]
  },
  {
   "cell_type": "code",
   "execution_count": 19,
   "id": "91525bed-27d1-4885-9a58-aaf8bd2f5d40",
   "metadata": {},
   "outputs": [
    {
     "name": "stdout",
     "output_type": "stream",
     "text": [
      "<class 'pandas.core.frame.DataFrame'>\n",
      "RangeIndex: 2304 entries, 0 to 2303\n",
      "Data columns (total 6 columns):\n",
      " #   Column      Non-Null Count  Dtype \n",
      "---  ------      --------------  ----- \n",
      " 0   arcid       2304 non-null   object\n",
      " 1   title       2304 non-null   object\n",
      " 2   journalist  2304 non-null   object\n",
      " 3   date        2304 non-null   object\n",
      " 4   content     2304 non-null   object\n",
      " 5   link        2304 non-null   object\n",
      "dtypes: object(6)\n",
      "memory usage: 108.1+ KB\n"
     ]
    }
   ],
   "source": [
    "data.info()"
   ]
  },
  {
   "cell_type": "code",
   "execution_count": 20,
   "id": "5bfbcaaf-5ce7-43f9-85d9-49141a4b0fcc",
   "metadata": {},
   "outputs": [],
   "source": [
    "data['date'] = pd.to_datetime(data['date'])"
   ]
  },
  {
   "cell_type": "code",
   "execution_count": 21,
   "id": "7bd762f5-1c8f-4053-9ffa-3ed0e85bbf2b",
   "metadata": {
    "tags": []
   },
   "outputs": [
    {
     "data": {
      "text/html": [
       "<div>\n",
       "<style scoped>\n",
       "    .dataframe tbody tr th:only-of-type {\n",
       "        vertical-align: middle;\n",
       "    }\n",
       "\n",
       "    .dataframe tbody tr th {\n",
       "        vertical-align: top;\n",
       "    }\n",
       "\n",
       "    .dataframe thead th {\n",
       "        text-align: right;\n",
       "    }\n",
       "</style>\n",
       "<table border=\"1\" class=\"dataframe\">\n",
       "  <thead>\n",
       "    <tr style=\"text-align: right;\">\n",
       "      <th></th>\n",
       "      <th>arcid</th>\n",
       "      <th>title</th>\n",
       "      <th>journalist</th>\n",
       "      <th>date</th>\n",
       "      <th>content</th>\n",
       "      <th>link</th>\n",
       "    </tr>\n",
       "  </thead>\n",
       "  <tbody>\n",
       "    <tr>\n",
       "      <th>0</th>\n",
       "      <td>0017817579</td>\n",
       "      <td>축구선수, 배우까지…‘뇌전증 병역 비리 의혹’ 더 커지나</td>\n",
       "      <td>이가현 기자</td>\n",
       "      <td>2022-12-29 23:49:00</td>\n",
       "      <td>허위로 뇌전증 진단을 받아 병역 면제 또는 감면받도록 한 병역 브로커의 구속으로 시...</td>\n",
       "      <td>https://news.kmib.co.kr/article/view.asp?arcid...</td>\n",
       "    </tr>\n",
       "    <tr>\n",
       "      <th>1</th>\n",
       "      <td>0017817397</td>\n",
       "      <td>잠옷 차림으로 9층 베란다 넘으려다 체포…막 내린 도주극</td>\n",
       "      <td>신지호 기자</td>\n",
       "      <td>2022-12-29 20:27:00</td>\n",
       "      <td>전자팔찌를 끊고 도주했던 ‘라임자산운용 사태’ 핵심 인물 김봉현 전 스타모빌리티 회...</td>\n",
       "      <td>https://news.kmib.co.kr/article/view.asp?arcid...</td>\n",
       "    </tr>\n",
       "    <tr>\n",
       "      <th>2</th>\n",
       "      <td>0017817389</td>\n",
       "      <td>제2경인고속도 화재 사고… ‘플라스틱 벽’이 피해 키웠나</td>\n",
       "      <td>이가현 기자</td>\n",
       "      <td>2022-12-29 20:22:00</td>\n",
       "      <td>경기 과천시 제2경인고속도로 방음 터널에서 29일 발생한 화재 사고 피해가 커진 원...</td>\n",
       "      <td>https://news.kmib.co.kr/article/view.asp?arcid...</td>\n",
       "    </tr>\n",
       "    <tr>\n",
       "      <th>3</th>\n",
       "      <td>0017817056</td>\n",
       "      <td>“방수복·오리발이 그대로”…檢, ‘월북’ 아닌 ‘실족’ 무게</td>\n",
       "      <td>조민아 신지호 기자</td>\n",
       "      <td>2022-12-29 19:58:00</td>\n",
       "      <td>서해 공무원 고(故) 이대준씨 ‘월북 몰이’ 사건 당시 첩보 삭제를 지시한 혐의로 ...</td>\n",
       "      <td>https://news.kmib.co.kr/article/view.asp?arcid...</td>\n",
       "    </tr>\n",
       "    <tr>\n",
       "      <th>4</th>\n",
       "      <td>0017817334</td>\n",
       "      <td>‘갑질 논란’ 신창현 수도권매립지공사 사장 해임</td>\n",
       "      <td>인천=김민 기자</td>\n",
       "      <td>2022-12-29 19:37:00</td>\n",
       "      <td>신창현(69) 수도권매립지관리공사 사장이 취임 1년 5개월 만에 결국 해임됐다. 2...</td>\n",
       "      <td>https://news.kmib.co.kr/article/view.asp?arcid...</td>\n",
       "    </tr>\n",
       "    <tr>\n",
       "      <th>...</th>\n",
       "      <td>...</td>\n",
       "      <td>...</td>\n",
       "      <td>...</td>\n",
       "      <td>...</td>\n",
       "      <td>...</td>\n",
       "      <td>...</td>\n",
       "    </tr>\n",
       "    <tr>\n",
       "      <th>2299</th>\n",
       "      <td>0924284597</td>\n",
       "      <td>30일부터 ‘노마스크’ 수업 가능…  통학버스 이용 땐 벗으면 안돼</td>\n",
       "      <td>성윤수 기자</td>\n",
       "      <td>2023-01-28 04:03:00</td>\n",
       "      <td>30일 실내 마스크 착용 의무 조정을 앞두고 일부 혼선 조짐이 나타나고 있다. 시민...</td>\n",
       "      <td>https://news.kmib.co.kr/article/view.asp?arcid...</td>\n",
       "    </tr>\n",
       "    <tr>\n",
       "      <th>2300</th>\n",
       "      <td>0924284593</td>\n",
       "      <td>‘해직교사 특별채용’ 의혹  조희연 서울시교육감,  징역 1년6월·집행유예 2년</td>\n",
       "      <td>신지호 기자</td>\n",
       "      <td>2023-01-28 04:03:00</td>\n",
       "      <td>해직 교사를 부당하게 특별채용한 혐의로 기소된 조희연( 사진 ) 서울시교육감이 1심...</td>\n",
       "      <td>https://news.kmib.co.kr/article/view.asp?arcid...</td>\n",
       "    </tr>\n",
       "    <tr>\n",
       "      <th>2301</th>\n",
       "      <td>0924284596</td>\n",
       "      <td>60세 정년은 옛말?… 고령층 ‘계속 고용’ 논의 본격 착수</td>\n",
       "      <td>조효석 기자</td>\n",
       "      <td>2023-01-28 04:01:00</td>\n",
       "      <td>정부가 직장 내 정년연장을 위한 사회적 논의에 착수하겠다고 발표했다. 고용노동부는 ...</td>\n",
       "      <td>https://news.kmib.co.kr/article/view.asp?arcid...</td>\n",
       "    </tr>\n",
       "    <tr>\n",
       "      <th>2302</th>\n",
       "      <td>0924284594</td>\n",
       "      <td>국민연금 2055년 고갈…  고강도 개혁 속도낼 듯</td>\n",
       "      <td>조효석 기자</td>\n",
       "      <td>2023-01-28 04:00:00</td>\n",
       "      <td>국민연금 재정소진 예상연도가 5년 전 전망치보다 2년 더 당겨진 것으로 나타났다. ...</td>\n",
       "      <td>https://news.kmib.co.kr/article/view.asp?arcid...</td>\n",
       "    </tr>\n",
       "    <tr>\n",
       "      <th>2303</th>\n",
       "      <td>0017880031</td>\n",
       "      <td>[핫인픽] #생활관 노크 #북한 유튜버 #고립·은둔 청년</td>\n",
       "      <td>문혜정 인턴 기자</td>\n",
       "      <td>2023-01-28 00:02:00</td>\n",
       "      <td>지난 한 주 동안 있었던 핫한 뉴스 TOP3를 소개하는 코너, ‘핫한 뉴스만 모았다...</td>\n",
       "      <td>https://news.kmib.co.kr/article/view.asp?arcid...</td>\n",
       "    </tr>\n",
       "  </tbody>\n",
       "</table>\n",
       "<p>2304 rows × 6 columns</p>\n",
       "</div>"
      ],
      "text/plain": [
       "           arcid                                         title  journalist  \\\n",
       "0     0017817579               축구선수, 배우까지…‘뇌전증 병역 비리 의혹’ 더 커지나      이가현 기자   \n",
       "1     0017817397               잠옷 차림으로 9층 베란다 넘으려다 체포…막 내린 도주극      신지호 기자   \n",
       "2     0017817389               제2경인고속도 화재 사고… ‘플라스틱 벽’이 피해 키웠나      이가현 기자   \n",
       "3     0017817056             “방수복·오리발이 그대로”…檢, ‘월북’ 아닌 ‘실족’ 무게  조민아 신지호 기자   \n",
       "4     0017817334                    ‘갑질 논란’ 신창현 수도권매립지공사 사장 해임    인천=김민 기자   \n",
       "...          ...                                           ...         ...   \n",
       "2299  0924284597         30일부터 ‘노마스크’ 수업 가능…  통학버스 이용 땐 벗으면 안돼      성윤수 기자   \n",
       "2300  0924284593  ‘해직교사 특별채용’ 의혹  조희연 서울시교육감,  징역 1년6월·집행유예 2년      신지호 기자   \n",
       "2301  0924284596             60세 정년은 옛말?… 고령층 ‘계속 고용’ 논의 본격 착수      조효석 기자   \n",
       "2302  0924284594                  국민연금 2055년 고갈…  고강도 개혁 속도낼 듯      조효석 기자   \n",
       "2303  0017880031               [핫인픽] #생활관 노크 #북한 유튜버 #고립·은둔 청년   문혜정 인턴 기자   \n",
       "\n",
       "                    date                                            content  \\\n",
       "0    2022-12-29 23:49:00  허위로 뇌전증 진단을 받아 병역 면제 또는 감면받도록 한 병역 브로커의 구속으로 시...   \n",
       "1    2022-12-29 20:27:00  전자팔찌를 끊고 도주했던 ‘라임자산운용 사태’ 핵심 인물 김봉현 전 스타모빌리티 회...   \n",
       "2    2022-12-29 20:22:00  경기 과천시 제2경인고속도로 방음 터널에서 29일 발생한 화재 사고 피해가 커진 원...   \n",
       "3    2022-12-29 19:58:00  서해 공무원 고(故) 이대준씨 ‘월북 몰이’ 사건 당시 첩보 삭제를 지시한 혐의로 ...   \n",
       "4    2022-12-29 19:37:00  신창현(69) 수도권매립지관리공사 사장이 취임 1년 5개월 만에 결국 해임됐다. 2...   \n",
       "...                  ...                                                ...   \n",
       "2299 2023-01-28 04:03:00  30일 실내 마스크 착용 의무 조정을 앞두고 일부 혼선 조짐이 나타나고 있다. 시민...   \n",
       "2300 2023-01-28 04:03:00  해직 교사를 부당하게 특별채용한 혐의로 기소된 조희연( 사진 ) 서울시교육감이 1심...   \n",
       "2301 2023-01-28 04:01:00  정부가 직장 내 정년연장을 위한 사회적 논의에 착수하겠다고 발표했다. 고용노동부는 ...   \n",
       "2302 2023-01-28 04:00:00  국민연금 재정소진 예상연도가 5년 전 전망치보다 2년 더 당겨진 것으로 나타났다. ...   \n",
       "2303 2023-01-28 00:02:00  지난 한 주 동안 있었던 핫한 뉴스 TOP3를 소개하는 코너, ‘핫한 뉴스만 모았다...   \n",
       "\n",
       "                                                   link  \n",
       "0     https://news.kmib.co.kr/article/view.asp?arcid...  \n",
       "1     https://news.kmib.co.kr/article/view.asp?arcid...  \n",
       "2     https://news.kmib.co.kr/article/view.asp?arcid...  \n",
       "3     https://news.kmib.co.kr/article/view.asp?arcid...  \n",
       "4     https://news.kmib.co.kr/article/view.asp?arcid...  \n",
       "...                                                 ...  \n",
       "2299  https://news.kmib.co.kr/article/view.asp?arcid...  \n",
       "2300  https://news.kmib.co.kr/article/view.asp?arcid...  \n",
       "2301  https://news.kmib.co.kr/article/view.asp?arcid...  \n",
       "2302  https://news.kmib.co.kr/article/view.asp?arcid...  \n",
       "2303  https://news.kmib.co.kr/article/view.asp?arcid...  \n",
       "\n",
       "[2304 rows x 6 columns]"
      ]
     },
     "execution_count": 21,
     "metadata": {},
     "output_type": "execute_result"
    }
   ],
   "source": [
    "data"
   ]
  },
  {
   "cell_type": "markdown",
   "id": "71078b90-745c-4c40-b109-bfe4f7aa2f0c",
   "metadata": {},
   "source": [
    "## TfidfVectorizer"
   ]
  },
  {
   "cell_type": "code",
   "execution_count": 22,
   "id": "d516b234-3844-4794-84a6-2a60d6dc6eaa",
   "metadata": {},
   "outputs": [],
   "source": [
    "from sklearn.metrics.pairwise import cosine_similarity\n",
    "from sklearn.feature_extraction.text import TfidfVectorizer"
   ]
  },
  {
   "cell_type": "code",
   "execution_count": 23,
   "id": "46e1502f-d38b-422a-be75-a2ab07b58cb7",
   "metadata": {},
   "outputs": [],
   "source": [
    "with open('.\\data\\stopwords.txt', 'r', encoding='utf-8') as f:\n",
    "    stopwords = f.readlines()\n",
    "stopwords = [line.rstrip('\\n') for line in stopwords]"
   ]
  },
  {
   "cell_type": "code",
   "execution_count": 24,
   "id": "1f3c5ba2-72f6-4021-938a-1db516a8b540",
   "metadata": {},
   "outputs": [
    {
     "name": "stderr",
     "output_type": "stream",
     "text": [
      "C:\\Users\\user\\anaconda3\\envs\\sesac\\lib\\site-packages\\sklearn\\feature_extraction\\text.py:409: UserWarning: Your stop_words may be inconsistent with your preprocessing. Tokenizing the stop words generated tokens ['가서', '같은', '것과', '결과에', '결론을', '관계가', '관련이', '그런', '그럼에도', '그렇게', '그에', '그치지', '김에', '까닭에', '낫다', '년도', '논하지', '누가', '다시', '달려', '대로', '대해', '되는', '되다', '되어', '들면', '들자면', '듯하다', '따르는', '따름이다', '따지지', '때가', '만은', '만이', '많은', '말하면', '말할것도', '몰라도', '몰랏다', '못하다', '미치다', '바꾸어서', '바꿔', '밖에', '방면으로', '보면', '보아', '부류의', '비길수', '비추어', '뿐만', '사람들', '상대적으로', '생각이다', '서술한바와같이', '쓰여', '아니다', '아니라', '안다', '안된다', '않고', '않기', '않는다면', '않다', '않다면', '않도록', '않으면', '알겠는가', '어쩔수', '없고', '없다', '예를', '외에', '요만한', '우에', '위에서', '이렇게', '이로', '이르다', '이와', '이유는', '인하여', '임에', '점에서', '정도에', '정도의', '종합한것과같이', '주저하지', '줄은', '지경이다', '틀림없다', '편이', '하고', '하기', '하기만', '하는', '하는것만', '하는것이', '하다', '하면', '하지', '한하다', '할수록', '함으로써', '해도', '해서는', '형식으로', '힘이'] not in stop_words.\n",
      "  warnings.warn(\n"
     ]
    }
   ],
   "source": [
    "ftidf_vec = TfidfVectorizer(stop_words=stopwords)\n",
    "tfidf_dtm = ftidf_vec.fit_transform(data['content'])"
   ]
  },
  {
   "cell_type": "code",
   "execution_count": 25,
   "id": "114ec956-d336-4288-9e96-3f975b4567c4",
   "metadata": {},
   "outputs": [],
   "source": [
    "cos_sim_res = cosine_similarity(tfidf_dtm, tfidf_dtm)"
   ]
  },
  {
   "cell_type": "code",
   "execution_count": 26,
   "id": "7d2e37f2-51f9-4d18-8cad-fcbf9cbee9f2",
   "metadata": {},
   "outputs": [],
   "source": [
    "arcid_to_index = dict(zip(data['arcid'], data.index))"
   ]
  },
  {
   "cell_type": "code",
   "execution_count": 27,
   "id": "f98a31c0-ed56-4b33-82e3-7da4cdcf1cf2",
   "metadata": {},
   "outputs": [],
   "source": [
    "def get_recommendation(title, n):\n",
    "    arcid = data.loc[data['title'] == title]['arcid'].values[0]\n",
    "    idx = arcid_to_index[arcid]\n",
    "    sim_scores = list(enumerate(cos_sim_res[idx]))\n",
    "    sim_scores = sorted(sim_scores, key=lambda x: x[1], reverse=True)\n",
    "    sim_scores_n = sim_scores[1:n+1]\n",
    "    article_idx = [article_dict[0] for article_dict in sim_scores_n]\n",
    "    return data.iloc[article_idx][['title', 'date', 'link']]"
   ]
  },
  {
   "cell_type": "code",
   "execution_count": 29,
   "id": "e0f054ce-08a5-430c-be27-ec9cbc5c05f2",
   "metadata": {},
   "outputs": [
    {
     "data": {
      "text/html": [
       "<div>\n",
       "<style scoped>\n",
       "    .dataframe tbody tr th:only-of-type {\n",
       "        vertical-align: middle;\n",
       "    }\n",
       "\n",
       "    .dataframe tbody tr th {\n",
       "        vertical-align: top;\n",
       "    }\n",
       "\n",
       "    .dataframe thead th {\n",
       "        text-align: right;\n",
       "    }\n",
       "</style>\n",
       "<table border=\"1\" class=\"dataframe\">\n",
       "  <thead>\n",
       "    <tr style=\"text-align: right;\">\n",
       "      <th></th>\n",
       "      <th>title</th>\n",
       "      <th>date</th>\n",
       "      <th>link</th>\n",
       "    </tr>\n",
       "  </thead>\n",
       "  <tbody>\n",
       "    <tr>\n",
       "      <th>120</th>\n",
       "      <td>‘라임 주범’ 김봉현 9층 베란다 넘으려다 체포</td>\n",
       "      <td>2022-12-30 04:08:00</td>\n",
       "      <td>https://news.kmib.co.kr/article/view.asp?arcid...</td>\n",
       "    </tr>\n",
       "    <tr>\n",
       "      <th>1369</th>\n",
       "      <td>검찰 ‘라임 사태 핵심’ 김봉현에 징역 40년 구형</td>\n",
       "      <td>2023-01-16 18:21:00</td>\n",
       "      <td>https://news.kmib.co.kr/article/view.asp?arcid...</td>\n",
       "    </tr>\n",
       "    <tr>\n",
       "      <th>16</th>\n",
       "      <td>‘라임 사태 핵심’ 김봉현 화성에서 검거…도주 48일만</td>\n",
       "      <td>2022-12-29 16:46:00</td>\n",
       "      <td>https://news.kmib.co.kr/article/view.asp?arcid...</td>\n",
       "    </tr>\n",
       "    <tr>\n",
       "      <th>1144</th>\n",
       "      <td>‘라임 몸통’ 김봉현, 도주극 뒤 첫 재판 ‘또’ 불출석</td>\n",
       "      <td>2023-01-12 14:49:00</td>\n",
       "      <td>https://news.kmib.co.kr/article/view.asp?arcid...</td>\n",
       "    </tr>\n",
       "    <tr>\n",
       "      <th>1558</th>\n",
       "      <td>‘라임’ 김봉현 징역 40년 구형… 檢 “도주 순간 중범죄자 자인”</td>\n",
       "      <td>2023-01-17 04:07:00</td>\n",
       "      <td>https://news.kmib.co.kr/article/view.asp?arcid...</td>\n",
       "    </tr>\n",
       "  </tbody>\n",
       "</table>\n",
       "</div>"
      ],
      "text/plain": [
       "                                      title                date  \\\n",
       "120              ‘라임 주범’ 김봉현 9층 베란다 넘으려다 체포 2022-12-30 04:08:00   \n",
       "1369           검찰 ‘라임 사태 핵심’ 김봉현에 징역 40년 구형 2023-01-16 18:21:00   \n",
       "16           ‘라임 사태 핵심’ 김봉현 화성에서 검거…도주 48일만 2022-12-29 16:46:00   \n",
       "1144        ‘라임 몸통’ 김봉현, 도주극 뒤 첫 재판 ‘또’ 불출석 2023-01-12 14:49:00   \n",
       "1558  ‘라임’ 김봉현 징역 40년 구형… 檢 “도주 순간 중범죄자 자인” 2023-01-17 04:07:00   \n",
       "\n",
       "                                                   link  \n",
       "120   https://news.kmib.co.kr/article/view.asp?arcid...  \n",
       "1369  https://news.kmib.co.kr/article/view.asp?arcid...  \n",
       "16    https://news.kmib.co.kr/article/view.asp?arcid...  \n",
       "1144  https://news.kmib.co.kr/article/view.asp?arcid...  \n",
       "1558  https://news.kmib.co.kr/article/view.asp?arcid...  "
      ]
     },
     "execution_count": 29,
     "metadata": {},
     "output_type": "execute_result"
    }
   ],
   "source": [
    "get_recommendation('잠옷 차림으로 9층 베란다 넘으려다 체포…막 내린 도주극', 5)"
   ]
  },
  {
   "cell_type": "code",
   "execution_count": null,
   "id": "42b20052-6a9c-4d2a-9acd-7f2182bcabc0",
   "metadata": {},
   "outputs": [],
   "source": [
    "# TO-DO\n",
    "# Okt적용, 외부기사 링크로 스크래핑해서 내용을 transform->유사도 연산->추천"
   ]
  }
 ],
 "metadata": {
  "kernelspec": {
   "display_name": "Python 3 (ipykernel)",
   "language": "python",
   "name": "python3"
  },
  "language_info": {
   "codemirror_mode": {
    "name": "ipython",
    "version": 3
   },
   "file_extension": ".py",
   "mimetype": "text/x-python",
   "name": "python",
   "nbconvert_exporter": "python",
   "pygments_lexer": "ipython3",
   "version": "3.8.15"
  }
 },
 "nbformat": 4,
 "nbformat_minor": 5
}
